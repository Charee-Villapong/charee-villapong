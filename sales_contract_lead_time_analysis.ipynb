{
  "nbformat": 4,
  "nbformat_minor": 0,
  "metadata": {
    "colab": {
      "name": "sales contract lead time analysis.ipynb",
      "provenance": [],
      "mount_file_id": "1YR7Q1uOmCEuEwW-wxxt2noVFo5-1uZHy",
      "authorship_tag": "ABX9TyPuxnb+z/MN+Zn8T6IWXNsa",
      "include_colab_link": true
    },
    "kernelspec": {
      "name": "python3",
      "display_name": "Python 3"
    },
    "language_info": {
      "name": "python"
    }
  },
  "cells": [
    {
      "cell_type": "markdown",
      "metadata": {
        "id": "view-in-github",
        "colab_type": "text"
      },
      "source": [
        "<a href=\"https://colab.research.google.com/github/Charee-Villapong/charee-villapong/blob/master/sales_contract_lead_time_analysis.ipynb\" target=\"_parent\"><img src=\"https://colab.research.google.com/assets/colab-badge.svg\" alt=\"Open In Colab\"/></a>"
      ]
    },
    {
      "cell_type": "code",
      "metadata": {
        "id": "P-BVlQPPN4Nr"
      },
      "source": [
        "import pandas as pd\n",
        "import matplotlib.pyplot as plt\n"
      ],
      "execution_count": 30,
      "outputs": []
    },
    {
      "cell_type": "code",
      "metadata": {
        "colab": {
          "base_uri": "https://localhost:8080/"
        },
        "id": "Dgq6agcUOCII",
        "outputId": "f460a1bf-c11f-4613-c71d-ee22b24a2e21"
      },
      "source": [
        "df = pd.read_csv(\"/content/drive/MyDrive/data - シート2.csv\")\n",
        "df.columns"
      ],
      "execution_count": 31,
      "outputs": [
        {
          "output_type": "execute_result",
          "data": {
            "text/plain": [
              "Index(['商談 所有者', 'Unnamed: 1', '取引先名', 'クローズ日', 'フェーズ', '契約コース',\n",
              "       '初回面談から契約締結までの日数'],\n",
              "      dtype='object')"
            ]
          },
          "metadata": {
            "tags": []
          },
          "execution_count": 31
        }
      ]
    },
    {
      "cell_type": "code",
      "metadata": {
        "id": "Kt48G71cONCc"
      },
      "source": [
        "df = df[[ '契約コース',\n",
        "       '初回面談から契約締結までの日数']]"
      ],
      "execution_count": 32,
      "outputs": []
    },
    {
      "cell_type": "code",
      "metadata": {
        "colab": {
          "base_uri": "https://localhost:8080/",
          "height": 204
        },
        "id": "KA_k_FYyOUpD",
        "outputId": "9b7b57f9-0608-4d31-d87d-1b32390d0420"
      },
      "source": [
        "df.head()"
      ],
      "execution_count": 33,
      "outputs": [
        {
          "output_type": "execute_result",
          "data": {
            "text/html": [
              "<div>\n",
              "<style scoped>\n",
              "    .dataframe tbody tr th:only-of-type {\n",
              "        vertical-align: middle;\n",
              "    }\n",
              "\n",
              "    .dataframe tbody tr th {\n",
              "        vertical-align: top;\n",
              "    }\n",
              "\n",
              "    .dataframe thead th {\n",
              "        text-align: right;\n",
              "    }\n",
              "</style>\n",
              "<table border=\"1\" class=\"dataframe\">\n",
              "  <thead>\n",
              "    <tr style=\"text-align: right;\">\n",
              "      <th></th>\n",
              "      <th>契約コース</th>\n",
              "      <th>初回面談から契約締結までの日数</th>\n",
              "    </tr>\n",
              "  </thead>\n",
              "  <tbody>\n",
              "    <tr>\n",
              "      <th>0</th>\n",
              "      <td>エキスパート: 24w</td>\n",
              "      <td>0.0</td>\n",
              "    </tr>\n",
              "    <tr>\n",
              "      <th>1</th>\n",
              "      <td>エキスパート: 24w</td>\n",
              "      <td>6.0</td>\n",
              "    </tr>\n",
              "    <tr>\n",
              "      <th>2</th>\n",
              "      <td>エキスパート: 24w</td>\n",
              "      <td>0.0</td>\n",
              "    </tr>\n",
              "    <tr>\n",
              "      <th>3</th>\n",
              "      <td>エキスパート: 24w</td>\n",
              "      <td>127.0</td>\n",
              "    </tr>\n",
              "    <tr>\n",
              "      <th>4</th>\n",
              "      <td>エキスパート: 24w</td>\n",
              "      <td>14.0</td>\n",
              "    </tr>\n",
              "  </tbody>\n",
              "</table>\n",
              "</div>"
            ],
            "text/plain": [
              "         契約コース  初回面談から契約締結までの日数\n",
              "0  エキスパート: 24w              0.0\n",
              "1  エキスパート: 24w              6.0\n",
              "2  エキスパート: 24w              0.0\n",
              "3  エキスパート: 24w            127.0\n",
              "4  エキスパート: 24w             14.0"
            ]
          },
          "metadata": {
            "tags": []
          },
          "execution_count": 33
        }
      ]
    },
    {
      "cell_type": "code",
      "metadata": {
        "colab": {
          "base_uri": "https://localhost:8080/"
        },
        "id": "UaZotAsYOVsW",
        "outputId": "1a13742a-291b-4c74-d63d-7df98bd6d457"
      },
      "source": [
        "df.isnull().sum()"
      ],
      "execution_count": 34,
      "outputs": [
        {
          "output_type": "execute_result",
          "data": {
            "text/plain": [
              "契約コース              4\n",
              "初回面談から契約締結までの日数    1\n",
              "dtype: int64"
            ]
          },
          "metadata": {
            "tags": []
          },
          "execution_count": 34
        }
      ]
    },
    {
      "cell_type": "code",
      "metadata": {
        "colab": {
          "base_uri": "https://localhost:8080/"
        },
        "id": "LBI2T0KoOYRf",
        "outputId": "10259f19-e7f0-46c7-acb7-ff4685483e90"
      },
      "source": [
        "df.dropna(how=\"any\",axis=0,inplace=True)\n",
        "df.isnull().sum()"
      ],
      "execution_count": 35,
      "outputs": [
        {
          "output_type": "execute_result",
          "data": {
            "text/plain": [
              "契約コース              0\n",
              "初回面談から契約締結までの日数    0\n",
              "dtype: int64"
            ]
          },
          "metadata": {
            "tags": []
          },
          "execution_count": 35
        }
      ]
    },
    {
      "cell_type": "code",
      "metadata": {
        "colab": {
          "base_uri": "https://localhost:8080/",
          "height": 204
        },
        "id": "Xhv_eZU5OfDK",
        "outputId": "a7eb012b-886e-46b1-812b-a01a1aa79238"
      },
      "source": [
        "df.tail()"
      ],
      "execution_count": 36,
      "outputs": [
        {
          "output_type": "execute_result",
          "data": {
            "text/html": [
              "<div>\n",
              "<style scoped>\n",
              "    .dataframe tbody tr th:only-of-type {\n",
              "        vertical-align: middle;\n",
              "    }\n",
              "\n",
              "    .dataframe tbody tr th {\n",
              "        vertical-align: top;\n",
              "    }\n",
              "\n",
              "    .dataframe thead th {\n",
              "        text-align: right;\n",
              "    }\n",
              "</style>\n",
              "<table border=\"1\" class=\"dataframe\">\n",
              "  <thead>\n",
              "    <tr style=\"text-align: right;\">\n",
              "      <th></th>\n",
              "      <th>契約コース</th>\n",
              "      <th>初回面談から契約締結までの日数</th>\n",
              "    </tr>\n",
              "  </thead>\n",
              "  <tbody>\n",
              "    <tr>\n",
              "      <th>228</th>\n",
              "      <td>フリーランス: 48w</td>\n",
              "      <td>3.0</td>\n",
              "    </tr>\n",
              "    <tr>\n",
              "      <th>229</th>\n",
              "      <td>フリーランス: 48w</td>\n",
              "      <td>16.0</td>\n",
              "    </tr>\n",
              "    <tr>\n",
              "      <th>230</th>\n",
              "      <td>フリーランス: 48w</td>\n",
              "      <td>5.0</td>\n",
              "    </tr>\n",
              "    <tr>\n",
              "      <th>231</th>\n",
              "      <td>フリーランス: 48w</td>\n",
              "      <td>22.0</td>\n",
              "    </tr>\n",
              "    <tr>\n",
              "      <th>232</th>\n",
              "      <td>フリーランス: 48w</td>\n",
              "      <td>5.0</td>\n",
              "    </tr>\n",
              "  </tbody>\n",
              "</table>\n",
              "</div>"
            ],
            "text/plain": [
              "           契約コース  初回面談から契約締結までの日数\n",
              "228  フリーランス: 48w              3.0\n",
              "229  フリーランス: 48w             16.0\n",
              "230  フリーランス: 48w              5.0\n",
              "231  フリーランス: 48w             22.0\n",
              "232  フリーランス: 48w              5.0"
            ]
          },
          "metadata": {
            "tags": []
          },
          "execution_count": 36
        }
      ]
    },
    {
      "cell_type": "code",
      "metadata": {
        "colab": {
          "base_uri": "https://localhost:8080/",
          "height": 173
        },
        "id": "3FeNKTJsOmxT",
        "outputId": "cb2b896f-b8d4-4db8-d9fc-1bfcf95b928f"
      },
      "source": [
        "df_mean = df.groupby(\"契約コース\").mean()\n",
        "df_mean"
      ],
      "execution_count": 37,
      "outputs": [
        {
          "output_type": "execute_result",
          "data": {
            "text/html": [
              "<div>\n",
              "<style scoped>\n",
              "    .dataframe tbody tr th:only-of-type {\n",
              "        vertical-align: middle;\n",
              "    }\n",
              "\n",
              "    .dataframe tbody tr th {\n",
              "        vertical-align: top;\n",
              "    }\n",
              "\n",
              "    .dataframe thead th {\n",
              "        text-align: right;\n",
              "    }\n",
              "</style>\n",
              "<table border=\"1\" class=\"dataframe\">\n",
              "  <thead>\n",
              "    <tr style=\"text-align: right;\">\n",
              "      <th></th>\n",
              "      <th>初回面談から契約締結までの日数</th>\n",
              "    </tr>\n",
              "    <tr>\n",
              "      <th>契約コース</th>\n",
              "      <th></th>\n",
              "    </tr>\n",
              "  </thead>\n",
              "  <tbody>\n",
              "    <tr>\n",
              "      <th>エキスパート: 24w</th>\n",
              "      <td>10.877660</td>\n",
              "    </tr>\n",
              "    <tr>\n",
              "      <th>エキスパート: 48w</th>\n",
              "      <td>11.275862</td>\n",
              "    </tr>\n",
              "    <tr>\n",
              "      <th>フリーランス: 48w</th>\n",
              "      <td>6.312500</td>\n",
              "    </tr>\n",
              "  </tbody>\n",
              "</table>\n",
              "</div>"
            ],
            "text/plain": [
              "             初回面談から契約締結までの日数\n",
              "契約コース                       \n",
              "エキスパート: 24w        10.877660\n",
              "エキスパート: 48w        11.275862\n",
              "フリーランス: 48w         6.312500"
            ]
          },
          "metadata": {
            "tags": []
          },
          "execution_count": 37
        }
      ]
    },
    {
      "cell_type": "code",
      "metadata": {
        "id": "0RUQ51HIOsId"
      },
      "source": [
        "df = df.set_index(\"契約コース\")"
      ],
      "execution_count": 38,
      "outputs": []
    },
    {
      "cell_type": "code",
      "metadata": {
        "colab": {
          "base_uri": "https://localhost:8080/",
          "height": 235
        },
        "id": "5x_iJ2dnO0TQ",
        "outputId": "69dd7593-7515-4591-fdfe-42fb61fd0093"
      },
      "source": [
        "df.head()"
      ],
      "execution_count": 39,
      "outputs": [
        {
          "output_type": "execute_result",
          "data": {
            "text/html": [
              "<div>\n",
              "<style scoped>\n",
              "    .dataframe tbody tr th:only-of-type {\n",
              "        vertical-align: middle;\n",
              "    }\n",
              "\n",
              "    .dataframe tbody tr th {\n",
              "        vertical-align: top;\n",
              "    }\n",
              "\n",
              "    .dataframe thead th {\n",
              "        text-align: right;\n",
              "    }\n",
              "</style>\n",
              "<table border=\"1\" class=\"dataframe\">\n",
              "  <thead>\n",
              "    <tr style=\"text-align: right;\">\n",
              "      <th></th>\n",
              "      <th>初回面談から契約締結までの日数</th>\n",
              "    </tr>\n",
              "    <tr>\n",
              "      <th>契約コース</th>\n",
              "      <th></th>\n",
              "    </tr>\n",
              "  </thead>\n",
              "  <tbody>\n",
              "    <tr>\n",
              "      <th>エキスパート: 24w</th>\n",
              "      <td>0.0</td>\n",
              "    </tr>\n",
              "    <tr>\n",
              "      <th>エキスパート: 24w</th>\n",
              "      <td>6.0</td>\n",
              "    </tr>\n",
              "    <tr>\n",
              "      <th>エキスパート: 24w</th>\n",
              "      <td>0.0</td>\n",
              "    </tr>\n",
              "    <tr>\n",
              "      <th>エキスパート: 24w</th>\n",
              "      <td>127.0</td>\n",
              "    </tr>\n",
              "    <tr>\n",
              "      <th>エキスパート: 24w</th>\n",
              "      <td>14.0</td>\n",
              "    </tr>\n",
              "  </tbody>\n",
              "</table>\n",
              "</div>"
            ],
            "text/plain": [
              "             初回面談から契約締結までの日数\n",
              "契約コース                       \n",
              "エキスパート: 24w              0.0\n",
              "エキスパート: 24w              6.0\n",
              "エキスパート: 24w              0.0\n",
              "エキスパート: 24w            127.0\n",
              "エキスパート: 24w             14.0"
            ]
          },
          "metadata": {
            "tags": []
          },
          "execution_count": 39
        }
      ]
    },
    {
      "cell_type": "code",
      "metadata": {
        "id": "UM_a1alLPaDm"
      },
      "source": [
        "df_ex24 = df.loc[\"エキスパート: 24w\",\"初回面談から契約締結までの日数\"]\n",
        "df_ex48 = df.loc[\"エキスパート: 48w\",\"初回面談から契約締結までの日数\"]\n",
        "df_fr48 = df.loc[ 'フリーランス: 48w',\"初回面談から契約締結までの日数\"]"
      ],
      "execution_count": 51,
      "outputs": []
    },
    {
      "cell_type": "code",
      "metadata": {
        "colab": {
          "base_uri": "https://localhost:8080/"
        },
        "id": "vj9qsvYrQH5V",
        "outputId": "cf429a20-eed5-47c5-e1d1-97d5796fd63f"
      },
      "source": [
        "df.index.unique()"
      ],
      "execution_count": 50,
      "outputs": [
        {
          "output_type": "execute_result",
          "data": {
            "text/plain": [
              "Index(['エキスパート: 24w', 'エキスパート: 48w', 'フリーランス: 48w'], dtype='object', name='契約コース')"
            ]
          },
          "metadata": {
            "tags": []
          },
          "execution_count": 50
        }
      ]
    },
    {
      "cell_type": "code",
      "metadata": {
        "id": "odXkzQWdQdiy"
      },
      "source": [
        "x1 = df_ex24.values\n",
        "x2 = df_ex48.values\n",
        "x3 = df_fr48.values"
      ],
      "execution_count": 63,
      "outputs": []
    },
    {
      "cell_type": "code",
      "metadata": {
        "id": "1oLKvkZkRmXt"
      },
      "source": [
        "y1,y2,y3 = ['ex: 24w', 'ex: 48w', 'fr: 48w']\n",
        "data = (x1,x2,x3)"
      ],
      "execution_count": 92,
      "outputs": []
    },
    {
      "cell_type": "code",
      "metadata": {
        "colab": {
          "base_uri": "https://localhost:8080/",
          "height": 335
        },
        "id": "UmGsW3yFRwfL",
        "outputId": "3b32fea2-d4bb-49df-afbd-ff3c4402987b"
      },
      "source": [
        "#plt.set_title(\"コース毎のリードタイム分析\")\n",
        "fig1, ax1 = plt.subplots()\n",
        "ax1.set_title(\"sales lead time analysis(by course)\")\n",
        "ax1.boxplot(data, labels=[y1,y2,y3])\n",
        "fig1.savefig(\"analysis.png\")"
      ],
      "execution_count": 110,
      "outputs": [
        {
          "output_type": "stream",
          "text": [
            "/usr/local/lib/python3.7/dist-packages/numpy/core/_asarray.py:83: VisibleDeprecationWarning: Creating an ndarray from ragged nested sequences (which is a list-or-tuple of lists-or-tuples-or ndarrays with different lengths or shapes) is deprecated. If you meant to do this, you must specify 'dtype=object' when creating the ndarray\n",
            "  return array(a, dtype, copy=False, order=order)\n"
          ],
          "name": "stderr"
        },
        {
          "output_type": "display_data",
          "data": {
            "image/png": "[encoded data removed]",
            "text/plain": [
              "<Figure size 432x288 with 1 Axes>"
            ]
          },
          "metadata": {
            "tags": [],
            "needs_background": "light"
          }
        }
      ]
    },
    {
      "cell_type": "code",
      "metadata": {
        "id": "NaA29pXFVbZh"
      },
      "source": [
        ""
      ],
      "execution_count": null,
      "outputs": []
    }
  ]
}