{
  "nbformat": 4,
  "nbformat_minor": 0,
  "metadata": {
    "colab": {
      "name": "DAU（1日にログインしたユニークユーザー数）を日ごとに抽出.ipynb",
      "provenance": [],
      "collapsed_sections": [],
      "authorship_tag": "ABX9TyNeSQZryhlG5w69mxaubAdL",
      "include_colab_link": true
    },
    "kernelspec": {
      "name": "python3",
      "display_name": "Python 3"
    }
  },
  "cells": [
    {
      "cell_type": "markdown",
      "metadata": {
        "id": "view-in-github",
        "colab_type": "text"
      },
      "source": [
        "<a href=\"https://colab.research.google.com/github/Charee-Villapong/charee-villapong/blob/master/DAU%EF%BC%881%E6%97%A5%E3%81%AB%E3%83%AD%E3%82%B0%E3%82%A4%E3%83%B3%E3%81%97%E3%81%9F%E3%83%A6%E3%83%8B%E3%83%BC%E3%82%AF%E3%83%A6%E3%83%BC%E3%82%B6%E3%83%BC%E6%95%B0%EF%BC%89%E3%82%92%E6%97%A5%E3%81%94%E3%81%A8%E3%81%AB%E6%8A%BD%E5%87%BA.ipynb\" target=\"_parent\"><img src=\"https://colab.research.google.com/assets/colab-badge.svg\" alt=\"Open In Colab\"/></a>"
      ]
    },
    {
      "cell_type": "markdown",
      "metadata": {
        "id": "c5rMTyM3FAYY"
      },
      "source": [
        "**DAU（1日にログインしたユニークユーザー数）を日ごとに抽出**"
      ]
    },
    {
      "cell_type": "code",
      "metadata": {
        "id": "vmRjKqhIOhvi"
      },
      "source": [
        "import sqlite3\n",
        "filepath = \"test2.sqlite\"\n",
        "conn = sqlite3.connect(filepath) \n",
        "cur = conn.cursor()\n",
        "cur.execute(\"DROP TABLE IF EXISTS quest_log\")\n",
        "cur.execute(\"\"\"CREATE TABLE quest_log(\n",
        "    user_id INTEGER,\n",
        "    timestamp INTEGER\n",
        ")\"\"\")\n",
        "conn.commit()"
      ],
      "execution_count": null,
      "outputs": []
    },
    {
      "cell_type": "code",
      "metadata": {
        "id": "hr6YckaXOnt6"
      },
      "source": [
        "cur = conn.cursor()\n",
        "data = [\n",
        "(10001,'2016-03-19 15:50:00'),\n",
        "(10001,'2016-03-20 00:20:00'),\n",
        "(10001,'2016-03-23 14:10:00'),\n",
        "(10001,'2016-03-24 00:15:00'),\n",
        "(10002,'2016-03-21 12:50:00'),\n",
        "(10003,'2016-03-23 11:00:00'),\n",
        "(10003,'2016-03-24 09:10:00'),\n",
        "(10003,'2016-03-24 11:20:00'),\n",
        "(10003,'2016-05-01 11:20:00'),\n",
        "(10003,'2016-05-05 11:20:00'),\n",
        "(10003,'2016-05-07 11:20:00'),\n",
        "(10006,'2016-04-02 13:00:00'),\n",
        "(10006,'2016-04-03 11:20:00'),\n",
        "(10006,'2016-04-12 11:20:00'),\n",
        "(10007,'2016-04-30 15:20:00'),\n",
        "(10007,'2016-05-01 19:00:00'),\n",
        "(10007,'2016-05-02 12:00:00'),\n",
        "(10007,'2016-05-02 19:00:00'),\n",
        "(10007,'2016-05-03 19:00:00')\n",
        "]\n",
        "cur.executemany(\n",
        "    \"INSERT INTO quest_log(user_id,timestamp) VALUES (?,?)\", data)\n",
        "conn.commit()"
      ],
      "execution_count": null,
      "outputs": []
    },
    {
      "cell_type": "code",
      "metadata": {
        "colab": {
          "base_uri": "https://localhost:8080/"
        },
        "id": "Pv-sFkdmR9e8",
        "outputId": "313e6c9d-4b21-4647-e563-6dc3259ca130"
      },
      "source": [
        "cur = conn.cursor()\n",
        "cur.execute(\"select count(user_id) as new_user_count ,strftime('%Y-%m-%d', timestamp) as day from quest_log group by strftime('%Y-%m-%d', timestamp)\")\n",
        "items_list = cur.fetchall()\n",
        "items_list"
      ],
      "execution_count": null,
      "outputs": [
        {
          "output_type": "execute_result",
          "data": {
            "text/plain": [
              "[(1, '2016-03-19'),\n",
              " (1, '2016-03-20'),\n",
              " (1, '2016-03-21'),\n",
              " (2, '2016-03-23'),\n",
              " (3, '2016-03-24'),\n",
              " (1, '2016-04-02'),\n",
              " (1, '2016-04-03'),\n",
              " (1, '2016-04-12'),\n",
              " (1, '2016-04-30'),\n",
              " (2, '2016-05-01'),\n",
              " (2, '2016-05-02'),\n",
              " (1, '2016-05-03'),\n",
              " (1, '2016-05-05'),\n",
              " (1, '2016-05-07')]"
            ]
          },
          "metadata": {
            "tags": []
          },
          "execution_count": 7
        }
      ]
    }
  ]
}