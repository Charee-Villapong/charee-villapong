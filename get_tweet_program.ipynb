{
  "nbformat": 4,
  "nbformat_minor": 0,
  "metadata": {
    "colab": {
      "name": "get tweet program.ipynb",
      "provenance": [],
      "authorship_tag": "ABX9TyMwXiEH/6V3/ezzrzoJxXbP",
      "include_colab_link": true
    },
    "kernelspec": {
      "name": "python3",
      "display_name": "Python 3"
    }
  },
  "cells": [
    {
      "cell_type": "markdown",
      "metadata": {
        "id": "view-in-github",
        "colab_type": "text"
      },
      "source": [
        "<a href=\"https://colab.research.google.com/github/Charee-Villapong/charee-villapong/blob/master/get_tweet_program.ipynb\" target=\"_parent\"><img src=\"https://colab.research.google.com/assets/colab-badge.svg\" alt=\"Open In Colab\"/></a>"
      ]
    },
    {
      "cell_type": "code",
      "metadata": {
        "id": "x4Ng7YLCOeL9"
      },
      "source": [
        "# 必要なモジュールのimport\n",
        "import datetime\n",
        "import pandas as pd\n",
        "import tweepy"
      ],
      "execution_count": 32,
      "outputs": []
    },
    {
      "cell_type": "code",
      "metadata": {
        "colab": {
          "base_uri": "https://localhost:8080/"
        },
        "id": "qZWhhohrMnis",
        "outputId": "e0af1918-e480-4134-9d02-d76d5c0ac820"
      },
      "source": [
        "\n",
        "# 各種ツイッターのキーをセット　consumer_key, consumer_secret, access_key, access_secret\n",
        "consumer_key = \"8ljKZRP1ekS9dzkhuaUr6mL8J\"\n",
        "consumer_secret = \"fcpAsRKs4wg2jnUc98jJ1YG4kDLcumehO76T2CAQXH74gPeHjs\"\n",
        "access_key = \"1289362986210009089-LYBDoTh8ipkpbCnOfy0DpaIfqQM7ZM\"\n",
        "access_secret = \"loSkIIcmgZ7YmIx3y4IBqfTYIfN8aYc3Jva41SIFSmflP\"\n",
        "\n",
        "# 認証のためのAPIキーをセット\n",
        "auth = tweepy.OAuthHandler(consumer_key,consumer_secret)\n",
        "auth.set_access_token(access_key,access_secret)\n",
        "api = tweepy.API(auth)\n",
        "#CjtzvLBhCeBmksgJE5B1qdTzo\n",
        "\n",
        "\n",
        "# API利用制限にかかった場合、解除まで待機する\n",
        "\n",
        "def main():\n",
        "    '''\n",
        "    メインの実行部分\n",
        "    ツイートデータの取得からデータの出力まで\n",
        "    '''\n",
        "\n",
        "    # ツイートデータの取得 日付の指定は 2020-7-30のみでもOK,\n",
        "    # 日本時間で取得したい場合は2020-7-30_00:00:00_JSTのように指定\n",
        "    # JSTをつけないと時間がUTCになる UTCは協定世界時間-> JST＋9:00(日本時間よりも9時間進んでいる)\n",
        "    tweet_data = get_serchtweet('python','2021-01-22,00:00:00_JST','2021-01-29,00:00:00_JST',100,10)\n",
        "    # ツイートデータを番号順に出力\n",
        "    output_tweets(tweet_data)\n",
        "    # ツイートデータをDataframeにする\n",
        "    df = make_df(tweet_data)\n",
        "    # ツイートデータのCSVへの出力\n",
        "    df.to_csv('tweet_data.csv')\n",
        "\n",
        "\n",
        "# ツイートを収集する関数\n",
        "def get_serchtweet(s,since,until,count,rlcount):\n",
        "    '''\n",
        "    ツイート情報を特定のキーワードで、期間を指定して収集\n",
        "    取得できるデータは1週間以内のデータだけ\n",
        "    リツイート数＋いいね数の合計でツイートを絞り込める\n",
        "    '''\n",
        "\n",
        "    # 検索キーワードの設定、 リツイートは除く\n",
        "    search_key = s + \"-filter:retweets\"\n",
        "    # ツイートデータ取得部分\n",
        "    # tweepy.CursorのAPIのキーワードサーチを使用(api.search)\n",
        "    # qがキーワード, sinceがいつから, untilがいつまで, tweet_modeでつぶやきの省略ありなし, langで言語, .items(数)と書いてツイート数を指定\n",
        "    tweets = tweepy.Cursor(api.search,q=search_key,since = since ,until = until,tweet_mode = \"extended\", lang=\"ja\").items(count)\n",
        "    # ツイートのデータを取り出して、リストにまとめていく部分\n",
        "    \n",
        "    # ツイートデータを入れる空のリストを用意\n",
        "    tweet_data = []\n",
        "    for tweet in tweets:\n",
        "        if tweet.retweet_count + tweet.favorite_count >= rlcount:# いいねとリツイートの合計がrlcuont以上の条件\n",
        "            tweet_data.append([tweet.user.name,tweet.user.screen_name,tweet.retweet_count,tweet.favorite_count,tweet.created_at.strftime(\"%Y-%m-%d-%H:%M-%S\"),tweet.full_text.replace(\"\\n\",\"\")])# 空のリストにユーザーネーム、スクリーンネーム、RT数、いいね数、日付などを入れる\n",
        "    return tweet_data\n",
        "\n",
        "def output_tweets(tweet_data):\n",
        "    '''\n",
        "    ツイートのリストを順番をつけて出力する関数の作成\n",
        "    '''\n",
        "    for i in range(len(tweet_data)):\n",
        "        print(f\"({i}番目のつぶやき{tweet_data[i]}\")\n",
        "\n",
        "\n",
        "def make_df(tweet_data):\n",
        "    '''\n",
        "    ツイートデータからDataFrameを作成する\n",
        "    '''\n",
        "\n",
        "    # データを入れる空のリストを用意(ユーザー名、ユーザーid、RT数、いいね数、日付け、ツイート本文)\n",
        "    list_username = []\n",
        "    list_userid = []\n",
        "    list_rtcount = []\n",
        "    list_favorite = []\n",
        "    list_date = []\n",
        "    list_text = []\n",
        "\n",
        "    # ツイートデータからユーザー名、ユーザーid、RT数、いいね数、日付け、ツイート本文のそれぞれをデータごとにまとめたリストを作る\n",
        "    for i in range(len(tweet_data)):\n",
        "        list_username.append(tweet_data[i][0])\n",
        "        list_userid.append(tweet_data[i][1])\n",
        "        list_rtcount.append(tweet_data[i][2])\n",
        "        list_favorite.append(tweet_data[i][3])\n",
        "        list_date.append(tweet_data[i][4])\n",
        "        list_text.append(tweet_data[i][5])\n",
        "\n",
        "    # 先ほど作ったデータごとにまとめたリストからDataframeの作成\n",
        "    df = pd.DataFrame({'ユーザーID':list_userid,\n",
        "                'ユーザー名':list_username,\n",
        "                'RT数':list_rtcount,\n",
        "                'いいね数':list_favorite,\n",
        "                '日時':list_date,\n",
        "                '本文':list_text})\n",
        "\n",
        "    return df\n",
        "#実行部分\n",
        "if __name__ == '__main__':\n",
        "    main()"
      ],
      "execution_count": 39,
      "outputs": [
        {
          "output_type": "stream",
          "text": [
            "(0番目のつぶやき['楽(らく)❁', 'GgJywhoOncvrrUh', 1, 11, '2021-01-28-23:53-57', '今日帰ったら作ります。こんな感じの。ゲーム。自作します。Pythonとかで。(完成するかは未定) https://t.co/jZH7LT4KwV']\n",
            "(1番目のつぶやき['ruby&rails初心者@駆け出しエンジニアと繋がりたい', 'vetlanprogramer', 0, 17, '2021-01-28-23:53-34', 'RubyなんてやるとiOTの仕事に就けないぞ。素直にC#やPythonやっておけ\\u3000仕事枠ないぞ\\u3000給料安いぞ\\u3000大手に就職できないぞ\\u3000早く学びなおしたほうがいい 21   #駆け出しエンジニアと繋がりたい']\n",
            "(2番目のつぶやき['吉田翼＠陽気な陰キャ&WEB制作', 'y_tsubasa_0205', 0, 25, '2021-01-28-23:41-22', '#今日の積み上げ9〜12時     レポート作成13〜15時\\u3000Python学習16〜20時    バイト20〜24時    レポート作成レポート終わったら、春休み！！！！春休みって言っても、コーティング&amp;就活&amp;バイトだらけ笑ようは、自分の好きなように時間が使えるのが良き☺️#駆け出しエンジニアと繋がりたい']\n",
            "(3番目のつぶやき['小野あっと', 'onodesafio', 0, 11, '2021-01-28-23:37-39', 'おはようございます！今日も今日とて前進します🔥#今日の積み上げ ・筋トレ・Python osモジュール・読書(ひろゆきさんの世の中の真実買います😁)']\n",
            "(4番目のつぶやき['Tommy@セブ島駆け出しブロガー', 'tommy2blog', 0, 27, '2021-01-28-23:32-58', '【ブログ更新】- #今日の積み上げ- #ブログ更新しました- 今日の #python\\u3000で #ブログ書け- 今日も #界王拳 で #作業ロケット- もっと #プログラミング初心者 や #駆け出しエンジニアと繋がりたい【python】confluenceを操作する方法【→業務効率UP】 https://t.co/EULKWO7eSS']\n",
            "(5番目のつぶやき['Tommy@セブ島駆け出しブロガー', 'tommy2blog', 1, 20, '2021-01-28-23:24-04', '【ブログ更新】- #今日の積み上げ- #ブログ更新しました- 今日の #python\\u3000で #ブログ書け- 今日も #界王拳 で #作業ロケット- もっと #プログラミング初心者 や #駆け出しエンジニアと繋がりたい【python】webhookを受信する方法【→プログラム初心者でもできる！】 https://t.co/xHQKHO0Zsh']\n",
            "(6番目のつぶやき['しろ ＠蛇遣いになるネコ', '_whitecat_22', 1, 26, '2021-01-28-23:23-49', '晴れました！🌞😺空気は冷たいものの陽射しが心地よいですね✨てくてく🐈と #今日の積み上げ していきますおはようございます！1⃣ #Python🐍/#Django 試験対策＋α2⃣ #AWS SAA試験\\u3000復習＆模試3⃣アウトプット＆アイディア出し#プログラミング初学者 #駆け出しエンジニアと繋がりたい']\n",
            "(7番目のつぶやき['さすを🐧💻@8桁SE×5桁副業ブロガー', 'sasuwo0409', 1, 20, '2021-01-28-23:17-54', 'おはさすを！😊#今日の積み上げ day423🌱✅設計書を読む✅Python✅読書✅0秒思考今月最後の金曜日ですね！全力で駆け抜けて土曜日に突入しましょう💪✨今日も最高の華金にしましょう！(リプは\"おはさすを！\"でOK🙆\\u200d♂️)#おは戦30129#おはよう戦隊0129']\n",
            "(8番目のつぶやき['そんくん 花の国愛空', 'RYUZIMAGIC', 0, 11, '2021-01-28-23:15-27', '#今日の積み上げ#本日の積み上げ#HTMLCSS #パイソン#python 朝練をする朝ヨガ犬の散歩お昼プライベートレッスン指導\\u3000犬の散歩英語アウトプット夜のレッスン指導HTML CSSの練習続きPython＠manabubannai さんのブログYouTubeを見るフランス語ワンフレーズ歌の練習犬の散歩寝る']\n",
            "(9番目のつぶやき['つゃちゃん｜多言語プログラマー&フリーランスSE ＠堀口恭司からアスリート魂を学ばせていただく！！！', 'cKuwuHuKT1tlYfl', 0, 27, '2021-01-28-23:05-38', 'progateやってみました！無料で出来るpythonのレッスン5-2まで☺感想：想像の何倍も分かりやすかったです😉始めてプログラミング勉強している方にはお勧めです☺補間出来ないのがきつかったですw#駆け出しエンジニアと繋がりたい #プログラミング初学者と繋がりたい #programming #Progate']\n",
            "(10番目のつぶやき['Saty|創ることを楽しむ企画の探求者', 'satycom_jp', 0, 47, '2021-01-28-23:04-29', '#今日の積み上げおはようございます☀本日の献立:Django復習今夜は長瀬さんドラマの日😁一段と寒さが増してるので防寒対策して風邪ひかないようにしてください😌本日も1日楽しんでいきましょう✨#Python #Nocode#駆け出しのエンジニアと繋がりたい#おは戦30129jk #朝活']\n",
            "(11番目のつぶやき['和光堂仁〓【ミドル・シニア学習の専門家】:CSオペレータからDS転職希望のチャレンジャー！〓', 'afN7Czii3bJgfqJ', 0, 22, '2021-01-28-22:57-25', '#今日の積み上げ#Python #プログラミング #プログラミング初心者 #駆け出しエンジニアと繋がりたい #プログラミング初心者と繋がりたい #基本情報技術者試験基本情報技術者試験午後試験です！頑張ります！！']\n",
            "(12番目のつぶやき['i5net', 'i5_net', 0, 13, '2021-01-28-22:57-13', 'スクレイピングした情報をPandasでCSV出力。#Python #selenium#スクレイピング#駆け出しエンジニアと繋がりたい']\n",
            "(13番目のつぶやき['月見@Python x 投資🏴', 'Suzuka14144156', 0, 15, '2021-01-28-22:57-10', '【技術ブログは読まれない？】✔️金融  -株式  -仮想通貨✔️技術  -python  -C言語✔️圧倒的に金融関連の記事が読まれてます。（1桁ちがいます笑）#駆け出しエンジニアと繋がりたい']\n",
            "(14番目のつぶやき['月見@Python x 投資🏴', 'Suzuka14144156', 0, 14, '2021-01-28-22:51-54', '【#今日の積み上げ】✔️Java✔️Python記事一本作成✔️C言語#駆け出しエンジニアと繋がりたい']\n",
            "(15番目のつぶやき['月見@Python x 投資🏴', 'Suzuka14144156', 1, 13, '2021-01-28-22:46-47', '【Pythonによるファイナンス理論入門 】\\u3000✔️Pythonで株価分析の基礎✔️金融の分析✔️現代ポートフォリオ理論（予定）などを扱っていく予定です。無料で読めるのでぜひチェックしてみてください🌟#駆け出しエンジニアと繋がりたい#株#プログラミングhttps://t.co/ftLD3Hpagj']\n",
            "(16番目のつぶやき['yossymura | 3DCG＆マンガ制作', 'yossymura_3d', 57, 192, '2021-01-28-22:41-34', 'Blenderのカメラ角度調整アドオン、やりたかったことはほぼ実現できた。マウス操作でだいたい完結できそう #Blender #Python https://t.co/07gBv77hDM']\n"
          ],
          "name": "stdout"
        }
      ]
    }
  ]
}