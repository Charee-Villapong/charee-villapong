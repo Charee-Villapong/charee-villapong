{
  "nbformat": 4,
  "nbformat_minor": 0,
  "metadata": {
    "colab": {
      "name": "get tweet program.ipynb",
      "provenance": [],
      "authorship_tag": "ABX9TyOucxVjcMUYvKP7JNTBcRdF",
      "include_colab_link": true
    },
    "kernelspec": {
      "name": "python3",
      "display_name": "Python 3"
    }
  },
  "cells": [
    {
      "cell_type": "markdown",
      "metadata": {
        "id": "view-in-github",
        "colab_type": "text"
      },
      "source": [
        "<a href=\"https://colab.research.google.com/github/Charee-Villapong/charee-villapong/blob/master/get_tweet_program.ipynb\" target=\"_parent\"><img src=\"https://colab.research.google.com/assets/colab-badge.svg\" alt=\"Open In Colab\"/></a>"
      ]
    },
    {
      "cell_type": "code",
      "metadata": {
        "id": "x4Ng7YLCOeL9"
      },
      "source": [
        "# 必要なモジュールのimport\n",
        "import datetime\n",
        "import pandas as pd\n",
        "import tweepy"
      ],
      "execution_count": 11,
      "outputs": []
    },
    {
      "cell_type": "code",
      "metadata": {
        "colab": {
          "base_uri": "https://localhost:8080/",
          "height": 51
        },
        "id": "qZWhhohrMnis",
        "outputId": "c61b4895-b1ba-4443-fe93-8bd527062846"
      },
      "source": [
        "\n",
        "# 各種ツイッターのキーをセット　consumer_key, consumer_secret, access_key, access_secret\n",
        "consumer_key = \"8ljKZRP1ekS9dzkhuaUr6mL8J\"\n",
        "consumer_secret = \"fcpAsRKs4wg2jnUc98jJ1YG4kDLcumehO76T2CAQXH74gPeHjs\"\n",
        "access_key = \"1289362986210009089-LYBDoTh8ipkpbCnOfy0DpaIfqQM7ZM\"\n",
        "access_secret = \"loSkIIcmgZ7YmIx3y4IBqfTYIfN8aYc3Jva41SIFSmflP\"\n",
        "\n",
        "# 認証のためのAPIキーをセット\n",
        "auth = tweepy.OAuthHandler(consumer_key,consumer_secret)\n",
        "auth.set_access_token(access_key,access_secret)\n",
        "api = tweepy.API(auth)\n",
        "#CjtzvLBhCeBmksgJE5B1qdTzo\n",
        "\n",
        "\n",
        "# API利用制限にかかった場合、解除まで待機する\n",
        "\n",
        "'''\n",
        "メインの実行部分\n",
        "ツイートデータの取得からデータの出力まで\n",
        "'''\n",
        "\n",
        "# ツイートデータの取得 日付の指定は 2020-7-30のみでもOK,\n",
        "# 日本時間で取得したい場合は2020-7-30_00:00:00_JSTのように指定\n",
        "# JSTをつけないと時間がUTCになる UTCは協定世界時間-> JST＋9:00(日本時間よりも9時間進んでいる)\n",
        "\n",
        "# ツイートデータを番号順に出力\n",
        "\n",
        "# ツイートデータをDataframeにする\n",
        "\n",
        "# ツイートデータのCSVへの出力\n",
        "\n",
        "# ツイートを収集する関数\n",
        "\n",
        "'''\n",
        "ツイート情報を特定のキーワードで、期間を指定して収集\n",
        "取得できるデータは1週間以内のデータだけ\n",
        "リツイート数＋いいね数の合計でツイートを絞り込める\n",
        "'''\n",
        "\n",
        "# 検索キーワードの設定、 リツイートは除く\n",
        "search_key = \"Python\"\n",
        "# ツイートデータ取得部分\n",
        "# tweepy.CursorのAPIのキーワードサーチを使用(api.search)\n",
        "# qがキーワード, sinceがいつから, untilがいつまで, tweet_modeでつぶやきの省略ありなし, langで言語, .items(数)と書いてツイート数を指定\n",
        "tweets = tweepy.Cursor(api.search,q=search_key,since = \"2020-07-30\",until = \"2020-08-01\",tweet_mode = \"extended\", lang=\"ja\").items(100)\n",
        "# ツイートのデータを取り出して、リストにまとめていく部分\n",
        "print(tweets)\n",
        "# ツイートデータを入れる空のリストを用意\n",
        "tweet_data = []\n",
        "for tweet in tweets:\n",
        "    if tweet.retweet_count + tweet.favorite_count >= 50:# いいねとリツイートの合計がrlcuont以上の条件\n",
        "        tweet_data.append([tweet.user_name,tweet.user.screenname,tweet.retweet_count,tweet.favorite_count,tweet.created_at.strftime(\"%Y-%m-%d-%H:%M-%S\"),tweet.full_text.relace(\"\\n\",\"\")])# 空のリストにユーザーネーム、スクリーンネーム、RT数、いいね数、日付などを入れる\n",
        "\n",
        "'''\n",
        "ツイートのリストを順番をつけて出力する関数の作成\n",
        "'''\n",
        "for tweet in tweet_data:\n",
        "    print(f\"({i}番目のつぶやき{tweet}\")\n",
        "    i += 1\n",
        "\n",
        "\n",
        "'''\n",
        "ツイートデータからDataFrameを作成する\n",
        "'''\n",
        "\n",
        "# データを入れる空のリストを用意(ユーザー名、ユーザーid、RT数、いいね数、日付け、ツイート本文)\n",
        "list_username = []\n",
        "list_userid = []\n",
        "list_rtcount = []\n",
        "list_favorite = []\n",
        "list_date = []\n",
        "list_text = []\n",
        "\n",
        "# ツイートデータからユーザー名、ユーザーid、RT数、いいね数、日付け、ツイート本文のそれぞれをデータごとにまとめたリストを作る\n",
        "for i in range(len(tweet_data)):\n",
        "    list_username.append(tweet_data[i][0])\n",
        "    list_userid.append(tweet_data[i][1])\n",
        "    list_rtcount.append(tweet_data[i][2])\n",
        "    list_favorite.append(tweet_data[i][3])\n",
        "    list_date.append(tweet_data[i][4])\n",
        "    list_text.append(tweet_data[i][5])\n",
        "\n",
        "# 先ほど作ったデータごとにまとめたリストからDataframeの作成\n",
        "pd.DataFrame('ユーザーID':list_userid,\n",
        "             'ユーザー名':list_username,\n",
        "             'RT数':list_rtcount,\n",
        "             'いいね数':list_favorit,\n",
        "             '日時':list_date,\n",
        "             '本文':list_text\n",
        "             )\n",
        "\n",
        "\n"
      ],
      "execution_count": 20,
      "outputs": [
        {
          "output_type": "stream",
          "text": [
            "<tweepy.cursor.ItemIterator object at 0x7fa61dba8940>\n"
          ],
          "name": "stdout"
        },
        {
          "output_type": "execute_result",
          "data": {
            "application/vnd.google.colaboratory.intrinsic+json": {
              "type": "string"
            },
            "text/plain": [
              "'\\nツイートデータからDataFrameを作成する\\n'"
            ]
          },
          "metadata": {
            "tags": []
          },
          "execution_count": 20
        }
      ]
    },
    {
      "cell_type": "code",
      "metadata": {
        "colab": {
          "base_uri": "https://localhost:8080/"
        },
        "id": "VclWS0ylFG5m",
        "outputId": "d72ba120-f00e-4dc5-9806-0272d8798fb7"
      },
      "source": [
        "import pandas as pd\n",
        "# リストの入れ子でDataFrameを作る\n",
        "df = pd.DataFrame([[1, 3, 5], [2, 4, 6], [8, 9, 10]])\n",
        "print(df)\n",
        "\n",
        "# columnsとindexを指定する\n",
        "df1 = pd.DataFrame([[1, 3, 5],\n",
        "                    [2, 4, 6],\n",
        "                    [8, 9, 10]],\n",
        "                   columns=['A', 'B', 'C'],\n",
        "                   index=['C', 'E', 'F'])\n",
        "print(df1)\n",
        "# 辞書でcolumnsとリストを指定する\n",
        "df2 = pd.DataFrame({'A': [1, 3, 5],\n",
        "                   'B': [2, 4, 6],\n",
        "                   'C': [7, 8, 9]},\n",
        "                   index=[1, 2, 3])\n",
        "print(df2)\n"
      ],
      "execution_count": 13,
      "outputs": [
        {
          "output_type": "stream",
          "text": [
            "   0  1   2\n",
            "0  1  3   5\n",
            "1  2  4   6\n",
            "2  8  9  10\n",
            "   A  B   C\n",
            "C  1  3   5\n",
            "E  2  4   6\n",
            "F  8  9  10\n",
            "   A  B  C\n",
            "1  1  2  7\n",
            "2  3  4  8\n",
            "3  5  6  9\n"
          ],
          "name": "stdout"
        }
      ]
    }
  ]
}