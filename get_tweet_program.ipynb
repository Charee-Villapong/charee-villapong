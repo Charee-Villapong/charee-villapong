{
  "nbformat": 4,
  "nbformat_minor": 0,
  "metadata": {
    "colab": {
      "name": "get tweet program.ipynb",
      "provenance": [],
      "mount_file_id": "1c6C-gS9cP9ix75mZ9KcqvKu6wBgj11Lj",
      "authorship_tag": "ABX9TyNLRZKZDfZlMMpButThBAnb",
      "include_colab_link": true
    },
    "kernelspec": {
      "name": "python3",
      "display_name": "Python 3"
    }
  },
  "cells": [
    {
      "cell_type": "markdown",
      "metadata": {
        "id": "view-in-github",
        "colab_type": "text"
      },
      "source": [
        "<a href=\"https://colab.research.google.com/github/Charee-Villapong/charee-villapong/blob/master/get_tweet_program.ipynb\" target=\"_parent\"><img src=\"https://colab.research.google.com/assets/colab-badge.svg\" alt=\"Open In Colab\"/></a>"
      ]
    },
    {
      "cell_type": "code",
      "metadata": {
        "colab": {
          "base_uri": "https://localhost:8080/"
        },
        "id": "x4Ng7YLCOeL9",
        "outputId": "9a0f02e5-79c9-48a2-9453-75b0d1709b32"
      },
      "source": [
        "# 必要なモジュールのimport\n",
        "import datetime\n",
        "import pandas as pd\n",
        "import tweepy\n",
        "!pip install janome"
      ],
      "execution_count": 31,
      "outputs": [
        {
          "output_type": "stream",
          "text": [
            "Requirement already satisfied: janome in /usr/local/lib/python3.6/dist-packages (0.4.1)\n"
          ],
          "name": "stdout"
        }
      ]
    },
    {
      "cell_type": "code",
      "metadata": {
        "id": "qZWhhohrMnis"
      },
      "source": [
        "\n",
        "# 各種ツイッターのキーをセット　consumer_key, consumer_secret, access_key, access_secret\n",
        "consumer_key = \"8ljKZRP1ekS9dzkhuaUr6mL8J\"\n",
        "consumer_secret = \"fcpAsRKs4wg2jnUc98jJ1YG4kDLcumehO76T2CAQXH74gPeHjs\"\n",
        "access_key = \"1289362986210009089-LYBDoTh8ipkpbCnOfy0DpaIfqQM7ZM\"\n",
        "access_secret = \"loSkIIcmgZ7YmIx3y4IBqfTYIfN8aYc3Jva41SIFSmflP\"\n",
        "\n",
        "# 認証のためのAPIキーをセット\n",
        "auth = tweepy.OAuthHandler(consumer_key,consumer_secret)\n",
        "auth.set_access_token(access_key,access_secret)\n",
        "api = tweepy.API(auth)\n",
        "#CjtzvLBhCeBmksgJE5B1qdTzo\n",
        "\n",
        "\n",
        "# API利用制限にかかった場合、解除まで待機する\n",
        "\n",
        "def main():\n",
        "    '''\n",
        "    メインの実行部分\n",
        "    ツイートデータの取得からデータの出力まで\n",
        "    '''\n",
        "\n",
        "    # ツイートデータの取得 日付の指定は 2020-7-30のみでもOK,\n",
        "    # 日本時間で取得したい場合は2020-7-30_00:00:00_JSTのように指定\n",
        "    # JSTをつけないと時間がUTCになる UTCは協定世界時間-> JST＋9:00(日本時間よりも9時間進んでいる)\n",
        "    tweet_data = get_serchtweet('Python','2021-01-23,00:00:00_JST','2021-01-30,00:00:00_JST',100,10)\n",
        "    # ツイートデータを番号順に出力\n",
        "    output_tweets(tweet_data)\n",
        "    # ツイートデータをDataframeにする\n",
        "    df = make_df(tweet_data)\n",
        "    negapogi(df)\n",
        "    # ツイートデータのCSVへの出力\n",
        "    df.to_csv('tweet_data.csv')\n",
        "\n",
        "# ツイートを収集する関数\n",
        "def get_serchtweet(s,since,until,count,rlcount):\n",
        "    '''\n",
        "    ツイート情報を特定のキーワードで、期間を指定して収集\n",
        "    取得できるデータは1週間以内のデータだけ\n",
        "    リツイート数＋いいね数の合計でツイートを絞り込める\n",
        "    '''\n",
        "\n",
        "    # 検索キーワードの設定、 リツイートは除く\n",
        "    search_key = s + \"-filter:retweets\"\n",
        "    # ツイートデータ取得部分\n",
        "    # tweepy.CursorのAPIのキーワードサーチを使用(api.search)\n",
        "    # qがキーワード, sinceがいつから, untilがいつまで, tweet_modeでつぶやきの省略ありなし, langで言語, .items(数)と書いてツイート数を指定\n",
        "    tweets = tweepy.Cursor(api.search,q=search_key,since = since ,until = until,tweet_mode = \"extended\", lang=\"ja\").items(count)\n",
        "    # ツイートのデータを取り出して、リストにまとめていく部分\n",
        "    \n",
        "    # ツイートデータを入れる空のリストを用意\n",
        "    tweet_data = []\n",
        "    for tweet in tweets:\n",
        "        if tweet.retweet_count + tweet.favorite_count >= rlcount:# いいねとリツイートの合計がrlcuont以上の条件\n",
        "            tweet_data.append([tweet.user.name,tweet.user.screen_name,tweet.retweet_count,tweet.favorite_count,tweet.created_at.strftime(\"%Y-%m-%d-%H:%M-%S\"),tweet.full_text.replace(\"\\n\",\"\")])# 空のリストにユーザーネーム、スクリーンネーム、RT数、いいね数、日付などを入れる\n",
        "    return tweet_data\n",
        "\n",
        "def output_tweets(tweet_data):\n",
        "    '''\n",
        "    ツイートのリストを順番をつけて出力する関数の作成\n",
        "    '''\n",
        "    for i in range(len(tweet_data)):\n",
        "        print(f\"({i}番目のつぶやき{tweet_data[i]}\")\n",
        "\n",
        "\n",
        "def make_df(tweet_data):\n",
        "    '''\n",
        "    ツイートデータからDataFrameを作成する\n",
        "    '''\n",
        "\n",
        "    # データを入れる空のリストを用意(ユーザー名、ユーザーid、RT数、いいね数、日付け、ツイート本文)\n",
        "    list_username = []\n",
        "    list_userid = []\n",
        "    list_rtcount = []\n",
        "    list_favorite = []\n",
        "    list_date = []\n",
        "    list_text = []\n",
        "\n",
        "    # ツイートデータからユーザー名、ユーザーid、RT数、いいね数、日付け、ツイート本文のそれぞれをデータごとにまとめたリストを作る\n",
        "    for i in range(len(tweet_data)):\n",
        "        list_username.append(tweet_data[i][0])\n",
        "        list_userid.append(tweet_data[i][1])\n",
        "        list_rtcount.append(tweet_data[i][2])\n",
        "        list_favorite.append(tweet_data[i][3])\n",
        "        list_date.append(tweet_data[i][4])\n",
        "        list_text.append(tweet_data[i][5])\n",
        "\n",
        "    # 先ほど作ったデータごとにまとめたリストからDataframeの作成\n",
        "    df = pd.DataFrame({'ユーザーID':list_userid,\n",
        "                'ユーザー名':list_username,\n",
        "                'RT数':list_rtcount,\n",
        "                'いいね数':list_favorite,\n",
        "                '日時':list_date,\n",
        "                '本文':list_text})\n",
        "\n",
        "    return df\n"
      ],
      "execution_count": 32,
      "outputs": []
    },
    {
      "cell_type": "code",
      "metadata": {
        "colab": {
          "base_uri": "https://localhost:8080/"
        },
        "id": "p2QQLijqqrZC",
        "outputId": "a25e9fa7-50c7-4f82-fe4e-c3a3bb90e5f2"
      },
      "source": [
        "# 形態素解析をするためのjanomeをインストール\n",
        "from janome.tokenizer import Tokenizer\n",
        "\n",
        "# pandas\n",
        "import pandas as pd\n",
        "\n",
        "def negapogi(df):\n",
        "    '''\n",
        "    データフレームを引数に受け取り、\n",
        "    ネガポジ分析をする関数\n",
        "    '''\n",
        "    # 極性辞書をPythonの辞書にしていく\n",
        "    np_dic = {}\n",
        "    \n",
        "    with open(\"/content/drive/MyDrive/pn.csv.m3.120408.trim\", \"r\", encoding=\"utf-8\") as f:  # 日本語評価極性辞書のファイルの読み込み\n",
        "        lines = [line.replace('\\n', '').split('\\t') for line in f.readlines()] # 1行1行を読み込み、文字列からリスト化。リストの内包表記の形に\n",
        "\n",
        "    posi_nega_df = pd.DataFrame(lines, columns = ['word', 'score', 'explain'])  # リストからデータフレームの作成\n",
        "    \n",
        "    # データフレームの2つの列から辞書の作成　zip関数を使う\n",
        "    np_dic = dict(zip(posi_nega_df.word, posi_nega_df.score))\n",
        "\n",
        "    # 形態素解析をするために必要な記述を書いていく\n",
        "    tokenizer = Tokenizer()\n",
        "\n",
        "    # ツイート一つ一つを入れてあるデータフレームの列（本文の列）をsentensesと置く\n",
        "    sentences = df['本文']\n",
        "    # p,n,e,?p?nを数えるための辞書を作成\n",
        "    result = {'p':0,'n':0,'e':0,'?p?n':0}\n",
        "    \n",
        "    # ツイートを一つ一つ取り出す\n",
        "    # 形態素解析をする部分\n",
        "    # ツイートに含まれる単語を抜き出す\n",
        "    # 辞書のキーとして単語があるかどうかの存在確認\n",
        "    # 値(pかnかeか?p?nのどれか)をvalueという文字で置く\n",
        "    # キーの存在確認\n",
        "    # p,n,e,?p?nの個数を数える\n",
        "    for sentence in sentences:\n",
        "        for token in tokenizer.tokenize(sentence):\n",
        "            word = token.surface\n",
        "            if word in np_dic:\n",
        "                value = np_dic[word]\n",
        "                if value in result:\n",
        "                    result[value] += 1                        \n",
        "    #総和を求める\n",
        "    summary = result['p'] + result['n'] + result['e'] + result['?p?n']\n",
        "    # ネガポジ度の平均（pの総数 / summary, nの総数 / summary）を数値でそれぞれ出力\n",
        "    # summaryが0の場合もあるので、try-exceptで例外処理\n",
        "    # ポジティブ度の平均\n",
        "    # ネガティブ度の平均\n",
        "    # summaryが0の場合\n",
        "    try:\n",
        "        print(\"ポジティブ度：\",result['p'] / summary)\n",
        "        print(\"ネガティブ度：\",result['n'] / summary)\n",
        "    except ZeroDivisionError:\n",
        "        print(\"Summaryが0です\")\n",
        "\n",
        "\n",
        "# 実行部分\n",
        "if __name__ == '__main__':\n",
        "    main()"
      ],
      "execution_count": 35,
      "outputs": [
        {
          "output_type": "stream",
          "text": [
            "(0番目のつぶやき['ARAN@FE勉強中', 'aran_ai_python', 0, 27, '2021-01-29-23:56-44', 'おはようございます！#今日の積み上げ✅筋トレ\\u3000足✅FE 午前ランダム✅FE 午後✅python 予想問題今日で丁度試験10日前になる。引き続き選択問題に多く触れたい。#駆け出しエンジニアと繋がりたい#プログラミング初心者']\n",
            "(1番目のつぶやき['ペロ', 'tw_agmg', 0, 25, '2021-01-29-23:50-49', '16日目\\u3000検定まで37日おはようございます。昨日は呟きませんでしたが、少しずつ積み上げております。今日も隙間に勉強します❗️#今日の積み上げ ✅pythonチュートリアル#Python3 #プログラミング独学 #プログラミング初心者と繋がりたい']\n",
            "(2番目のつぶやき['ｓです', 'sho_privateblog', 0, 23, '2021-01-29-23:49-08', 'おはようございます！＃今日の積み上げ🍞Pythonの勉強🍞ヘッダー画像の作成🍞英語の勉強wordpressの無料テーマを使ってるのですが、あまり好きじゃないので少しづつカスタマイズしてきます！＃ブログ書け #ブログ仲間募集中']\n",
            "(3番目のつぶやき['なおきち@筋肉系投資ブロガー', 'naokichipocket', 0, 13, '2021-01-29-23:39-07', 'おはようございます😃お酒を飲むと睡眠の質が下がりますね😅MyPF-1.71%クリエネ🔽ヘルスケア🔽ハイテク🔽半導体🔽見事にマイナスです笑チャアアアアアアン！(きんにくん)ToDo✅ブログ✅筋トレ✅Python✅料理✅左心耳について勉強今日はタフな飲み会になりそう\\U0001f972#朝活 #今日の積み上げ']\n",
            "(4番目のつぶやき['ryojiro@30代未経験→機械学習勉強中→データコンサルタントやりたい', 'MEF2101_dataC', 0, 10, '2021-01-29-23:35-27', '#今日の積み上げ昨日はDICの卒業発表を見学させていただきました！その後の懇親会も混ざらせていただきありがとうございます。だいぶお邪魔しました。今日はkaggle提出のスコアを上げながら、色々な手法を脳みそちゃんに馴染ませます。#エンジニア #python #機械学習 #データサイエンティスト']\n",
            "(5番目のつぶやき['Saty|創ることを楽しむ企画の探求者', 'satycom_jp', 2, 50, '2021-01-29-23:31-17', '#今日の積み上げおはようございます☀本日の献立:youtube風サイトヘッダー作成新しく取り組みます😊午後は久しぶりに車でドライブがてらマックにチキンタツタをドライブスルーで🚗本日も1日楽しんでいきましょう✨#Python #Nocode#駆け出しのエンジニアと繋がりたい#おは戦30130jd #朝活 https://t.co/IwOiaA3MOS']\n",
            "(6番目のつぶやき['だび@見習いデータサイエンティスト', 'davi1040', 0, 12, '2021-01-29-23:31-17', '#昨日の積み上げ #駆け出しエンジニアと繋がりたい #駆け出しDSと繋がりたい ・python認定データ分析試験：数学相変わらずやってます！行列の演算に四苦八苦して、昨日は理解することに時間を割きます！今日も引き続き。今日も6:30起き成功しました！']\n",
            "(7番目のつぶやき['しょうご\\U0001f9eaPython×理学部', 'shogo_python', 0, 10, '2021-01-29-23:28-32', '\\U0001f9ea大流行SNSの正体とは流行りのclubhouseってどんなアプリなの？が一瞬で解決します#駆け出しエンジニアと繋がりたい#プログラミング初心者 https://t.co/0hIrFAxQXB']\n",
            "(8番目のつぶやき['YASUHIRO@読書、エンジニア、、体作り、経済勉強中✏️', 'YASUHIR01619407', 0, 12, '2021-01-29-23:23-38', '来週からpythonの実装やりそうなので、本日よりpythonのプログラミングを積み上げていきます‼️・python・読書この二つを今日はやっていきます‼️#プログラミング#駆け出しエンジニア#読書']\n",
            "(9番目のつぶやき['ばんび@データサイエンティストになりたい営業', 'ot84eA4lSrgGg2U', 1, 18, '2021-01-29-23:17-20', '1/30□ブログ□HP制作□統計検定2級\\u3000ヨビノリYouTube□kaggleアカウント作成□統計検定2級試験日予約□pythonデータ分析認定試験日予約今日は朝から病院と習い事でバタバタ💦午後はゆっくり勉強する📖']\n",
            "(10番目のつぶやき['Nanadauho!', 'nanadauho', 0, 20, '2021-01-29-23:14-36', 'プログラミングを勉強されてる方たちのツイートでよく見かける #Progate のアプリをスマホにダウンロードしてみた！pythonも学べるし、スキマ時間にできそうでいい感じ。']\n",
            "(11番目のつぶやき['リモートビズ / 学生×広報 (オカダ アカリ)', 'selva_okada', 0, 15, '2021-01-29-23:10-00', '案件：企業評価のスコアリングサービスにおけるAIエンジニアを募集！場所：フルリモート言語：Python詳細はこちらです▶︎https://t.co/5p8m5UutCR質問のある方はお気軽にDMくださいませ！#Twitter転職 #エンジニア #フルリモート ＃リモートワーク #転職 #副業 #いいねした人全員フォローする']\n",
            "(12番目のつぶやき['バラン@🇺🇸｜未経験・30代からのデータサイエンス', 'BaranGizagiza', 0, 14, '2021-01-29-22:59-01', 'おはようございます☀#今日の積み上げ 236日目 #SQL  100本ノック\\u3000見直し#Python 分類 with optuna#読書 最高の体調#ブログ\\u3000書き置き#筋トレ kaggleのタイタニックで分類問題をやりながら、StreamlitでWebアプリを作成中💻半分くらいコード書き終わった✌️ブログも書き始めます✍️']\n",
            "ポジティブ度： 0.24210526315789474\n",
            "ネガティブ度： 0.11578947368421053\n"
          ],
          "name": "stdout"
        }
      ]
    }
  ]
}