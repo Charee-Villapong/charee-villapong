{
  "nbformat": 4,
  "nbformat_minor": 0,
  "metadata": {
    "colab": {
      "name": "get tweet program.ipynb",
      "provenance": [],
      "authorship_tag": "ABX9TyPhzWqqhM2e3FgE6Ft3g/tl",
      "include_colab_link": true
    },
    "kernelspec": {
      "name": "python3",
      "display_name": "Python 3"
    }
  },
  "cells": [
    {
      "cell_type": "markdown",
      "metadata": {
        "id": "view-in-github",
        "colab_type": "text"
      },
      "source": [
        "<a href=\"https://colab.research.google.com/github/Charee-Villapong/charee-villapong/blob/master/get_tweet_program.ipynb\" target=\"_parent\"><img src=\"https://colab.research.google.com/assets/colab-badge.svg\" alt=\"Open In Colab\"/></a>"
      ]
    },
    {
      "cell_type": "code",
      "metadata": {
        "colab": {
          "base_uri": "https://localhost:8080/"
        },
        "id": "eLU33C5fZ1t4",
        "outputId": "17505f97-3f81-49e2-b5bb-eb360e356868"
      },
      "source": [
        "!pip install pandas\n",
        "!pip install tweepy"
      ],
      "execution_count": 10,
      "outputs": [
        {
          "output_type": "stream",
          "text": [
            "Requirement already satisfied: pandas in /usr/local/lib/python3.6/dist-packages (1.1.5)\n",
            "Requirement already satisfied: pytz>=2017.2 in /usr/local/lib/python3.6/dist-packages (from pandas) (2018.9)\n",
            "Requirement already satisfied: numpy>=1.15.4 in /usr/local/lib/python3.6/dist-packages (from pandas) (1.19.5)\n",
            "Requirement already satisfied: python-dateutil>=2.7.3 in /usr/local/lib/python3.6/dist-packages (from pandas) (2.8.1)\n",
            "Requirement already satisfied: six>=1.5 in /usr/local/lib/python3.6/dist-packages (from python-dateutil>=2.7.3->pandas) (1.15.0)\n",
            "Requirement already satisfied: tweepy in /usr/local/lib/python3.6/dist-packages (3.6.0)\n",
            "Requirement already satisfied: PySocks>=1.5.7 in /usr/local/lib/python3.6/dist-packages (from tweepy) (1.7.1)\n",
            "Requirement already satisfied: requests-oauthlib>=0.7.0 in /usr/local/lib/python3.6/dist-packages (from tweepy) (1.3.0)\n",
            "Requirement already satisfied: requests>=2.11.1 in /usr/local/lib/python3.6/dist-packages (from tweepy) (2.23.0)\n",
            "Requirement already satisfied: six>=1.10.0 in /usr/local/lib/python3.6/dist-packages (from tweepy) (1.15.0)\n",
            "Requirement already satisfied: oauthlib>=3.0.0 in /usr/local/lib/python3.6/dist-packages (from requests-oauthlib>=0.7.0->tweepy) (3.1.0)\n",
            "Requirement already satisfied: urllib3!=1.25.0,!=1.25.1,<1.26,>=1.21.1 in /usr/local/lib/python3.6/dist-packages (from requests>=2.11.1->tweepy) (1.24.3)\n",
            "Requirement already satisfied: idna<3,>=2.5 in /usr/local/lib/python3.6/dist-packages (from requests>=2.11.1->tweepy) (2.10)\n",
            "Requirement already satisfied: chardet<4,>=3.0.2 in /usr/local/lib/python3.6/dist-packages (from requests>=2.11.1->tweepy) (3.0.4)\n",
            "Requirement already satisfied: certifi>=2017.4.17 in /usr/local/lib/python3.6/dist-packages (from requests>=2.11.1->tweepy) (2020.12.5)\n"
          ],
          "name": "stdout"
        }
      ]
    },
    {
      "cell_type": "code",
      "metadata": {
        "id": "x4Ng7YLCOeL9"
      },
      "source": [
        "# 必要なモジュールのimport\n",
        "import datetime\n",
        "import pandas as pd\n",
        "import tweepy"
      ],
      "execution_count": 11,
      "outputs": []
    },
    {
      "cell_type": "code",
      "metadata": {
        "colab": {
          "base_uri": "https://localhost:8080/",
          "height": 51
        },
        "id": "qZWhhohrMnis",
        "outputId": "e27b644b-8d83-4274-e066-87abaa673162"
      },
      "source": [
        "\n",
        "# 各種ツイッターのキーをセット　consumer_key, consumer_secret, access_key, access_secret\n",
        "consumer_key = \"8ljKZRP1ekS9dzkhuaUr6mL8J\"\n",
        "consumer_secret = \"fcpAsRKs4wg2jnUc98jJ1YG4kDLcumehO76T2CAQXH74gPeHjs\"\n",
        "access_key = \"1289362986210009089-LYBDoTh8ipkpbCnOfy0DpaIfqQM7ZM\"\n",
        "access_secret = \"loSkIIcmgZ7YmIx3y4IBqfTYIfN8aYc3Jva41SIFSmflP\"\n",
        "\n",
        "# 認証のためのAPIキーをセット\n",
        "auth = tweepy.OAuthHandler(consumer_key,consumer_secret)\n",
        "auth.set_access_token(access_key,access_secret)\n",
        "api = tweepy.API(auth)\n",
        "#CjtzvLBhCeBmksgJE5B1qdTzo\n",
        "\n",
        "\n",
        "# API利用制限にかかった場合、解除まで待機する\n",
        "\n",
        "'''\n",
        "メインの実行部分\n",
        "ツイートデータの取得からデータの出力まで\n",
        "'''\n",
        "\n",
        "# ツイートデータの取得 日付の指定は 2020-7-30のみでもOK,\n",
        "# 日本時間で取得したい場合は2020-7-30_00:00:00_JSTのように指定\n",
        "# JSTをつけないと時間がUTCになる UTCは協定世界時間-> JST＋9:00(日本時間よりも9時間進んでいる)\n",
        "\n",
        "# ツイートデータを番号順に出力\n",
        "\n",
        "# ツイートデータをDataframeにする\n",
        "\n",
        "# ツイートデータのCSVへの出力\n",
        "\n",
        "# ツイートを収集する関数\n",
        "\n",
        "'''\n",
        "ツイート情報を特定のキーワードで、期間を指定して収集\n",
        "取得できるデータは1週間以内のデータだけ\n",
        "リツイート数＋いいね数の合計でツイートを絞り込める\n",
        "'''\n",
        "\n",
        "# 検索キーワードの設定、 リツイートは除く\n",
        "search_key = \"Python\"\n",
        "# ツイートデータ取得部分\n",
        "# tweepy.CursorのAPIのキーワードサーチを使用(api.search)\n",
        "# qがキーワード, sinceがいつから, untilがいつまで, tweet_modeでつぶやきの省略ありなし, langで言語, .items(数)と書いてツイート数を指定\n",
        "tweets = tweepy.Cursor(api.search,q=search_key,since = \"2020-07-30\",until = \"2020-08-01\",tweet_mode = \"extended\", lang=\"ja\").items(100)\n",
        "# ツイートのデータを取り出して、リストにまとめていく部分\n",
        "print(tweets)\n",
        "# ツイートデータを入れる空のリストを用意\n",
        "tweet_data = []\n",
        "for tweet in tweets:\n",
        "    if tweet.retweet_count + tweet.favorite_count >= 50:# いいねとリツイートの合計がrlcuont以上の条件\n",
        "        tweet_data.append([tweet.user_name,tweet.user.screenname,tweet.retweet_count,tweet.favorite_count,tweet.created_at.strftime(\"%Y-%m-%d-%H:%M-%S\"),tweet.full_text.relace(\"\\n\",\"\")])# 空のリストにユーザーネーム、スクリーンネーム、RT数、いいね数、日付などを入れる\n",
        "\n",
        "'''\n",
        "ツイートのリストを順番をつけて出力する関数の作成\n",
        "'''\n",
        "for tweet in tweet_data:\n",
        "    print(f\"({i}番目のつぶやき{tweet}\")\n",
        "    i += 1\n",
        "\n",
        "\n",
        "'''\n",
        "ツイートデータからDataFrameを作成する\n",
        "'''\n",
        "\n",
        "# データを入れる空のリストを用意(ユーザー名、ユーザーid、RT数、いいね数、日付け、ツイート本文)\n",
        "\n",
        "# ツイートデータからユーザー名、ユーザーid、RT数、いいね数、日付け、ツイート本文のそれぞれをデータごとにまとめたリストを作る\n",
        "\n",
        "# 先ほど作ったデータごとにまとめたリストからDataframeの作成\n",
        "\n",
        "\n"
      ],
      "execution_count": 17,
      "outputs": [
        {
          "output_type": "stream",
          "text": [
            "<tweepy.cursor.ItemIterator object at 0x7fa61db79390>\n"
          ],
          "name": "stdout"
        },
        {
          "output_type": "execute_result",
          "data": {
            "application/vnd.google.colaboratory.intrinsic+json": {
              "type": "string"
            },
            "text/plain": [
              "'\\nツイートデータからDataFrameを作成する\\n'"
            ]
          },
          "metadata": {
            "tags": []
          },
          "execution_count": 17
        }
      ]
    }
  ]
}