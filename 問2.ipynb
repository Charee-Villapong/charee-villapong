{
  "nbformat": 4,
  "nbformat_minor": 0,
  "metadata": {
    "colab": {
      "name": "問2.ipynb",
      "provenance": [],
      "collapsed_sections": [],
      "authorship_tag": "ABX9TyORvdTTYmlptYwJGPc+6Qb3",
      "include_colab_link": true
    },
    "kernelspec": {
      "name": "python3",
      "display_name": "Python 3"
    }
  },
  "cells": [
    {
      "cell_type": "markdown",
      "metadata": {
        "id": "view-in-github",
        "colab_type": "text"
      },
      "source": [
        "<a href=\"https://colab.research.google.com/github/Charee-Villapong/charee-villapong/blob/master/%E5%95%8F2.ipynb\" target=\"_parent\"><img src=\"https://colab.research.google.com/assets/colab-badge.svg\" alt=\"Open In Colab\"/></a>"
      ]
    },
    {
      "cell_type": "markdown",
      "metadata": {
        "id": "MC1l49vMEntg"
      },
      "source": [
        "**quest_id毎の勝率を出力**"
      ]
    },
    {
      "cell_type": "code",
      "metadata": {
        "id": "EtNfNoHe-agx"
      },
      "source": [
        "import sqlite3\n",
        "filepath = \"test2.sqlite\"\n",
        "conn = sqlite3.connect(filepath) \n",
        "cur = conn.cursor()\n",
        "cur.execute(\"DROP TABLE IF EXISTS quest_log\")\n",
        "cur.execute(\"\"\"CREATE TABLE quest_log(\n",
        "    user_id INTEGER,\n",
        "    timestamp INTEGER,\n",
        "    quest_id INTEGER,\n",
        "    result INTEGER\n",
        ")\"\"\")\n",
        "conn.commit()"
      ],
      "execution_count": null,
      "outputs": []
    },
    {
      "cell_type": "code",
      "metadata": {
        "id": "bmIrorRB-vzl"
      },
      "source": [
        "cur = conn.cursor()\n",
        "data = [(10001,\t'2016-03-19 15:55:00',1001,1),\n",
        "(10001,'2016-03-19 15:57:00',1002,1),\n",
        "(10001,'2016-03-19 16:00:00',1003,0),\n",
        "(10001,'2016-03-19 16:02:00',1003,1),\n",
        "(10001,'2016-03-19 16:07:00',2001,1),\n",
        "(10001,'2016-03-23 14:20:00',1000101,0),\n",
        "(10001,'2016-03-23 14:28:00',1000101,0),\n",
        "(10001,'2016-03-23 14:31:00',1000101,1),\n",
        "(10003,'2016-03-23 11:05:00',1001,1),\n",
        "(10003,'2016-03-23 11:07:00',1002,1),\n",
        "(10003,'2016-03-23 11:10:00',1003,1),\n",
        "(10003,'2016-03-23 11:15:00',2001,1),\n",
        "(10003,'2016-03-23 11:19:00',2002,1),\n",
        "(10003,'2016-03-23 11:22:00',2003,1),\n",
        "(10003,'2016-03-23 11:30:00',3001,1),\n",
        "(10006,'2016-04-02 13:05:00',1001,1),\n",
        "(10007,'2016-04-30 19:05:00',1001,1),\n",
        "(10007,'2016-04-30 19:07:00',1002,1),\n",
        "(10007,'2016-04-30 19:10:00',1003,1),\n",
        "(10007,'2016-05-01 19:05:00',2001,1),\n",
        "(10007,'2016-05-01 19:07:00',2002,1),\n",
        "(10007,'2016-05-01 19:10:00',2003,1),\n",
        "(10007,'2016-05-02 19:05:00',3001,0)]\n",
        "cur.executemany(\n",
        "    \"INSERT INTO quest_log(user_id,timestamp,quest_id,result) VALUES (?,?,?,?)\", data)\n",
        "conn.commit()"
      ],
      "execution_count": null,
      "outputs": []
    },
    {
      "cell_type": "code",
      "metadata": {
        "colab": {
          "base_uri": "https://localhost:8080/"
        },
        "id": "F86qwtIpnm-z",
        "outputId": "22b4b640-e249-42f5-af46-e3e3d0362b1a"
      },
      "source": [
        "cur = conn.cursor()\n",
        "cur.execute(\"select quest_id , sum(result)*1.0 / count(result) from quest_log group by quest_id\")\n",
        "items_list = cur.fetchall()\n",
        "items_list"
      ],
      "execution_count": null,
      "outputs": [
        {
          "output_type": "execute_result",
          "data": {
            "text/plain": [
              "[(1001, 1.0),\n",
              " (1002, 1.0),\n",
              " (1003, 0.75),\n",
              " (2001, 1.0),\n",
              " (2002, 1.0),\n",
              " (2003, 1.0),\n",
              " (3001, 0.5),\n",
              " (1000101, 0.3333333333333333)]"
            ]
          },
          "metadata": {
            "tags": []
          },
          "execution_count": 5
        }
      ]
    }
  ]
}