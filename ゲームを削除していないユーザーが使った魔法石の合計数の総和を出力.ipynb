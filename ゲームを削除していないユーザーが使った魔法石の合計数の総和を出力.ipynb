{
  "nbformat": 4,
  "nbformat_minor": 0,
  "metadata": {
    "colab": {
      "name": "ゲームを削除していないユーザーが使った魔法石の合計数の総和を出力.ipynb",
      "provenance": [],
      "authorship_tag": "ABX9TyOoBNNpWQ7Ymfk+eozMV+9m",
      "include_colab_link": true
    },
    "kernelspec": {
      "name": "python3",
      "display_name": "Python 3"
    }
  },
  "cells": [
    {
      "cell_type": "markdown",
      "metadata": {
        "id": "view-in-github",
        "colab_type": "text"
      },
      "source": [
        "<a href=\"https://colab.research.google.com/github/Charee-Villapong/charee-villapong/blob/master/%E3%82%B2%E3%83%BC%E3%83%A0%E3%82%92%E5%89%8A%E9%99%A4%E3%81%97%E3%81%A6%E3%81%84%E3%81%AA%E3%81%84%E3%83%A6%E3%83%BC%E3%82%B6%E3%83%BC%E3%81%8C%E4%BD%BF%E3%81%A3%E3%81%9F%E9%AD%94%E6%B3%95%E7%9F%B3%E3%81%AE%E5%90%88%E8%A8%88%E6%95%B0%E3%81%AE%E7%B7%8F%E5%92%8C%E3%82%92%E5%87%BA%E5%8A%9B.ipynb\" target=\"_parent\"><img src=\"https://colab.research.google.com/assets/colab-badge.svg\" alt=\"Open In Colab\"/></a>"
      ]
    },
    {
      "cell_type": "markdown",
      "metadata": {
        "id": "_TF8KUmZFIvA"
      },
      "source": [
        "**ゲームを削除していないユーザーが使った魔法石の合計数の総和を出力**"
      ]
    },
    {
      "cell_type": "code",
      "metadata": {
        "id": "x0E-XFnQa68Q"
      },
      "source": [
        "import sqlite3\n",
        "filepath = \"test2.sqlite\"\n",
        "conn = sqlite3.connect(filepath) \n",
        "cur = conn.cursor()\n",
        "cur.execute(\"DROP TABLE IF EXISTS user_master\")\n",
        "cur.execute(\"\"\"CREATE TABLE user_master(\n",
        "    user_id INTEGER,\n",
        "    install_datetime INTEGER,\n",
        "    delete_flg INTEGER\n",
        ")\"\"\")\n",
        "cur.execute(\"DROP TABLE IF EXISTS mahoseki_log\")\n",
        "cur.execute(\"\"\"CREATE TABLE mahoseki_log(\n",
        "    user_id INTEGER,\n",
        "    timestamp TEXT,\n",
        "    amount INTEGER,\n",
        "    category INTEGER,\n",
        "    price_yen INTEGER\n",
        ")\"\"\")\n",
        "conn.commit()"
      ],
      "execution_count": null,
      "outputs": []
    },
    {
      "cell_type": "code",
      "metadata": {
        "id": "SCAiwOWrbB7A"
      },
      "source": [
        "cur = conn.cursor()\n",
        "data = [(10001,'2016-03-19 15:45:00',0),\n",
        "(10002,'2016-03-21 12:30:00',1),\n",
        "(10003,'2016-03-23 09:15:00',0),\n",
        "(10004,'2016-03-25 06:00:00',0),\n",
        "(10005,'2016-04-02 10:00:00',1),\n",
        "(10006,'2016-04-02 12:50:00',0),\n",
        "(10007,'2016-04-30 15:00:00',0)]\n",
        "cur.executemany(\n",
        "    \"INSERT INTO user_master (user_id, install_datetime,delete_flg) VALUES (?,?,?)\", data)\n",
        "conn.commit()"
      ],
      "execution_count": null,
      "outputs": []
    },
    {
      "cell_type": "code",
      "metadata": {
        "id": "ehGq2gOIdKGp"
      },
      "source": [
        "cur = conn.cursor()\n",
        "data2 = [\n",
        "(10001,'2016-03-19 15:50:00',8,'present',None),\n",
        "(10001,'2016-03-19 16:02:00',1,'present',None),\n",
        "(10001,'2016-03-23 14:21:00',-5,'gacha',None),\t\n",
        "(10001,'2016-03-23 14:30:00',-1,'stamina',None),\t\n",
        "(10002,'2016-03-21 12:50:00',8,'present',None),\t\n",
        "(10002,'2016-03-21 12:55:00',-5,'gacha',None),\n",
        "(10003,'2016-03-23 11:00:00',8,'present',None),\t\n",
        "(10003,'2016-03-23 11:10:00',1,'present',None),\n",
        "(10003,'2016-03-23 11:22:00',1,'present',None),\n",
        "(10003,'2016-03-23 11:30:00',90,'buy',5400),\n",
        "(10003,'2016-03-23 11:32:00',-50,'gacha',None),\n",
        "(10003,'2016-03-23 11:36:00',-50,'gacha',None),\n",
        "(10006,'2016-04-02 13:00:00',8,'present',None),\n",
        "(10006,'2016-04-02 13:30:00',1,'present',None),\n",
        "(10006,'2016-04-02 14:00:00',1,'present',None),\n",
        "(10006,'2016-04-02 17:00:00',90,'buy',5400),\n",
        "(10007,'2016-04-30 19:00:00',8,'present',None),\n",
        "(10007,'2016-04-30 19:20:00',1,'present',None),\n",
        "(10007,'2016-04-30 19:40:00',1,'present',None),\n",
        "(10007,'2016-04-30 20:10:00',90,'buy',5400)\n",
        "]\n",
        "cur.executemany(\n",
        "    \"INSERT INTO mahoseki_log(user_id,timestamp,amount,category,price_yen) VALUES (?,?,?,?,?)\", data2)\n",
        "conn.commit()"
      ],
      "execution_count": null,
      "outputs": []
    },
    {
      "cell_type": "code",
      "metadata": {
        "colab": {
          "base_uri": "https://localhost:8080/"
        },
        "id": "y-iR_ioDkq4v",
        "outputId": "8e32f241-9d1a-4323-bbf7-b0fdc43ef77f"
      },
      "source": [
        "cur = conn.cursor()\n",
        "cur.execute(\"SELECT user_master.user_id,user_master.delete_flg,mahoseki_log.category,mahoseki_log.amount AS shukudai FROM user_master INNER JOIN mahoseki_log ON user_master.user_id = mahoseki_log.user_id;\")\n",
        "items_list = cur.fetchall()\n",
        "items_list"
      ],
      "execution_count": null,
      "outputs": [
        {
          "output_type": "execute_result",
          "data": {
            "text/plain": [
              "[(10001, 0, 'gacha', -5),\n",
              " (10001, 0, 'stamina', -1),\n",
              " (10001, 0, 'present', 1),\n",
              " (10001, 0, 'present', 8),\n",
              " (10002, 1, 'gacha', -5),\n",
              " (10002, 1, 'present', 8),\n",
              " (10003, 0, 'gacha', -50),\n",
              " (10003, 0, 'gacha', -50),\n",
              " (10003, 0, 'present', 1),\n",
              " (10003, 0, 'present', 1),\n",
              " (10003, 0, 'present', 8),\n",
              " (10003, 0, 'buy', 90),\n",
              " (10006, 0, 'present', 1),\n",
              " (10006, 0, 'present', 1),\n",
              " (10006, 0, 'present', 8),\n",
              " (10006, 0, 'buy', 90),\n",
              " (10007, 0, 'present', 1),\n",
              " (10007, 0, 'present', 1),\n",
              " (10007, 0, 'present', 8),\n",
              " (10007, 0, 'buy', 90)]"
            ]
          },
          "metadata": {
            "tags": []
          },
          "execution_count": 4
        }
      ]
    },
    {
      "cell_type": "code",
      "metadata": {
        "colab": {
          "base_uri": "https://localhost:8080/"
        },
        "id": "x6KXQxFXnuo7",
        "outputId": "a7db9e73-8924-4b2c-d544-b177831d45ca"
      },
      "source": [
        "cur = conn.cursor()\n",
        "cur.execute(\"\"\"\n",
        "SELECT SUM(shukudai.amount) * -1 FROM (\n",
        "SELECT *\n",
        "FROM user_master INNER JOIN mahoseki_log ON user_master.user_id = mahoseki_log.user_id\n",
        ") AS shukudai\n",
        "WHERE (\n",
        "shukudai.amount < 0 AND\n",
        "shukudai.delete_flg = 0\n",
        ")\n",
        "\"\"\"\n",
        ")\n",
        "items_list = cur.fetchall()\n",
        "items_list"
      ],
      "execution_count": null,
      "outputs": [
        {
          "output_type": "execute_result",
          "data": {
            "text/plain": [
              "[(106,)]"
            ]
          },
          "metadata": {
            "tags": []
          },
          "execution_count": 5
        }
      ]
    },
    {
      "cell_type": "code",
      "metadata": {
        "id": "E-Li2Sf65DHZ",
        "colab": {
          "base_uri": "https://localhost:8080/"
        },
        "outputId": "b6aae324-842d-4ab8-96c2-a8218ec8e5b7"
      },
      "source": [
        "cur = conn.cursor()\n",
        "cur.execute(\"\"\"\n",
        "SELECT SUM(shukudai.amount) * -1 FROM (\n",
        "SELECT *\n",
        "FROM user_master INNER JOIN mahoseki_log ON user_master.user_id = mahoseki_log.user_id\n",
        ") AS shukudai\n",
        "WHERE (\n",
        "shukudai.amount < 0 AND\n",
        "shukudai.delete_flg = 0\n",
        ")\n",
        "\"\"\"\n",
        ")\n",
        "items_list = cur.fetchall()\n",
        "items_list"
      ],
      "execution_count": null,
      "outputs": [
        {
          "output_type": "execute_result",
          "data": {
            "text/plain": [
              "[(106,)]"
            ]
          },
          "metadata": {
            "tags": []
          },
          "execution_count": 6
        }
      ]
    }
  ]
}