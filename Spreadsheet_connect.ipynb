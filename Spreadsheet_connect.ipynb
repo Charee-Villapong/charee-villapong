{
  "nbformat": 4,
  "nbformat_minor": 0,
  "metadata": {
    "colab": {
      "name": "Spreadsheet_connect.ipynb",
      "provenance": [],
      "authorship_tag": "ABX9TyM6CCgkojh0MEty1wG7mJAD",
      "include_colab_link": true
    },
    "kernelspec": {
      "name": "python3",
      "display_name": "Python 3"
    }
  },
  "cells": [
    {
      "cell_type": "markdown",
      "metadata": {
        "id": "view-in-github",
        "colab_type": "text"
      },
      "source": [
        "<a href=\"https://colab.research.google.com/github/Charee-Villapong/charee-villapong/blob/master/Spreadsheet_connect.ipynb\" target=\"_parent\"><img src=\"https://colab.research.google.com/assets/colab-badge.svg\" alt=\"Open In Colab\"/></a>"
      ]
    },
    {
      "cell_type": "code",
      "metadata": {
        "colab": {
          "base_uri": "https://localhost:8080/"
        },
        "id": "TZrGmXtBWCC2",
        "outputId": "70dc2a8c-0b0c-424e-86e8-519d353d3918"
      },
      "source": [
        "import gspread\n",
        "from oauth2client.service_account import ServiceAccountCredentials\n",
        "import json\n",
        "\n",
        "SCOPE = [\"https://spreadsheets.google.com/feeds\",\"https://www.googleapis.com/auth/drive\"] \n",
        "SERVICE_ACCOUNT_FILE = \"/content/sodium-burner-304209-0b84d26de23a.json\"\n",
        "SERVICE_ACCOUNT_FILE2 = \"/Users/yoshitakanishikawa/Desktop/python/sodium-burner-304209-0b84d26de23a.json\"\n",
        "\n",
        "credentials = ServiceAccountCredentials.from_json_keyfile_name(SERVICE_ACCOUNT_FILE,SCOPE)\n",
        "\n",
        "gs = gspread.authorize(credentials)\n",
        "\n",
        "SPREADSHEET_KEY = \"1Pq6pKfLRQ5sb1ffJSmmTKGpy3bheWiH0miy-1tDWPI8\"\n",
        "worksheet = gs.open_by_key(SPREADSHEET_KEY).worksheet(\"発注管理表\")\n",
        "\n",
        "print(worksheet.acell(\"D2\").value)"
      ],
      "execution_count": 1,
      "outputs": [
        {
          "output_type": "stream",
          "text": [
            "40,000\n"
          ],
          "name": "stdout"
        }
      ]
    },
    {
      "cell_type": "code",
      "metadata": {
        "id": "3SCNMAVraG2H"
      },
      "source": [
        "import pandas as pd"
      ],
      "execution_count": 2,
      "outputs": []
    },
    {
      "cell_type": "code",
      "metadata": {
        "id": "fiQmIHnhaS06"
      },
      "source": [
        "workbook = gs.open_by_key(SPREADSHEET_KEY)\n",
        "worksheet = workbook.worksheet(\"発注管理表\")"
      ],
      "execution_count": null,
      "outputs": []
    },
    {
      "cell_type": "code",
      "metadata": {
        "id": "yDB8lXrfayXj"
      },
      "source": [
        "df = pd.DataFrame(worksheet.get_all_values())"
      ],
      "execution_count": 5,
      "outputs": []
    },
    {
      "cell_type": "code",
      "metadata": {
        "colab": {
          "base_uri": "https://localhost:8080/",
          "height": 197
        },
        "id": "UJnPgWiMa-y1",
        "outputId": "54c030ce-ea63-4180-f0e5-ca0df0b3447d"
      },
      "source": [
        "df.head()"
      ],
      "execution_count": 18,
      "outputs": [
        {
          "output_type": "execute_result",
          "data": {
            "text/html": [
              "<div>\n",
              "<style scoped>\n",
              "    .dataframe tbody tr th:only-of-type {\n",
              "        vertical-align: middle;\n",
              "    }\n",
              "\n",
              "    .dataframe tbody tr th {\n",
              "        vertical-align: top;\n",
              "    }\n",
              "\n",
              "    .dataframe thead th {\n",
              "        text-align: right;\n",
              "    }\n",
              "</style>\n",
              "<table border=\"1\" class=\"dataframe\">\n",
              "  <thead>\n",
              "    <tr style=\"text-align: right;\">\n",
              "      <th></th>\n",
              "      <th>0</th>\n",
              "      <th>1</th>\n",
              "      <th>2</th>\n",
              "      <th>3</th>\n",
              "      <th>4</th>\n",
              "      <th>5</th>\n",
              "    </tr>\n",
              "  </thead>\n",
              "  <tbody>\n",
              "    <tr>\n",
              "      <th>0</th>\n",
              "      <td>社員番号</td>\n",
              "      <td>氏名</td>\n",
              "      <td>支店</td>\n",
              "      <td>売上目標</td>\n",
              "      <td>売上実績</td>\n",
              "      <td>達成率</td>\n",
              "    </tr>\n",
              "    <tr>\n",
              "      <th>1</th>\n",
              "      <td>a001</td>\n",
              "      <td>辻上 明佳</td>\n",
              "      <td>東京</td>\n",
              "      <td>40,000</td>\n",
              "      <td>39,856</td>\n",
              "      <td>99.60%</td>\n",
              "    </tr>\n",
              "    <tr>\n",
              "      <th>2</th>\n",
              "      <td>a002</td>\n",
              "      <td>押元 大成</td>\n",
              "      <td>横浜</td>\n",
              "      <td>48,000</td>\n",
              "      <td>45,678</td>\n",
              "      <td>95.20%</td>\n",
              "    </tr>\n",
              "    <tr>\n",
              "      <th>3</th>\n",
              "      <td>a003</td>\n",
              "      <td>石崎 和香菜</td>\n",
              "      <td>東京</td>\n",
              "      <td>39,000</td>\n",
              "      <td>42,011</td>\n",
              "      <td>107.70%</td>\n",
              "    </tr>\n",
              "    <tr>\n",
              "      <th>4</th>\n",
              "      <td>a004</td>\n",
              "      <td>斉 あきの</td>\n",
              "      <td>大阪</td>\n",
              "      <td>43,000</td>\n",
              "      <td>39,780</td>\n",
              "      <td>92.50%</td>\n",
              "    </tr>\n",
              "  </tbody>\n",
              "</table>\n",
              "</div>"
            ],
            "text/plain": [
              "      0       1   2       3       4        5\n",
              "0  社員番号      氏名  支店    売上目標    売上実績      達成率\n",
              "1  a001   辻上 明佳  東京  40,000  39,856   99.60%\n",
              "2  a002   押元 大成  横浜  48,000  45,678   95.20%\n",
              "3  a003  石崎 和香菜  東京  39,000  42,011  107.70%\n",
              "4  a004   斉 あきの  大阪  43,000  39,780   92.50%"
            ]
          },
          "metadata": {
            "tags": []
          },
          "execution_count": 18
        }
      ]
    },
    {
      "cell_type": "code",
      "metadata": {
        "colab": {
          "base_uri": "https://localhost:8080/",
          "height": 197
        },
        "id": "7MTqnmYQbBeG",
        "outputId": "2d37dfb8-916c-4e7b-923e-5be8acc30b0e"
      },
      "source": [
        "df.columns = df.iloc[0]\n",
        "df.head()"
      ],
      "execution_count": 19,
      "outputs": [
        {
          "output_type": "execute_result",
          "data": {
            "text/html": [
              "<div>\n",
              "<style scoped>\n",
              "    .dataframe tbody tr th:only-of-type {\n",
              "        vertical-align: middle;\n",
              "    }\n",
              "\n",
              "    .dataframe tbody tr th {\n",
              "        vertical-align: top;\n",
              "    }\n",
              "\n",
              "    .dataframe thead th {\n",
              "        text-align: right;\n",
              "    }\n",
              "</style>\n",
              "<table border=\"1\" class=\"dataframe\">\n",
              "  <thead>\n",
              "    <tr style=\"text-align: right;\">\n",
              "      <th></th>\n",
              "      <th>社員番号</th>\n",
              "      <th>氏名</th>\n",
              "      <th>支店</th>\n",
              "      <th>売上目標</th>\n",
              "      <th>売上実績</th>\n",
              "      <th>達成率</th>\n",
              "    </tr>\n",
              "  </thead>\n",
              "  <tbody>\n",
              "    <tr>\n",
              "      <th>0</th>\n",
              "      <td>社員番号</td>\n",
              "      <td>氏名</td>\n",
              "      <td>支店</td>\n",
              "      <td>売上目標</td>\n",
              "      <td>売上実績</td>\n",
              "      <td>達成率</td>\n",
              "    </tr>\n",
              "    <tr>\n",
              "      <th>1</th>\n",
              "      <td>a001</td>\n",
              "      <td>辻上 明佳</td>\n",
              "      <td>東京</td>\n",
              "      <td>40,000</td>\n",
              "      <td>39,856</td>\n",
              "      <td>99.60%</td>\n",
              "    </tr>\n",
              "    <tr>\n",
              "      <th>2</th>\n",
              "      <td>a002</td>\n",
              "      <td>押元 大成</td>\n",
              "      <td>横浜</td>\n",
              "      <td>48,000</td>\n",
              "      <td>45,678</td>\n",
              "      <td>95.20%</td>\n",
              "    </tr>\n",
              "    <tr>\n",
              "      <th>3</th>\n",
              "      <td>a003</td>\n",
              "      <td>石崎 和香菜</td>\n",
              "      <td>東京</td>\n",
              "      <td>39,000</td>\n",
              "      <td>42,011</td>\n",
              "      <td>107.70%</td>\n",
              "    </tr>\n",
              "    <tr>\n",
              "      <th>4</th>\n",
              "      <td>a004</td>\n",
              "      <td>斉 あきの</td>\n",
              "      <td>大阪</td>\n",
              "      <td>43,000</td>\n",
              "      <td>39,780</td>\n",
              "      <td>92.50%</td>\n",
              "    </tr>\n",
              "  </tbody>\n",
              "</table>\n",
              "</div>"
            ],
            "text/plain": [
              "0  社員番号      氏名  支店    売上目標    売上実績      達成率\n",
              "0  社員番号      氏名  支店    売上目標    売上実績      達成率\n",
              "1  a001   辻上 明佳  東京  40,000  39,856   99.60%\n",
              "2  a002   押元 大成  横浜  48,000  45,678   95.20%\n",
              "3  a003  石崎 和香菜  東京  39,000  42,011  107.70%\n",
              "4  a004   斉 あきの  大阪  43,000  39,780   92.50%"
            ]
          },
          "metadata": {
            "tags": []
          },
          "execution_count": 19
        }
      ]
    },
    {
      "cell_type": "code",
      "metadata": {
        "id": "l6PM0mUXbbBU"
      },
      "source": [
        "df = df.drop(df.index[0])"
      ],
      "execution_count": 38,
      "outputs": []
    },
    {
      "cell_type": "code",
      "metadata": {
        "colab": {
          "base_uri": "https://localhost:8080/"
        },
        "id": "mv-odnoIcwhi",
        "outputId": "7b1166bc-41bb-429b-a10a-7480f0dce8af"
      },
      "source": [
        "df.dtypes"
      ],
      "execution_count": 39,
      "outputs": [
        {
          "output_type": "execute_result",
          "data": {
            "text/plain": [
              "0\n",
              "社員番号    object\n",
              "氏名      object\n",
              "支店      object\n",
              "売上目標    object\n",
              "売上実績    object\n",
              "達成率     object\n",
              "dtype: object"
            ]
          },
          "metadata": {
            "tags": []
          },
          "execution_count": 39
        }
      ]
    },
    {
      "cell_type": "code",
      "metadata": {
        "colab": {
          "base_uri": "https://localhost:8080/",
          "height": 197
        },
        "id": "IvKl1pmLc4CQ",
        "outputId": "797f2b92-6e1d-4ad5-fddc-e3cc72beb5b2"
      },
      "source": [
        "df[\"売上実績\"] = df[\"売上実績\"].str.replace(\",\",\"\")\n",
        "df[\"売上目標\"] = df[\"売上目標\"].str.replace(\",\",\"\")\n",
        "df.head()"
      ],
      "execution_count": 40,
      "outputs": [
        {
          "output_type": "execute_result",
          "data": {
            "text/html": [
              "<div>\n",
              "<style scoped>\n",
              "    .dataframe tbody tr th:only-of-type {\n",
              "        vertical-align: middle;\n",
              "    }\n",
              "\n",
              "    .dataframe tbody tr th {\n",
              "        vertical-align: top;\n",
              "    }\n",
              "\n",
              "    .dataframe thead th {\n",
              "        text-align: right;\n",
              "    }\n",
              "</style>\n",
              "<table border=\"1\" class=\"dataframe\">\n",
              "  <thead>\n",
              "    <tr style=\"text-align: right;\">\n",
              "      <th></th>\n",
              "      <th>社員番号</th>\n",
              "      <th>氏名</th>\n",
              "      <th>支店</th>\n",
              "      <th>売上目標</th>\n",
              "      <th>売上実績</th>\n",
              "      <th>達成率</th>\n",
              "    </tr>\n",
              "  </thead>\n",
              "  <tbody>\n",
              "    <tr>\n",
              "      <th>2</th>\n",
              "      <td>a002</td>\n",
              "      <td>押元 大成</td>\n",
              "      <td>横浜</td>\n",
              "      <td>48000</td>\n",
              "      <td>45678</td>\n",
              "      <td>95.20%</td>\n",
              "    </tr>\n",
              "    <tr>\n",
              "      <th>3</th>\n",
              "      <td>a003</td>\n",
              "      <td>石崎 和香菜</td>\n",
              "      <td>東京</td>\n",
              "      <td>39000</td>\n",
              "      <td>42011</td>\n",
              "      <td>107.70%</td>\n",
              "    </tr>\n",
              "    <tr>\n",
              "      <th>4</th>\n",
              "      <td>a004</td>\n",
              "      <td>斉 あきの</td>\n",
              "      <td>大阪</td>\n",
              "      <td>43000</td>\n",
              "      <td>39780</td>\n",
              "      <td>92.50%</td>\n",
              "    </tr>\n",
              "    <tr>\n",
              "      <th>5</th>\n",
              "      <td>a005</td>\n",
              "      <td>寺下 春樹</td>\n",
              "      <td>札幌</td>\n",
              "      <td>38000</td>\n",
              "      <td>39271</td>\n",
              "      <td>103.30%</td>\n",
              "    </tr>\n",
              "    <tr>\n",
              "      <th>6</th>\n",
              "      <td>a006</td>\n",
              "      <td>八尾 洋志</td>\n",
              "      <td>福岡</td>\n",
              "      <td>28000</td>\n",
              "      <td>23405</td>\n",
              "      <td>83.60%</td>\n",
              "    </tr>\n",
              "  </tbody>\n",
              "</table>\n",
              "</div>"
            ],
            "text/plain": [
              "0  社員番号      氏名  支店   売上目標   売上実績      達成率\n",
              "2  a002   押元 大成  横浜  48000  45678   95.20%\n",
              "3  a003  石崎 和香菜  東京  39000  42011  107.70%\n",
              "4  a004   斉 あきの  大阪  43000  39780   92.50%\n",
              "5  a005   寺下 春樹  札幌  38000  39271  103.30%\n",
              "6  a006   八尾 洋志  福岡  28000  23405   83.60%"
            ]
          },
          "metadata": {
            "tags": []
          },
          "execution_count": 40
        }
      ]
    },
    {
      "cell_type": "code",
      "metadata": {
        "id": "5pLa36DSpcbE"
      },
      "source": [
        "df[\"売上実績\"] = df[\"売上実績\"].astype(int)\n",
        "df[\"売上目標\"] = df[\"売上目標\"].astype(int)\n",
        "df.head()\n",
        "df.dtypes"
      ],
      "execution_count": null,
      "outputs": []
    },
    {
      "cell_type": "code",
      "metadata": {
        "colab": {
          "base_uri": "https://localhost:8080/"
        },
        "id": "JvGz8f0ipzNg",
        "outputId": "2c133c68-e206-4f8f-e241-295cc8b8574b"
      },
      "source": [
        "df_sum= df[['支店','売上目標']].groupby('支店').sum()\n",
        "print(df_sum)"
      ],
      "execution_count": 53,
      "outputs": [
        {
          "output_type": "stream",
          "text": [
            "0     売上目標\n",
            "支店        \n",
            "大阪  455000\n",
            "札幌  264000\n",
            "東京  375000\n",
            "横浜  387000\n",
            "福岡  198000\n"
          ],
          "name": "stdout"
        }
      ]
    },
    {
      "cell_type": "code",
      "metadata": {
        "colab": {
          "base_uri": "https://localhost:8080/"
        },
        "id": "9qQl4RPVqsbk",
        "outputId": "ffc0a246-dfe5-462d-b35c-f606651344e8"
      },
      "source": [
        "!pip install gspread_dataframe"
      ],
      "execution_count": 55,
      "outputs": [
        {
          "output_type": "stream",
          "text": [
            "Requirement already satisfied: gspread_dataframe in /usr/local/lib/python3.6/dist-packages (3.0.8)\n",
            "Requirement already satisfied: pandas>=0.14.0 in /usr/local/lib/python3.6/dist-packages (from gspread_dataframe) (1.1.5)\n",
            "Requirement already satisfied: gspread>=3.0.0 in /usr/local/lib/python3.6/dist-packages (from gspread_dataframe) (3.0.1)\n",
            "Requirement already satisfied: python-dateutil>=2.7.3 in /usr/local/lib/python3.6/dist-packages (from pandas>=0.14.0->gspread_dataframe) (2.8.1)\n",
            "Requirement already satisfied: numpy>=1.15.4 in /usr/local/lib/python3.6/dist-packages (from pandas>=0.14.0->gspread_dataframe) (1.19.5)\n",
            "Requirement already satisfied: pytz>=2017.2 in /usr/local/lib/python3.6/dist-packages (from pandas>=0.14.0->gspread_dataframe) (2018.9)\n",
            "Requirement already satisfied: requests>=2.2.1 in /usr/local/lib/python3.6/dist-packages (from gspread>=3.0.0->gspread_dataframe) (2.23.0)\n",
            "Requirement already satisfied: six>=1.5 in /usr/local/lib/python3.6/dist-packages (from python-dateutil>=2.7.3->pandas>=0.14.0->gspread_dataframe) (1.15.0)\n",
            "Requirement already satisfied: idna<3,>=2.5 in /usr/local/lib/python3.6/dist-packages (from requests>=2.2.1->gspread>=3.0.0->gspread_dataframe) (2.10)\n",
            "Requirement already satisfied: certifi>=2017.4.17 in /usr/local/lib/python3.6/dist-packages (from requests>=2.2.1->gspread>=3.0.0->gspread_dataframe) (2020.12.5)\n",
            "Requirement already satisfied: chardet<4,>=3.0.2 in /usr/local/lib/python3.6/dist-packages (from requests>=2.2.1->gspread>=3.0.0->gspread_dataframe) (3.0.4)\n",
            "Requirement already satisfied: urllib3!=1.25.0,!=1.25.1,<1.26,>=1.21.1 in /usr/local/lib/python3.6/dist-packages (from requests>=2.2.1->gspread>=3.0.0->gspread_dataframe) (1.24.3)\n"
          ],
          "name": "stdout"
        }
      ]
    },
    {
      "cell_type": "code",
      "metadata": {
        "id": "u3UH07snq-DL"
      },
      "source": [
        "from gspread_dataframe import set_with_dataframe"
      ],
      "execution_count": null,
      "outputs": []
    },
    {
      "cell_type": "code",
      "metadata": {
        "id": "y3bBlZfarDX-"
      },
      "source": [
        ""
      ],
      "execution_count": null,
      "outputs": []
    }
  ]
}