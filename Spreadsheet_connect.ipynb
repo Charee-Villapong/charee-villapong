{
  "nbformat": 4,
  "nbformat_minor": 0,
  "metadata": {
    "colab": {
      "name": "Spreadsheet_connect.ipynb",
      "provenance": [],
      "authorship_tag": "ABX9TyOEKIq461p+Mtu9obWnMs6O",
      "include_colab_link": true
    },
    "kernelspec": {
      "name": "python3",
      "display_name": "Python 3"
    }
  },
  "cells": [
    {
      "cell_type": "markdown",
      "metadata": {
        "id": "view-in-github",
        "colab_type": "text"
      },
      "source": [
        "<a href=\"https://colab.research.google.com/github/Charee-Villapong/charee-villapong/blob/master/Spreadsheet_connect.ipynb\" target=\"_parent\"><img src=\"https://colab.research.google.com/assets/colab-badge.svg\" alt=\"Open In Colab\"/></a>"
      ]
    },
    {
      "cell_type": "code",
      "metadata": {
        "colab": {
          "base_uri": "https://localhost:8080/"
        },
        "id": "TZrGmXtBWCC2",
        "outputId": "ee22547b-07fc-4b48-e2de-d37122ad37e7"
      },
      "source": [
        "import gspread\n",
        "from oauth2client.service_account import ServiceAccountCredentials\n",
        "import json\n",
        "\n",
        "SCOPE = [\"https://spreadsheets.google.com/feeds\",\"https://www.googleapis.com/auth/drive\"] \n",
        "SERVICE_ACCOUNT_FILE = \"/content/sodium-burner-304209-0b84d26de23a.json\"\n",
        "SERVICE_ACCOUNT_FILE2 = \"/Users/yoshitakanishikawa/Desktop/python/sodium-burner-304209-0b84d26de23a.json\"\n",
        "\n",
        "credentials = ServiceAccountCredentials.from_json_keyfile_name(SERVICE_ACCOUNT_FILE,SCOPE)\n",
        "\n",
        "gs = gspread.authorize(credentials)\n",
        "\n",
        "SPREADSHEET_KEY = \"1Pq6pKfLRQ5sb1ffJSmmTKGpy3bheWiH0miy-1tDWPI8\"\n",
        "worksheet = gs.open_by_key(SPREADSHEET_KEY).worksheet(\"発注管理表\")\n",
        "\n",
        "print(worksheet.acell(\"D2\").value)"
      ],
      "execution_count": 59,
      "outputs": [
        {
          "output_type": "stream",
          "text": [
            "40,000\n"
          ],
          "name": "stdout"
        }
      ]
    },
    {
      "cell_type": "code",
      "metadata": {
        "id": "3SCNMAVraG2H"
      },
      "source": [
        "import pandas as pd"
      ],
      "execution_count": 60,
      "outputs": []
    },
    {
      "cell_type": "code",
      "metadata": {
        "id": "fiQmIHnhaS06"
      },
      "source": [
        "workbook = gs.open_by_key(SPREADSHEET_KEY)\n",
        "worksheet = workbook.worksheet(\"発注管理表\")"
      ],
      "execution_count": 61,
      "outputs": []
    },
    {
      "cell_type": "code",
      "metadata": {
        "id": "yDB8lXrfayXj"
      },
      "source": [
        "df = pd.DataFrame(worksheet.get_all_values())"
      ],
      "execution_count": 62,
      "outputs": []
    },
    {
      "cell_type": "code",
      "metadata": {
        "colab": {
          "base_uri": "https://localhost:8080/",
          "height": 197
        },
        "id": "UJnPgWiMa-y1",
        "outputId": "6a444824-b4d7-4997-8e97-fb3fa1816a60"
      },
      "source": [
        "df.head()"
      ],
      "execution_count": 63,
      "outputs": [
        {
          "output_type": "execute_result",
          "data": {
            "text/html": [
              "<div>\n",
              "<style scoped>\n",
              "    .dataframe tbody tr th:only-of-type {\n",
              "        vertical-align: middle;\n",
              "    }\n",
              "\n",
              "    .dataframe tbody tr th {\n",
              "        vertical-align: top;\n",
              "    }\n",
              "\n",
              "    .dataframe thead th {\n",
              "        text-align: right;\n",
              "    }\n",
              "</style>\n",
              "<table border=\"1\" class=\"dataframe\">\n",
              "  <thead>\n",
              "    <tr style=\"text-align: right;\">\n",
              "      <th></th>\n",
              "      <th>0</th>\n",
              "      <th>1</th>\n",
              "      <th>2</th>\n",
              "      <th>3</th>\n",
              "      <th>4</th>\n",
              "      <th>5</th>\n",
              "    </tr>\n",
              "  </thead>\n",
              "  <tbody>\n",
              "    <tr>\n",
              "      <th>0</th>\n",
              "      <td>社員番号</td>\n",
              "      <td>氏名</td>\n",
              "      <td>支店</td>\n",
              "      <td>売上目標</td>\n",
              "      <td>売上実績</td>\n",
              "      <td>達成率</td>\n",
              "    </tr>\n",
              "    <tr>\n",
              "      <th>1</th>\n",
              "      <td>a001</td>\n",
              "      <td>辻上 明佳</td>\n",
              "      <td>東京</td>\n",
              "      <td>40,000</td>\n",
              "      <td>39,856</td>\n",
              "      <td>99.60%</td>\n",
              "    </tr>\n",
              "    <tr>\n",
              "      <th>2</th>\n",
              "      <td>a002</td>\n",
              "      <td>押元 大成</td>\n",
              "      <td>横浜</td>\n",
              "      <td>48,000</td>\n",
              "      <td>45,678</td>\n",
              "      <td>95.20%</td>\n",
              "    </tr>\n",
              "    <tr>\n",
              "      <th>3</th>\n",
              "      <td>a003</td>\n",
              "      <td>石崎 和香菜</td>\n",
              "      <td>東京</td>\n",
              "      <td>39,000</td>\n",
              "      <td>42,011</td>\n",
              "      <td>107.70%</td>\n",
              "    </tr>\n",
              "    <tr>\n",
              "      <th>4</th>\n",
              "      <td>a004</td>\n",
              "      <td>斉 あきの</td>\n",
              "      <td>大阪</td>\n",
              "      <td>43,000</td>\n",
              "      <td>39,780</td>\n",
              "      <td>92.50%</td>\n",
              "    </tr>\n",
              "  </tbody>\n",
              "</table>\n",
              "</div>"
            ],
            "text/plain": [
              "      0       1   2       3       4        5\n",
              "0  社員番号      氏名  支店    売上目標    売上実績      達成率\n",
              "1  a001   辻上 明佳  東京  40,000  39,856   99.60%\n",
              "2  a002   押元 大成  横浜  48,000  45,678   95.20%\n",
              "3  a003  石崎 和香菜  東京  39,000  42,011  107.70%\n",
              "4  a004   斉 あきの  大阪  43,000  39,780   92.50%"
            ]
          },
          "metadata": {
            "tags": []
          },
          "execution_count": 63
        }
      ]
    },
    {
      "cell_type": "code",
      "metadata": {
        "colab": {
          "base_uri": "https://localhost:8080/",
          "height": 197
        },
        "id": "7MTqnmYQbBeG",
        "outputId": "166efacf-d974-4c55-ff5f-d4426520c366"
      },
      "source": [
        "df.columns = df.iloc[0]\n",
        "df.head()"
      ],
      "execution_count": 64,
      "outputs": [
        {
          "output_type": "execute_result",
          "data": {
            "text/html": [
              "<div>\n",
              "<style scoped>\n",
              "    .dataframe tbody tr th:only-of-type {\n",
              "        vertical-align: middle;\n",
              "    }\n",
              "\n",
              "    .dataframe tbody tr th {\n",
              "        vertical-align: top;\n",
              "    }\n",
              "\n",
              "    .dataframe thead th {\n",
              "        text-align: right;\n",
              "    }\n",
              "</style>\n",
              "<table border=\"1\" class=\"dataframe\">\n",
              "  <thead>\n",
              "    <tr style=\"text-align: right;\">\n",
              "      <th></th>\n",
              "      <th>社員番号</th>\n",
              "      <th>氏名</th>\n",
              "      <th>支店</th>\n",
              "      <th>売上目標</th>\n",
              "      <th>売上実績</th>\n",
              "      <th>達成率</th>\n",
              "    </tr>\n",
              "  </thead>\n",
              "  <tbody>\n",
              "    <tr>\n",
              "      <th>0</th>\n",
              "      <td>社員番号</td>\n",
              "      <td>氏名</td>\n",
              "      <td>支店</td>\n",
              "      <td>売上目標</td>\n",
              "      <td>売上実績</td>\n",
              "      <td>達成率</td>\n",
              "    </tr>\n",
              "    <tr>\n",
              "      <th>1</th>\n",
              "      <td>a001</td>\n",
              "      <td>辻上 明佳</td>\n",
              "      <td>東京</td>\n",
              "      <td>40,000</td>\n",
              "      <td>39,856</td>\n",
              "      <td>99.60%</td>\n",
              "    </tr>\n",
              "    <tr>\n",
              "      <th>2</th>\n",
              "      <td>a002</td>\n",
              "      <td>押元 大成</td>\n",
              "      <td>横浜</td>\n",
              "      <td>48,000</td>\n",
              "      <td>45,678</td>\n",
              "      <td>95.20%</td>\n",
              "    </tr>\n",
              "    <tr>\n",
              "      <th>3</th>\n",
              "      <td>a003</td>\n",
              "      <td>石崎 和香菜</td>\n",
              "      <td>東京</td>\n",
              "      <td>39,000</td>\n",
              "      <td>42,011</td>\n",
              "      <td>107.70%</td>\n",
              "    </tr>\n",
              "    <tr>\n",
              "      <th>4</th>\n",
              "      <td>a004</td>\n",
              "      <td>斉 あきの</td>\n",
              "      <td>大阪</td>\n",
              "      <td>43,000</td>\n",
              "      <td>39,780</td>\n",
              "      <td>92.50%</td>\n",
              "    </tr>\n",
              "  </tbody>\n",
              "</table>\n",
              "</div>"
            ],
            "text/plain": [
              "0  社員番号      氏名  支店    売上目標    売上実績      達成率\n",
              "0  社員番号      氏名  支店    売上目標    売上実績      達成率\n",
              "1  a001   辻上 明佳  東京  40,000  39,856   99.60%\n",
              "2  a002   押元 大成  横浜  48,000  45,678   95.20%\n",
              "3  a003  石崎 和香菜  東京  39,000  42,011  107.70%\n",
              "4  a004   斉 あきの  大阪  43,000  39,780   92.50%"
            ]
          },
          "metadata": {
            "tags": []
          },
          "execution_count": 64
        }
      ]
    },
    {
      "cell_type": "code",
      "metadata": {
        "id": "l6PM0mUXbbBU"
      },
      "source": [
        "df = df.drop(df.index[0])"
      ],
      "execution_count": 65,
      "outputs": []
    },
    {
      "cell_type": "code",
      "metadata": {
        "colab": {
          "base_uri": "https://localhost:8080/"
        },
        "id": "mv-odnoIcwhi",
        "outputId": "387e5348-920e-44d5-c98c-85ebab641e34"
      },
      "source": [
        "df.dtypes"
      ],
      "execution_count": 66,
      "outputs": [
        {
          "output_type": "execute_result",
          "data": {
            "text/plain": [
              "0\n",
              "社員番号    object\n",
              "氏名      object\n",
              "支店      object\n",
              "売上目標    object\n",
              "売上実績    object\n",
              "達成率     object\n",
              "dtype: object"
            ]
          },
          "metadata": {
            "tags": []
          },
          "execution_count": 66
        }
      ]
    },
    {
      "cell_type": "code",
      "metadata": {
        "colab": {
          "base_uri": "https://localhost:8080/",
          "height": 197
        },
        "id": "IvKl1pmLc4CQ",
        "outputId": "2e00bccd-7158-49d0-ee35-a52316b5ae3f"
      },
      "source": [
        "df[\"売上実績\"] = df[\"売上実績\"].str.replace(\",\",\"\")\n",
        "df[\"売上目標\"] = df[\"売上目標\"].str.replace(\",\",\"\")\n",
        "df.head()"
      ],
      "execution_count": 67,
      "outputs": [
        {
          "output_type": "execute_result",
          "data": {
            "text/html": [
              "<div>\n",
              "<style scoped>\n",
              "    .dataframe tbody tr th:only-of-type {\n",
              "        vertical-align: middle;\n",
              "    }\n",
              "\n",
              "    .dataframe tbody tr th {\n",
              "        vertical-align: top;\n",
              "    }\n",
              "\n",
              "    .dataframe thead th {\n",
              "        text-align: right;\n",
              "    }\n",
              "</style>\n",
              "<table border=\"1\" class=\"dataframe\">\n",
              "  <thead>\n",
              "    <tr style=\"text-align: right;\">\n",
              "      <th></th>\n",
              "      <th>社員番号</th>\n",
              "      <th>氏名</th>\n",
              "      <th>支店</th>\n",
              "      <th>売上目標</th>\n",
              "      <th>売上実績</th>\n",
              "      <th>達成率</th>\n",
              "    </tr>\n",
              "  </thead>\n",
              "  <tbody>\n",
              "    <tr>\n",
              "      <th>1</th>\n",
              "      <td>a001</td>\n",
              "      <td>辻上 明佳</td>\n",
              "      <td>東京</td>\n",
              "      <td>40000</td>\n",
              "      <td>39856</td>\n",
              "      <td>99.60%</td>\n",
              "    </tr>\n",
              "    <tr>\n",
              "      <th>2</th>\n",
              "      <td>a002</td>\n",
              "      <td>押元 大成</td>\n",
              "      <td>横浜</td>\n",
              "      <td>48000</td>\n",
              "      <td>45678</td>\n",
              "      <td>95.20%</td>\n",
              "    </tr>\n",
              "    <tr>\n",
              "      <th>3</th>\n",
              "      <td>a003</td>\n",
              "      <td>石崎 和香菜</td>\n",
              "      <td>東京</td>\n",
              "      <td>39000</td>\n",
              "      <td>42011</td>\n",
              "      <td>107.70%</td>\n",
              "    </tr>\n",
              "    <tr>\n",
              "      <th>4</th>\n",
              "      <td>a004</td>\n",
              "      <td>斉 あきの</td>\n",
              "      <td>大阪</td>\n",
              "      <td>43000</td>\n",
              "      <td>39780</td>\n",
              "      <td>92.50%</td>\n",
              "    </tr>\n",
              "    <tr>\n",
              "      <th>5</th>\n",
              "      <td>a005</td>\n",
              "      <td>寺下 春樹</td>\n",
              "      <td>札幌</td>\n",
              "      <td>38000</td>\n",
              "      <td>39271</td>\n",
              "      <td>103.30%</td>\n",
              "    </tr>\n",
              "  </tbody>\n",
              "</table>\n",
              "</div>"
            ],
            "text/plain": [
              "0  社員番号      氏名  支店   売上目標   売上実績      達成率\n",
              "1  a001   辻上 明佳  東京  40000  39856   99.60%\n",
              "2  a002   押元 大成  横浜  48000  45678   95.20%\n",
              "3  a003  石崎 和香菜  東京  39000  42011  107.70%\n",
              "4  a004   斉 あきの  大阪  43000  39780   92.50%\n",
              "5  a005   寺下 春樹  札幌  38000  39271  103.30%"
            ]
          },
          "metadata": {
            "tags": []
          },
          "execution_count": 67
        }
      ]
    },
    {
      "cell_type": "code",
      "metadata": {
        "colab": {
          "base_uri": "https://localhost:8080/"
        },
        "id": "5pLa36DSpcbE",
        "outputId": "197c10ed-687c-4663-b89b-bcecb9fc7b5f"
      },
      "source": [
        "df[\"売上実績\"] = df[\"売上実績\"].astype(int)\n",
        "df[\"売上目標\"] = df[\"売上目標\"].astype(int)\n",
        "df.head()\n",
        "df.dtypes"
      ],
      "execution_count": 68,
      "outputs": [
        {
          "output_type": "execute_result",
          "data": {
            "text/plain": [
              "0\n",
              "社員番号    object\n",
              "氏名      object\n",
              "支店      object\n",
              "売上目標     int64\n",
              "売上実績     int64\n",
              "達成率     object\n",
              "dtype: object"
            ]
          },
          "metadata": {
            "tags": []
          },
          "execution_count": 68
        }
      ]
    },
    {
      "cell_type": "code",
      "metadata": {
        "colab": {
          "base_uri": "https://localhost:8080/"
        },
        "id": "JvGz8f0ipzNg",
        "outputId": "ecd5d86f-fb0d-4195-be8c-8ec02ec5cb22"
      },
      "source": [
        "df_sum= df[['支店','売上目標']].groupby('支店').sum()\n",
        "print(df_sum)"
      ],
      "execution_count": 69,
      "outputs": [
        {
          "output_type": "stream",
          "text": [
            "0     売上目標\n",
            "支店        \n",
            "大阪  455000\n",
            "札幌  264000\n",
            "東京  415000\n",
            "横浜  387000\n",
            "福岡  198000\n"
          ],
          "name": "stdout"
        }
      ]
    },
    {
      "cell_type": "code",
      "metadata": {
        "colab": {
          "base_uri": "https://localhost:8080/"
        },
        "id": "9qQl4RPVqsbk",
        "outputId": "c6e9c003-b3bc-4a3b-9193-664dfd59e10e"
      },
      "source": [
        "!pip install gspread_dataframe"
      ],
      "execution_count": 70,
      "outputs": [
        {
          "output_type": "stream",
          "text": [
            "Requirement already satisfied: gspread_dataframe in /usr/local/lib/python3.6/dist-packages (3.0.8)\n",
            "Requirement already satisfied: pandas>=0.14.0 in /usr/local/lib/python3.6/dist-packages (from gspread_dataframe) (1.1.5)\n",
            "Requirement already satisfied: gspread>=3.0.0 in /usr/local/lib/python3.6/dist-packages (from gspread_dataframe) (3.0.1)\n",
            "Requirement already satisfied: pytz>=2017.2 in /usr/local/lib/python3.6/dist-packages (from pandas>=0.14.0->gspread_dataframe) (2018.9)\n",
            "Requirement already satisfied: numpy>=1.15.4 in /usr/local/lib/python3.6/dist-packages (from pandas>=0.14.0->gspread_dataframe) (1.19.5)\n",
            "Requirement already satisfied: python-dateutil>=2.7.3 in /usr/local/lib/python3.6/dist-packages (from pandas>=0.14.0->gspread_dataframe) (2.8.1)\n",
            "Requirement already satisfied: requests>=2.2.1 in /usr/local/lib/python3.6/dist-packages (from gspread>=3.0.0->gspread_dataframe) (2.23.0)\n",
            "Requirement already satisfied: six>=1.5 in /usr/local/lib/python3.6/dist-packages (from python-dateutil>=2.7.3->pandas>=0.14.0->gspread_dataframe) (1.15.0)\n",
            "Requirement already satisfied: certifi>=2017.4.17 in /usr/local/lib/python3.6/dist-packages (from requests>=2.2.1->gspread>=3.0.0->gspread_dataframe) (2020.12.5)\n",
            "Requirement already satisfied: idna<3,>=2.5 in /usr/local/lib/python3.6/dist-packages (from requests>=2.2.1->gspread>=3.0.0->gspread_dataframe) (2.10)\n",
            "Requirement already satisfied: urllib3!=1.25.0,!=1.25.1,<1.26,>=1.21.1 in /usr/local/lib/python3.6/dist-packages (from requests>=2.2.1->gspread>=3.0.0->gspread_dataframe) (1.24.3)\n",
            "Requirement already satisfied: chardet<4,>=3.0.2 in /usr/local/lib/python3.6/dist-packages (from requests>=2.2.1->gspread>=3.0.0->gspread_dataframe) (3.0.4)\n"
          ],
          "name": "stdout"
        }
      ]
    },
    {
      "cell_type": "code",
      "metadata": {
        "id": "u3UH07snq-DL"
      },
      "source": [
        "from gspread_dataframe import set_with_dataframe"
      ],
      "execution_count": 71,
      "outputs": []
    },
    {
      "cell_type": "code",
      "metadata": {
        "id": "y3bBlZfarDX-"
      },
      "source": [
        "workbook.add_worksheet(title = \"目標合計\",rows = 50,cols = 10)"
      ],
      "execution_count": null,
      "outputs": []
    },
    {
      "cell_type": "code",
      "metadata": {
        "id": "D6hLLUvHsOiO"
      },
      "source": [
        "set_with_dataframe(workbook.worksheet(\"目標合計\"),df_sum,include_index=True)\n",
        "#https://docs.google.com/spreadsheets/d/1Pq6pKfLRQ5sb1ffJSmmTKGpy3bheWiH0miy-1tDWPI8/edit#gid=843994185"
      ],
      "execution_count": 76,
      "outputs": []
    }
  ]
}