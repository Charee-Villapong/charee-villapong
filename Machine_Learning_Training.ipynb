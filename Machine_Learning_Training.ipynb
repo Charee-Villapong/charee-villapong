{
  "nbformat": 4,
  "nbformat_minor": 0,
  "metadata": {
    "colab": {
      "name": "Machine Learning Training.ipynb",
      "provenance": [],
      "mount_file_id": "1SSATGJFamRD16Ho-OZl2sD7qRdrUHALg",
      "authorship_tag": "ABX9TyPbXUdhykB9To2dH6SZWO34",
      "include_colab_link": true
    },
    "kernelspec": {
      "name": "python3",
      "display_name": "Python 3"
    },
    "language_info": {
      "name": "python"
    }
  },
  "cells": [
    {
      "cell_type": "markdown",
      "metadata": {
        "id": "view-in-github",
        "colab_type": "text"
      },
      "source": [
        "<a href=\"https://colab.research.google.com/github/Charee-Villapong/charee-villapong/blob/master/Machine_Learning_Training.ipynb\" target=\"_parent\"><img src=\"https://colab.research.google.com/assets/colab-badge.svg\" alt=\"Open In Colab\"/></a>"
      ]
    },
    {
      "cell_type": "markdown",
      "metadata": {
        "id": "S899CssZ1-BU"
      },
      "source": [
        "**Python（scikit-learn）による機械学習実装20問**"
      ]
    },
    {
      "cell_type": "markdown",
      "metadata": {
        "id": "0MALlU_D2JIX"
      },
      "source": [
        "https://www.youtube.com/watch?v=Fbynk_9TfXg&t=782s"
      ]
    },
    {
      "cell_type": "code",
      "metadata": {
        "id": "VNucB5uT16Ls"
      },
      "source": [
        "import pandas as pd\n",
        "import numpy as np\n",
        "import matplotlib.pyplot as plt\n"
      ],
      "execution_count": 2,
      "outputs": []
    },
    {
      "cell_type": "code",
      "metadata": {
        "id": "sDqfzSkM19dO"
      },
      "source": [
        "data = pd.read_csv(\"/content/drive/MyDrive/Machine Learning Training/data.csv のコピー\")"
      ],
      "execution_count": 3,
      "outputs": []
    },
    {
      "cell_type": "code",
      "metadata": {
        "colab": {
          "base_uri": "https://localhost:8080/",
          "height": 204
        },
        "id": "W5VlEDTN3mi5",
        "outputId": "54774c87-f928-4ba5-aa39-402bd0d376e2"
      },
      "source": [
        "data.head()"
      ],
      "execution_count": 4,
      "outputs": [
        {
          "output_type": "execute_result",
          "data": {
            "text/html": [
              "<div>\n",
              "<style scoped>\n",
              "    .dataframe tbody tr th:only-of-type {\n",
              "        vertical-align: middle;\n",
              "    }\n",
              "\n",
              "    .dataframe tbody tr th {\n",
              "        vertical-align: top;\n",
              "    }\n",
              "\n",
              "    .dataframe thead th {\n",
              "        text-align: right;\n",
              "    }\n",
              "</style>\n",
              "<table border=\"1\" class=\"dataframe\">\n",
              "  <thead>\n",
              "    <tr style=\"text-align: right;\">\n",
              "      <th></th>\n",
              "      <th>Name</th>\n",
              "      <th>Age</th>\n",
              "      <th>Sex</th>\n",
              "    </tr>\n",
              "  </thead>\n",
              "  <tbody>\n",
              "    <tr>\n",
              "      <th>0</th>\n",
              "      <td>Braund, Mr. Owen Harris</td>\n",
              "      <td>22.0</td>\n",
              "      <td>male</td>\n",
              "    </tr>\n",
              "    <tr>\n",
              "      <th>1</th>\n",
              "      <td>Cumings, Mrs. John Bradley (Florence Briggs Th...</td>\n",
              "      <td>38.0</td>\n",
              "      <td>female</td>\n",
              "    </tr>\n",
              "    <tr>\n",
              "      <th>2</th>\n",
              "      <td>Heikkinen, Miss. Laina</td>\n",
              "      <td>26.0</td>\n",
              "      <td>NaN</td>\n",
              "    </tr>\n",
              "    <tr>\n",
              "      <th>3</th>\n",
              "      <td>Futrelle, Mrs. Jacques Heath (Lily May Peel)</td>\n",
              "      <td>35.0</td>\n",
              "      <td>female</td>\n",
              "    </tr>\n",
              "    <tr>\n",
              "      <th>4</th>\n",
              "      <td>Allen, Mr. William Henry</td>\n",
              "      <td>35.0</td>\n",
              "      <td>male</td>\n",
              "    </tr>\n",
              "  </tbody>\n",
              "</table>\n",
              "</div>"
            ],
            "text/plain": [
              "                                                Name   Age     Sex\n",
              "0                            Braund, Mr. Owen Harris  22.0    male\n",
              "1  Cumings, Mrs. John Bradley (Florence Briggs Th...  38.0  female\n",
              "2                             Heikkinen, Miss. Laina  26.0     NaN\n",
              "3       Futrelle, Mrs. Jacques Heath (Lily May Peel)  35.0  female\n",
              "4                           Allen, Mr. William Henry  35.0    male"
            ]
          },
          "metadata": {
            "tags": []
          },
          "execution_count": 4
        }
      ]
    },
    {
      "cell_type": "code",
      "metadata": {
        "colab": {
          "base_uri": "https://localhost:8080/",
          "height": 419
        },
        "id": "gU9gSWsz3tC_",
        "outputId": "536af8b6-5534-43ee-abba-68c805b8bce2"
      },
      "source": [
        "data.isnull()"
      ],
      "execution_count": 5,
      "outputs": [
        {
          "output_type": "execute_result",
          "data": {
            "text/html": [
              "<div>\n",
              "<style scoped>\n",
              "    .dataframe tbody tr th:only-of-type {\n",
              "        vertical-align: middle;\n",
              "    }\n",
              "\n",
              "    .dataframe tbody tr th {\n",
              "        vertical-align: top;\n",
              "    }\n",
              "\n",
              "    .dataframe thead th {\n",
              "        text-align: right;\n",
              "    }\n",
              "</style>\n",
              "<table border=\"1\" class=\"dataframe\">\n",
              "  <thead>\n",
              "    <tr style=\"text-align: right;\">\n",
              "      <th></th>\n",
              "      <th>Name</th>\n",
              "      <th>Age</th>\n",
              "      <th>Sex</th>\n",
              "    </tr>\n",
              "  </thead>\n",
              "  <tbody>\n",
              "    <tr>\n",
              "      <th>0</th>\n",
              "      <td>False</td>\n",
              "      <td>False</td>\n",
              "      <td>False</td>\n",
              "    </tr>\n",
              "    <tr>\n",
              "      <th>1</th>\n",
              "      <td>False</td>\n",
              "      <td>False</td>\n",
              "      <td>False</td>\n",
              "    </tr>\n",
              "    <tr>\n",
              "      <th>2</th>\n",
              "      <td>False</td>\n",
              "      <td>False</td>\n",
              "      <td>True</td>\n",
              "    </tr>\n",
              "    <tr>\n",
              "      <th>3</th>\n",
              "      <td>False</td>\n",
              "      <td>False</td>\n",
              "      <td>False</td>\n",
              "    </tr>\n",
              "    <tr>\n",
              "      <th>4</th>\n",
              "      <td>False</td>\n",
              "      <td>False</td>\n",
              "      <td>False</td>\n",
              "    </tr>\n",
              "    <tr>\n",
              "      <th>...</th>\n",
              "      <td>...</td>\n",
              "      <td>...</td>\n",
              "      <td>...</td>\n",
              "    </tr>\n",
              "    <tr>\n",
              "      <th>886</th>\n",
              "      <td>False</td>\n",
              "      <td>False</td>\n",
              "      <td>False</td>\n",
              "    </tr>\n",
              "    <tr>\n",
              "      <th>887</th>\n",
              "      <td>False</td>\n",
              "      <td>False</td>\n",
              "      <td>False</td>\n",
              "    </tr>\n",
              "    <tr>\n",
              "      <th>888</th>\n",
              "      <td>False</td>\n",
              "      <td>True</td>\n",
              "      <td>False</td>\n",
              "    </tr>\n",
              "    <tr>\n",
              "      <th>889</th>\n",
              "      <td>False</td>\n",
              "      <td>False</td>\n",
              "      <td>False</td>\n",
              "    </tr>\n",
              "    <tr>\n",
              "      <th>890</th>\n",
              "      <td>False</td>\n",
              "      <td>False</td>\n",
              "      <td>False</td>\n",
              "    </tr>\n",
              "  </tbody>\n",
              "</table>\n",
              "<p>891 rows × 3 columns</p>\n",
              "</div>"
            ],
            "text/plain": [
              "      Name    Age    Sex\n",
              "0    False  False  False\n",
              "1    False  False  False\n",
              "2    False  False   True\n",
              "3    False  False  False\n",
              "4    False  False  False\n",
              "..     ...    ...    ...\n",
              "886  False  False  False\n",
              "887  False  False  False\n",
              "888  False   True  False\n",
              "889  False  False  False\n",
              "890  False  False  False\n",
              "\n",
              "[891 rows x 3 columns]"
            ]
          },
          "metadata": {
            "tags": []
          },
          "execution_count": 5
        }
      ]
    },
    {
      "cell_type": "code",
      "metadata": {
        "colab": {
          "base_uri": "https://localhost:8080/"
        },
        "id": "5bxk6NEo31RO",
        "outputId": "fa47b766-74fc-40ad-8999-43b34a0de80a"
      },
      "source": [
        "data.isnull().sum()"
      ],
      "execution_count": 6,
      "outputs": [
        {
          "output_type": "execute_result",
          "data": {
            "text/plain": [
              "Name      0\n",
              "Age     177\n",
              "Sex      13\n",
              "dtype: int64"
            ]
          },
          "metadata": {
            "tags": []
          },
          "execution_count": 6
        }
      ]
    },
    {
      "cell_type": "code",
      "metadata": {
        "id": "IOFbZC-u33s0"
      },
      "source": [
        "data_dropna = data.dropna()"
      ],
      "execution_count": 7,
      "outputs": []
    },
    {
      "cell_type": "code",
      "metadata": {
        "colab": {
          "base_uri": "https://localhost:8080/"
        },
        "id": "UgUEGVgH3-3_",
        "outputId": "bb83aee9-e84e-4115-9efb-6413ca7ff9a8"
      },
      "source": [
        "data.shape"
      ],
      "execution_count": 8,
      "outputs": [
        {
          "output_type": "execute_result",
          "data": {
            "text/plain": [
              "(891, 3)"
            ]
          },
          "metadata": {
            "tags": []
          },
          "execution_count": 8
        }
      ]
    },
    {
      "cell_type": "code",
      "metadata": {
        "colab": {
          "base_uri": "https://localhost:8080/"
        },
        "id": "liHSi2B74B4D",
        "outputId": "50d4f18e-22b4-4e5c-9b66-78cec3cfb80c"
      },
      "source": [
        "data_dropna.shape"
      ],
      "execution_count": 9,
      "outputs": [
        {
          "output_type": "execute_result",
          "data": {
            "text/plain": [
              "(704, 3)"
            ]
          },
          "metadata": {
            "tags": []
          },
          "execution_count": 9
        }
      ]
    },
    {
      "cell_type": "code",
      "metadata": {
        "colab": {
          "base_uri": "https://localhost:8080/"
        },
        "id": "yM185kpu4GPT",
        "outputId": "8b213d5f-7e7c-42c0-a2b4-b3fcdfe307c8"
      },
      "source": [
        "data[\"Age\"].describe()"
      ],
      "execution_count": 10,
      "outputs": [
        {
          "output_type": "execute_result",
          "data": {
            "text/plain": [
              "count    714.000000\n",
              "mean      29.699118\n",
              "std       14.526497\n",
              "min        0.420000\n",
              "25%       20.125000\n",
              "50%       28.000000\n",
              "75%       38.000000\n",
              "max       80.000000\n",
              "Name: Age, dtype: float64"
            ]
          },
          "metadata": {
            "tags": []
          },
          "execution_count": 10
        }
      ]
    },
    {
      "cell_type": "code",
      "metadata": {
        "colab": {
          "base_uri": "https://localhost:8080/"
        },
        "id": "G9O-oyx54Q7C",
        "outputId": "06a51cb3-2812-4c83-fa2d-f1c179bfdec6"
      },
      "source": [
        "data.columns"
      ],
      "execution_count": 11,
      "outputs": [
        {
          "output_type": "execute_result",
          "data": {
            "text/plain": [
              "Index(['Name', 'Age', 'Sex'], dtype='object')"
            ]
          },
          "metadata": {
            "tags": []
          },
          "execution_count": 11
        }
      ]
    },
    {
      "cell_type": "code",
      "metadata": {
        "colab": {
          "base_uri": "https://localhost:8080/",
          "height": 204
        },
        "id": "a9M4B6CT4Spr",
        "outputId": "03183074-5834-4e68-f457-ed9114921dd9"
      },
      "source": [
        "mean = int(data[[\"Age\"]].mean())\n",
        "df_zero = data[[\"Age\"]].fillna(mean)\n",
        "df_zero.tail()"
      ],
      "execution_count": 12,
      "outputs": [
        {
          "output_type": "execute_result",
          "data": {
            "text/html": [
              "<div>\n",
              "<style scoped>\n",
              "    .dataframe tbody tr th:only-of-type {\n",
              "        vertical-align: middle;\n",
              "    }\n",
              "\n",
              "    .dataframe tbody tr th {\n",
              "        vertical-align: top;\n",
              "    }\n",
              "\n",
              "    .dataframe thead th {\n",
              "        text-align: right;\n",
              "    }\n",
              "</style>\n",
              "<table border=\"1\" class=\"dataframe\">\n",
              "  <thead>\n",
              "    <tr style=\"text-align: right;\">\n",
              "      <th></th>\n",
              "      <th>Age</th>\n",
              "    </tr>\n",
              "  </thead>\n",
              "  <tbody>\n",
              "    <tr>\n",
              "      <th>886</th>\n",
              "      <td>27.0</td>\n",
              "    </tr>\n",
              "    <tr>\n",
              "      <th>887</th>\n",
              "      <td>19.0</td>\n",
              "    </tr>\n",
              "    <tr>\n",
              "      <th>888</th>\n",
              "      <td>29.0</td>\n",
              "    </tr>\n",
              "    <tr>\n",
              "      <th>889</th>\n",
              "      <td>26.0</td>\n",
              "    </tr>\n",
              "    <tr>\n",
              "      <th>890</th>\n",
              "      <td>32.0</td>\n",
              "    </tr>\n",
              "  </tbody>\n",
              "</table>\n",
              "</div>"
            ],
            "text/plain": [
              "      Age\n",
              "886  27.0\n",
              "887  19.0\n",
              "888  29.0\n",
              "889  26.0\n",
              "890  32.0"
            ]
          },
          "metadata": {
            "tags": []
          },
          "execution_count": 12
        }
      ]
    },
    {
      "cell_type": "code",
      "metadata": {
        "colab": {
          "base_uri": "https://localhost:8080/",
          "height": 204
        },
        "id": "Kk8EuwlC4r3m",
        "outputId": "b008a48a-a45c-4f0c-ebd0-2d9daf9ad28f"
      },
      "source": [
        "data.tail()"
      ],
      "execution_count": 13,
      "outputs": [
        {
          "output_type": "execute_result",
          "data": {
            "text/html": [
              "<div>\n",
              "<style scoped>\n",
              "    .dataframe tbody tr th:only-of-type {\n",
              "        vertical-align: middle;\n",
              "    }\n",
              "\n",
              "    .dataframe tbody tr th {\n",
              "        vertical-align: top;\n",
              "    }\n",
              "\n",
              "    .dataframe thead th {\n",
              "        text-align: right;\n",
              "    }\n",
              "</style>\n",
              "<table border=\"1\" class=\"dataframe\">\n",
              "  <thead>\n",
              "    <tr style=\"text-align: right;\">\n",
              "      <th></th>\n",
              "      <th>Name</th>\n",
              "      <th>Age</th>\n",
              "      <th>Sex</th>\n",
              "    </tr>\n",
              "  </thead>\n",
              "  <tbody>\n",
              "    <tr>\n",
              "      <th>886</th>\n",
              "      <td>Montvila, Rev. Juozas</td>\n",
              "      <td>27.0</td>\n",
              "      <td>male</td>\n",
              "    </tr>\n",
              "    <tr>\n",
              "      <th>887</th>\n",
              "      <td>Graham, Miss. Margaret Edith</td>\n",
              "      <td>19.0</td>\n",
              "      <td>female</td>\n",
              "    </tr>\n",
              "    <tr>\n",
              "      <th>888</th>\n",
              "      <td>Johnston, Miss. Catherine Helen \"Carrie\"</td>\n",
              "      <td>NaN</td>\n",
              "      <td>female</td>\n",
              "    </tr>\n",
              "    <tr>\n",
              "      <th>889</th>\n",
              "      <td>Behr, Mr. Karl Howell</td>\n",
              "      <td>26.0</td>\n",
              "      <td>male</td>\n",
              "    </tr>\n",
              "    <tr>\n",
              "      <th>890</th>\n",
              "      <td>Dooley, Mr. Patrick</td>\n",
              "      <td>32.0</td>\n",
              "      <td>male</td>\n",
              "    </tr>\n",
              "  </tbody>\n",
              "</table>\n",
              "</div>"
            ],
            "text/plain": [
              "                                         Name   Age     Sex\n",
              "886                     Montvila, Rev. Juozas  27.0    male\n",
              "887              Graham, Miss. Margaret Edith  19.0  female\n",
              "888  Johnston, Miss. Catherine Helen \"Carrie\"   NaN  female\n",
              "889                     Behr, Mr. Karl Howell  26.0    male\n",
              "890                       Dooley, Mr. Patrick  32.0    male"
            ]
          },
          "metadata": {
            "tags": []
          },
          "execution_count": 13
        }
      ]
    },
    {
      "cell_type": "code",
      "metadata": {
        "colab": {
          "base_uri": "https://localhost:8080/",
          "height": 204
        },
        "id": "42cLLvw541Xn",
        "outputId": "c2209e22-6bfa-441a-b1a6-a94ec7274f42"
      },
      "source": [
        "median = data[[\"Age\"]].median()\n",
        "df_median = data[[\"Age\"]].fillna(median)\n",
        "df_median.tail()"
      ],
      "execution_count": 14,
      "outputs": [
        {
          "output_type": "execute_result",
          "data": {
            "text/html": [
              "<div>\n",
              "<style scoped>\n",
              "    .dataframe tbody tr th:only-of-type {\n",
              "        vertical-align: middle;\n",
              "    }\n",
              "\n",
              "    .dataframe tbody tr th {\n",
              "        vertical-align: top;\n",
              "    }\n",
              "\n",
              "    .dataframe thead th {\n",
              "        text-align: right;\n",
              "    }\n",
              "</style>\n",
              "<table border=\"1\" class=\"dataframe\">\n",
              "  <thead>\n",
              "    <tr style=\"text-align: right;\">\n",
              "      <th></th>\n",
              "      <th>Age</th>\n",
              "    </tr>\n",
              "  </thead>\n",
              "  <tbody>\n",
              "    <tr>\n",
              "      <th>886</th>\n",
              "      <td>27.0</td>\n",
              "    </tr>\n",
              "    <tr>\n",
              "      <th>887</th>\n",
              "      <td>19.0</td>\n",
              "    </tr>\n",
              "    <tr>\n",
              "      <th>888</th>\n",
              "      <td>28.0</td>\n",
              "    </tr>\n",
              "    <tr>\n",
              "      <th>889</th>\n",
              "      <td>26.0</td>\n",
              "    </tr>\n",
              "    <tr>\n",
              "      <th>890</th>\n",
              "      <td>32.0</td>\n",
              "    </tr>\n",
              "  </tbody>\n",
              "</table>\n",
              "</div>"
            ],
            "text/plain": [
              "      Age\n",
              "886  27.0\n",
              "887  19.0\n",
              "888  28.0\n",
              "889  26.0\n",
              "890  32.0"
            ]
          },
          "metadata": {
            "tags": []
          },
          "execution_count": 14
        }
      ]
    },
    {
      "cell_type": "code",
      "metadata": {
        "id": "02XOs2I9-6tc"
      },
      "source": [
        "mean = data[\"Age\"].mean()\n",
        "std = data[\"Age\"].std()\n",
        "median = data[\"Age\"].median()\n",
        "num = data[\"Age\"].isnull().sum()"
      ],
      "execution_count": 15,
      "outputs": []
    },
    {
      "cell_type": "code",
      "metadata": {
        "id": "2xciJjwW_V7D"
      },
      "source": [
        "rand = np.random.randint(mean - std,mean + std,size= num)"
      ],
      "execution_count": 16,
      "outputs": []
    },
    {
      "cell_type": "markdown",
      "metadata": {
        "id": "aj3TVRTRADoU"
      },
      "source": [
        "乱数補完"
      ]
    },
    {
      "cell_type": "code",
      "metadata": {
        "colab": {
          "base_uri": "https://localhost:8080/",
          "height": 282
        },
        "id": "PsXiltUc_-6b",
        "outputId": "e0f00223-2409-4d2c-aba7-c123ada1cbca"
      },
      "source": [
        "data[\"Age\"].dropna().astype(int).hist(bins=70)"
      ],
      "execution_count": 17,
      "outputs": [
        {
          "output_type": "execute_result",
          "data": {
            "text/plain": [
              "<matplotlib.axes._subplots.AxesSubplot at 0x7f93e18d5a90>"
            ]
          },
          "metadata": {
            "tags": []
          },
          "execution_count": 17
        },
        {
          "output_type": "display_data",
          "data": {
            "image/png": "[encoded data removed]",
            "text/plain": [
              "<Figure size 432x288 with 1 Axes>"
            ]
          },
          "metadata": {
            "tags": [],
            "needs_background": "light"
          }
        }
      ]
    },
    {
      "cell_type": "code",
      "metadata": {
        "colab": {
          "base_uri": "https://localhost:8080/"
        },
        "id": "3FlCgSBKALE8",
        "outputId": "dfa6416e-ae32-4e0e-ff27-e80a530bd1e8"
      },
      "source": [
        "data[\"Age\"][data[\"Age\"].isnull()] = rand"
      ],
      "execution_count": 18,
      "outputs": [
        {
          "output_type": "stream",
          "text": [
            "/usr/local/lib/python3.7/dist-packages/ipykernel_launcher.py:1: SettingWithCopyWarning: \n",
            "A value is trying to be set on a copy of a slice from a DataFrame\n",
            "\n",
            "See the caveats in the documentation: https://pandas.pydata.org/pandas-docs/stable/user_guide/indexing.html#returning-a-view-versus-a-copy\n",
            "  \"\"\"Entry point for launching an IPython kernel.\n"
          ],
          "name": "stderr"
        }
      ]
    },
    {
      "cell_type": "code",
      "metadata": {
        "colab": {
          "base_uri": "https://localhost:8080/"
        },
        "id": "uzjSKTlfAjPj",
        "outputId": "cdafae8c-2925-4c78-969c-77d875a2556e"
      },
      "source": [
        "data[\"Age\"].isnull().sum()"
      ],
      "execution_count": 19,
      "outputs": [
        {
          "output_type": "execute_result",
          "data": {
            "text/plain": [
              "0"
            ]
          },
          "metadata": {
            "tags": []
          },
          "execution_count": 19
        }
      ]
    },
    {
      "cell_type": "code",
      "metadata": {
        "colab": {
          "base_uri": "https://localhost:8080/",
          "height": 282
        },
        "id": "ptys1LJ-BLHD",
        "outputId": "bf4b746f-9bae-4828-d5fb-f23cf160223b"
      },
      "source": [
        "data[\"Age\"].hist(bins=70)"
      ],
      "execution_count": 20,
      "outputs": [
        {
          "output_type": "execute_result",
          "data": {
            "text/plain": [
              "<matplotlib.axes._subplots.AxesSubplot at 0x7f93e06c8e50>"
            ]
          },
          "metadata": {
            "tags": []
          },
          "execution_count": 20
        },
        {
          "output_type": "display_data",
          "data": {
            "image/png": "[encoded data removed]",
            "text/plain": [
              "<Figure size 432x288 with 1 Axes>"
            ]
          },
          "metadata": {
            "tags": [],
            "needs_background": "light"
          }
        }
      ]
    },
    {
      "cell_type": "code",
      "metadata": {
        "colab": {
          "base_uri": "https://localhost:8080/",
          "height": 204
        },
        "id": "G5TvDNbDBUD3",
        "outputId": "25999768-e79e-4cc6-eff6-53e9213f01d9"
      },
      "source": [
        "data[[\"Sex\"]].head()"
      ],
      "execution_count": 21,
      "outputs": [
        {
          "output_type": "execute_result",
          "data": {
            "text/html": [
              "<div>\n",
              "<style scoped>\n",
              "    .dataframe tbody tr th:only-of-type {\n",
              "        vertical-align: middle;\n",
              "    }\n",
              "\n",
              "    .dataframe tbody tr th {\n",
              "        vertical-align: top;\n",
              "    }\n",
              "\n",
              "    .dataframe thead th {\n",
              "        text-align: right;\n",
              "    }\n",
              "</style>\n",
              "<table border=\"1\" class=\"dataframe\">\n",
              "  <thead>\n",
              "    <tr style=\"text-align: right;\">\n",
              "      <th></th>\n",
              "      <th>Sex</th>\n",
              "    </tr>\n",
              "  </thead>\n",
              "  <tbody>\n",
              "    <tr>\n",
              "      <th>0</th>\n",
              "      <td>male</td>\n",
              "    </tr>\n",
              "    <tr>\n",
              "      <th>1</th>\n",
              "      <td>female</td>\n",
              "    </tr>\n",
              "    <tr>\n",
              "      <th>2</th>\n",
              "      <td>NaN</td>\n",
              "    </tr>\n",
              "    <tr>\n",
              "      <th>3</th>\n",
              "      <td>female</td>\n",
              "    </tr>\n",
              "    <tr>\n",
              "      <th>4</th>\n",
              "      <td>male</td>\n",
              "    </tr>\n",
              "  </tbody>\n",
              "</table>\n",
              "</div>"
            ],
            "text/plain": [
              "      Sex\n",
              "0    male\n",
              "1  female\n",
              "2     NaN\n",
              "3  female\n",
              "4    male"
            ]
          },
          "metadata": {
            "tags": []
          },
          "execution_count": 21
        }
      ]
    },
    {
      "cell_type": "code",
      "metadata": {
        "colab": {
          "base_uri": "https://localhost:8080/",
          "height": 419
        },
        "id": "k1CJmBZVlXHB",
        "outputId": "77b6d1e5-5660-463a-ad79-0fa492ec09d4"
      },
      "source": [
        "data[[\"Sex\"]].fillna(method = \"ffill\")"
      ],
      "execution_count": 22,
      "outputs": [
        {
          "output_type": "execute_result",
          "data": {
            "text/html": [
              "<div>\n",
              "<style scoped>\n",
              "    .dataframe tbody tr th:only-of-type {\n",
              "        vertical-align: middle;\n",
              "    }\n",
              "\n",
              "    .dataframe tbody tr th {\n",
              "        vertical-align: top;\n",
              "    }\n",
              "\n",
              "    .dataframe thead th {\n",
              "        text-align: right;\n",
              "    }\n",
              "</style>\n",
              "<table border=\"1\" class=\"dataframe\">\n",
              "  <thead>\n",
              "    <tr style=\"text-align: right;\">\n",
              "      <th></th>\n",
              "      <th>Sex</th>\n",
              "    </tr>\n",
              "  </thead>\n",
              "  <tbody>\n",
              "    <tr>\n",
              "      <th>0</th>\n",
              "      <td>male</td>\n",
              "    </tr>\n",
              "    <tr>\n",
              "      <th>1</th>\n",
              "      <td>female</td>\n",
              "    </tr>\n",
              "    <tr>\n",
              "      <th>2</th>\n",
              "      <td>female</td>\n",
              "    </tr>\n",
              "    <tr>\n",
              "      <th>3</th>\n",
              "      <td>female</td>\n",
              "    </tr>\n",
              "    <tr>\n",
              "      <th>4</th>\n",
              "      <td>male</td>\n",
              "    </tr>\n",
              "    <tr>\n",
              "      <th>...</th>\n",
              "      <td>...</td>\n",
              "    </tr>\n",
              "    <tr>\n",
              "      <th>886</th>\n",
              "      <td>male</td>\n",
              "    </tr>\n",
              "    <tr>\n",
              "      <th>887</th>\n",
              "      <td>female</td>\n",
              "    </tr>\n",
              "    <tr>\n",
              "      <th>888</th>\n",
              "      <td>female</td>\n",
              "    </tr>\n",
              "    <tr>\n",
              "      <th>889</th>\n",
              "      <td>male</td>\n",
              "    </tr>\n",
              "    <tr>\n",
              "      <th>890</th>\n",
              "      <td>male</td>\n",
              "    </tr>\n",
              "  </tbody>\n",
              "</table>\n",
              "<p>891 rows × 1 columns</p>\n",
              "</div>"
            ],
            "text/plain": [
              "        Sex\n",
              "0      male\n",
              "1    female\n",
              "2    female\n",
              "3    female\n",
              "4      male\n",
              "..      ...\n",
              "886    male\n",
              "887  female\n",
              "888  female\n",
              "889    male\n",
              "890    male\n",
              "\n",
              "[891 rows x 1 columns]"
            ]
          },
          "metadata": {
            "tags": []
          },
          "execution_count": 22
        }
      ]
    },
    {
      "cell_type": "code",
      "metadata": {
        "colab": {
          "base_uri": "https://localhost:8080/",
          "height": 419
        },
        "id": "FuTduqF5lwjv",
        "outputId": "0836a6ba-d41f-45b5-d1f1-f8af9ef4bf68"
      },
      "source": [
        "pd.get_dummies(data[\"Sex\"]).drop(\"male\",axis=1)"
      ],
      "execution_count": 23,
      "outputs": [
        {
          "output_type": "execute_result",
          "data": {
            "text/html": [
              "<div>\n",
              "<style scoped>\n",
              "    .dataframe tbody tr th:only-of-type {\n",
              "        vertical-align: middle;\n",
              "    }\n",
              "\n",
              "    .dataframe tbody tr th {\n",
              "        vertical-align: top;\n",
              "    }\n",
              "\n",
              "    .dataframe thead th {\n",
              "        text-align: right;\n",
              "    }\n",
              "</style>\n",
              "<table border=\"1\" class=\"dataframe\">\n",
              "  <thead>\n",
              "    <tr style=\"text-align: right;\">\n",
              "      <th></th>\n",
              "      <th>female</th>\n",
              "    </tr>\n",
              "  </thead>\n",
              "  <tbody>\n",
              "    <tr>\n",
              "      <th>0</th>\n",
              "      <td>0</td>\n",
              "    </tr>\n",
              "    <tr>\n",
              "      <th>1</th>\n",
              "      <td>1</td>\n",
              "    </tr>\n",
              "    <tr>\n",
              "      <th>2</th>\n",
              "      <td>0</td>\n",
              "    </tr>\n",
              "    <tr>\n",
              "      <th>3</th>\n",
              "      <td>1</td>\n",
              "    </tr>\n",
              "    <tr>\n",
              "      <th>4</th>\n",
              "      <td>0</td>\n",
              "    </tr>\n",
              "    <tr>\n",
              "      <th>...</th>\n",
              "      <td>...</td>\n",
              "    </tr>\n",
              "    <tr>\n",
              "      <th>886</th>\n",
              "      <td>0</td>\n",
              "    </tr>\n",
              "    <tr>\n",
              "      <th>887</th>\n",
              "      <td>1</td>\n",
              "    </tr>\n",
              "    <tr>\n",
              "      <th>888</th>\n",
              "      <td>1</td>\n",
              "    </tr>\n",
              "    <tr>\n",
              "      <th>889</th>\n",
              "      <td>0</td>\n",
              "    </tr>\n",
              "    <tr>\n",
              "      <th>890</th>\n",
              "      <td>0</td>\n",
              "    </tr>\n",
              "  </tbody>\n",
              "</table>\n",
              "<p>891 rows × 1 columns</p>\n",
              "</div>"
            ],
            "text/plain": [
              "     female\n",
              "0         0\n",
              "1         1\n",
              "2         0\n",
              "3         1\n",
              "4         0\n",
              "..      ...\n",
              "886       0\n",
              "887       1\n",
              "888       1\n",
              "889       0\n",
              "890       0\n",
              "\n",
              "[891 rows x 1 columns]"
            ]
          },
          "metadata": {
            "tags": []
          },
          "execution_count": 23
        }
      ]
    },
    {
      "cell_type": "code",
      "metadata": {
        "id": "-lDGnZXxmO4d"
      },
      "source": [
        "from sklearn.preprocessing import MinMaxScaler"
      ],
      "execution_count": 24,
      "outputs": []
    },
    {
      "cell_type": "code",
      "metadata": {
        "id": "KFp5RhPjmwAW"
      },
      "source": [
        "mmscaler = MinMaxScaler(copy=True)"
      ],
      "execution_count": 25,
      "outputs": []
    },
    {
      "cell_type": "code",
      "metadata": {
        "id": "LN0lqpLmnCDk"
      },
      "source": [
        "lim_min , lim_max = data[\"Age\"].min(),data[\"Age\"].max()"
      ],
      "execution_count": 26,
      "outputs": []
    },
    {
      "cell_type": "code",
      "metadata": {
        "colab": {
          "base_uri": "https://localhost:8080/"
        },
        "id": "KXNCFzVEnUuH",
        "outputId": "217eb949-d0f4-41ba-bb09-e19b91fcb380"
      },
      "source": [
        "lim_min , lim_max"
      ],
      "execution_count": 27,
      "outputs": [
        {
          "output_type": "execute_result",
          "data": {
            "text/plain": [
              "(0.42, 80.0)"
            ]
          },
          "metadata": {
            "tags": []
          },
          "execution_count": 27
        }
      ]
    },
    {
      "cell_type": "code",
      "metadata": {
        "colab": {
          "base_uri": "https://localhost:8080/"
        },
        "id": "EKPafu5cnzB3",
        "outputId": "6534af18-c51f-48c3-b41b-0605e91f652f"
      },
      "source": [
        "np.array([lim_min,lim_max]).reshape(-1,1)"
      ],
      "execution_count": 28,
      "outputs": [
        {
          "output_type": "execute_result",
          "data": {
            "text/plain": [
              "array([[ 0.42],\n",
              "       [80.  ]])"
            ]
          },
          "metadata": {
            "tags": []
          },
          "execution_count": 28
        }
      ]
    },
    {
      "cell_type": "code",
      "metadata": {
        "colab": {
          "base_uri": "https://localhost:8080/"
        },
        "id": "loGRti3vnexl",
        "outputId": "7fe07742-e869-4590-fa85-595250f6f188"
      },
      "source": [
        "mmscaler.fit(np.array([lim_min,lim_max]).reshape(-1,1))"
      ],
      "execution_count": 29,
      "outputs": [
        {
          "output_type": "execute_result",
          "data": {
            "text/plain": [
              "MinMaxScaler(copy=True, feature_range=(0, 1))"
            ]
          },
          "metadata": {
            "tags": []
          },
          "execution_count": 29
        }
      ]
    },
    {
      "cell_type": "code",
      "metadata": {
        "colab": {
          "base_uri": "https://localhost:8080/"
        },
        "id": "-naoLcHwnu8d",
        "outputId": "faaf0844-ce49-498c-cfec-0d33aa76620e"
      },
      "source": [
        "mmscaler.transform(data[[\"Age\"]])"
      ],
      "execution_count": 30,
      "outputs": [
        {
          "output_type": "execute_result",
          "data": {
            "text/plain": [
              "array([[0.27117366],\n",
              "       [0.4722292 ],\n",
              "       [0.32143755],\n",
              "       [0.43453129],\n",
              "       [0.43453129],\n",
              "       [0.30887158],\n",
              "       [0.67328474],\n",
              "       [0.01985423],\n",
              "       [0.33400352],\n",
              "       [0.17064589],\n",
              "       [0.04498618],\n",
              "       [0.72354863],\n",
              "       [0.24604172],\n",
              "       [0.48479517],\n",
              "       [0.17064589],\n",
              "       [0.68585072],\n",
              "       [0.01985423],\n",
              "       [0.24604172],\n",
              "       [0.3842674 ],\n",
              "       [0.19577783],\n",
              "       [0.43453129],\n",
              "       [0.42196532],\n",
              "       [0.18321186],\n",
              "       [0.34656949],\n",
              "       [0.09525006],\n",
              "       [0.4722292 ],\n",
              "       [0.37170143],\n",
              "       [0.23347575],\n",
              "       [0.50992712],\n",
              "       [0.3842674 ],\n",
              "       [0.49736115],\n",
              "       [0.4722292 ],\n",
              "       [0.18321186],\n",
              "       [0.8240764 ],\n",
              "       [0.34656949],\n",
              "       [0.52249309],\n",
              "       [0.49736115],\n",
              "       [0.25860769],\n",
              "       [0.22090978],\n",
              "       [0.17064589],\n",
              "       [0.49736115],\n",
              "       [0.33400352],\n",
              "       [0.42196532],\n",
              "       [0.03242021],\n",
              "       [0.23347575],\n",
              "       [0.39683338],\n",
              "       [0.25860769],\n",
              "       [0.42196532],\n",
              "       [0.2963056 ],\n",
              "       [0.22090978],\n",
              "       [0.08268409],\n",
              "       [0.25860769],\n",
              "       [0.61045489],\n",
              "       [0.35913546],\n",
              "       [0.81151043],\n",
              "       [0.34656949],\n",
              "       [0.25860769],\n",
              "       [0.35285248],\n",
              "       [0.05755215],\n",
              "       [0.13294798],\n",
              "       [0.27117366],\n",
              "       [0.4722292 ],\n",
              "       [0.560191  ],\n",
              "       [0.04498618],\n",
              "       [0.25860769],\n",
              "       [0.22090978],\n",
              "       [0.35913546],\n",
              "       [0.23347575],\n",
              "       [0.2083438 ],\n",
              "       [0.32143755],\n",
              "       [0.39683338],\n",
              "       [0.19577783],\n",
              "       [0.25860769],\n",
              "       [0.32143755],\n",
              "       [0.39683338],\n",
              "       [0.30887158],\n",
              "       [0.34656949],\n",
              "       [0.44709726],\n",
              "       [0.00515205],\n",
              "       [0.37170143],\n",
              "       [0.27117366],\n",
              "       [0.35913546],\n",
              "       [0.50992712],\n",
              "       [0.34656949],\n",
              "       [0.2083438 ],\n",
              "       [0.40939935],\n",
              "       [0.19577783],\n",
              "       [0.30887158],\n",
              "       [0.28373963],\n",
              "       [0.2963056 ],\n",
              "       [0.35913546],\n",
              "       [0.24604172],\n",
              "       [0.57275697],\n",
              "       [0.32143755],\n",
              "       [0.7361146 ],\n",
              "       [0.37170143],\n",
              "       [0.88690626],\n",
              "       [0.28373963],\n",
              "       [0.42196532],\n",
              "       [0.42196532],\n",
              "       [0.34656949],\n",
              "       [0.23347575],\n",
              "       [0.25860769],\n",
              "       [0.40939935],\n",
              "       [0.45966323],\n",
              "       [0.34656949],\n",
              "       [0.25860769],\n",
              "       [0.35913546],\n",
              "       [0.4722292 ],\n",
              "       [0.40939935],\n",
              "       [0.58532295],\n",
              "       [0.17692888],\n",
              "       [0.27117366],\n",
              "       [0.24604172],\n",
              "       [0.2083438 ],\n",
              "       [0.25860769],\n",
              "       [0.88062327],\n",
              "       [0.35913546],\n",
              "       [0.2963056 ],\n",
              "       [0.01985423],\n",
              "       [0.25860769],\n",
              "       [0.22090978],\n",
              "       [0.40311636],\n",
              "       [0.40311636],\n",
              "       [0.67328474],\n",
              "       [0.14551395],\n",
              "       [0.27117366],\n",
              "       [0.2963056 ],\n",
              "       [0.43453129],\n",
              "       [0.560191  ],\n",
              "       [0.40939935],\n",
              "       [0.24604172],\n",
              "       [0.58532295],\n",
              "       [0.35913546],\n",
              "       [0.30887158],\n",
              "       [0.28373963],\n",
              "       [0.23347575],\n",
              "       [0.45966323],\n",
              "       [0.19577783],\n",
              "       [0.2963056 ],\n",
              "       [0.27117366],\n",
              "       [0.27117366],\n",
              "       [0.2963056 ],\n",
              "       [0.23347575],\n",
              "       [0.22090978],\n",
              "       [0.23347575],\n",
              "       [0.33400352],\n",
              "       [0.10781603],\n",
              "       [0.45338025],\n",
              "       [0.52249309],\n",
              "       [0.63558683],\n",
              "       [0.27117366],\n",
              "       [0.6921337 ],\n",
              "       [0.50364413],\n",
              "       [0.28373963],\n",
              "       [0.63558683],\n",
              "       [0.19577783],\n",
              "       [0.37170143],\n",
              "       [0.50992712],\n",
              "       [0.18321186],\n",
              "       [0.54762503],\n",
              "       [0.49736115],\n",
              "       [0.32143755],\n",
              "       [0.2083438 ],\n",
              "       [0.00728826],\n",
              "       [0.10781603],\n",
              "       [0.23347575],\n",
              "       [0.560191  ],\n",
              "       [0.27117366],\n",
              "       [0.34656949],\n",
              "       [0.76124654],\n",
              "       [0.04498618],\n",
              "       [0.00728826],\n",
              "       [0.25860769],\n",
              "       [0.69841669],\n",
              "       [0.22090978],\n",
              "       [0.2963056 ],\n",
              "       [0.62302086],\n",
              "       [0.37170143],\n",
              "       [0.44709726],\n",
              "       [0.50992712],\n",
              "       [0.34656949],\n",
              "       [0.10781603],\n",
              "       [0.00728826],\n",
              "       [0.04498618],\n",
              "       [0.2963056 ],\n",
              "       [0.18321186],\n",
              "       [0.560191  ],\n",
              "       [0.49736115],\n",
              "       [0.44709726],\n",
              "       [0.39683338],\n",
              "       [0.23347575],\n",
              "       [0.23347575],\n",
              "       [0.03242021],\n",
              "       [0.54762503],\n",
              "       [0.72354863],\n",
              "       [0.33400352],\n",
              "       [0.52249309],\n",
              "       [0.35913546],\n",
              "       [0.2963056 ],\n",
              "       [0.34656949],\n",
              "       [0.34656949],\n",
              "       [0.42196532],\n",
              "       [0.56647399],\n",
              "       [0.22090978],\n",
              "       [0.01985423],\n",
              "       [0.39683338],\n",
              "       [0.32143755],\n",
              "       [0.19577783],\n",
              "       [0.49736115],\n",
              "       [0.2963056 ],\n",
              "       [0.43453129],\n",
              "       [0.27117366],\n",
              "       [0.37170143],\n",
              "       [0.3842674 ],\n",
              "       [0.3842674 ],\n",
              "       [0.33400352],\n",
              "       [0.52249309],\n",
              "       [0.39683338],\n",
              "       [0.37170143],\n",
              "       [0.19577783],\n",
              "       [0.33400352],\n",
              "       [0.63558683],\n",
              "       [0.45966323],\n",
              "       [0.4722292 ],\n",
              "       [0.27117366],\n",
              "       [0.23347575],\n",
              "       [0.2523247 ],\n",
              "       [0.22090978],\n",
              "       [0.42196532],\n",
              "       [0.43453129],\n",
              "       [0.35913546],\n",
              "       [0.7361146 ],\n",
              "       [0.05755215],\n",
              "       [0.2963056 ],\n",
              "       [0.44709726],\n",
              "       [0.54762503],\n",
              "       [0.09525006],\n",
              "       [0.23347575],\n",
              "       [0.40939935],\n",
              "       [0.19577783],\n",
              "       [0.19577783],\n",
              "       [0.35913546],\n",
              "       [0.27117366],\n",
              "       [0.37170143],\n",
              "       [0.54762503],\n",
              "       [0.30887158],\n",
              "       [0.2963056 ],\n",
              "       [0.45966323],\n",
              "       [0.67328474],\n",
              "       [0.52249309],\n",
              "       [0.35913546],\n",
              "       [0.77381252],\n",
              "       [0.37170143],\n",
              "       [0.50992712],\n",
              "       [0.35913546],\n",
              "       [0.32143755],\n",
              "       [0.37170143],\n",
              "       [0.43453129],\n",
              "       [0.62302086],\n",
              "       [0.37170143],\n",
              "       [0.03242021],\n",
              "       [0.6481528 ],\n",
              "       [0.49736115],\n",
              "       [0.32143755],\n",
              "       [0.44709726],\n",
              "       [0.19577783],\n",
              "       [0.30887158],\n",
              "       [0.72354863],\n",
              "       [0.43453129],\n",
              "       [0.44709726],\n",
              "       [0.30887158],\n",
              "       [0.50992712],\n",
              "       [0.45966323],\n",
              "       [0.44709726],\n",
              "       [0.78637849],\n",
              "       [0.560191  ],\n",
              "       [0.39683338],\n",
              "       [0.08268409],\n",
              "       [0.43453129],\n",
              "       [0.81151043],\n",
              "       [0.34656949],\n",
              "       [0.19577783],\n",
              "       [0.23347575],\n",
              "       [0.3842674 ],\n",
              "       [0.40939935],\n",
              "       [0.37170143],\n",
              "       [0.27117366],\n",
              "       [0.52249309],\n",
              "       [0.27117366],\n",
              "       [0.32143755],\n",
              "       [0.23347575],\n",
              "       [0.44709726],\n",
              "       [0.2963056 ],\n",
              "       [0.2963056 ],\n",
              "       [0.18321186],\n",
              "       [0.29002262],\n",
              "       [0.01985423],\n",
              "       [0.24604172],\n",
              "       [0.62302086],\n",
              "       [0.42196532],\n",
              "       [0.27117366],\n",
              "       [0.23347575],\n",
              "       [0.23347575],\n",
              "       [0.44709726],\n",
              "       [0.00628299],\n",
              "       [0.37170143],\n",
              "       [0.2083438 ],\n",
              "       [0.37170143],\n",
              "       [0.37170143],\n",
              "       [0.2963056 ],\n",
              "       [0.22090978],\n",
              "       [0.32143755],\n",
              "       [0.34656949],\n",
              "       [0.53505906],\n",
              "       [0.32143755],\n",
              "       [0.2963056 ],\n",
              "       [0.67328474],\n",
              "       [0.3842674 ],\n",
              "       [0.49736115],\n",
              "       [0.27117366],\n",
              "       [0.33400352],\n",
              "       [0.37170143],\n",
              "       [0.27117366],\n",
              "       [0.48479517],\n",
              "       [0.44709726],\n",
              "       [0.76124654],\n",
              "       [0.44709726],\n",
              "       [0.3842674 ],\n",
              "       [0.19577783],\n",
              "       [0.42196532],\n",
              "       [0.56647399],\n",
              "       [0.4722292 ],\n",
              "       [0.19577783],\n",
              "       [0.28373963],\n",
              "       [0.45966323],\n",
              "       [0.35913546],\n",
              "       [0.50992712],\n",
              "       [0.560191  ],\n",
              "       [0.560191  ],\n",
              "       [0.01985423],\n",
              "       [0.2963056 ],\n",
              "       [0.34656949],\n",
              "       [0.30887158],\n",
              "       [0.44709726],\n",
              "       [0.2963056 ],\n",
              "       [0.49736115],\n",
              "       [0.44709726],\n",
              "       [0.03242021],\n",
              "       [0.52249309],\n",
              "       [0.28373963],\n",
              "       [0.24604172],\n",
              "       [0.18321186],\n",
              "       [0.30887158],\n",
              "       [0.35913546],\n",
              "       [0.34656949],\n",
              "       [0.27117366],\n",
              "       [0.4722292 ],\n",
              "       [0.23347575],\n",
              "       [0.50992712],\n",
              "       [0.49736115],\n",
              "       [0.35913546],\n",
              "       [0.560191  ],\n",
              "       [0.43453129],\n",
              "       [0.37170143],\n",
              "       [0.37170143],\n",
              "       [0.74868057],\n",
              "       [0.28373963],\n",
              "       [0.19577783],\n",
              "       [0.2963056 ],\n",
              "       [0.30887158],\n",
              "       [0.22090978],\n",
              "       [0.23347575],\n",
              "       [0.27117366],\n",
              "       [0.03242021],\n",
              "       [0.19577783],\n",
              "       [0.27117366],\n",
              "       [0.33400352],\n",
              "       [0.24604172],\n",
              "       [0.23347575],\n",
              "       [0.52249309],\n",
              "       [0.00728826],\n",
              "       [0.39683338],\n",
              "       [0.43453129],\n",
              "       [0.52249309],\n",
              "       [0.22090978],\n",
              "       [0.00728826],\n",
              "       [0.44709726],\n",
              "       [0.37170143],\n",
              "       [0.2083438 ],\n",
              "       [0.44709726],\n",
              "       [0.25860769],\n",
              "       [0.34656949],\n",
              "       [0.28373963],\n",
              "       [0.2963056 ],\n",
              "       [0.27117366],\n",
              "       [0.3842674 ],\n",
              "       [0.57275697],\n",
              "       [0.28373963],\n",
              "       [0.34656949],\n",
              "       [0.48479517],\n",
              "       [0.32143755],\n",
              "       [0.25860769],\n",
              "       [0.34656949],\n",
              "       [0.24604172],\n",
              "       [0.42196532],\n",
              "       [0.63558683],\n",
              "       [0.03242021],\n",
              "       [0.25860769],\n",
              "       [0.34656949],\n",
              "       [0.2963056 ],\n",
              "       [0.44709726],\n",
              "       [0.40939935],\n",
              "       [0.48479517],\n",
              "       [0.54762503],\n",
              "       [0.25860769],\n",
              "       [0.42196532],\n",
              "       [0.22090978],\n",
              "       [0.37170143],\n",
              "       [0.12038201],\n",
              "       [0.32143755],\n",
              "       [0.25860769],\n",
              "       [0.35913546],\n",
              "       [0.34656949],\n",
              "       [0.22090978],\n",
              "       [0.43453129],\n",
              "       [0.34656949],\n",
              "       [0.23347575],\n",
              "       [0.40939935],\n",
              "       [0.39683338],\n",
              "       [0.34656949],\n",
              "       [0.2963056 ],\n",
              "       [0.52249309],\n",
              "       [0.2083438 ],\n",
              "       [0.62302086],\n",
              "       [0.17064589],\n",
              "       [0.25860769],\n",
              "       [0.2963056 ],\n",
              "       [0.79894446],\n",
              "       [0.3842674 ],\n",
              "       [0.560191  ],\n",
              "       [0.24604172],\n",
              "       [0.30887158],\n",
              "       [0.34656949],\n",
              "       [0.50992712],\n",
              "       [0.04498618],\n",
              "       [0.15807992],\n",
              "       [0.42196532],\n",
              "       [0.05755215],\n",
              "       [0.6481528 ],\n",
              "       [0.44709726],\n",
              "       [0.23347575],\n",
              "       [0.37170143],\n",
              "       [0.61045489],\n",
              "       [0.52249309],\n",
              "       [0.35913546],\n",
              "       [0.81151043],\n",
              "       [0.33400352],\n",
              "       [0.62302086],\n",
              "       [0.24604172],\n",
              "       [0.59788892],\n",
              "       [0.42196532],\n",
              "       [0.58532295],\n",
              "       [0.59788892],\n",
              "       [0.4722292 ],\n",
              "       [0.4722292 ],\n",
              "       [0.50992712],\n",
              "       [0.69841669],\n",
              "       [0.50992712],\n",
              "       [0.00414677],\n",
              "       [0.24604172],\n",
              "       [0.4722292 ],\n",
              "       [0.40939935],\n",
              "       [0.28373963],\n",
              "       [0.27117366],\n",
              "       [0.40939935],\n",
              "       [0.42196532],\n",
              "       [0.35913546],\n",
              "       [0.27117366],\n",
              "       [0.01985423],\n",
              "       [0.10781603],\n",
              "       [0.45966323],\n",
              "       [0.62302086],\n",
              "       [0.78637849],\n",
              "       [0.30887158],\n",
              "       [0.37170143],\n",
              "       [0.43453129],\n",
              "       [0.72354863],\n",
              "       [0.37170143],\n",
              "       [0.10781603],\n",
              "       [0.37170143],\n",
              "       [0.25860769],\n",
              "       [0.68585072],\n",
              "       [0.88690626],\n",
              "       [0.25860769],\n",
              "       [0.45966323],\n",
              "       [0.67328474],\n",
              "       [0.2083438 ],\n",
              "       [0.30887158],\n",
              "       [0.2963056 ],\n",
              "       [0.2083438 ],\n",
              "       [0.25860769],\n",
              "       [0.32143755],\n",
              "       [0.45966323],\n",
              "       [0.19577783],\n",
              "       [0.22090978],\n",
              "       [0.40939935],\n",
              "       [0.2083438 ],\n",
              "       [0.34656949],\n",
              "       [0.32143755],\n",
              "       [0.35913546],\n",
              "       [0.28373963],\n",
              "       [0.44709726],\n",
              "       [0.67328474],\n",
              "       [0.2963056 ],\n",
              "       [0.58532295],\n",
              "       [0.42196532],\n",
              "       [0.25860769],\n",
              "       [0.44709726],\n",
              "       [0.39683338],\n",
              "       [0.37170143],\n",
              "       [0.27117366],\n",
              "       [0.19577783],\n",
              "       [0.54762503],\n",
              "       [0.42196532],\n",
              "       [0.50364413],\n",
              "       [0.62302086],\n",
              "       [0.28373963],\n",
              "       [0.48479517],\n",
              "       [0.28373963],\n",
              "       [0.01985423],\n",
              "       [0.43453129],\n",
              "       [0.2083438 ],\n",
              "       [0.40939935],\n",
              "       [0.37170143],\n",
              "       [0.08268409],\n",
              "       [0.560191  ],\n",
              "       [0.37170143],\n",
              "       [0.49736115],\n",
              "       [0.27117366],\n",
              "       [0.44709726],\n",
              "       [0.10781603],\n",
              "       [0.13294798],\n",
              "       [0.39683338],\n",
              "       [0.62302086],\n",
              "       [0.79894446],\n",
              "       [0.23347575],\n",
              "       [0.49736115],\n",
              "       [0.40939935],\n",
              "       [0.09525006],\n",
              "       [0.2083438 ],\n",
              "       [0.33400352],\n",
              "       [0.44709726],\n",
              "       [0.27117366],\n",
              "       [0.27117366],\n",
              "       [0.77381252],\n",
              "       [0.59788892],\n",
              "       [0.30887158],\n",
              "       [0.48479517],\n",
              "       [0.44709726],\n",
              "       [0.39683338],\n",
              "       [0.49736115],\n",
              "       [0.34656949],\n",
              "       [0.27117366],\n",
              "       [0.19577783],\n",
              "       [0.2963056 ],\n",
              "       [0.23347575],\n",
              "       [0.35913546],\n",
              "       [0.28373963],\n",
              "       [0.39683338],\n",
              "       [0.77381252],\n",
              "       [0.66071877],\n",
              "       [0.44709726],\n",
              "       [0.43453129],\n",
              "       [0.19577783],\n",
              "       [0.23347575],\n",
              "       [0.42196532],\n",
              "       [0.48479517],\n",
              "       [0.3842674 ],\n",
              "       [0.39683338],\n",
              "       [0.30887158],\n",
              "       [0.48479517],\n",
              "       [0.67328474],\n",
              "       [0.44709726],\n",
              "       [0.23347575],\n",
              "       [0.22090978],\n",
              "       [0.58532295],\n",
              "       [0.74868057],\n",
              "       [0.27117366],\n",
              "       [0.30887158],\n",
              "       [0.43453129],\n",
              "       [0.6481528 ],\n",
              "       [0.58532295],\n",
              "       [0.49736115],\n",
              "       [0.45966323],\n",
              "       [0.44709726],\n",
              "       [0.50992712],\n",
              "       [0.61045489],\n",
              "       [0.44709726],\n",
              "       [0.61045489],\n",
              "       [0.2963056 ],\n",
              "       [0.37170143],\n",
              "       [0.18321186],\n",
              "       [0.54762503],\n",
              "       [0.43453129],\n",
              "       [0.44709726],\n",
              "       [0.37170143],\n",
              "       [0.33400352],\n",
              "       [0.27117366],\n",
              "       [0.49736115],\n",
              "       [0.48479517],\n",
              "       [0.25860769],\n",
              "       [0.4722292 ],\n",
              "       [0.23347575],\n",
              "       [0.43453129],\n",
              "       [0.2963056 ],\n",
              "       [0.42196532],\n",
              "       [0.32143755],\n",
              "       [0.04498618],\n",
              "       [0.32143755],\n",
              "       [0.33400352],\n",
              "       [0.52249309],\n",
              "       [0.24604172],\n",
              "       [0.25860769],\n",
              "       [0.25860769],\n",
              "       [0.76124654],\n",
              "       [0.71098266],\n",
              "       [0.25860769],\n",
              "       [0.32143755],\n",
              "       [0.33400352],\n",
              "       [1.        ],\n",
              "       [0.63558683],\n",
              "       [0.39683338],\n",
              "       [0.24604172],\n",
              "       [0.10781603],\n",
              "       [0.34656949],\n",
              "       [0.39683338],\n",
              "       [0.3842674 ],\n",
              "       [0.50992712],\n",
              "       [0.32143755],\n",
              "       [0.24604172],\n",
              "       [0.2963056 ],\n",
              "       [0.01985423],\n",
              "       [0.27117366],\n",
              "       [0.00414677],\n",
              "       [0.59788892],\n",
              "       [0.23347575],\n",
              "       [0.69841669],\n",
              "       [0.49736115],\n",
              "       [0.28373963],\n",
              "       [0.27117366],\n",
              "       [0.22090978],\n",
              "       [0.25860769],\n",
              "       [0.19577783],\n",
              "       [0.22090978],\n",
              "       [0.2963056 ],\n",
              "       [0.27117366],\n",
              "       [0.39683338],\n",
              "       [0.28373963],\n",
              "       [0.72354863],\n",
              "       [0.62302086],\n",
              "       [0.49736115],\n",
              "       [0.58532295],\n",
              "       [0.44709726],\n",
              "       [0.24604172],\n",
              "       [0.39683338],\n",
              "       [0.30887158],\n",
              "       [0.48479517],\n",
              "       [0.53505906],\n",
              "       [0.44709726],\n",
              "       [0.49736115],\n",
              "       [0.3842674 ],\n",
              "       [0.87434029],\n",
              "       [0.3842674 ],\n",
              "       [0.3842674 ],\n",
              "       [0.22090978],\n",
              "       [0.30258859],\n",
              "       [0.22090978],\n",
              "       [0.53505906],\n",
              "       [0.44709726],\n",
              "       [0.18321186],\n",
              "       [0.33400352],\n",
              "       [0.24604172],\n",
              "       [0.17064589],\n",
              "       [0.74868057],\n",
              "       [0.30887158],\n",
              "       [0.17064589],\n",
              "       [0.23347575],\n",
              "       [0.22090978],\n",
              "       [0.18321186],\n",
              "       [0.3842674 ],\n",
              "       [0.04498618],\n",
              "       [0.49736115],\n",
              "       [0.30887158],\n",
              "       [0.74868057],\n",
              "       [0.6481528 ],\n",
              "       [0.54762503],\n",
              "       [0.2083438 ],\n",
              "       [0.61045489],\n",
              "       [0.52249309],\n",
              "       [0.22090978],\n",
              "       [0.43453129],\n",
              "       [0.22090978],\n",
              "       [0.30887158],\n",
              "       [0.32143755],\n",
              "       [0.48479517],\n",
              "       [0.560191  ],\n",
              "       [0.52249309],\n",
              "       [0.27117366],\n",
              "       [0.44709726],\n",
              "       [0.2963056 ],\n",
              "       [0.19577783],\n",
              "       [0.59788892],\n",
              "       [0.35913546],\n",
              "       [0.6481528 ],\n",
              "       [0.23347575],\n",
              "       [0.4722292 ],\n",
              "       [0.33400352],\n",
              "       [0.53505906],\n",
              "       [0.40939935],\n",
              "       [0.07011812],\n",
              "       [0.2083438 ],\n",
              "       [0.42196532],\n",
              "       [0.62302086],\n",
              "       [0.33400352],\n",
              "       [0.24604172],\n",
              "       [0.37170143],\n",
              "       [0.44709726],\n",
              "       [0.30887158],\n",
              "       [0.30887158],\n",
              "       [0.35913546],\n",
              "       [0.13294798],\n",
              "       [0.40939935],\n",
              "       [0.28373963],\n",
              "       [0.28373963],\n",
              "       [0.35285248],\n",
              "       [0.59788892],\n",
              "       [0.43453129],\n",
              "       [0.35913546],\n",
              "       [0.2963056 ],\n",
              "       [0.42196532],\n",
              "       [0.44709726],\n",
              "       [0.25860769],\n",
              "       [0.2963056 ],\n",
              "       [0.3842674 ],\n",
              "       [0.87434029],\n",
              "       [0.19577783],\n",
              "       [0.37170143],\n",
              "       [0.23347575],\n",
              "       [0.3842674 ],\n",
              "       [0.04498618],\n",
              "       [0.07011812],\n",
              "       [0.40939935],\n",
              "       [0.28373963],\n",
              "       [0.59788892],\n",
              "       [0.00314149],\n",
              "       [0.34656949],\n",
              "       [0.22090978],\n",
              "       [0.42196532],\n",
              "       [0.40939935],\n",
              "       [0.27117366],\n",
              "       [0.50992712],\n",
              "       [0.24604172],\n",
              "       [0.44709726],\n",
              "       [0.19577783],\n",
              "       [0.63558683],\n",
              "       [0.22090978],\n",
              "       [0.37798442],\n",
              "       [0.28373963],\n",
              "       [0.39683338],\n",
              "       [0.2963056 ],\n",
              "       [0.59788892],\n",
              "       [0.71098266],\n",
              "       [0.28373963],\n",
              "       [0.67328474],\n",
              "       [0.22090978],\n",
              "       [0.37170143],\n",
              "       [0.05755215],\n",
              "       [0.27117366],\n",
              "       [0.53505906],\n",
              "       [0.15807992],\n",
              "       [0.2083438 ],\n",
              "       [0.35913546],\n",
              "       [0.33400352],\n",
              "       [0.30887158],\n",
              "       [0.30887158],\n",
              "       [0.22090978],\n",
              "       [0.09525006],\n",
              "       [0.00728826],\n",
              "       [0.57275697],\n",
              "       [0.52249309],\n",
              "       [0.19577783],\n",
              "       [0.49736115],\n",
              "       [0.35913546],\n",
              "       [0.30887158],\n",
              "       [0.48479517],\n",
              "       [0.61045489],\n",
              "       [0.3842674 ],\n",
              "       [0.37170143],\n",
              "       [0.37170143],\n",
              "       [0.42196532],\n",
              "       [0.3842674 ],\n",
              "       [0.13294798],\n",
              "       [0.        ],\n",
              "       [0.33400352],\n",
              "       [0.3842674 ],\n",
              "       [0.48479517],\n",
              "       [0.22090978],\n",
              "       [0.48479517],\n",
              "       [0.40939935],\n",
              "       [0.32143755],\n",
              "       [0.48479517],\n",
              "       [0.43453129],\n",
              "       [0.07011812],\n",
              "       [0.37798442],\n",
              "       [0.23347575],\n",
              "       [0.28373963],\n",
              "       [0.3842674 ],\n",
              "       [0.53505906],\n",
              "       [0.12038201],\n",
              "       [0.6481528 ],\n",
              "       [0.33400352],\n",
              "       [0.4722292 ],\n",
              "       [0.33400352],\n",
              "       [0.01985423],\n",
              "       [0.44709726],\n",
              "       [0.18321186],\n",
              "       [0.00728826],\n",
              "       [0.50992712],\n",
              "       [0.77381252],\n",
              "       [0.18321186],\n",
              "       [0.00515205],\n",
              "       [0.50992712],\n",
              "       [0.28373963],\n",
              "       [0.22090978],\n",
              "       [0.48479517],\n",
              "       [0.25860769],\n",
              "       [0.33400352],\n",
              "       [0.39683338],\n",
              "       [0.4722292 ],\n",
              "       [0.24604172],\n",
              "       [0.19577783],\n",
              "       [0.37170143],\n",
              "       [0.4282483 ],\n",
              "       [0.2083438 ],\n",
              "       [0.52249309],\n",
              "       [0.42196532],\n",
              "       [0.43453129],\n",
              "       [0.34656949],\n",
              "       [0.40939935],\n",
              "       [0.04498618],\n",
              "       [0.92460417],\n",
              "       [0.10781603],\n",
              "       [0.19577783],\n",
              "       [0.54762503],\n",
              "       [0.22090978],\n",
              "       [0.560191  ],\n",
              "       [0.63558683],\n",
              "       [0.2963056 ],\n",
              "       [0.30887158],\n",
              "       [0.50992712],\n",
              "       [0.25860769],\n",
              "       [0.59788892],\n",
              "       [0.52249309],\n",
              "       [0.2963056 ],\n",
              "       [0.52249309],\n",
              "       [0.33400352],\n",
              "       [0.3842674 ],\n",
              "       [0.37170143],\n",
              "       [0.04498618],\n",
              "       [0.32143755],\n",
              "       [0.58532295],\n",
              "       [0.40939935],\n",
              "       [0.58532295],\n",
              "       [0.34656949],\n",
              "       [0.18321186],\n",
              "       [0.24604172],\n",
              "       [0.23347575],\n",
              "       [0.45966323],\n",
              "       [0.69841669],\n",
              "       [0.30887158],\n",
              "       [0.40939935],\n",
              "       [0.27117366],\n",
              "       [0.34656949],\n",
              "       [0.30887158],\n",
              "       [0.48479517],\n",
              "       [0.33400352],\n",
              "       [0.23347575],\n",
              "       [0.18321186],\n",
              "       [0.32143755],\n",
              "       [0.39683338]])"
            ]
          },
          "metadata": {
            "tags": []
          },
          "execution_count": 30
        }
      ]
    },
    {
      "cell_type": "code",
      "metadata": {
        "id": "v1qJBjypocn4"
      },
      "source": [
        "from sklearn.preprocessing import StandardScaler"
      ],
      "execution_count": 31,
      "outputs": []
    },
    {
      "cell_type": "code",
      "metadata": {
        "id": "pVFagjqDo0W5"
      },
      "source": [
        "ss = StandardScaler()"
      ],
      "execution_count": 32,
      "outputs": []
    },
    {
      "cell_type": "code",
      "metadata": {
        "colab": {
          "base_uri": "https://localhost:8080/"
        },
        "id": "lGKgvH2fo10J",
        "outputId": "348c66da-bee1-4420-c2b8-f2c4a5754ccf"
      },
      "source": [
        "ss.fit_transform(data[[\"Age\"]]).std()"
      ],
      "execution_count": 33,
      "outputs": [
        {
          "output_type": "execute_result",
          "data": {
            "text/plain": [
              "0.9999999999999999"
            ]
          },
          "metadata": {
            "tags": []
          },
          "execution_count": 33
        }
      ]
    },
    {
      "cell_type": "code",
      "metadata": {
        "id": "MpRoqBzuo5RN"
      },
      "source": [
        "df_wine = pd.read_csv(\"/content/drive/MyDrive/Machine Learning Training/wine.csv のコピー\")"
      ],
      "execution_count": 34,
      "outputs": []
    },
    {
      "cell_type": "code",
      "metadata": {
        "colab": {
          "base_uri": "https://localhost:8080/",
          "height": 258
        },
        "id": "iVUmTowGNfz7",
        "outputId": "94ae47b8-d187-4bad-a9c9-68d8e05a36e8"
      },
      "source": [
        "df_wine.head()"
      ],
      "execution_count": 35,
      "outputs": [
        {
          "output_type": "execute_result",
          "data": {
            "text/html": [
              "<div>\n",
              "<style scoped>\n",
              "    .dataframe tbody tr th:only-of-type {\n",
              "        vertical-align: middle;\n",
              "    }\n",
              "\n",
              "    .dataframe tbody tr th {\n",
              "        vertical-align: top;\n",
              "    }\n",
              "\n",
              "    .dataframe thead th {\n",
              "        text-align: right;\n",
              "    }\n",
              "</style>\n",
              "<table border=\"1\" class=\"dataframe\">\n",
              "  <thead>\n",
              "    <tr style=\"text-align: right;\">\n",
              "      <th></th>\n",
              "      <th>class</th>\n",
              "      <th>Alcohol</th>\n",
              "      <th>Malic acid</th>\n",
              "      <th>Ash</th>\n",
              "      <th>Alcalinity of ash</th>\n",
              "      <th>Magnesium</th>\n",
              "      <th>Total phenols</th>\n",
              "      <th>Flavanoids</th>\n",
              "      <th>Nonflavanoid phenols</th>\n",
              "      <th>Proanthocyanins</th>\n",
              "      <th>Color intensity</th>\n",
              "      <th>Hue</th>\n",
              "      <th>OD280/OD315 of diluted wines</th>\n",
              "      <th>Proline</th>\n",
              "    </tr>\n",
              "  </thead>\n",
              "  <tbody>\n",
              "    <tr>\n",
              "      <th>0</th>\n",
              "      <td>1</td>\n",
              "      <td>14.23</td>\n",
              "      <td>1.71</td>\n",
              "      <td>2.43</td>\n",
              "      <td>15.6</td>\n",
              "      <td>127</td>\n",
              "      <td>2.80</td>\n",
              "      <td>3.06</td>\n",
              "      <td>0.28</td>\n",
              "      <td>2.29</td>\n",
              "      <td>5.64</td>\n",
              "      <td>1.04</td>\n",
              "      <td>3.92</td>\n",
              "      <td>1065</td>\n",
              "    </tr>\n",
              "    <tr>\n",
              "      <th>1</th>\n",
              "      <td>1</td>\n",
              "      <td>13.20</td>\n",
              "      <td>1.78</td>\n",
              "      <td>2.14</td>\n",
              "      <td>11.2</td>\n",
              "      <td>100</td>\n",
              "      <td>2.65</td>\n",
              "      <td>2.76</td>\n",
              "      <td>0.26</td>\n",
              "      <td>1.28</td>\n",
              "      <td>4.38</td>\n",
              "      <td>1.05</td>\n",
              "      <td>3.40</td>\n",
              "      <td>1050</td>\n",
              "    </tr>\n",
              "    <tr>\n",
              "      <th>2</th>\n",
              "      <td>1</td>\n",
              "      <td>13.16</td>\n",
              "      <td>2.36</td>\n",
              "      <td>2.67</td>\n",
              "      <td>18.6</td>\n",
              "      <td>101</td>\n",
              "      <td>2.80</td>\n",
              "      <td>3.24</td>\n",
              "      <td>0.30</td>\n",
              "      <td>2.81</td>\n",
              "      <td>5.68</td>\n",
              "      <td>1.03</td>\n",
              "      <td>3.17</td>\n",
              "      <td>1185</td>\n",
              "    </tr>\n",
              "    <tr>\n",
              "      <th>3</th>\n",
              "      <td>1</td>\n",
              "      <td>14.37</td>\n",
              "      <td>1.95</td>\n",
              "      <td>2.50</td>\n",
              "      <td>16.8</td>\n",
              "      <td>113</td>\n",
              "      <td>3.85</td>\n",
              "      <td>3.49</td>\n",
              "      <td>0.24</td>\n",
              "      <td>2.18</td>\n",
              "      <td>7.80</td>\n",
              "      <td>0.86</td>\n",
              "      <td>3.45</td>\n",
              "      <td>1480</td>\n",
              "    </tr>\n",
              "    <tr>\n",
              "      <th>4</th>\n",
              "      <td>1</td>\n",
              "      <td>13.24</td>\n",
              "      <td>2.59</td>\n",
              "      <td>2.87</td>\n",
              "      <td>21.0</td>\n",
              "      <td>118</td>\n",
              "      <td>2.80</td>\n",
              "      <td>2.69</td>\n",
              "      <td>0.39</td>\n",
              "      <td>1.82</td>\n",
              "      <td>4.32</td>\n",
              "      <td>1.04</td>\n",
              "      <td>2.93</td>\n",
              "      <td>735</td>\n",
              "    </tr>\n",
              "  </tbody>\n",
              "</table>\n",
              "</div>"
            ],
            "text/plain": [
              "   class  Alcohol  Malic acid  ...   Hue  OD280/OD315 of diluted wines  Proline\n",
              "0      1    14.23        1.71  ...  1.04                          3.92     1065\n",
              "1      1    13.20        1.78  ...  1.05                          3.40     1050\n",
              "2      1    13.16        2.36  ...  1.03                          3.17     1185\n",
              "3      1    14.37        1.95  ...  0.86                          3.45     1480\n",
              "4      1    13.24        2.59  ...  1.04                          2.93      735\n",
              "\n",
              "[5 rows x 14 columns]"
            ]
          },
          "metadata": {
            "tags": []
          },
          "execution_count": 35
        }
      ]
    },
    {
      "cell_type": "code",
      "metadata": {
        "colab": {
          "base_uri": "https://localhost:8080/",
          "height": 473
        },
        "id": "cHSHVyUCNk97",
        "outputId": "cd399d9c-069f-442a-82f1-4fc7b1d945a1"
      },
      "source": [
        "df_wine.iloc[:,1:]"
      ],
      "execution_count": 36,
      "outputs": [
        {
          "output_type": "execute_result",
          "data": {
            "text/html": [
              "<div>\n",
              "<style scoped>\n",
              "    .dataframe tbody tr th:only-of-type {\n",
              "        vertical-align: middle;\n",
              "    }\n",
              "\n",
              "    .dataframe tbody tr th {\n",
              "        vertical-align: top;\n",
              "    }\n",
              "\n",
              "    .dataframe thead th {\n",
              "        text-align: right;\n",
              "    }\n",
              "</style>\n",
              "<table border=\"1\" class=\"dataframe\">\n",
              "  <thead>\n",
              "    <tr style=\"text-align: right;\">\n",
              "      <th></th>\n",
              "      <th>Alcohol</th>\n",
              "      <th>Malic acid</th>\n",
              "      <th>Ash</th>\n",
              "      <th>Alcalinity of ash</th>\n",
              "      <th>Magnesium</th>\n",
              "      <th>Total phenols</th>\n",
              "      <th>Flavanoids</th>\n",
              "      <th>Nonflavanoid phenols</th>\n",
              "      <th>Proanthocyanins</th>\n",
              "      <th>Color intensity</th>\n",
              "      <th>Hue</th>\n",
              "      <th>OD280/OD315 of diluted wines</th>\n",
              "      <th>Proline</th>\n",
              "    </tr>\n",
              "  </thead>\n",
              "  <tbody>\n",
              "    <tr>\n",
              "      <th>0</th>\n",
              "      <td>14.23</td>\n",
              "      <td>1.71</td>\n",
              "      <td>2.43</td>\n",
              "      <td>15.6</td>\n",
              "      <td>127</td>\n",
              "      <td>2.80</td>\n",
              "      <td>3.06</td>\n",
              "      <td>0.28</td>\n",
              "      <td>2.29</td>\n",
              "      <td>5.64</td>\n",
              "      <td>1.04</td>\n",
              "      <td>3.92</td>\n",
              "      <td>1065</td>\n",
              "    </tr>\n",
              "    <tr>\n",
              "      <th>1</th>\n",
              "      <td>13.20</td>\n",
              "      <td>1.78</td>\n",
              "      <td>2.14</td>\n",
              "      <td>11.2</td>\n",
              "      <td>100</td>\n",
              "      <td>2.65</td>\n",
              "      <td>2.76</td>\n",
              "      <td>0.26</td>\n",
              "      <td>1.28</td>\n",
              "      <td>4.38</td>\n",
              "      <td>1.05</td>\n",
              "      <td>3.40</td>\n",
              "      <td>1050</td>\n",
              "    </tr>\n",
              "    <tr>\n",
              "      <th>2</th>\n",
              "      <td>13.16</td>\n",
              "      <td>2.36</td>\n",
              "      <td>2.67</td>\n",
              "      <td>18.6</td>\n",
              "      <td>101</td>\n",
              "      <td>2.80</td>\n",
              "      <td>3.24</td>\n",
              "      <td>0.30</td>\n",
              "      <td>2.81</td>\n",
              "      <td>5.68</td>\n",
              "      <td>1.03</td>\n",
              "      <td>3.17</td>\n",
              "      <td>1185</td>\n",
              "    </tr>\n",
              "    <tr>\n",
              "      <th>3</th>\n",
              "      <td>14.37</td>\n",
              "      <td>1.95</td>\n",
              "      <td>2.50</td>\n",
              "      <td>16.8</td>\n",
              "      <td>113</td>\n",
              "      <td>3.85</td>\n",
              "      <td>3.49</td>\n",
              "      <td>0.24</td>\n",
              "      <td>2.18</td>\n",
              "      <td>7.80</td>\n",
              "      <td>0.86</td>\n",
              "      <td>3.45</td>\n",
              "      <td>1480</td>\n",
              "    </tr>\n",
              "    <tr>\n",
              "      <th>4</th>\n",
              "      <td>13.24</td>\n",
              "      <td>2.59</td>\n",
              "      <td>2.87</td>\n",
              "      <td>21.0</td>\n",
              "      <td>118</td>\n",
              "      <td>2.80</td>\n",
              "      <td>2.69</td>\n",
              "      <td>0.39</td>\n",
              "      <td>1.82</td>\n",
              "      <td>4.32</td>\n",
              "      <td>1.04</td>\n",
              "      <td>2.93</td>\n",
              "      <td>735</td>\n",
              "    </tr>\n",
              "    <tr>\n",
              "      <th>...</th>\n",
              "      <td>...</td>\n",
              "      <td>...</td>\n",
              "      <td>...</td>\n",
              "      <td>...</td>\n",
              "      <td>...</td>\n",
              "      <td>...</td>\n",
              "      <td>...</td>\n",
              "      <td>...</td>\n",
              "      <td>...</td>\n",
              "      <td>...</td>\n",
              "      <td>...</td>\n",
              "      <td>...</td>\n",
              "      <td>...</td>\n",
              "    </tr>\n",
              "    <tr>\n",
              "      <th>173</th>\n",
              "      <td>13.71</td>\n",
              "      <td>5.65</td>\n",
              "      <td>2.45</td>\n",
              "      <td>20.5</td>\n",
              "      <td>95</td>\n",
              "      <td>1.68</td>\n",
              "      <td>0.61</td>\n",
              "      <td>0.52</td>\n",
              "      <td>1.06</td>\n",
              "      <td>7.70</td>\n",
              "      <td>0.64</td>\n",
              "      <td>1.74</td>\n",
              "      <td>740</td>\n",
              "    </tr>\n",
              "    <tr>\n",
              "      <th>174</th>\n",
              "      <td>13.40</td>\n",
              "      <td>3.91</td>\n",
              "      <td>2.48</td>\n",
              "      <td>23.0</td>\n",
              "      <td>102</td>\n",
              "      <td>1.80</td>\n",
              "      <td>0.75</td>\n",
              "      <td>0.43</td>\n",
              "      <td>1.41</td>\n",
              "      <td>7.30</td>\n",
              "      <td>0.70</td>\n",
              "      <td>1.56</td>\n",
              "      <td>750</td>\n",
              "    </tr>\n",
              "    <tr>\n",
              "      <th>175</th>\n",
              "      <td>13.27</td>\n",
              "      <td>4.28</td>\n",
              "      <td>2.26</td>\n",
              "      <td>20.0</td>\n",
              "      <td>120</td>\n",
              "      <td>1.59</td>\n",
              "      <td>0.69</td>\n",
              "      <td>0.43</td>\n",
              "      <td>1.35</td>\n",
              "      <td>10.20</td>\n",
              "      <td>0.59</td>\n",
              "      <td>1.56</td>\n",
              "      <td>835</td>\n",
              "    </tr>\n",
              "    <tr>\n",
              "      <th>176</th>\n",
              "      <td>13.17</td>\n",
              "      <td>2.59</td>\n",
              "      <td>2.37</td>\n",
              "      <td>20.0</td>\n",
              "      <td>120</td>\n",
              "      <td>1.65</td>\n",
              "      <td>0.68</td>\n",
              "      <td>0.53</td>\n",
              "      <td>1.46</td>\n",
              "      <td>9.30</td>\n",
              "      <td>0.60</td>\n",
              "      <td>1.62</td>\n",
              "      <td>840</td>\n",
              "    </tr>\n",
              "    <tr>\n",
              "      <th>177</th>\n",
              "      <td>14.13</td>\n",
              "      <td>4.10</td>\n",
              "      <td>2.74</td>\n",
              "      <td>24.5</td>\n",
              "      <td>96</td>\n",
              "      <td>2.05</td>\n",
              "      <td>0.76</td>\n",
              "      <td>0.56</td>\n",
              "      <td>1.35</td>\n",
              "      <td>9.20</td>\n",
              "      <td>0.61</td>\n",
              "      <td>1.60</td>\n",
              "      <td>560</td>\n",
              "    </tr>\n",
              "  </tbody>\n",
              "</table>\n",
              "<p>178 rows × 13 columns</p>\n",
              "</div>"
            ],
            "text/plain": [
              "     Alcohol  Malic acid   Ash  ...   Hue  OD280/OD315 of diluted wines  Proline\n",
              "0      14.23        1.71  2.43  ...  1.04                          3.92     1065\n",
              "1      13.20        1.78  2.14  ...  1.05                          3.40     1050\n",
              "2      13.16        2.36  2.67  ...  1.03                          3.17     1185\n",
              "3      14.37        1.95  2.50  ...  0.86                          3.45     1480\n",
              "4      13.24        2.59  2.87  ...  1.04                          2.93      735\n",
              "..       ...         ...   ...  ...   ...                           ...      ...\n",
              "173    13.71        5.65  2.45  ...  0.64                          1.74      740\n",
              "174    13.40        3.91  2.48  ...  0.70                          1.56      750\n",
              "175    13.27        4.28  2.26  ...  0.59                          1.56      835\n",
              "176    13.17        2.59  2.37  ...  0.60                          1.62      840\n",
              "177    14.13        4.10  2.74  ...  0.61                          1.60      560\n",
              "\n",
              "[178 rows x 13 columns]"
            ]
          },
          "metadata": {
            "tags": []
          },
          "execution_count": 36
        }
      ]
    },
    {
      "cell_type": "code",
      "metadata": {
        "id": "sCcSaLxXN2qm"
      },
      "source": [
        "_dfs = ss.fit_transform(df_wine.iloc[:,1:])"
      ],
      "execution_count": 37,
      "outputs": []
    },
    {
      "cell_type": "code",
      "metadata": {
        "colab": {
          "base_uri": "https://localhost:8080/"
        },
        "id": "nRI1R7vkOHqg",
        "outputId": "971ab891-e56f-4676-9789-e77a5c0818ac"
      },
      "source": [
        "_dfs"
      ],
      "execution_count": 38,
      "outputs": [
        {
          "output_type": "execute_result",
          "data": {
            "text/plain": [
              "array([[ 1.51861254, -0.5622498 ,  0.23205254, ...,  0.36217728,\n",
              "         1.84791957,  1.01300893],\n",
              "       [ 0.24628963, -0.49941338, -0.82799632, ...,  0.40605066,\n",
              "         1.1134493 ,  0.96524152],\n",
              "       [ 0.19687903,  0.02123125,  1.10933436, ...,  0.31830389,\n",
              "         0.78858745,  1.39514818],\n",
              "       ...,\n",
              "       [ 0.33275817,  1.74474449, -0.38935541, ..., -1.61212515,\n",
              "        -1.48544548,  0.28057537],\n",
              "       [ 0.20923168,  0.22769377,  0.01273209, ..., -1.56825176,\n",
              "        -1.40069891,  0.29649784],\n",
              "       [ 1.39508604,  1.58316512,  1.36520822, ..., -1.52437837,\n",
              "        -1.42894777, -0.59516041]])"
            ]
          },
          "metadata": {
            "tags": []
          },
          "execution_count": 38
        }
      ]
    },
    {
      "cell_type": "code",
      "metadata": {
        "id": "AI7w7KfUOPbr"
      },
      "source": [
        "dfs = pd.DataFrame(_dfs,columns=df_wine.columns[1:])"
      ],
      "execution_count": 39,
      "outputs": []
    },
    {
      "cell_type": "code",
      "metadata": {
        "colab": {
          "base_uri": "https://localhost:8080/",
          "height": 258
        },
        "id": "Lst5ubMmOYC8",
        "outputId": "a50b0b11-2672-4981-9b9b-63fdccf6d25a"
      },
      "source": [
        "dfs.head()"
      ],
      "execution_count": 40,
      "outputs": [
        {
          "output_type": "execute_result",
          "data": {
            "text/html": [
              "<div>\n",
              "<style scoped>\n",
              "    .dataframe tbody tr th:only-of-type {\n",
              "        vertical-align: middle;\n",
              "    }\n",
              "\n",
              "    .dataframe tbody tr th {\n",
              "        vertical-align: top;\n",
              "    }\n",
              "\n",
              "    .dataframe thead th {\n",
              "        text-align: right;\n",
              "    }\n",
              "</style>\n",
              "<table border=\"1\" class=\"dataframe\">\n",
              "  <thead>\n",
              "    <tr style=\"text-align: right;\">\n",
              "      <th></th>\n",
              "      <th>Alcohol</th>\n",
              "      <th>Malic acid</th>\n",
              "      <th>Ash</th>\n",
              "      <th>Alcalinity of ash</th>\n",
              "      <th>Magnesium</th>\n",
              "      <th>Total phenols</th>\n",
              "      <th>Flavanoids</th>\n",
              "      <th>Nonflavanoid phenols</th>\n",
              "      <th>Proanthocyanins</th>\n",
              "      <th>Color intensity</th>\n",
              "      <th>Hue</th>\n",
              "      <th>OD280/OD315 of diluted wines</th>\n",
              "      <th>Proline</th>\n",
              "    </tr>\n",
              "  </thead>\n",
              "  <tbody>\n",
              "    <tr>\n",
              "      <th>0</th>\n",
              "      <td>1.518613</td>\n",
              "      <td>-0.562250</td>\n",
              "      <td>0.232053</td>\n",
              "      <td>-1.169593</td>\n",
              "      <td>1.913905</td>\n",
              "      <td>0.808997</td>\n",
              "      <td>1.034819</td>\n",
              "      <td>-0.659563</td>\n",
              "      <td>1.224884</td>\n",
              "      <td>0.251717</td>\n",
              "      <td>0.362177</td>\n",
              "      <td>1.847920</td>\n",
              "      <td>1.013009</td>\n",
              "    </tr>\n",
              "    <tr>\n",
              "      <th>1</th>\n",
              "      <td>0.246290</td>\n",
              "      <td>-0.499413</td>\n",
              "      <td>-0.827996</td>\n",
              "      <td>-2.490847</td>\n",
              "      <td>0.018145</td>\n",
              "      <td>0.568648</td>\n",
              "      <td>0.733629</td>\n",
              "      <td>-0.820719</td>\n",
              "      <td>-0.544721</td>\n",
              "      <td>-0.293321</td>\n",
              "      <td>0.406051</td>\n",
              "      <td>1.113449</td>\n",
              "      <td>0.965242</td>\n",
              "    </tr>\n",
              "    <tr>\n",
              "      <th>2</th>\n",
              "      <td>0.196879</td>\n",
              "      <td>0.021231</td>\n",
              "      <td>1.109334</td>\n",
              "      <td>-0.268738</td>\n",
              "      <td>0.088358</td>\n",
              "      <td>0.808997</td>\n",
              "      <td>1.215533</td>\n",
              "      <td>-0.498407</td>\n",
              "      <td>2.135968</td>\n",
              "      <td>0.269020</td>\n",
              "      <td>0.318304</td>\n",
              "      <td>0.788587</td>\n",
              "      <td>1.395148</td>\n",
              "    </tr>\n",
              "    <tr>\n",
              "      <th>3</th>\n",
              "      <td>1.691550</td>\n",
              "      <td>-0.346811</td>\n",
              "      <td>0.487926</td>\n",
              "      <td>-0.809251</td>\n",
              "      <td>0.930918</td>\n",
              "      <td>2.491446</td>\n",
              "      <td>1.466525</td>\n",
              "      <td>-0.981875</td>\n",
              "      <td>1.032155</td>\n",
              "      <td>1.186068</td>\n",
              "      <td>-0.427544</td>\n",
              "      <td>1.184071</td>\n",
              "      <td>2.334574</td>\n",
              "    </tr>\n",
              "    <tr>\n",
              "      <th>4</th>\n",
              "      <td>0.295700</td>\n",
              "      <td>0.227694</td>\n",
              "      <td>1.840403</td>\n",
              "      <td>0.451946</td>\n",
              "      <td>1.281985</td>\n",
              "      <td>0.808997</td>\n",
              "      <td>0.663351</td>\n",
              "      <td>0.226796</td>\n",
              "      <td>0.401404</td>\n",
              "      <td>-0.319276</td>\n",
              "      <td>0.362177</td>\n",
              "      <td>0.449601</td>\n",
              "      <td>-0.037874</td>\n",
              "    </tr>\n",
              "  </tbody>\n",
              "</table>\n",
              "</div>"
            ],
            "text/plain": [
              "    Alcohol  Malic acid  ...  OD280/OD315 of diluted wines   Proline\n",
              "0  1.518613   -0.562250  ...                      1.847920  1.013009\n",
              "1  0.246290   -0.499413  ...                      1.113449  0.965242\n",
              "2  0.196879    0.021231  ...                      0.788587  1.395148\n",
              "3  1.691550   -0.346811  ...                      1.184071  2.334574\n",
              "4  0.295700    0.227694  ...                      0.449601 -0.037874\n",
              "\n",
              "[5 rows x 13 columns]"
            ]
          },
          "metadata": {
            "tags": []
          },
          "execution_count": 40
        }
      ]
    },
    {
      "cell_type": "code",
      "metadata": {
        "id": "le_92NuAOejf"
      },
      "source": [
        "from sklearn.decomposition import PCA"
      ],
      "execution_count": 41,
      "outputs": []
    },
    {
      "cell_type": "code",
      "metadata": {
        "colab": {
          "base_uri": "https://localhost:8080/"
        },
        "id": "pyhjtlEgOoXl",
        "outputId": "a7e70c4b-1acd-40de-c749-541588e38cb3"
      },
      "source": [
        "pca = PCA()\n",
        "pca.fit(dfs)"
      ],
      "execution_count": 42,
      "outputs": [
        {
          "output_type": "execute_result",
          "data": {
            "text/plain": [
              "PCA(copy=True, iterated_power='auto', n_components=None, random_state=None,\n",
              "    svd_solver='auto', tol=0.0, whiten=False)"
            ]
          },
          "metadata": {
            "tags": []
          },
          "execution_count": 42
        }
      ]
    },
    {
      "cell_type": "code",
      "metadata": {
        "id": "4UoUVKt5OyOF"
      },
      "source": [
        "feature = pca.transform(dfs)"
      ],
      "execution_count": 43,
      "outputs": []
    },
    {
      "cell_type": "code",
      "metadata": {
        "colab": {
          "base_uri": "https://localhost:8080/",
          "height": 224
        },
        "id": "MxbSNDDTO71L",
        "outputId": "156216d4-5ae3-4302-d60f-11210f9b837a"
      },
      "source": [
        "feature = pd.DataFrame(feature,columns = [\"PC{}\".format(x+1) for x in range(len(dfs.columns))])\n",
        "feature.head()"
      ],
      "execution_count": 44,
      "outputs": [
        {
          "output_type": "execute_result",
          "data": {
            "text/html": [
              "<div>\n",
              "<style scoped>\n",
              "    .dataframe tbody tr th:only-of-type {\n",
              "        vertical-align: middle;\n",
              "    }\n",
              "\n",
              "    .dataframe tbody tr th {\n",
              "        vertical-align: top;\n",
              "    }\n",
              "\n",
              "    .dataframe thead th {\n",
              "        text-align: right;\n",
              "    }\n",
              "</style>\n",
              "<table border=\"1\" class=\"dataframe\">\n",
              "  <thead>\n",
              "    <tr style=\"text-align: right;\">\n",
              "      <th></th>\n",
              "      <th>PC1</th>\n",
              "      <th>PC2</th>\n",
              "      <th>PC3</th>\n",
              "      <th>PC4</th>\n",
              "      <th>PC5</th>\n",
              "      <th>PC6</th>\n",
              "      <th>PC7</th>\n",
              "      <th>PC8</th>\n",
              "      <th>PC9</th>\n",
              "      <th>PC10</th>\n",
              "      <th>PC11</th>\n",
              "      <th>PC12</th>\n",
              "      <th>PC13</th>\n",
              "    </tr>\n",
              "  </thead>\n",
              "  <tbody>\n",
              "    <tr>\n",
              "      <th>0</th>\n",
              "      <td>3.316751</td>\n",
              "      <td>-1.443463</td>\n",
              "      <td>-0.165739</td>\n",
              "      <td>-0.215631</td>\n",
              "      <td>0.693043</td>\n",
              "      <td>-0.223880</td>\n",
              "      <td>0.596427</td>\n",
              "      <td>0.065139</td>\n",
              "      <td>0.641443</td>\n",
              "      <td>1.020956</td>\n",
              "      <td>-0.451563</td>\n",
              "      <td>0.540810</td>\n",
              "      <td>-0.066239</td>\n",
              "    </tr>\n",
              "    <tr>\n",
              "      <th>1</th>\n",
              "      <td>2.209465</td>\n",
              "      <td>0.333393</td>\n",
              "      <td>-2.026457</td>\n",
              "      <td>-0.291358</td>\n",
              "      <td>-0.257655</td>\n",
              "      <td>-0.927120</td>\n",
              "      <td>0.053776</td>\n",
              "      <td>1.024416</td>\n",
              "      <td>-0.308847</td>\n",
              "      <td>0.159701</td>\n",
              "      <td>-0.142657</td>\n",
              "      <td>0.388238</td>\n",
              "      <td>0.003637</td>\n",
              "    </tr>\n",
              "    <tr>\n",
              "      <th>2</th>\n",
              "      <td>2.516740</td>\n",
              "      <td>-1.031151</td>\n",
              "      <td>0.982819</td>\n",
              "      <td>0.724902</td>\n",
              "      <td>-0.251033</td>\n",
              "      <td>0.549276</td>\n",
              "      <td>0.424205</td>\n",
              "      <td>-0.344216</td>\n",
              "      <td>-1.177834</td>\n",
              "      <td>0.113361</td>\n",
              "      <td>-0.286673</td>\n",
              "      <td>0.000584</td>\n",
              "      <td>0.021717</td>\n",
              "    </tr>\n",
              "    <tr>\n",
              "      <th>3</th>\n",
              "      <td>3.757066</td>\n",
              "      <td>-2.756372</td>\n",
              "      <td>-0.176192</td>\n",
              "      <td>0.567983</td>\n",
              "      <td>-0.311842</td>\n",
              "      <td>0.114431</td>\n",
              "      <td>-0.383337</td>\n",
              "      <td>0.643593</td>\n",
              "      <td>0.052544</td>\n",
              "      <td>0.239413</td>\n",
              "      <td>0.759584</td>\n",
              "      <td>-0.242020</td>\n",
              "      <td>-0.369484</td>\n",
              "    </tr>\n",
              "    <tr>\n",
              "      <th>4</th>\n",
              "      <td>1.008908</td>\n",
              "      <td>-0.869831</td>\n",
              "      <td>2.026688</td>\n",
              "      <td>-0.409766</td>\n",
              "      <td>0.298458</td>\n",
              "      <td>-0.406520</td>\n",
              "      <td>0.444074</td>\n",
              "      <td>0.416700</td>\n",
              "      <td>0.326819</td>\n",
              "      <td>-0.078366</td>\n",
              "      <td>-0.525945</td>\n",
              "      <td>-0.216664</td>\n",
              "      <td>-0.079364</td>\n",
              "    </tr>\n",
              "  </tbody>\n",
              "</table>\n",
              "</div>"
            ],
            "text/plain": [
              "        PC1       PC2       PC3  ...      PC11      PC12      PC13\n",
              "0  3.316751 -1.443463 -0.165739  ... -0.451563  0.540810 -0.066239\n",
              "1  2.209465  0.333393 -2.026457  ... -0.142657  0.388238  0.003637\n",
              "2  2.516740 -1.031151  0.982819  ... -0.286673  0.000584  0.021717\n",
              "3  3.757066 -2.756372 -0.176192  ...  0.759584 -0.242020 -0.369484\n",
              "4  1.008908 -0.869831  2.026688  ... -0.525945 -0.216664 -0.079364\n",
              "\n",
              "[5 rows x 13 columns]"
            ]
          },
          "metadata": {
            "tags": []
          },
          "execution_count": 44
        }
      ]
    },
    {
      "cell_type": "code",
      "metadata": {
        "colab": {
          "base_uri": "https://localhost:8080/",
          "height": 388
        },
        "id": "XrE0YTNgPT7Y",
        "outputId": "a2b84b93-2289-4ceb-9b56-ea2d7f5c7fc8"
      },
      "source": [
        "plt.figure(figsize=(6,6))\n",
        "plt.scatter(feature[\"PC1\"],feature[\"PC2\"],alpha=0.8,c=df_wine[\"class\"])\n",
        "plt.grid()\n",
        "plt.xlabel(\"PC1\")\n",
        "plt.ylabel(\"PC2\")\n",
        "plt.show()"
      ],
      "execution_count": 45,
      "outputs": [
        {
          "output_type": "display_data",
          "data": {
            "image/png": "[encoded data removed]",
            "text/plain": [
              "<Figure size 432x432 with 1 Axes>"
            ]
          },
          "metadata": {
            "tags": [],
            "needs_background": "light"
          }
        }
      ]
    },
    {
      "cell_type": "code",
      "metadata": {
        "id": "ry4VOEsIQ0Wv"
      },
      "source": [
        "from sklearn.model_selection import train_test_split"
      ],
      "execution_count": 46,
      "outputs": []
    },
    {
      "cell_type": "code",
      "metadata": {
        "id": "i3geJWRkSuyq"
      },
      "source": [
        "X = feature.iloc[:,:2]"
      ],
      "execution_count": 47,
      "outputs": []
    },
    {
      "cell_type": "code",
      "metadata": {
        "id": "VxsujAzEUKr0"
      },
      "source": [
        "y = df_wine.iloc[:,0]"
      ],
      "execution_count": 48,
      "outputs": []
    },
    {
      "cell_type": "code",
      "metadata": {
        "id": "5hUSOj8eUT2D"
      },
      "source": [
        "X_train,X_test,y_train,y_test = train_test_split(X,y,test_size=0.2,random_state=3)"
      ],
      "execution_count": 49,
      "outputs": []
    },
    {
      "cell_type": "code",
      "metadata": {
        "colab": {
          "base_uri": "https://localhost:8080/",
          "height": 419
        },
        "id": "LTF5bXeEUbnK",
        "outputId": "04e770a0-cf56-4b23-e190-b8f24642a71c"
      },
      "source": [
        "X_train"
      ],
      "execution_count": 50,
      "outputs": [
        {
          "output_type": "execute_result",
          "data": {
            "text/html": [
              "<div>\n",
              "<style scoped>\n",
              "    .dataframe tbody tr th:only-of-type {\n",
              "        vertical-align: middle;\n",
              "    }\n",
              "\n",
              "    .dataframe tbody tr th {\n",
              "        vertical-align: top;\n",
              "    }\n",
              "\n",
              "    .dataframe thead th {\n",
              "        text-align: right;\n",
              "    }\n",
              "</style>\n",
              "<table border=\"1\" class=\"dataframe\">\n",
              "  <thead>\n",
              "    <tr style=\"text-align: right;\">\n",
              "      <th></th>\n",
              "      <th>PC1</th>\n",
              "      <th>PC2</th>\n",
              "    </tr>\n",
              "  </thead>\n",
              "  <tbody>\n",
              "    <tr>\n",
              "      <th>42</th>\n",
              "      <td>3.070807</td>\n",
              "      <td>-1.155919</td>\n",
              "    </tr>\n",
              "    <tr>\n",
              "      <th>67</th>\n",
              "      <td>0.183384</td>\n",
              "      <td>2.427146</td>\n",
              "    </tr>\n",
              "    <tr>\n",
              "      <th>31</th>\n",
              "      <td>2.677411</td>\n",
              "      <td>-1.471874</td>\n",
              "    </tr>\n",
              "    <tr>\n",
              "      <th>141</th>\n",
              "      <td>-2.286561</td>\n",
              "      <td>-0.372508</td>\n",
              "    </tr>\n",
              "    <tr>\n",
              "      <th>5</th>\n",
              "      <td>3.050254</td>\n",
              "      <td>-2.122401</td>\n",
              "    </tr>\n",
              "    <tr>\n",
              "      <th>...</th>\n",
              "      <td>...</td>\n",
              "      <td>...</td>\n",
              "    </tr>\n",
              "    <tr>\n",
              "      <th>21</th>\n",
              "      <td>1.086570</td>\n",
              "      <td>-0.241744</td>\n",
              "    </tr>\n",
              "    <tr>\n",
              "      <th>0</th>\n",
              "      <td>3.316751</td>\n",
              "      <td>-1.443463</td>\n",
              "    </tr>\n",
              "    <tr>\n",
              "      <th>131</th>\n",
              "      <td>-2.384501</td>\n",
              "      <td>-0.374583</td>\n",
              "    </tr>\n",
              "    <tr>\n",
              "      <th>152</th>\n",
              "      <td>-1.812541</td>\n",
              "      <td>-1.527646</td>\n",
              "    </tr>\n",
              "    <tr>\n",
              "      <th>106</th>\n",
              "      <td>-0.366267</td>\n",
              "      <td>2.169353</td>\n",
              "    </tr>\n",
              "  </tbody>\n",
              "</table>\n",
              "<p>142 rows × 2 columns</p>\n",
              "</div>"
            ],
            "text/plain": [
              "          PC1       PC2\n",
              "42   3.070807 -1.155919\n",
              "67   0.183384  2.427146\n",
              "31   2.677411 -1.471874\n",
              "141 -2.286561 -0.372508\n",
              "5    3.050254 -2.122401\n",
              "..        ...       ...\n",
              "21   1.086570 -0.241744\n",
              "0    3.316751 -1.443463\n",
              "131 -2.384501 -0.374583\n",
              "152 -1.812541 -1.527646\n",
              "106 -0.366267  2.169353\n",
              "\n",
              "[142 rows x 2 columns]"
            ]
          },
          "metadata": {
            "tags": []
          },
          "execution_count": 50
        }
      ]
    },
    {
      "cell_type": "code",
      "metadata": {
        "id": "FCHrcZzDU_PT"
      },
      "source": [
        "from sklearn.linear_model import LogisticRegression"
      ],
      "execution_count": 51,
      "outputs": []
    },
    {
      "cell_type": "code",
      "metadata": {
        "colab": {
          "base_uri": "https://localhost:8080/"
        },
        "id": "xcZTY8-wVRNv",
        "outputId": "51b96470-d99d-4294-db3e-a6f1809b2f59"
      },
      "source": [
        "lr = LogisticRegression()\n",
        "lr.fit(X_train,y_train)"
      ],
      "execution_count": 52,
      "outputs": [
        {
          "output_type": "execute_result",
          "data": {
            "text/plain": [
              "LogisticRegression(C=1.0, class_weight=None, dual=False, fit_intercept=True,\n",
              "                   intercept_scaling=1, l1_ratio=None, max_iter=100,\n",
              "                   multi_class='auto', n_jobs=None, penalty='l2',\n",
              "                   random_state=None, solver='lbfgs', tol=0.0001, verbose=0,\n",
              "                   warm_start=False)"
            ]
          },
          "metadata": {
            "tags": []
          },
          "execution_count": 52
        }
      ]
    },
    {
      "cell_type": "code",
      "metadata": {
        "id": "KtmHc-YGVX2G"
      },
      "source": [
        "y_pred = lr.predict(X_test)"
      ],
      "execution_count": 53,
      "outputs": []
    },
    {
      "cell_type": "code",
      "metadata": {
        "id": "BbY0JXIOVp5t"
      },
      "source": [
        "from sklearn.metrics import accuracy_score"
      ],
      "execution_count": 54,
      "outputs": []
    },
    {
      "cell_type": "code",
      "metadata": {
        "colab": {
          "base_uri": "https://localhost:8080/"
        },
        "id": "WdmbctemV95k",
        "outputId": "63d4d64e-f35c-4a19-d784-4718c5d18391"
      },
      "source": [
        "accuracy_score(y_true=y_test,y_pred=y_pred)"
      ],
      "execution_count": 55,
      "outputs": [
        {
          "output_type": "execute_result",
          "data": {
            "text/plain": [
              "0.9166666666666666"
            ]
          },
          "metadata": {
            "tags": []
          },
          "execution_count": 55
        }
      ]
    },
    {
      "cell_type": "code",
      "metadata": {
        "id": "khO_1kHDWCag"
      },
      "source": [
        "from sklearn.neighbors import KNeighborsClassifier"
      ],
      "execution_count": 61,
      "outputs": []
    },
    {
      "cell_type": "code",
      "metadata": {
        "id": "qx6KpNB99C3y"
      },
      "source": [
        "knc = KNeighborsClassifier(n_neighbors=7)"
      ],
      "execution_count": 79,
      "outputs": []
    },
    {
      "cell_type": "code",
      "metadata": {
        "colab": {
          "base_uri": "https://localhost:8080/"
        },
        "id": "uFta_7tc9uT3",
        "outputId": "652df7bf-61cf-4095-9fad-3d719f41a5f8"
      },
      "source": [
        "knc.fit(X_train,y_train)"
      ],
      "execution_count": 80,
      "outputs": [
        {
          "output_type": "execute_result",
          "data": {
            "text/plain": [
              "KNeighborsClassifier(algorithm='auto', leaf_size=30, metric='minkowski',\n",
              "                     metric_params=None, n_jobs=None, n_neighbors=7, p=2,\n",
              "                     weights='uniform')"
            ]
          },
          "metadata": {
            "tags": []
          },
          "execution_count": 80
        }
      ]
    },
    {
      "cell_type": "code",
      "metadata": {
        "id": "5EVjnM7Z946L"
      },
      "source": [
        "y_pred = knc.predict(X_test)"
      ],
      "execution_count": 81,
      "outputs": []
    },
    {
      "cell_type": "code",
      "metadata": {
        "colab": {
          "base_uri": "https://localhost:8080/"
        },
        "id": "ZO-Z9EiV9-Eo",
        "outputId": "e123ff89-0a95-410f-89ab-cd7ce286820b"
      },
      "source": [
        "score = knc.score(X_test,y_test)\n",
        "score"
      ],
      "execution_count": 82,
      "outputs": [
        {
          "output_type": "execute_result",
          "data": {
            "text/plain": [
              "0.9444444444444444"
            ]
          },
          "metadata": {
            "tags": []
          },
          "execution_count": 82
        }
      ]
    },
    {
      "cell_type": "code",
      "metadata": {
        "id": "QPLTVuK_-DC_"
      },
      "source": [
        "df_slump = pd.read_csv(\"/content/drive/MyDrive/Machine Learning Training/slump.csv のコピー\")"
      ],
      "execution_count": 85,
      "outputs": []
    },
    {
      "cell_type": "code",
      "metadata": {
        "colab": {
          "base_uri": "https://localhost:8080/",
          "height": 204
        },
        "id": "pT2Wr6df-xPl",
        "outputId": "237ddc21-03c2-4aff-954a-a247485696c0"
      },
      "source": [
        "df_slump.head()"
      ],
      "execution_count": 87,
      "outputs": [
        {
          "output_type": "execute_result",
          "data": {
            "text/html": [
              "<div>\n",
              "<style scoped>\n",
              "    .dataframe tbody tr th:only-of-type {\n",
              "        vertical-align: middle;\n",
              "    }\n",
              "\n",
              "    .dataframe tbody tr th {\n",
              "        vertical-align: top;\n",
              "    }\n",
              "\n",
              "    .dataframe thead th {\n",
              "        text-align: right;\n",
              "    }\n",
              "</style>\n",
              "<table border=\"1\" class=\"dataframe\">\n",
              "  <thead>\n",
              "    <tr style=\"text-align: right;\">\n",
              "      <th></th>\n",
              "      <th>Cement</th>\n",
              "      <th>Slag</th>\n",
              "      <th>Fly ash</th>\n",
              "      <th>Water</th>\n",
              "      <th>SP</th>\n",
              "      <th>Coarse Aggr.</th>\n",
              "      <th>Fine Aggr.</th>\n",
              "      <th>Compressive Strength (28-day)(Mpa)</th>\n",
              "    </tr>\n",
              "  </thead>\n",
              "  <tbody>\n",
              "    <tr>\n",
              "      <th>0</th>\n",
              "      <td>273.0</td>\n",
              "      <td>82.0</td>\n",
              "      <td>105.0</td>\n",
              "      <td>210.0</td>\n",
              "      <td>9.0</td>\n",
              "      <td>904.0</td>\n",
              "      <td>680.0</td>\n",
              "      <td>34.99</td>\n",
              "    </tr>\n",
              "    <tr>\n",
              "      <th>1</th>\n",
              "      <td>163.0</td>\n",
              "      <td>149.0</td>\n",
              "      <td>191.0</td>\n",
              "      <td>180.0</td>\n",
              "      <td>12.0</td>\n",
              "      <td>843.0</td>\n",
              "      <td>746.0</td>\n",
              "      <td>41.14</td>\n",
              "    </tr>\n",
              "    <tr>\n",
              "      <th>2</th>\n",
              "      <td>162.0</td>\n",
              "      <td>148.0</td>\n",
              "      <td>191.0</td>\n",
              "      <td>179.0</td>\n",
              "      <td>16.0</td>\n",
              "      <td>840.0</td>\n",
              "      <td>743.0</td>\n",
              "      <td>41.81</td>\n",
              "    </tr>\n",
              "    <tr>\n",
              "      <th>3</th>\n",
              "      <td>162.0</td>\n",
              "      <td>148.0</td>\n",
              "      <td>190.0</td>\n",
              "      <td>179.0</td>\n",
              "      <td>19.0</td>\n",
              "      <td>838.0</td>\n",
              "      <td>741.0</td>\n",
              "      <td>42.08</td>\n",
              "    </tr>\n",
              "    <tr>\n",
              "      <th>4</th>\n",
              "      <td>154.0</td>\n",
              "      <td>112.0</td>\n",
              "      <td>144.0</td>\n",
              "      <td>220.0</td>\n",
              "      <td>10.0</td>\n",
              "      <td>923.0</td>\n",
              "      <td>658.0</td>\n",
              "      <td>26.82</td>\n",
              "    </tr>\n",
              "  </tbody>\n",
              "</table>\n",
              "</div>"
            ],
            "text/plain": [
              "   Cement   Slag  ...  Fine Aggr.  Compressive Strength (28-day)(Mpa)\n",
              "0   273.0   82.0  ...       680.0                               34.99\n",
              "1   163.0  149.0  ...       746.0                               41.14\n",
              "2   162.0  148.0  ...       743.0                               41.81\n",
              "3   162.0  148.0  ...       741.0                               42.08\n",
              "4   154.0  112.0  ...       658.0                               26.82\n",
              "\n",
              "[5 rows x 8 columns]"
            ]
          },
          "metadata": {
            "tags": []
          },
          "execution_count": 87
        }
      ]
    },
    {
      "cell_type": "code",
      "metadata": {
        "id": "Sy8WVJAS-3L0"
      },
      "source": [
        "X = df_slamp.iloc[:,:-1]\n",
        "Y = df_slump.iloc[:,-1]"
      ],
      "execution_count": 92,
      "outputs": []
    },
    {
      "cell_type": "code",
      "metadata": {
        "id": "-AHspK39_CEC"
      },
      "source": [
        "X_train,X_test,y_train,y_test = train_test_split(X,Y,test_size=0.4,random_state=0)"
      ],
      "execution_count": 95,
      "outputs": []
    },
    {
      "cell_type": "code",
      "metadata": {
        "id": "Z7ZyKw67_Vic"
      },
      "source": [
        "from sklearn.linear_model import LinearRegression"
      ],
      "execution_count": 96,
      "outputs": []
    },
    {
      "cell_type": "code",
      "metadata": {
        "id": "QhmDf5cy_l1M"
      },
      "source": [
        "regressor = LinearRegression()"
      ],
      "execution_count": 97,
      "outputs": []
    },
    {
      "cell_type": "code",
      "metadata": {
        "colab": {
          "base_uri": "https://localhost:8080/"
        },
        "id": "k4htIArK_p2g",
        "outputId": "6004a195-22bf-4bc4-f76b-fd8201e1cce2"
      },
      "source": [
        "regressor.fit(X_train,y_train)"
      ],
      "execution_count": 98,
      "outputs": [
        {
          "output_type": "execute_result",
          "data": {
            "text/plain": [
              "LinearRegression(copy_X=True, fit_intercept=True, n_jobs=None, normalize=False)"
            ]
          },
          "metadata": {
            "tags": []
          },
          "execution_count": 98
        }
      ]
    },
    {
      "cell_type": "code",
      "metadata": {
        "id": "Thqmcv1L_vBd"
      },
      "source": [
        "from sklearn.metrics import r2_score,mean_squared_error"
      ],
      "execution_count": 99,
      "outputs": []
    },
    {
      "cell_type": "code",
      "metadata": {
        "id": "YDtXnXg1_-sp"
      },
      "source": [
        "y_pred = regressor.predict(X_test)"
      ],
      "execution_count": 101,
      "outputs": []
    },
    {
      "cell_type": "code",
      "metadata": {
        "colab": {
          "base_uri": "https://localhost:8080/"
        },
        "id": "xqs5bPJ1AEzI",
        "outputId": "2ec5180e-e6e2-4d01-bc99-a3fa10e60dc5"
      },
      "source": [
        "r2_score(y_test,y_pred)"
      ],
      "execution_count": 103,
      "outputs": [
        {
          "output_type": "execute_result",
          "data": {
            "text/plain": [
              "0.8343195909006847"
            ]
          },
          "metadata": {
            "tags": []
          },
          "execution_count": 103
        }
      ]
    },
    {
      "cell_type": "code",
      "metadata": {
        "colab": {
          "base_uri": "https://localhost:8080/"
        },
        "id": "kdEe7ddeAMTz",
        "outputId": "9b68d713-1a5e-40dd-ff91-1fc9dd757cf2"
      },
      "source": [
        "mean_squared_error(y_test,y_pred)"
      ],
      "execution_count": 104,
      "outputs": [
        {
          "output_type": "execute_result",
          "data": {
            "text/plain": [
              "9.390614418464358"
            ]
          },
          "metadata": {
            "tags": []
          },
          "execution_count": 104
        }
      ]
    },
    {
      "cell_type": "code",
      "metadata": {
        "colab": {
          "base_uri": "https://localhost:8080/"
        },
        "id": "PqEcgFZjAeS-",
        "outputId": "b7b34762-d789-495b-aea3-5267f0790460"
      },
      "source": [
        "np.sqrt(mean_squared_error(y_test,y_pred))"
      ],
      "execution_count": 105,
      "outputs": [
        {
          "output_type": "execute_result",
          "data": {
            "text/plain": [
              "3.064410941512962"
            ]
          },
          "metadata": {
            "tags": []
          },
          "execution_count": 105
        }
      ]
    },
    {
      "cell_type": "code",
      "metadata": {
        "id": "hoFkQC38AvNq"
      },
      "source": [
        ""
      ],
      "execution_count": null,
      "outputs": []
    }
  ]
}