{
 "cells": [
  {
   "cell_type": "code",
   "execution_count": 1,
   "id": "plain-present",
   "metadata": {},
   "outputs": [],
   "source": [
    "from selenium import webdriver\n",
    "from time import sleep"
   ]
  },
  {
   "cell_type": "code",
   "execution_count": 2,
   "id": "charming-briefing",
   "metadata": {},
   "outputs": [],
   "source": [
    "URL = \"https://id.jobcan.jp/users/sign_in?app_key=atd&redirect_to=https://ssl.jobcan.jp/jbcoauth/callback\"\n",
    "ID = \"ynishikawa@**********\"\n",
    "password = \"***********\""
   ]
  },
  {
   "cell_type": "code",
   "execution_count": 17,
   "id": "blond-stanford",
   "metadata": {},
   "outputs": [
    {
     "name": "stdin",
     "output_type": "stream",
     "text": [
      "出退勤に関してクリックしてください：出勤[1],退勤[2]: 2\n"
     ]
    }
   ],
   "source": [
    "word = int(input(\"出退勤に関してクリックしてください：出勤[1],退勤[2]:\"))\n",
    "\n",
    "if word == 1:\n",
    "    browser = webdriver.Chrome()\n",
    "    browser.get(URL)\n",
    "    get_email = browser.find_element_by_id(\"user_email\")\n",
    "    get_password = browser.find_element_by_id(\"user_password\")\n",
    "    get_email.send_keys(ID)\n",
    "    get_password.send_keys(password)\n",
    "    sleep(1)\n",
    "    enter_botton = browser.find_element_by_name(\"commit\")\n",
    "    enter_botton.click()\n",
    "    attendance = browser.find_element_by_css_selector(\"#adit-button-work-start\")\n",
    "    attendance.click()\n",
    "\n",
    "elif word == 2:\n",
    "    browser = webdriver.Chrome()\n",
    "    browser.get(URL)\n",
    "    get_email = browser.find_element_by_id(\"user_email\")\n",
    "    get_password = browser.find_element_by_id(\"user_password\")\n",
    "    get_email.send_keys(ID)\n",
    "    get_password.send_keys(password)\n",
    "    sleep(1)\n",
    "    enter_botton = browser.find_element_by_name(\"commit\")\n",
    "    enter_botton.click()\n",
    "    leave = browser.find_element_by_css_selector(\"#adit-button-work-end\")\n",
    "    leave.click()\n",
    "\n",
    "browser.close()"
   ]
  }
 ],
 "metadata": {
  "kernelspec": {
   "display_name": "Python 3",
   "language": "python",
   "name": "python3"
  },
  "language_info": {
   "codemirror_mode": {
    "name": "ipython",
    "version": 3
   },
   "file_extension": ".py",
   "mimetype": "text/x-python",
   "name": "python",
   "nbconvert_exporter": "python",
   "pygments_lexer": "ipython3",
   "version": "3.8.2"
  }
 },
 "nbformat": 4,
 "nbformat_minor": 5
}
