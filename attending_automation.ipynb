{
 "cells": [
  {
   "cell_type": "code",
   "execution_count": 133,
   "id": "muslim-hopkins",
   "metadata": {},
   "outputs": [],
   "source": [
    "from selenium import webdriver\n",
    "from time import sleep"
   ]
  },
  {
   "cell_type": "code",
   "execution_count": 141,
   "id": "corrected-likelihood",
   "metadata": {},
   "outputs": [],
   "source": [
    "URL = \"https://id.jobcan.jp/users/sign_in?app_key=atd&redirect_to=https://ssl.jobcan.jp/jbcoauth/callback\"\n",
    "ID = \"***********",
    "password = \"*********""
   ]
  },
  {
   "cell_type": "code",
   "execution_count": 142,
   "id": "august-graph",
   "metadata": {},
   "outputs": [],
   "source": [
    "def browser_open(URL,ID,password):\n",
    "    browser = webdriver.Chrome()\n",
    "    browser.get(URL)\n",
    "    get_email = browser.find_element_by_id(\"user_email\")\n",
    "    get_password = browser.find_element_by_id(\"user_password\")\n",
    "    get_email.send_keys(ID)\n",
    "    get_password.send_keys(password)\n",
    "    sleep(2)\n",
    "    enter_botton = browser.find_element_by_name(\"commit\")\n",
    "    enter_botton.click()"
   ]
  },
  {
   "cell_type": "code",
   "execution_count": 151,
   "id": "immediate-boston",
   "metadata": {},
   "outputs": [
    {
     "ename": "SyntaxError",
     "evalue": "invalid syntax (<ipython-input-151-bcb72480fe96>, line 9)",
     "output_type": "error",
     "traceback": [
      "\u001b[0;36m  File \u001b[0;32m\"<ipython-input-151-bcb72480fe96>\"\u001b[0;36m, line \u001b[0;32m9\u001b[0m\n\u001b[0;31m    leave = browser.findElement(By.xpath(\"//*[@id=\"adit-button-work-end\"]\")).click\u001b[0m\n\u001b[0m                                                   ^\u001b[0m\n\u001b[0;31mSyntaxError\u001b[0m\u001b[0;31m:\u001b[0m invalid syntax\n"
     ]
    }
   ],
   "source": [
    "word = int(input(\"出退勤に関してクリックしてください：出勤[1],退勤[2]:\"))\n",
    "if word == 1:\n",
    "    browser_open(URL,ID,password)\n",
    "    attendance = browser.find_element_by_class_name(\"btn btn-block jbc-btn-secondary\")\n",
    "    attendance.click()\n",
    "elif word == 2:\n",
    "    browser_open(URL,ID,password)\n",
    "    leave = browser.find_element_by_class_name(\"btn btn-block jbc-btn-primary\")\n",
    "    leave = browser.find_element_by_css_selector(\"btn btn-block jbc-btn-primary\")\n",
    "    #leave = browser.findElement(By.xpath(\"//*[@id=\"adit-button-work-end\"]\")).click\n",
    "browser.close()"
   ]
  },
  {
   "cell_type": "code",
   "execution_count": null,
   "id": "tested-detail",
   "metadata": {},
   "outputs": [],
   "source": []
  }
 ],
 "metadata": {
  "kernelspec": {
   "display_name": "Python 3",
   "language": "python",
   "name": "python3"
  },
  "language_info": {
   "codemirror_mode": {
    "name": "ipython",
    "version": 3
   },
   "file_extension": ".py",
   "mimetype": "text/x-python",
   "name": "python",
   "nbconvert_exporter": "python",
   "pygments_lexer": "ipython3",
   "version": "3.8.2"
  }
 },
 "nbformat": 4,
 "nbformat_minor": 5
}
