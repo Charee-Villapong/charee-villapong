{
  "nbformat": 4,
  "nbformat_minor": 0,
  "metadata": {
    "colab": {
      "name": "sheetreader.ipynb",
      "provenance": [],
      "mount_file_id": "1JJ7VScPgh9X240ojEENPUkk_PoZSBm24",
      "authorship_tag": "ABX9TyPOJdQajjzjJGV400/3sfNm",
      "include_colab_link": true
    },
    "kernelspec": {
      "name": "python3",
      "display_name": "Python 3"
    }
  },
  "cells": [
    {
      "cell_type": "markdown",
      "metadata": {
        "id": "view-in-github",
        "colab_type": "text"
      },
      "source": [
        "<a href=\"https://colab.research.google.com/github/Charee-Villapong/charee-villapong/blob/master/sheetreader.ipynb\" target=\"_parent\"><img src=\"https://colab.research.google.com/assets/colab-badge.svg\" alt=\"Open In Colab\"/></a>"
      ]
    },
    {
      "cell_type": "code",
      "metadata": {
        "id": "7sNsSKO8Q7EK"
      },
      "source": [
        "import gspread\n",
        "from oauth2client.service_account import ServiceAccountCredentials\n",
        "import json\n",
        "import pandas as pd"
      ],
      "execution_count": 6,
      "outputs": []
    },
    {
      "cell_type": "code",
      "metadata": {
        "id": "-jUlYUewRp0r"
      },
      "source": [
        "SP_CREDENTAIL_FILE = '/content/gspread-test-304210-b8c20acd731b.json'\n",
        "SP_COPE = [\"https://spreadsheets.google.com/feeds\",\"https://www.googleapis.com/auth/drive\"] \n",
        "SP_SHEET_KEY = '1Pq6pKfLRQ5sb1ffJSmmTKGpy3bheWiH0miy-1tDWPI8'\n",
        "SP_SHEET = '発注管理表'"
      ],
      "execution_count": 7,
      "outputs": []
    },
    {
      "cell_type": "code",
      "metadata": {
        "id": "3emuiEpZS6pS"
      },
      "source": [
        "credentials = ServiceAccountCredentials.from_json_keyfile_name(SP_CREDENTAIL_FILE,SP_COPE)"
      ],
      "execution_count": 8,
      "outputs": []
    },
    {
      "cell_type": "code",
      "metadata": {
        "id": "QVydwYc7TIWH"
      },
      "source": [
        "gc = gspread.authorize(credentials)"
      ],
      "execution_count": 9,
      "outputs": []
    },
    {
      "cell_type": "code",
      "metadata": {
        "id": "lKHVtnKzTUCW"
      },
      "source": [
        "#スプレッドシートの選択\n",
        "sh = gc.open_by_key(SP_SHEET_KEY)"
      ],
      "execution_count": 10,
      "outputs": []
    },
    {
      "cell_type": "code",
      "metadata": {
        "id": "cO3DE-3pThNu"
      },
      "source": [
        "#ワークシートの選択\n",
        "worksheet = sh.worksheet(SP_SHEET)"
      ],
      "execution_count": 14,
      "outputs": []
    },
    {
      "cell_type": "code",
      "metadata": {
        "id": "p4SKdNyTTuwA"
      },
      "source": [
        "data = worksheet.get_all_values()"
      ],
      "execution_count": null,
      "outputs": []
    },
    {
      "cell_type": "code",
      "metadata": {
        "id": "iZyOdbatUQT8"
      },
      "source": [
        "df = pd.DataFrame(data[1:],columns=data[0])"
      ],
      "execution_count": 27,
      "outputs": []
    },
    {
      "cell_type": "code",
      "metadata": {
        "colab": {
          "base_uri": "https://localhost:8080/"
        },
        "id": "RcvK3GMHUqIm",
        "outputId": "106a9406-2f92-45d3-9472-5938cdfba423"
      },
      "source": [
        "df.shape"
      ],
      "execution_count": 28,
      "outputs": [
        {
          "output_type": "execute_result",
          "data": {
            "text/plain": [
              "(50, 6)"
            ]
          },
          "metadata": {
            "tags": []
          },
          "execution_count": 28
        }
      ]
    }
  ]
}