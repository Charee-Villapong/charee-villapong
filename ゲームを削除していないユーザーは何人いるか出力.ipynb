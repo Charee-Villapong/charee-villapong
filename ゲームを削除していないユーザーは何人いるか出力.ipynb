{
  "nbformat": 4,
  "nbformat_minor": 0,
  "metadata": {
    "colab": {
      "name": "ゲームを削除していないユーザーは何人いるか出力.ipynb",
      "provenance": [],
      "collapsed_sections": [],
      "authorship_tag": "ABX9TyOoyL0cy2D6yAHqjgGABuVV",
      "include_colab_link": true
    },
    "kernelspec": {
      "name": "python3",
      "display_name": "Python 3"
    }
  },
  "cells": [
    {
      "cell_type": "markdown",
      "metadata": {
        "id": "view-in-github",
        "colab_type": "text"
      },
      "source": [
        "<a href=\"https://colab.research.google.com/github/Charee-Villapong/charee-villapong/blob/master/%E3%82%B2%E3%83%BC%E3%83%A0%E3%82%92%E5%89%8A%E9%99%A4%E3%81%97%E3%81%A6%E3%81%84%E3%81%AA%E3%81%84%E3%83%A6%E3%83%BC%E3%82%B6%E3%83%BC%E3%81%AF%E4%BD%95%E4%BA%BA%E3%81%84%E3%82%8B%E3%81%8B%E5%87%BA%E5%8A%9B.ipynb\" target=\"_parent\"><img src=\"https://colab.research.google.com/assets/colab-badge.svg\" alt=\"Open In Colab\"/></a>"
      ]
    },
    {
      "cell_type": "markdown",
      "metadata": {
        "id": "6-ax5gZCEMMp"
      },
      "source": [
        "**ゲームを削除していないユーザーは何人いるか出力**"
      ]
    },
    {
      "cell_type": "code",
      "metadata": {
        "id": "Zx2maZompj_W"
      },
      "source": [
        "import sqlite3\n",
        "filepath = \"test2.sqlite\"\n",
        "conn = sqlite3.connect(filepath) \n",
        "cur = conn.cursor()\n",
        "cur.execute(\"DROP TABLE IF EXISTS user_master\")\n",
        "cur.execute(\"\"\"CREATE TABLE user_master(\n",
        "    user_id UNIQUE,\n",
        "    install_datetime INTEGER,\n",
        "    delete_flg INTEGER\n",
        ")\"\"\")\n",
        "conn.commit()"
      ],
      "execution_count": null,
      "outputs": []
    },
    {
      "cell_type": "code",
      "metadata": {
        "id": "J3lWj6P676yA"
      },
      "source": [
        "cur = conn.cursor()\n",
        "data = [(10001,'2016-03-19 15:45:00',0),\n",
        "(10002,'2016-03-21 12:30:00',1),\n",
        "(10003,'2016-03-23 09:15:00',0),\n",
        "(10004,'2016-03-25 06:00:00',0),\n",
        "(10005,'2016-04-02 10:00:00',1),\n",
        "(10006,'2016-04-02 12:50:00',0),\n",
        "(10007,'2016-04-30 15:00:00',0)]\n",
        "cur.executemany(\n",
        "    \"INSERT INTO user_master (user_id, install_datetime,delete_flg) VALUES (?,?,?)\", data)\n",
        "conn.commit()"
      ],
      "execution_count": null,
      "outputs": []
    },
    {
      "cell_type": "code",
      "metadata": {
        "colab": {
          "base_uri": "https://localhost:8080/"
        },
        "id": "98ijabAs8ARo",
        "outputId": "c0023aad-1325-4895-a45f-d316404c85eb"
      },
      "source": [
        "cur = conn.cursor()\n",
        "cur.execute(\"SELECT COUNT(*) FROM user_master WHERE delete_flg = 0\")\n",
        "items_list = cur.fetchall()\n",
        "items_list"
      ],
      "execution_count": null,
      "outputs": [
        {
          "output_type": "execute_result",
          "data": {
            "text/plain": [
              "[(5,)]"
            ]
          },
          "metadata": {
            "tags": []
          },
          "execution_count": 4
        }
      ]
    }
  ]
}