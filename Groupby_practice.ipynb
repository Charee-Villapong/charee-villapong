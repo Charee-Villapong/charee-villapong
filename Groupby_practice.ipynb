{
  "nbformat": 4,
  "nbformat_minor": 0,
  "metadata": {
    "colab": {
      "name": "Groupby practice.ipynb",
      "provenance": [],
      "authorship_tag": "ABX9TyMYPDjsE0msV7iFUklvk5kO",
      "include_colab_link": true
    },
    "kernelspec": {
      "name": "python3",
      "display_name": "Python 3"
    },
    "language_info": {
      "name": "python"
    }
  },
  "cells": [
    {
      "cell_type": "markdown",
      "metadata": {
        "id": "view-in-github",
        "colab_type": "text"
      },
      "source": [
        "<a href=\"https://colab.research.google.com/github/Charee-Villapong/charee-villapong/blob/master/Groupby_practice.ipynb\" target=\"_parent\"><img src=\"https://colab.research.google.com/assets/colab-badge.svg\" alt=\"Open In Colab\"/></a>"
      ]
    },
    {
      "cell_type": "code",
      "metadata": {
        "colab": {
          "base_uri": "https://localhost:8080/",
          "height": 197
        },
        "id": "Pp6IAv0eoHyW",
        "outputId": "690a75a2-43b5-4b53-cc72-03023700b60d"
      },
      "source": [
        "import pandas as pd\n",
        "import numpy as np\n",
        "\n",
        "df = pd.DataFrame({\n",
        "    \"key1\":[\"a\",\"a\",\"b\",\"b\",\"a\"],\n",
        "    \"key2\":[\"one\",\"two\",\"one\",\"two\",\"one\"],\n",
        "    \"data1\":np.random.randn(5),\n",
        "    \"data2\":np.random.randn(5)\n",
        "})\n",
        "df"
      ],
      "execution_count": 5,
      "outputs": [
        {
          "output_type": "execute_result",
          "data": {
            "text/html": [
              "<div>\n",
              "<style scoped>\n",
              "    .dataframe tbody tr th:only-of-type {\n",
              "        vertical-align: middle;\n",
              "    }\n",
              "\n",
              "    .dataframe tbody tr th {\n",
              "        vertical-align: top;\n",
              "    }\n",
              "\n",
              "    .dataframe thead th {\n",
              "        text-align: right;\n",
              "    }\n",
              "</style>\n",
              "<table border=\"1\" class=\"dataframe\">\n",
              "  <thead>\n",
              "    <tr style=\"text-align: right;\">\n",
              "      <th></th>\n",
              "      <th>key1</th>\n",
              "      <th>key2</th>\n",
              "      <th>data1</th>\n",
              "      <th>data2</th>\n",
              "    </tr>\n",
              "  </thead>\n",
              "  <tbody>\n",
              "    <tr>\n",
              "      <th>0</th>\n",
              "      <td>a</td>\n",
              "      <td>one</td>\n",
              "      <td>0.560495</td>\n",
              "      <td>-0.028325</td>\n",
              "    </tr>\n",
              "    <tr>\n",
              "      <th>1</th>\n",
              "      <td>a</td>\n",
              "      <td>two</td>\n",
              "      <td>-1.208942</td>\n",
              "      <td>-0.567239</td>\n",
              "    </tr>\n",
              "    <tr>\n",
              "      <th>2</th>\n",
              "      <td>b</td>\n",
              "      <td>one</td>\n",
              "      <td>1.060317</td>\n",
              "      <td>-3.262447</td>\n",
              "    </tr>\n",
              "    <tr>\n",
              "      <th>3</th>\n",
              "      <td>b</td>\n",
              "      <td>two</td>\n",
              "      <td>0.953062</td>\n",
              "      <td>0.933029</td>\n",
              "    </tr>\n",
              "    <tr>\n",
              "      <th>4</th>\n",
              "      <td>a</td>\n",
              "      <td>one</td>\n",
              "      <td>2.018917</td>\n",
              "      <td>-1.554266</td>\n",
              "    </tr>\n",
              "  </tbody>\n",
              "</table>\n",
              "</div>"
            ],
            "text/plain": [
              "  key1 key2     data1     data2\n",
              "0    a  one  0.560495 -0.028325\n",
              "1    a  two -1.208942 -0.567239\n",
              "2    b  one  1.060317 -3.262447\n",
              "3    b  two  0.953062  0.933029\n",
              "4    a  one  2.018917 -1.554266"
            ]
          },
          "metadata": {
            "tags": []
          },
          "execution_count": 5
        }
      ]
    },
    {
      "cell_type": "code",
      "metadata": {
        "colab": {
          "base_uri": "https://localhost:8080/"
        },
        "id": "19sESxYsowD1",
        "outputId": "0c541fda-4beb-412d-e614-057c20c8acc7"
      },
      "source": [
        "grouped = df[\"data1\"].groupby(df[\"key1\"])\n",
        "grouped"
      ],
      "execution_count": 13,
      "outputs": [
        {
          "output_type": "execute_result",
          "data": {
            "text/plain": [
              "<pandas.core.groupby.generic.SeriesGroupBy object at 0x7f99eb79cb10>"
            ]
          },
          "metadata": {
            "tags": []
          },
          "execution_count": 13
        }
      ]
    },
    {
      "cell_type": "code",
      "metadata": {
        "colab": {
          "base_uri": "https://localhost:8080/"
        },
        "id": "HNByEXS6o_BL",
        "outputId": "893be530-bfab-43bc-d6e3-92b967a44d66"
      },
      "source": [
        "grouped.mean()"
      ],
      "execution_count": 14,
      "outputs": [
        {
          "output_type": "execute_result",
          "data": {
            "text/plain": [
              "key1\n",
              "a    0.456823\n",
              "b    1.006690\n",
              "Name: data1, dtype: float64"
            ]
          },
          "metadata": {
            "tags": []
          },
          "execution_count": 14
        }
      ]
    },
    {
      "cell_type": "code",
      "metadata": {
        "colab": {
          "base_uri": "https://localhost:8080/"
        },
        "id": "5HoQ7O_cpdtb",
        "outputId": "f4c2b02b-8fbb-40e0-e6ad-da7e33c7f0b5"
      },
      "source": [
        "df[\"data1\"].groupby([df[\"key1\"],df[\"key2\"]]).mean()"
      ],
      "execution_count": 22,
      "outputs": [
        {
          "output_type": "execute_result",
          "data": {
            "text/plain": [
              "key1  key2\n",
              "a     one     1.289706\n",
              "      two    -1.208942\n",
              "b     one     1.060317\n",
              "      two     0.953062\n",
              "Name: data1, dtype: float64"
            ]
          },
          "metadata": {
            "tags": []
          },
          "execution_count": 22
        }
      ]
    },
    {
      "cell_type": "code",
      "metadata": {
        "id": "2HfAm2pDpyKY"
      },
      "source": [
        ""
      ],
      "execution_count": null,
      "outputs": []
    }
  ]
}