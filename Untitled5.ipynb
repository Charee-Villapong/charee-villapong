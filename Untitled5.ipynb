{
  "nbformat": 4,
  "nbformat_minor": 0,
  "metadata": {
    "colab": {
      "name": "Untitled5.ipynb",
      "provenance": [],
      "authorship_tag": "ABX9TyNoxge4FuXETfpFcVDXLkzk",
      "include_colab_link": true
    },
    "kernelspec": {
      "name": "python3",
      "display_name": "Python 3"
    }
  },
  "cells": [
    {
      "cell_type": "markdown",
      "metadata": {
        "id": "view-in-github",
        "colab_type": "text"
      },
      "source": [
        "<a href=\"https://colab.research.google.com/github/Charee-Villapong/charee-villapong/blob/master/Untitled5.ipynb\" target=\"_parent\"><img src=\"https://colab.research.google.com/assets/colab-badge.svg\" alt=\"Open In Colab\"/></a>"
      ]
    },
    {
      "cell_type": "code",
      "metadata": {
        "id": "5I8pAwbU8oXq"
      },
      "source": [
        "from requests_oauthlib import OAuth1Session\n",
        "import json"
      ],
      "execution_count": 10,
      "outputs": []
    },
    {
      "cell_type": "code",
      "metadata": {
        "id": "3q4xmXfa9EYo"
      },
      "source": [
        "    consumer_key = \"8ljKZRP1ekS9dzkhuaUr6mL8J\"\n",
        "    consumer_secret = \"fcpAsRKs4wg2jnUc98jJ1YG4kDLcumehO76T2CAQXH74gPeHjs\"\n",
        "    access_key = \"1289362986210009089-LYBDoTh8ipkpbCnOfy0DpaIfqQM7ZM\"\n",
        "    access_secret = \"loSkIIcmgZ7YmIx3y4IBqfTYIfN8aYc3Jva41SIFSmflP\""
      ],
      "execution_count": 11,
      "outputs": []
    },
    {
      "cell_type": "code",
      "metadata": {
        "id": "r_v9NO6k9R6c"
      },
      "source": [
        "twitter = OAuth1Session(consumer_key,consumer_secret,access_key,access_secret)"
      ],
      "execution_count": 12,
      "outputs": []
    },
    {
      "cell_type": "code",
      "metadata": {
        "id": "wZ_KVwVY9rr0"
      },
      "source": [
        "url = \"https://api.twitter.com/1.1/statuses/user_timeline.json\""
      ],
      "execution_count": 13,
      "outputs": []
    },
    {
      "cell_type": "code",
      "metadata": {
        "id": "2CDxzugm_SPV"
      },
      "source": [
        "params = {\"count\":5}"
      ],
      "execution_count": 14,
      "outputs": []
    },
    {
      "cell_type": "code",
      "metadata": {
        "id": "kajxArlg_ciS"
      },
      "source": [
        "res = twitter.get(url,params = params)"
      ],
      "execution_count": 16,
      "outputs": []
    },
    {
      "cell_type": "code",
      "metadata": {
        "colab": {
          "base_uri": "https://localhost:8080/"
        },
        "id": "VZW7ot4T_tIQ",
        "outputId": "53128254-30b8-45d1-e941-89b0a5b9411f"
      },
      "source": [
        "res.status_code"
      ],
      "execution_count": 17,
      "outputs": [
        {
          "output_type": "execute_result",
          "data": {
            "text/plain": [
              "200"
            ]
          },
          "metadata": {
            "tags": []
          },
          "execution_count": 17
        }
      ]
    },
    {
      "cell_type": "code",
      "metadata": {
        "colab": {
          "base_uri": "https://localhost:8080/",
          "height": 102
        },
        "id": "NOovKsSl_8zK",
        "outputId": "7f5f9cb8-92bb-48b3-f6c4-e6d388b10b95"
      },
      "source": [
        "res.text"
      ],
      "execution_count": 18,
      "outputs": [
        {
          "output_type": "execute_result",
          "data": {
            "application/vnd.google.colaboratory.intrinsic+json": {
              "type": "string"
            },
            "text/plain": [
              "'[{\"created_at\":\"Sat Feb 06 06:03:02 +0000 2021\",\"id\":1357932796900089856,\"id_str\":\"1357932796900089856\",\"text\":\"python\\\\u52c9\\\\u5f37\\\\u3057\\\\u305f\\\\u304b\\\\u3063\\\\u305f\\\\u3051\\\\u3069\\\\u3001\\\\u5b50\\\\u5b88\\\\u308a\",\"truncated\":false,\"entities\":{\"hashtags\":[],\"symbols\":[],\"user_mentions\":[],\"urls\":[]},\"source\":\"\\\\u003ca href=\\\\\"http:\\\\/\\\\/twitter.com\\\\/download\\\\/iphone\\\\\" rel=\\\\\"nofollow\\\\\"\\\\u003eTwitter for iPhone\\\\u003c\\\\/a\\\\u003e\",\"in_reply_to_status_id\":null,\"in_reply_to_status_id_str\":null,\"in_reply_to_user_id\":null,\"in_reply_to_user_id_str\":null,\"in_reply_to_screen_name\":null,\"user\":{\"id\":1289362986210009089,\"id_str\":\"1289362986210009089\",\"name\":\"Yoshitaka Nishikawa\",\"screen_name\":\"YoshitakaNishi3\",\"location\":\"Tokyo\",\"description\":\"I worked in fasion industry over 10years. Recently,I\\'ve started to learn about Python, DX and how to run my own business in some of business school.\",\"url\":null,\"entities\":{\"description\":{\"urls\":[]}},\"protected\":true,\"followers_count\":8,\"friends_count\":26,\"listed_count\":0,\"created_at\":\"Sat Aug 01 00:51:13 +0000 2020\",\"favourites_count\":313,\"utc_offset\":null,\"time_zone\":null,\"geo_enabled\":false,\"verified\":false,\"statuses_count\":496,\"lang\":null,\"contributors_enabled\":false,\"is_translator\":false,\"is_translation_enabled\":false,\"profile_background_color\":\"F5F8FA\",\"profile_background_image_url\":null,\"profile_background_image_url_https\":null,\"profile_background_tile\":false,\"profile_image_url\":\"http:\\\\/\\\\/pbs.twimg.com\\\\/profile_images\\\\/1289366896702156801\\\\/AJZetPy9_normal.jpg\",\"profile_image_url_https\":\"https:\\\\/\\\\/pbs.twimg.com\\\\/profile_images\\\\/1289366896702156801\\\\/AJZetPy9_normal.jpg\",\"profile_link_color\":\"1DA1F2\",\"profile_sidebar_border_color\":\"C0DEED\",\"profile_sidebar_fill_color\":\"DDEEF6\",\"profile_text_color\":\"333333\",\"profile_use_background_image\":true,\"has_extended_profile\":true,\"default_profile\":true,\"default_profile_image\":false,\"following\":false,\"follow_request_sent\":false,\"notifications\":false,\"translator_type\":\"none\"},\"geo\":null,\"coordinates\":null,\"place\":null,\"contributors\":null,\"is_quote_status\":false,\"retweet_count\":0,\"favorite_count\":0,\"favorited\":false,\"retweeted\":false,\"lang\":\"ja\"},{\"created_at\":\"Fri Feb 05 16:17:19 +0000 2021\",\"id\":1357724997813346308,\"id_str\":\"1357724997813346308\",\"text\":\"\\\\u767d\\\\u9aea\\\\u5897\\\\u3048\\\\u3066\\\\u304d\\\\u305f\\\\u308f\\\\u3002\\\\n\\\\u7269\\\\u899a\\\\u3048\\\\u3082\\\\u6614\\\\u3088\\\\u308a\\\\u60aa\\\\u3044\\\\u3002\\\\n\\\\u30b7\\\\u30f3\\\\u30d7\\\\u30eb\\\\u8001\\\\u5316\",\"truncated\":false,\"entities\":{\"hashtags\":[],\"symbols\":[],\"user_mentions\":[],\"urls\":[]},\"source\":\"\\\\u003ca href=\\\\\"http:\\\\/\\\\/twitter.com\\\\/download\\\\/iphone\\\\\" rel=\\\\\"nofollow\\\\\"\\\\u003eTwitter for iPhone\\\\u003c\\\\/a\\\\u003e\",\"in_reply_to_status_id\":null,\"in_reply_to_status_id_str\":null,\"in_reply_to_user_id\":null,\"in_reply_to_user_id_str\":null,\"in_reply_to_screen_name\":null,\"user\":{\"id\":1289362986210009089,\"id_str\":\"1289362986210009089\",\"name\":\"Yoshitaka Nishikawa\",\"screen_name\":\"YoshitakaNishi3\",\"location\":\"Tokyo\",\"description\":\"I worked in fasion industry over 10years. Recently,I\\'ve started to learn about Python, DX and how to run my own business in some of business school.\",\"url\":null,\"entities\":{\"description\":{\"urls\":[]}},\"protected\":true,\"followers_count\":8,\"friends_count\":26,\"listed_count\":0,\"created_at\":\"Sat Aug 01 00:51:13 +0000 2020\",\"favourites_count\":313,\"utc_offset\":null,\"time_zone\":null,\"geo_enabled\":false,\"verified\":false,\"statuses_count\":496,\"lang\":null,\"contributors_enabled\":false,\"is_translator\":false,\"is_translation_enabled\":false,\"profile_background_color\":\"F5F8FA\",\"profile_background_image_url\":null,\"profile_background_image_url_https\":null,\"profile_background_tile\":false,\"profile_image_url\":\"http:\\\\/\\\\/pbs.twimg.com\\\\/profile_images\\\\/1289366896702156801\\\\/AJZetPy9_normal.jpg\",\"profile_image_url_https\":\"https:\\\\/\\\\/pbs.twimg.com\\\\/profile_images\\\\/1289366896702156801\\\\/AJZetPy9_normal.jpg\",\"profile_link_color\":\"1DA1F2\",\"profile_sidebar_border_color\":\"C0DEED\",\"profile_sidebar_fill_color\":\"DDEEF6\",\"profile_text_color\":\"333333\",\"profile_use_background_image\":true,\"has_extended_profile\":true,\"default_profile\":true,\"default_profile_image\":false,\"following\":false,\"follow_request_sent\":false,\"notifications\":false,\"translator_type\":\"none\"},\"geo\":null,\"coordinates\":null,\"place\":null,\"contributors\":null,\"is_quote_status\":false,\"retweet_count\":0,\"favorite_count\":0,\"favorited\":false,\"retweeted\":false,\"lang\":\"ja\"},{\"created_at\":\"Fri Feb 05 14:55:34 +0000 2021\",\"id\":1357704425305853952,\"id_str\":\"1357704425305853952\",\"text\":\"\\\\u30b5\\\\u30fc\\\\u30d0\\\\u30fc\\\\u30ec\\\\u30b9\\\\u3063\\\\u3066\\\\u30c7\\\\u30fc\\\\u30bf\\\\u3069\\\\u3053\\\\u306b\\\\u5165\\\\u308b\\\\u306d\\\\u3093\",\"truncated\":false,\"entities\":{\"hashtags\":[],\"symbols\":[],\"user_mentions\":[],\"urls\":[]},\"source\":\"\\\\u003ca href=\\\\\"http:\\\\/\\\\/twitter.com\\\\/download\\\\/iphone\\\\\" rel=\\\\\"nofollow\\\\\"\\\\u003eTwitter for iPhone\\\\u003c\\\\/a\\\\u003e\",\"in_reply_to_status_id\":null,\"in_reply_to_status_id_str\":null,\"in_reply_to_user_id\":null,\"in_reply_to_user_id_str\":null,\"in_reply_to_screen_name\":null,\"user\":{\"id\":1289362986210009089,\"id_str\":\"1289362986210009089\",\"name\":\"Yoshitaka Nishikawa\",\"screen_name\":\"YoshitakaNishi3\",\"location\":\"Tokyo\",\"description\":\"I worked in fasion industry over 10years. Recently,I\\'ve started to learn about Python, DX and how to run my own business in some of business school.\",\"url\":null,\"entities\":{\"description\":{\"urls\":[]}},\"protected\":true,\"followers_count\":8,\"friends_count\":26,\"listed_count\":0,\"created_at\":\"Sat Aug 01 00:51:13 +0000 2020\",\"favourites_count\":313,\"utc_offset\":null,\"time_zone\":null,\"geo_enabled\":false,\"verified\":false,\"statuses_count\":496,\"lang\":null,\"contributors_enabled\":false,\"is_translator\":false,\"is_translation_enabled\":false,\"profile_background_color\":\"F5F8FA\",\"profile_background_image_url\":null,\"profile_background_image_url_https\":null,\"profile_background_tile\":false,\"profile_image_url\":\"http:\\\\/\\\\/pbs.twimg.com\\\\/profile_images\\\\/1289366896702156801\\\\/AJZetPy9_normal.jpg\",\"profile_image_url_https\":\"https:\\\\/\\\\/pbs.twimg.com\\\\/profile_images\\\\/1289366896702156801\\\\/AJZetPy9_normal.jpg\",\"profile_link_color\":\"1DA1F2\",\"profile_sidebar_border_color\":\"C0DEED\",\"profile_sidebar_fill_color\":\"DDEEF6\",\"profile_text_color\":\"333333\",\"profile_use_background_image\":true,\"has_extended_profile\":true,\"default_profile\":true,\"default_profile_image\":false,\"following\":false,\"follow_request_sent\":false,\"notifications\":false,\"translator_type\":\"none\"},\"geo\":null,\"coordinates\":null,\"place\":null,\"contributors\":null,\"is_quote_status\":false,\"retweet_count\":0,\"favorite_count\":0,\"favorited\":false,\"retweeted\":false,\"lang\":\"ja\"},{\"created_at\":\"Fri Feb 05 07:02:20 +0000 2021\",\"id\":1357585332825255939,\"id_str\":\"1357585332825255939\",\"text\":\"EdTech\\\\u00d7\\\\u65b0\\\\u898f\\\\u4e8b\\\\u696d\\\\uff5c\\\\u30a8\\\\u30f3\\\\u30b8\\\\u30cb\\\\u30a2\\\\u7279\\\\u5316\\\\u578b\\\\u7d39\\\\u4ecb\\\\u4e8b\\\\u696d\\\\u306e\\\\u30b0\\\\u30ed\\\\u30fc\\\\u30b9\\\\u3092\\\\u3057\\\\u305f\\\\u3044\\\\u65b9\\\\u52df\\\\u96c6\\\\uff01 by \\\\u682a\\\\u5f0f\\\\u4f1a\\\\u793eSAMURAI (@samuraijuku) https:\\\\/\\\\/t.co\\\\/JCdABIh4Gb #wantedly\",\"truncated\":false,\"entities\":{\"hashtags\":[{\"text\":\"wantedly\",\"indices\":[92,101]}],\"symbols\":[],\"user_mentions\":[{\"screen_name\":\"samuraijuku\",\"name\":\"\\\\u4f8d\\\\u30a8\\\\u30f3\\\\u30b8\\\\u30cb\\\\u30a2\",\"id\":3922357752,\"id_str\":\"3922357752\",\"indices\":[54,66]}],\"urls\":[{\"url\":\"https:\\\\/\\\\/t.co\\\\/JCdABIh4Gb\",\"expanded_url\":\"https:\\\\/\\\\/www.wantedly.com\\\\/projects\\\\/500479?utm_source=t.co&utm_medium=support&u=45320525&lang=ja\",\"display_url\":\"wantedly.com\\\\/projects\\\\/50047\\\\u2026\",\"indices\":[68,91]}]},\"source\":\"\\\\u003ca href=\\\\\"https:\\\\/\\\\/mobile.twitter.com\\\\\" rel=\\\\\"nofollow\\\\\"\\\\u003eTwitter Web App\\\\u003c\\\\/a\\\\u003e\",\"in_reply_to_status_id\":null,\"in_reply_to_status_id_str\":null,\"in_reply_to_user_id\":null,\"in_reply_to_user_id_str\":null,\"in_reply_to_screen_name\":null,\"user\":{\"id\":1289362986210009089,\"id_str\":\"1289362986210009089\",\"name\":\"Yoshitaka Nishikawa\",\"screen_name\":\"YoshitakaNishi3\",\"location\":\"Tokyo\",\"description\":\"I worked in fasion industry over 10years. Recently,I\\'ve started to learn about Python, DX and how to run my own business in some of business school.\",\"url\":null,\"entities\":{\"description\":{\"urls\":[]}},\"protected\":true,\"followers_count\":8,\"friends_count\":26,\"listed_count\":0,\"created_at\":\"Sat Aug 01 00:51:13 +0000 2020\",\"favourites_count\":313,\"utc_offset\":null,\"time_zone\":null,\"geo_enabled\":false,\"verified\":false,\"statuses_count\":496,\"lang\":null,\"contributors_enabled\":false,\"is_translator\":false,\"is_translation_enabled\":false,\"profile_background_color\":\"F5F8FA\",\"profile_background_image_url\":null,\"profile_background_image_url_https\":null,\"profile_background_tile\":false,\"profile_image_url\":\"http:\\\\/\\\\/pbs.twimg.com\\\\/profile_images\\\\/1289366896702156801\\\\/AJZetPy9_normal.jpg\",\"profile_image_url_https\":\"https:\\\\/\\\\/pbs.twimg.com\\\\/profile_images\\\\/1289366896702156801\\\\/AJZetPy9_normal.jpg\",\"profile_link_color\":\"1DA1F2\",\"profile_sidebar_border_color\":\"C0DEED\",\"profile_sidebar_fill_color\":\"DDEEF6\",\"profile_text_color\":\"333333\",\"profile_use_background_image\":true,\"has_extended_profile\":true,\"default_profile\":true,\"default_profile_image\":false,\"following\":false,\"follow_request_sent\":false,\"notifications\":false,\"translator_type\":\"none\"},\"geo\":null,\"coordinates\":null,\"place\":null,\"contributors\":null,\"is_quote_status\":false,\"retweet_count\":0,\"favorite_count\":0,\"favorited\":false,\"retweeted\":false,\"possibly_sensitive\":false,\"lang\":\"ja\"},{\"created_at\":\"Fri Feb 05 02:04:08 +0000 2021\",\"id\":1357510287314755584,\"id_str\":\"1357510287314755584\",\"text\":\"\\\\u4ffa\\\\u306f\\\\u304d\\\\u3063\\\\u306840\\\\u6b73\\\\u3067\\\\u72ec\\\\u7acb\\\\u3059\\\\u308b\\\\u3002\\\\n\\\\u30b0\\\\u30e9\\\\u30d3\\\\u30a2\\\\u30a2\\\\u30a4\\\\u30c9\\\\u30eb\\\\u4e57\\\\u305b\\\\u3066\\\\u30aa\\\\u30fc\\\\u30d7\\\\u30f3\\\\u30ab\\\\u30fc\\\\u3067\\\\u30c9\\\\u30e9\\\\u30a4\\\\u30d6\\\\u3084\",\"truncated\":false,\"entities\":{\"hashtags\":[],\"symbols\":[],\"user_mentions\":[],\"urls\":[]},\"source\":\"\\\\u003ca href=\\\\\"http:\\\\/\\\\/twitter.com\\\\/download\\\\/iphone\\\\\" rel=\\\\\"nofollow\\\\\"\\\\u003eTwitter for iPhone\\\\u003c\\\\/a\\\\u003e\",\"in_reply_to_status_id\":null,\"in_reply_to_status_id_str\":null,\"in_reply_to_user_id\":null,\"in_reply_to_user_id_str\":null,\"in_reply_to_screen_name\":null,\"user\":{\"id\":1289362986210009089,\"id_str\":\"1289362986210009089\",\"name\":\"Yoshitaka Nishikawa\",\"screen_name\":\"YoshitakaNishi3\",\"location\":\"Tokyo\",\"description\":\"I worked in fasion industry over 10years. Recently,I\\'ve started to learn about Python, DX and how to run my own business in some of business school.\",\"url\":null,\"entities\":{\"description\":{\"urls\":[]}},\"protected\":true,\"followers_count\":8,\"friends_count\":26,\"listed_count\":0,\"created_at\":\"Sat Aug 01 00:51:13 +0000 2020\",\"favourites_count\":313,\"utc_offset\":null,\"time_zone\":null,\"geo_enabled\":false,\"verified\":false,\"statuses_count\":496,\"lang\":null,\"contributors_enabled\":false,\"is_translator\":false,\"is_translation_enabled\":false,\"profile_background_color\":\"F5F8FA\",\"profile_background_image_url\":null,\"profile_background_image_url_https\":null,\"profile_background_tile\":false,\"profile_image_url\":\"http:\\\\/\\\\/pbs.twimg.com\\\\/profile_images\\\\/1289366896702156801\\\\/AJZetPy9_normal.jpg\",\"profile_image_url_https\":\"https:\\\\/\\\\/pbs.twimg.com\\\\/profile_images\\\\/1289366896702156801\\\\/AJZetPy9_normal.jpg\",\"profile_link_color\":\"1DA1F2\",\"profile_sidebar_border_color\":\"C0DEED\",\"profile_sidebar_fill_color\":\"DDEEF6\",\"profile_text_color\":\"333333\",\"profile_use_background_image\":true,\"has_extended_profile\":true,\"default_profile\":true,\"default_profile_image\":false,\"following\":false,\"follow_request_sent\":false,\"notifications\":false,\"translator_type\":\"none\"},\"geo\":null,\"coordinates\":null,\"place\":null,\"contributors\":null,\"is_quote_status\":false,\"retweet_count\":0,\"favorite_count\":0,\"favorited\":false,\"retweeted\":false,\"lang\":\"ja\"}]'"
            ]
          },
          "metadata": {
            "tags": []
          },
          "execution_count": 18
        }
      ]
    },
    {
      "cell_type": "code",
      "metadata": {
        "colab": {
          "base_uri": "https://localhost:8080/"
        },
        "id": "1uHcyafxAC-N",
        "outputId": "4e9b8301-c588-45bf-8fb6-194a4d335021"
      },
      "source": [
        "json.loads(res.text)"
      ],
      "execution_count": 19,
      "outputs": [
        {
          "output_type": "execute_result",
          "data": {
            "text/plain": [
              "[{'contributors': None,\n",
              "  'coordinates': None,\n",
              "  'created_at': 'Sat Feb 06 06:03:02 +0000 2021',\n",
              "  'entities': {'hashtags': [], 'symbols': [], 'urls': [], 'user_mentions': []},\n",
              "  'favorite_count': 0,\n",
              "  'favorited': False,\n",
              "  'geo': None,\n",
              "  'id': 1357932796900089856,\n",
              "  'id_str': '1357932796900089856',\n",
              "  'in_reply_to_screen_name': None,\n",
              "  'in_reply_to_status_id': None,\n",
              "  'in_reply_to_status_id_str': None,\n",
              "  'in_reply_to_user_id': None,\n",
              "  'in_reply_to_user_id_str': None,\n",
              "  'is_quote_status': False,\n",
              "  'lang': 'ja',\n",
              "  'place': None,\n",
              "  'retweet_count': 0,\n",
              "  'retweeted': False,\n",
              "  'source': '<a href=\"http://twitter.com/download/iphone\" rel=\"nofollow\">Twitter for iPhone</a>',\n",
              "  'text': 'python勉強したかったけど、子守り',\n",
              "  'truncated': False,\n",
              "  'user': {'contributors_enabled': False,\n",
              "   'created_at': 'Sat Aug 01 00:51:13 +0000 2020',\n",
              "   'default_profile': True,\n",
              "   'default_profile_image': False,\n",
              "   'description': \"I worked in fasion industry over 10years. Recently,I've started to learn about Python, DX and how to run my own business in some of business school.\",\n",
              "   'entities': {'description': {'urls': []}},\n",
              "   'favourites_count': 313,\n",
              "   'follow_request_sent': False,\n",
              "   'followers_count': 8,\n",
              "   'following': False,\n",
              "   'friends_count': 26,\n",
              "   'geo_enabled': False,\n",
              "   'has_extended_profile': True,\n",
              "   'id': 1289362986210009089,\n",
              "   'id_str': '1289362986210009089',\n",
              "   'is_translation_enabled': False,\n",
              "   'is_translator': False,\n",
              "   'lang': None,\n",
              "   'listed_count': 0,\n",
              "   'location': 'Tokyo',\n",
              "   'name': 'Yoshitaka Nishikawa',\n",
              "   'notifications': False,\n",
              "   'profile_background_color': 'F5F8FA',\n",
              "   'profile_background_image_url': None,\n",
              "   'profile_background_image_url_https': None,\n",
              "   'profile_background_tile': False,\n",
              "   'profile_image_url': 'http://pbs.twimg.com/profile_images/1289366896702156801/AJZetPy9_normal.jpg',\n",
              "   'profile_image_url_https': 'https://pbs.twimg.com/profile_images/1289366896702156801/AJZetPy9_normal.jpg',\n",
              "   'profile_link_color': '1DA1F2',\n",
              "   'profile_sidebar_border_color': 'C0DEED',\n",
              "   'profile_sidebar_fill_color': 'DDEEF6',\n",
              "   'profile_text_color': '333333',\n",
              "   'profile_use_background_image': True,\n",
              "   'protected': True,\n",
              "   'screen_name': 'YoshitakaNishi3',\n",
              "   'statuses_count': 496,\n",
              "   'time_zone': None,\n",
              "   'translator_type': 'none',\n",
              "   'url': None,\n",
              "   'utc_offset': None,\n",
              "   'verified': False}},\n",
              " {'contributors': None,\n",
              "  'coordinates': None,\n",
              "  'created_at': 'Fri Feb 05 16:17:19 +0000 2021',\n",
              "  'entities': {'hashtags': [], 'symbols': [], 'urls': [], 'user_mentions': []},\n",
              "  'favorite_count': 0,\n",
              "  'favorited': False,\n",
              "  'geo': None,\n",
              "  'id': 1357724997813346308,\n",
              "  'id_str': '1357724997813346308',\n",
              "  'in_reply_to_screen_name': None,\n",
              "  'in_reply_to_status_id': None,\n",
              "  'in_reply_to_status_id_str': None,\n",
              "  'in_reply_to_user_id': None,\n",
              "  'in_reply_to_user_id_str': None,\n",
              "  'is_quote_status': False,\n",
              "  'lang': 'ja',\n",
              "  'place': None,\n",
              "  'retweet_count': 0,\n",
              "  'retweeted': False,\n",
              "  'source': '<a href=\"http://twitter.com/download/iphone\" rel=\"nofollow\">Twitter for iPhone</a>',\n",
              "  'text': '白髪増えてきたわ。\\n物覚えも昔より悪い。\\nシンプル老化',\n",
              "  'truncated': False,\n",
              "  'user': {'contributors_enabled': False,\n",
              "   'created_at': 'Sat Aug 01 00:51:13 +0000 2020',\n",
              "   'default_profile': True,\n",
              "   'default_profile_image': False,\n",
              "   'description': \"I worked in fasion industry over 10years. Recently,I've started to learn about Python, DX and how to run my own business in some of business school.\",\n",
              "   'entities': {'description': {'urls': []}},\n",
              "   'favourites_count': 313,\n",
              "   'follow_request_sent': False,\n",
              "   'followers_count': 8,\n",
              "   'following': False,\n",
              "   'friends_count': 26,\n",
              "   'geo_enabled': False,\n",
              "   'has_extended_profile': True,\n",
              "   'id': 1289362986210009089,\n",
              "   'id_str': '1289362986210009089',\n",
              "   'is_translation_enabled': False,\n",
              "   'is_translator': False,\n",
              "   'lang': None,\n",
              "   'listed_count': 0,\n",
              "   'location': 'Tokyo',\n",
              "   'name': 'Yoshitaka Nishikawa',\n",
              "   'notifications': False,\n",
              "   'profile_background_color': 'F5F8FA',\n",
              "   'profile_background_image_url': None,\n",
              "   'profile_background_image_url_https': None,\n",
              "   'profile_background_tile': False,\n",
              "   'profile_image_url': 'http://pbs.twimg.com/profile_images/1289366896702156801/AJZetPy9_normal.jpg',\n",
              "   'profile_image_url_https': 'https://pbs.twimg.com/profile_images/1289366896702156801/AJZetPy9_normal.jpg',\n",
              "   'profile_link_color': '1DA1F2',\n",
              "   'profile_sidebar_border_color': 'C0DEED',\n",
              "   'profile_sidebar_fill_color': 'DDEEF6',\n",
              "   'profile_text_color': '333333',\n",
              "   'profile_use_background_image': True,\n",
              "   'protected': True,\n",
              "   'screen_name': 'YoshitakaNishi3',\n",
              "   'statuses_count': 496,\n",
              "   'time_zone': None,\n",
              "   'translator_type': 'none',\n",
              "   'url': None,\n",
              "   'utc_offset': None,\n",
              "   'verified': False}},\n",
              " {'contributors': None,\n",
              "  'coordinates': None,\n",
              "  'created_at': 'Fri Feb 05 14:55:34 +0000 2021',\n",
              "  'entities': {'hashtags': [], 'symbols': [], 'urls': [], 'user_mentions': []},\n",
              "  'favorite_count': 0,\n",
              "  'favorited': False,\n",
              "  'geo': None,\n",
              "  'id': 1357704425305853952,\n",
              "  'id_str': '1357704425305853952',\n",
              "  'in_reply_to_screen_name': None,\n",
              "  'in_reply_to_status_id': None,\n",
              "  'in_reply_to_status_id_str': None,\n",
              "  'in_reply_to_user_id': None,\n",
              "  'in_reply_to_user_id_str': None,\n",
              "  'is_quote_status': False,\n",
              "  'lang': 'ja',\n",
              "  'place': None,\n",
              "  'retweet_count': 0,\n",
              "  'retweeted': False,\n",
              "  'source': '<a href=\"http://twitter.com/download/iphone\" rel=\"nofollow\">Twitter for iPhone</a>',\n",
              "  'text': 'サーバーレスってデータどこに入るねん',\n",
              "  'truncated': False,\n",
              "  'user': {'contributors_enabled': False,\n",
              "   'created_at': 'Sat Aug 01 00:51:13 +0000 2020',\n",
              "   'default_profile': True,\n",
              "   'default_profile_image': False,\n",
              "   'description': \"I worked in fasion industry over 10years. Recently,I've started to learn about Python, DX and how to run my own business in some of business school.\",\n",
              "   'entities': {'description': {'urls': []}},\n",
              "   'favourites_count': 313,\n",
              "   'follow_request_sent': False,\n",
              "   'followers_count': 8,\n",
              "   'following': False,\n",
              "   'friends_count': 26,\n",
              "   'geo_enabled': False,\n",
              "   'has_extended_profile': True,\n",
              "   'id': 1289362986210009089,\n",
              "   'id_str': '1289362986210009089',\n",
              "   'is_translation_enabled': False,\n",
              "   'is_translator': False,\n",
              "   'lang': None,\n",
              "   'listed_count': 0,\n",
              "   'location': 'Tokyo',\n",
              "   'name': 'Yoshitaka Nishikawa',\n",
              "   'notifications': False,\n",
              "   'profile_background_color': 'F5F8FA',\n",
              "   'profile_background_image_url': None,\n",
              "   'profile_background_image_url_https': None,\n",
              "   'profile_background_tile': False,\n",
              "   'profile_image_url': 'http://pbs.twimg.com/profile_images/1289366896702156801/AJZetPy9_normal.jpg',\n",
              "   'profile_image_url_https': 'https://pbs.twimg.com/profile_images/1289366896702156801/AJZetPy9_normal.jpg',\n",
              "   'profile_link_color': '1DA1F2',\n",
              "   'profile_sidebar_border_color': 'C0DEED',\n",
              "   'profile_sidebar_fill_color': 'DDEEF6',\n",
              "   'profile_text_color': '333333',\n",
              "   'profile_use_background_image': True,\n",
              "   'protected': True,\n",
              "   'screen_name': 'YoshitakaNishi3',\n",
              "   'statuses_count': 496,\n",
              "   'time_zone': None,\n",
              "   'translator_type': 'none',\n",
              "   'url': None,\n",
              "   'utc_offset': None,\n",
              "   'verified': False}},\n",
              " {'contributors': None,\n",
              "  'coordinates': None,\n",
              "  'created_at': 'Fri Feb 05 07:02:20 +0000 2021',\n",
              "  'entities': {'hashtags': [{'indices': [92, 101], 'text': 'wantedly'}],\n",
              "   'symbols': [],\n",
              "   'urls': [{'display_url': 'wantedly.com/projects/50047…',\n",
              "     'expanded_url': 'https://www.wantedly.com/projects/500479?utm_source=t.co&utm_medium=support&u=45320525&lang=ja',\n",
              "     'indices': [68, 91],\n",
              "     'url': 'https://t.co/JCdABIh4Gb'}],\n",
              "   'user_mentions': [{'id': 3922357752,\n",
              "     'id_str': '3922357752',\n",
              "     'indices': [54, 66],\n",
              "     'name': '侍エンジニア',\n",
              "     'screen_name': 'samuraijuku'}]},\n",
              "  'favorite_count': 0,\n",
              "  'favorited': False,\n",
              "  'geo': None,\n",
              "  'id': 1357585332825255939,\n",
              "  'id_str': '1357585332825255939',\n",
              "  'in_reply_to_screen_name': None,\n",
              "  'in_reply_to_status_id': None,\n",
              "  'in_reply_to_status_id_str': None,\n",
              "  'in_reply_to_user_id': None,\n",
              "  'in_reply_to_user_id_str': None,\n",
              "  'is_quote_status': False,\n",
              "  'lang': 'ja',\n",
              "  'place': None,\n",
              "  'possibly_sensitive': False,\n",
              "  'retweet_count': 0,\n",
              "  'retweeted': False,\n",
              "  'source': '<a href=\"https://mobile.twitter.com\" rel=\"nofollow\">Twitter Web App</a>',\n",
              "  'text': 'EdTech×新規事業｜エンジニア特化型紹介事業のグロースをしたい方募集！ by 株式会社SAMURAI (@samuraijuku) https://t.co/JCdABIh4Gb #wantedly',\n",
              "  'truncated': False,\n",
              "  'user': {'contributors_enabled': False,\n",
              "   'created_at': 'Sat Aug 01 00:51:13 +0000 2020',\n",
              "   'default_profile': True,\n",
              "   'default_profile_image': False,\n",
              "   'description': \"I worked in fasion industry over 10years. Recently,I've started to learn about Python, DX and how to run my own business in some of business school.\",\n",
              "   'entities': {'description': {'urls': []}},\n",
              "   'favourites_count': 313,\n",
              "   'follow_request_sent': False,\n",
              "   'followers_count': 8,\n",
              "   'following': False,\n",
              "   'friends_count': 26,\n",
              "   'geo_enabled': False,\n",
              "   'has_extended_profile': True,\n",
              "   'id': 1289362986210009089,\n",
              "   'id_str': '1289362986210009089',\n",
              "   'is_translation_enabled': False,\n",
              "   'is_translator': False,\n",
              "   'lang': None,\n",
              "   'listed_count': 0,\n",
              "   'location': 'Tokyo',\n",
              "   'name': 'Yoshitaka Nishikawa',\n",
              "   'notifications': False,\n",
              "   'profile_background_color': 'F5F8FA',\n",
              "   'profile_background_image_url': None,\n",
              "   'profile_background_image_url_https': None,\n",
              "   'profile_background_tile': False,\n",
              "   'profile_image_url': 'http://pbs.twimg.com/profile_images/1289366896702156801/AJZetPy9_normal.jpg',\n",
              "   'profile_image_url_https': 'https://pbs.twimg.com/profile_images/1289366896702156801/AJZetPy9_normal.jpg',\n",
              "   'profile_link_color': '1DA1F2',\n",
              "   'profile_sidebar_border_color': 'C0DEED',\n",
              "   'profile_sidebar_fill_color': 'DDEEF6',\n",
              "   'profile_text_color': '333333',\n",
              "   'profile_use_background_image': True,\n",
              "   'protected': True,\n",
              "   'screen_name': 'YoshitakaNishi3',\n",
              "   'statuses_count': 496,\n",
              "   'time_zone': None,\n",
              "   'translator_type': 'none',\n",
              "   'url': None,\n",
              "   'utc_offset': None,\n",
              "   'verified': False}},\n",
              " {'contributors': None,\n",
              "  'coordinates': None,\n",
              "  'created_at': 'Fri Feb 05 02:04:08 +0000 2021',\n",
              "  'entities': {'hashtags': [], 'symbols': [], 'urls': [], 'user_mentions': []},\n",
              "  'favorite_count': 0,\n",
              "  'favorited': False,\n",
              "  'geo': None,\n",
              "  'id': 1357510287314755584,\n",
              "  'id_str': '1357510287314755584',\n",
              "  'in_reply_to_screen_name': None,\n",
              "  'in_reply_to_status_id': None,\n",
              "  'in_reply_to_status_id_str': None,\n",
              "  'in_reply_to_user_id': None,\n",
              "  'in_reply_to_user_id_str': None,\n",
              "  'is_quote_status': False,\n",
              "  'lang': 'ja',\n",
              "  'place': None,\n",
              "  'retweet_count': 0,\n",
              "  'retweeted': False,\n",
              "  'source': '<a href=\"http://twitter.com/download/iphone\" rel=\"nofollow\">Twitter for iPhone</a>',\n",
              "  'text': '俺はきっと40歳で独立する。\\nグラビアアイドル乗せてオープンカーでドライブや',\n",
              "  'truncated': False,\n",
              "  'user': {'contributors_enabled': False,\n",
              "   'created_at': 'Sat Aug 01 00:51:13 +0000 2020',\n",
              "   'default_profile': True,\n",
              "   'default_profile_image': False,\n",
              "   'description': \"I worked in fasion industry over 10years. Recently,I've started to learn about Python, DX and how to run my own business in some of business school.\",\n",
              "   'entities': {'description': {'urls': []}},\n",
              "   'favourites_count': 313,\n",
              "   'follow_request_sent': False,\n",
              "   'followers_count': 8,\n",
              "   'following': False,\n",
              "   'friends_count': 26,\n",
              "   'geo_enabled': False,\n",
              "   'has_extended_profile': True,\n",
              "   'id': 1289362986210009089,\n",
              "   'id_str': '1289362986210009089',\n",
              "   'is_translation_enabled': False,\n",
              "   'is_translator': False,\n",
              "   'lang': None,\n",
              "   'listed_count': 0,\n",
              "   'location': 'Tokyo',\n",
              "   'name': 'Yoshitaka Nishikawa',\n",
              "   'notifications': False,\n",
              "   'profile_background_color': 'F5F8FA',\n",
              "   'profile_background_image_url': None,\n",
              "   'profile_background_image_url_https': None,\n",
              "   'profile_background_tile': False,\n",
              "   'profile_image_url': 'http://pbs.twimg.com/profile_images/1289366896702156801/AJZetPy9_normal.jpg',\n",
              "   'profile_image_url_https': 'https://pbs.twimg.com/profile_images/1289366896702156801/AJZetPy9_normal.jpg',\n",
              "   'profile_link_color': '1DA1F2',\n",
              "   'profile_sidebar_border_color': 'C0DEED',\n",
              "   'profile_sidebar_fill_color': 'DDEEF6',\n",
              "   'profile_text_color': '333333',\n",
              "   'profile_use_background_image': True,\n",
              "   'protected': True,\n",
              "   'screen_name': 'YoshitakaNishi3',\n",
              "   'statuses_count': 496,\n",
              "   'time_zone': None,\n",
              "   'translator_type': 'none',\n",
              "   'url': None,\n",
              "   'utc_offset': None,\n",
              "   'verified': False}}]"
            ]
          },
          "metadata": {
            "tags": []
          },
          "execution_count": 19
        }
      ]
    }
  ]
}