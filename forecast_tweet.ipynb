{
  "nbformat": 4,
  "nbformat_minor": 0,
  "metadata": {
    "kernelspec": {
      "display_name": "Python 3.8.2 64-bit ('3.8.2': pyenv)",
      "language": "python",
      "name": "python38264bit382pyenv6b9000aeffac4c6cbf993f3a207b9d06"
    },
    "language_info": {
      "codemirror_mode": {
        "name": "ipython",
        "version": 3
      },
      "file_extension": ".py",
      "mimetype": "text/x-python",
      "name": "python",
      "nbconvert_exporter": "python",
      "pygments_lexer": "ipython3",
      "version": "3.8.2"
    },
    "colab": {
      "name": "forecast_tweet.ipynb",
      "provenance": [],
      "include_colab_link": true
    }
  },
  "cells": [
    {
      "cell_type": "markdown",
      "metadata": {
        "id": "view-in-github",
        "colab_type": "text"
      },
      "source": [
        "<a href=\"https://colab.research.google.com/github/Charee-Villapong/charee-villapong/blob/master/forecast_tweet.ipynb\" target=\"_parent\"><img src=\"https://colab.research.google.com/assets/colab-badge.svg\" alt=\"Open In Colab\"/></a>"
      ]
    },
    {
      "cell_type": "code",
      "metadata": {
        "colab": {
          "base_uri": "https://localhost:8080/"
        },
        "id": "F-Dyyoib-W90",
        "outputId": "c53adf88-8682-43bd-a467-2abc17711769"
      },
      "source": [
        "# pandasのimport\n",
        "import pandas as pd\n",
        "# ツイートのCSVデータの読み込み\n",
        "df = pd.read_csv(\"/content/drive/MyDrive/prophet/NoCode_2020-05-28-23-25.csv\")\n",
        "# fbprophetのimport\n",
        "!pip install pystan\n",
        "!pip install fbprophet\n",
        "!pip install plotly\n",
        "\n"
      ],
      "execution_count": 4,
      "outputs": [
        {
          "output_type": "stream",
          "text": [
            "Requirement already satisfied: pystan in /usr/local/lib/python3.6/dist-packages (2.19.1.1)\n",
            "Requirement already satisfied: Cython!=0.25.1,>=0.22 in /usr/local/lib/python3.6/dist-packages (from pystan) (0.29.21)\n",
            "Requirement already satisfied: numpy>=1.7 in /usr/local/lib/python3.6/dist-packages (from pystan) (1.19.5)\n",
            "Requirement already satisfied: fbprophet in /usr/local/lib/python3.6/dist-packages (0.7.1)\n",
            "Requirement already satisfied: Cython>=0.22 in /usr/local/lib/python3.6/dist-packages (from fbprophet) (0.29.21)\n",
            "Requirement already satisfied: cmdstanpy==0.9.5 in /usr/local/lib/python3.6/dist-packages (from fbprophet) (0.9.5)\n",
            "Requirement already satisfied: pystan>=2.14 in /usr/local/lib/python3.6/dist-packages (from fbprophet) (2.19.1.1)\n",
            "Requirement already satisfied: numpy>=1.15.4 in /usr/local/lib/python3.6/dist-packages (from fbprophet) (1.19.5)\n",
            "Requirement already satisfied: pandas>=1.0.4 in /usr/local/lib/python3.6/dist-packages (from fbprophet) (1.1.5)\n",
            "Requirement already satisfied: matplotlib>=2.0.0 in /usr/local/lib/python3.6/dist-packages (from fbprophet) (3.2.2)\n",
            "Requirement already satisfied: LunarCalendar>=0.0.9 in /usr/local/lib/python3.6/dist-packages (from fbprophet) (0.0.9)\n",
            "Requirement already satisfied: convertdate>=2.1.2 in /usr/local/lib/python3.6/dist-packages (from fbprophet) (2.2.0)\n",
            "Requirement already satisfied: holidays>=0.10.2 in /usr/local/lib/python3.6/dist-packages (from fbprophet) (0.10.4)\n",
            "Requirement already satisfied: setuptools-git>=1.2 in /usr/local/lib/python3.6/dist-packages (from fbprophet) (1.2)\n",
            "Requirement already satisfied: python-dateutil>=2.8.0 in /usr/local/lib/python3.6/dist-packages (from fbprophet) (2.8.1)\n",
            "Requirement already satisfied: tqdm>=4.36.1 in /usr/local/lib/python3.6/dist-packages (from fbprophet) (4.41.1)\n",
            "Requirement already satisfied: pytz>=2017.2 in /usr/local/lib/python3.6/dist-packages (from pandas>=1.0.4->fbprophet) (2018.9)\n",
            "Requirement already satisfied: pyparsing!=2.0.4,!=2.1.2,!=2.1.6,>=2.0.1 in /usr/local/lib/python3.6/dist-packages (from matplotlib>=2.0.0->fbprophet) (2.4.7)\n",
            "Requirement already satisfied: cycler>=0.10 in /usr/local/lib/python3.6/dist-packages (from matplotlib>=2.0.0->fbprophet) (0.10.0)\n",
            "Requirement already satisfied: kiwisolver>=1.0.1 in /usr/local/lib/python3.6/dist-packages (from matplotlib>=2.0.0->fbprophet) (1.3.1)\n",
            "Requirement already satisfied: ephem>=3.7.5.3 in /usr/local/lib/python3.6/dist-packages (from LunarCalendar>=0.0.9->fbprophet) (3.7.7.1)\n",
            "Requirement already satisfied: pymeeus<=1,>=0.3.6 in /usr/local/lib/python3.6/dist-packages (from convertdate>=2.1.2->fbprophet) (0.3.7)\n",
            "Requirement already satisfied: six in /usr/local/lib/python3.6/dist-packages (from holidays>=0.10.2->fbprophet) (1.15.0)\n",
            "Requirement already satisfied: korean-lunar-calendar in /usr/local/lib/python3.6/dist-packages (from holidays>=0.10.2->fbprophet) (0.2.1)\n",
            "Requirement already satisfied: plotly in /usr/local/lib/python3.6/dist-packages (4.4.1)\n",
            "Requirement already satisfied: retrying>=1.3.3 in /usr/local/lib/python3.6/dist-packages (from plotly) (1.3.3)\n",
            "Requirement already satisfied: six in /usr/local/lib/python3.6/dist-packages (from plotly) (1.15.0)\n"
          ],
          "name": "stdout"
        }
      ]
    },
    {
      "cell_type": "code",
      "metadata": {
        "colab": {
          "base_uri": "https://localhost:8080/",
          "height": 197
        },
        "id": "G9XjLQt5-W93",
        "outputId": "3f2eac4f-59e1-48fe-d582-41fd1cdebe65"
      },
      "source": [
        "# 最初の5行を取得\n",
        "df.head(5)\n",
        "# 行数・列数を取得\n"
      ],
      "execution_count": 5,
      "outputs": [
        {
          "output_type": "execute_result",
          "data": {
            "text/html": [
              "<div>\n",
              "<style scoped>\n",
              "    .dataframe tbody tr th:only-of-type {\n",
              "        vertical-align: middle;\n",
              "    }\n",
              "\n",
              "    .dataframe tbody tr th {\n",
              "        vertical-align: top;\n",
              "    }\n",
              "\n",
              "    .dataframe thead th {\n",
              "        text-align: right;\n",
              "    }\n",
              "</style>\n",
              "<table border=\"1\" class=\"dataframe\">\n",
              "  <thead>\n",
              "    <tr style=\"text-align: right;\">\n",
              "      <th></th>\n",
              "      <th>Unnamed: 0</th>\n",
              "      <th>ユーザー名</th>\n",
              "      <th>ユーザーid</th>\n",
              "      <th>RT数</th>\n",
              "      <th>いいね数</th>\n",
              "      <th>日時</th>\n",
              "      <th>本文</th>\n",
              "    </tr>\n",
              "  </thead>\n",
              "  <tbody>\n",
              "    <tr>\n",
              "      <th>0</th>\n",
              "      <td>0</td>\n",
              "      <td>_NoCode</td>\n",
              "      <td>1266008783542800385</td>\n",
              "      <td>0</td>\n",
              "      <td>3</td>\n",
              "      <td>2020-05-28 23:09:49</td>\n",
              "      <td>Thanks to everyone that tuned in to our @ BAFT...</td>\n",
              "    </tr>\n",
              "    <tr>\n",
              "      <th>1</th>\n",
              "      <td>1</td>\n",
              "      <td>YaronMSK</td>\n",
              "      <td>1266008092443107328</td>\n",
              "      <td>0</td>\n",
              "      <td>1</td>\n",
              "      <td>2020-05-28 23:07:05</td>\n",
              "      <td>Thanks @ _NoCode and @ BAFTAGames for this ins...</td>\n",
              "    </tr>\n",
              "    <tr>\n",
              "      <th>2</th>\n",
              "      <td>2</td>\n",
              "      <td>cpdis</td>\n",
              "      <td>1266008019768274946</td>\n",
              "      <td>0</td>\n",
              "      <td>1</td>\n",
              "      <td>2020-05-28 23:06:47</td>\n",
              "      <td>@ webflow because I wanted to learn what this ...</td>\n",
              "    </tr>\n",
              "    <tr>\n",
              "      <th>3</th>\n",
              "      <td>3</td>\n",
              "      <td>nocodedevs</td>\n",
              "      <td>1266007968853655554</td>\n",
              "      <td>0</td>\n",
              "      <td>1</td>\n",
              "      <td>2020-05-28 23:06:35</td>\n",
              "      <td>Check out NoCodery ( @ nocodery)'s latest # no...</td>\n",
              "    </tr>\n",
              "    <tr>\n",
              "      <th>4</th>\n",
              "      <td>4</td>\n",
              "      <td>DanielDiggle</td>\n",
              "      <td>1266007553730916352</td>\n",
              "      <td>3</td>\n",
              "      <td>3</td>\n",
              "      <td>2020-05-28 23:04:56</td>\n",
              "      <td>Knights vs Goblins Assets starting to come tog...</td>\n",
              "    </tr>\n",
              "  </tbody>\n",
              "</table>\n",
              "</div>"
            ],
            "text/plain": [
              "   Unnamed: 0  ...                                                 本文\n",
              "0           0  ...  Thanks to everyone that tuned in to our @ BAFT...\n",
              "1           1  ...  Thanks @ _NoCode and @ BAFTAGames for this ins...\n",
              "2           2  ...  @ webflow because I wanted to learn what this ...\n",
              "3           3  ...  Check out NoCodery ( @ nocodery)'s latest # no...\n",
              "4           4  ...  Knights vs Goblins Assets starting to come tog...\n",
              "\n",
              "[5 rows x 7 columns]"
            ]
          },
          "metadata": {
            "tags": []
          },
          "execution_count": 5
        }
      ]
    },
    {
      "cell_type": "code",
      "metadata": {
        "id": "uO3BRX74-W93"
      },
      "source": [
        "# データの整形\n",
        "# 日時といいね数の列を取り出して新しいDataFrameを作る。\n"
      ],
      "execution_count": null,
      "outputs": []
    },
    {
      "cell_type": "code",
      "metadata": {
        "id": "1Y6Ukfpu-W93"
      },
      "source": [
        "# 日時をdatetime型にする\n"
      ],
      "execution_count": null,
      "outputs": []
    },
    {
      "cell_type": "code",
      "metadata": {
        "id": "CWRVqTjO-W93"
      },
      "source": [
        "#　日付が同じデータを足してまとめる\n"
      ],
      "execution_count": null,
      "outputs": []
    },
    {
      "cell_type": "code",
      "metadata": {
        "id": "6vfS1lVu-W94"
      },
      "source": [
        "# 通常の0から始まるindexを追加\n"
      ],
      "execution_count": null,
      "outputs": []
    },
    {
      "cell_type": "code",
      "metadata": {
        "id": "y3Xy3NGp-W94"
      },
      "source": [
        "# prophetの予測のために、dsとyをカラム名に設定\n"
      ],
      "execution_count": null,
      "outputs": []
    },
    {
      "cell_type": "code",
      "metadata": {
        "id": "pFY7CD0_-W94"
      },
      "source": [
        "# protphetのインスタンスを作成\n"
      ],
      "execution_count": null,
      "outputs": []
    },
    {
      "cell_type": "code",
      "metadata": {
        "id": "tS6OYrVw-W94"
      },
      "source": [
        "# データを元に学習\n"
      ],
      "execution_count": null,
      "outputs": []
    },
    {
      "cell_type": "code",
      "metadata": {
        "id": "ICgkxHP6-W94"
      },
      "source": [
        "# 予測する分のデータフレームの作成\n",
        "\n",
        "# 後ろから5行を表示\n"
      ],
      "execution_count": null,
      "outputs": []
    },
    {
      "cell_type": "code",
      "metadata": {
        "id": "nSpFR7XL-W94"
      },
      "source": [
        "# 予測する\n"
      ],
      "execution_count": null,
      "outputs": []
    },
    {
      "cell_type": "code",
      "metadata": {
        "id": "TpahJZoc-W94"
      },
      "source": [
        "# 予測データの描画\n"
      ],
      "execution_count": null,
      "outputs": []
    },
    {
      "cell_type": "code",
      "metadata": {
        "id": "joXueRVc-W94"
      },
      "source": [
        "# 予測データのトレンドや周期性を描画\n"
      ],
      "execution_count": null,
      "outputs": []
    },
    {
      "cell_type": "code",
      "metadata": {
        "id": "QwT6bqIr-W94"
      },
      "source": [
        "# plotlyのimport\n",
        "#from fbprophet.plot import plot_plotly\n",
        "#import plotly.offline as py"
      ],
      "execution_count": null,
      "outputs": []
    },
    {
      "cell_type": "code",
      "metadata": {
        "id": "WTXh0yHu-W95"
      },
      "source": [
        "# 予測データをインタラクティブに描画\n",
        "#fig1 = plot_plotly(m, forecast)\n",
        "#py.plot(fig1)"
      ],
      "execution_count": null,
      "outputs": []
    }
  ]
}