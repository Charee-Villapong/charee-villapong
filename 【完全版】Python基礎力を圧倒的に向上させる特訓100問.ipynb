{
  "nbformat": 4,
  "nbformat_minor": 0,
  "metadata": {
    "colab": {
      "name": "【完全版】Python基礎力を圧倒的に向上させる特訓100問.ipynb",
      "provenance": [],
      "authorship_tag": "ABX9TyNKvLt0EnrU4MUCSLQVnaGw",
      "include_colab_link": true
    },
    "kernelspec": {
      "name": "python3",
      "display_name": "Python 3"
    },
    "language_info": {
      "name": "python"
    }
  },
  "cells": [
    {
      "cell_type": "markdown",
      "metadata": {
        "id": "view-in-github",
        "colab_type": "text"
      },
      "source": [
        "<a href=\"https://colab.research.google.com/github/Charee-Villapong/charee-villapong/blob/master/%E3%80%90%E5%AE%8C%E5%85%A8%E7%89%88%E3%80%91Python%E5%9F%BA%E7%A4%8E%E5%8A%9B%E3%82%92%E5%9C%A7%E5%80%92%E7%9A%84%E3%81%AB%E5%90%91%E4%B8%8A%E3%81%95%E3%81%9B%E3%82%8B%E7%89%B9%E8%A8%93100%E5%95%8F.ipynb\" target=\"_parent\"><img src=\"https://colab.research.google.com/assets/colab-badge.svg\" alt=\"Open In Colab\"/></a>"
      ]
    },
    {
      "cell_type": "markdown",
      "metadata": {
        "id": "eyRbxMSebtuX"
      },
      "source": [
        "https://www.youtube.com/watch?v=Gh0qRBHbnVs&t=722s\n",
        "**【完全版】Python基礎力を圧倒的に向上させる特訓100問**"
      ]
    },
    {
      "cell_type": "code",
      "metadata": {
        "colab": {
          "base_uri": "https://localhost:8080/"
        },
        "id": "YkEoYdGvbofb",
        "outputId": "926a485f-5c78-450b-9a60-55b80920fcd8"
      },
      "source": [
        "message = \"　ここのケーキはいつ食べても美味しいね。　\"\n",
        "print(message.strip())"
      ],
      "execution_count": 1,
      "outputs": [
        {
          "output_type": "stream",
          "text": [
            "ここのケーキはいつ食べても美味しいね。\n"
          ],
          "name": "stdout"
        }
      ]
    },
    {
      "cell_type": "code",
      "metadata": {
        "colab": {
          "base_uri": "https://localhost:8080/",
          "height": 35
        },
        "id": "RBm-QYUVb_9_",
        "outputId": "2c618d72-f383-4f74-bca5-5e87bcc9c724"
      },
      "source": [
        "message = \"今日は晴れですね。\"\n",
        "message.replace(\"晴れ\",\"雨\")"
      ],
      "execution_count": 2,
      "outputs": [
        {
          "output_type": "execute_result",
          "data": {
            "application/vnd.google.colaboratory.intrinsic+json": {
              "type": "string"
            },
            "text/plain": [
              "'今日は雨ですね。'"
            ]
          },
          "metadata": {
            "tags": []
          },
          "execution_count": 2
        }
      ]
    },
    {
      "cell_type": "code",
      "metadata": {
        "colab": {
          "base_uri": "https://localhost:8080/"
        },
        "id": "fxEJTdeZcTGM",
        "outputId": "6145672b-990d-456d-f6b7-5c6186c821f5"
      },
      "source": [
        "message = \"今夜は月が綺麗だ\"\n",
        "message.find(\"月\")"
      ],
      "execution_count": 3,
      "outputs": [
        {
          "output_type": "execute_result",
          "data": {
            "text/plain": [
              "3"
            ]
          },
          "metadata": {
            "tags": []
          },
          "execution_count": 3
        }
      ]
    },
    {
      "cell_type": "code",
      "metadata": {
        "colab": {
          "base_uri": "https://localhost:8080/"
        },
        "id": "XM9e5jQXcc2y",
        "outputId": "7ff4b15e-6061-4e36-d5a0-c317e56a3ca1"
      },
      "source": [
        "X = 1\n",
        "type(X)"
      ],
      "execution_count": 5,
      "outputs": [
        {
          "output_type": "execute_result",
          "data": {
            "text/plain": [
              "int"
            ]
          },
          "metadata": {
            "tags": []
          },
          "execution_count": 5
        }
      ]
    },
    {
      "cell_type": "code",
      "metadata": {
        "colab": {
          "base_uri": "https://localhost:8080/",
          "height": 35
        },
        "id": "hiIbIU84cjMn",
        "outputId": "fcc82027-e8f7-4df9-a36f-3a0fb1f2c1a0"
      },
      "source": [
        "str(X)"
      ],
      "execution_count": 6,
      "outputs": [
        {
          "output_type": "execute_result",
          "data": {
            "application/vnd.google.colaboratory.intrinsic+json": {
              "type": "string"
            },
            "text/plain": [
              "'1'"
            ]
          },
          "metadata": {
            "tags": []
          },
          "execution_count": 6
        }
      ]
    },
    {
      "cell_type": "code",
      "metadata": {
        "id": "f1ZXG0OUc4e6"
      },
      "source": [
        "a,b = \"zxy\",\"bcdas\""
      ],
      "execution_count": 8,
      "outputs": []
    },
    {
      "cell_type": "code",
      "metadata": {
        "colab": {
          "base_uri": "https://localhost:8080/"
        },
        "id": "f_IpEAMNc8cA",
        "outputId": "747e8738-fc10-4ec9-ff0a-642c470f47a5"
      },
      "source": [
        "a in b"
      ],
      "execution_count": 12,
      "outputs": [
        {
          "output_type": "execute_result",
          "data": {
            "text/plain": [
              "False"
            ]
          },
          "metadata": {
            "tags": []
          },
          "execution_count": 12
        }
      ]
    },
    {
      "cell_type": "code",
      "metadata": {
        "colab": {
          "base_uri": "https://localhost:8080/"
        },
        "id": "6eeuiLfjdFN8",
        "outputId": "6dda130d-7dce-495f-ec25-fe3e095b2a27"
      },
      "source": [
        "numbers = [0,3,8,9,0,1]\n",
        "numbers[2]"
      ],
      "execution_count": 15,
      "outputs": [
        {
          "output_type": "execute_result",
          "data": {
            "text/plain": [
              "8"
            ]
          },
          "metadata": {
            "tags": []
          },
          "execution_count": 15
        }
      ]
    },
    {
      "cell_type": "code",
      "metadata": {
        "colab": {
          "base_uri": "https://localhost:8080/"
        },
        "id": "iqxxp-COdUi1",
        "outputId": "a22b567a-e4b4-4aed-de7e-9612db92b4a6"
      },
      "source": [
        "numbers[-1]"
      ],
      "execution_count": 16,
      "outputs": [
        {
          "output_type": "execute_result",
          "data": {
            "text/plain": [
              "1"
            ]
          },
          "metadata": {
            "tags": []
          },
          "execution_count": 16
        }
      ]
    },
    {
      "cell_type": "code",
      "metadata": {
        "id": "pPlwL3u1dY27"
      },
      "source": [
        "numbers.append(3)"
      ],
      "execution_count": 18,
      "outputs": []
    },
    {
      "cell_type": "code",
      "metadata": {
        "colab": {
          "base_uri": "https://localhost:8080/"
        },
        "id": "3bBOUZrGdcgK",
        "outputId": "816f3607-1d1d-466f-ae6a-5187583575dc"
      },
      "source": [
        "numbers"
      ],
      "execution_count": 19,
      "outputs": [
        {
          "output_type": "execute_result",
          "data": {
            "text/plain": [
              "[0, 3, 8, 9, 0, 1, 3]"
            ]
          },
          "metadata": {
            "tags": []
          },
          "execution_count": 19
        }
      ]
    },
    {
      "cell_type": "code",
      "metadata": {
        "id": "CganpATqdfzB"
      },
      "source": [
        "numbers.insert(3,6)"
      ],
      "execution_count": 20,
      "outputs": []
    },
    {
      "cell_type": "code",
      "metadata": {
        "colab": {
          "base_uri": "https://localhost:8080/"
        },
        "id": "8Ox57H25dl54",
        "outputId": "0cd5de9e-dbfc-407c-be7c-2f3222bcf1d9"
      },
      "source": [
        "numbers"
      ],
      "execution_count": 21,
      "outputs": [
        {
          "output_type": "execute_result",
          "data": {
            "text/plain": [
              "[0, 3, 8, 6, 9, 0, 1, 3]"
            ]
          },
          "metadata": {
            "tags": []
          },
          "execution_count": 21
        }
      ]
    },
    {
      "cell_type": "code",
      "metadata": {
        "id": "3z0U-zyJdm-P"
      },
      "source": [
        "numbers.insert(-1,13)"
      ],
      "execution_count": 22,
      "outputs": []
    },
    {
      "cell_type": "code",
      "metadata": {
        "colab": {
          "base_uri": "https://localhost:8080/"
        },
        "id": "0WgddKoBdwTS",
        "outputId": "dfed4777-29c5-4bdb-8f43-38514a8f727e"
      },
      "source": [
        "numbers"
      ],
      "execution_count": 23,
      "outputs": [
        {
          "output_type": "execute_result",
          "data": {
            "text/plain": [
              "[0, 3, 8, 6, 9, 0, 1, 13, 3]"
            ]
          },
          "metadata": {
            "tags": []
          },
          "execution_count": 23
        }
      ]
    },
    {
      "cell_type": "code",
      "metadata": {
        "id": "WkpIl8KgdyP4"
      },
      "source": [
        "numbers.remove(3)"
      ],
      "execution_count": 24,
      "outputs": []
    },
    {
      "cell_type": "code",
      "metadata": {
        "colab": {
          "base_uri": "https://localhost:8080/"
        },
        "id": "pxmk502gd8Ob",
        "outputId": "b626e761-fe3c-4ff7-8f22-31baa6e56ba5"
      },
      "source": [
        "numbers"
      ],
      "execution_count": 25,
      "outputs": [
        {
          "output_type": "execute_result",
          "data": {
            "text/plain": [
              "[0, 8, 6, 9, 0, 1, 13, 3]"
            ]
          },
          "metadata": {
            "tags": []
          },
          "execution_count": 25
        }
      ]
    },
    {
      "cell_type": "code",
      "metadata": {
        "colab": {
          "base_uri": "https://localhost:8080/"
        },
        "id": "7Lc5K13Td_WN",
        "outputId": "69964f2a-66de-42a4-e816-15729ff447da"
      },
      "source": [
        "numbers.pop(-3)"
      ],
      "execution_count": 26,
      "outputs": [
        {
          "output_type": "execute_result",
          "data": {
            "text/plain": [
              "1"
            ]
          },
          "metadata": {
            "tags": []
          },
          "execution_count": 26
        }
      ]
    },
    {
      "cell_type": "code",
      "metadata": {
        "colab": {
          "base_uri": "https://localhost:8080/"
        },
        "id": "B7inZPP9eImr",
        "outputId": "022ad320-7672-46a6-d46e-b904752be21f"
      },
      "source": [
        "numbers"
      ],
      "execution_count": 27,
      "outputs": [
        {
          "output_type": "execute_result",
          "data": {
            "text/plain": [
              "[0, 8, 6, 9, 0, 13, 3]"
            ]
          },
          "metadata": {
            "tags": []
          },
          "execution_count": 27
        }
      ]
    },
    {
      "cell_type": "code",
      "metadata": {
        "id": "l90HNkVweKJg"
      },
      "source": [
        "def even(number):\n",
        "    if number % 2==0:\n",
        "        print(f\"This number,{number} is even\")\n",
        "        return True\n",
        "    else:\n",
        "        print(f\"This number,{number}is odd\")\n",
        "        return False"
      ],
      "execution_count": 30,
      "outputs": []
    },
    {
      "cell_type": "code",
      "metadata": {
        "colab": {
          "base_uri": "https://localhost:8080/"
        },
        "id": "SivjTl5Ge-1h",
        "outputId": "b689fd8c-ffd0-4479-95d7-ad6833ee8fd6"
      },
      "source": [
        "even(2)"
      ],
      "execution_count": 31,
      "outputs": [
        {
          "output_type": "stream",
          "text": [
            "This number,2 is even\n"
          ],
          "name": "stdout"
        },
        {
          "output_type": "execute_result",
          "data": {
            "text/plain": [
              "True"
            ]
          },
          "metadata": {
            "tags": []
          },
          "execution_count": 31
        }
      ]
    },
    {
      "cell_type": "code",
      "metadata": {
        "colab": {
          "base_uri": "https://localhost:8080/"
        },
        "id": "QNZE9rcUfBQh",
        "outputId": "d567dedf-9cb7-4899-f25d-af3984610c7e"
      },
      "source": [
        "list(filter(even,numbers))"
      ],
      "execution_count": 33,
      "outputs": [
        {
          "output_type": "stream",
          "text": [
            "This number,0 is even\n",
            "This number,8 is even\n",
            "This number,6 is even\n",
            "This number,9is odd\n",
            "This number,0 is even\n",
            "This number,13is odd\n",
            "This number,3is odd\n"
          ],
          "name": "stdout"
        },
        {
          "output_type": "execute_result",
          "data": {
            "text/plain": [
              "[0, 8, 6, 0]"
            ]
          },
          "metadata": {
            "tags": []
          },
          "execution_count": 33
        }
      ]
    },
    {
      "cell_type": "code",
      "metadata": {
        "colab": {
          "base_uri": "https://localhost:8080/"
        },
        "id": "C_ZXpG7cfSvA",
        "outputId": "5a5e4658-618f-430b-e93a-0292c6173fb1"
      },
      "source": [
        "numbers.index(9)"
      ],
      "execution_count": 34,
      "outputs": [
        {
          "output_type": "execute_result",
          "data": {
            "text/plain": [
              "3"
            ]
          },
          "metadata": {
            "tags": []
          },
          "execution_count": 34
        }
      ]
    },
    {
      "cell_type": "code",
      "metadata": {
        "colab": {
          "base_uri": "https://localhost:8080/"
        },
        "id": "sDl8K6Boflsw",
        "outputId": "93d1857c-0758-4ab2-9000-69d3288186ea"
      },
      "source": [
        "numbers.sort()\n",
        "numbers"
      ],
      "execution_count": 36,
      "outputs": [
        {
          "output_type": "execute_result",
          "data": {
            "text/plain": [
              "[0, 0, 3, 6, 8, 9, 13]"
            ]
          },
          "metadata": {
            "tags": []
          },
          "execution_count": 36
        }
      ]
    },
    {
      "cell_type": "code",
      "metadata": {
        "colab": {
          "base_uri": "https://localhost:8080/"
        },
        "id": "Blxxfcxmfwf-",
        "outputId": "4eda2e3c-7a85-41b7-e59d-c09206e7d838"
      },
      "source": [
        "numbers.sort(reverse=True)\n",
        "numbers"
      ],
      "execution_count": 38,
      "outputs": [
        {
          "output_type": "execute_result",
          "data": {
            "text/plain": [
              "[13, 9, 8, 6, 3, 0, 0]"
            ]
          },
          "metadata": {
            "tags": []
          },
          "execution_count": 38
        }
      ]
    },
    {
      "cell_type": "code",
      "metadata": {
        "colab": {
          "base_uri": "https://localhost:8080/"
        },
        "id": "b2eklEK8f1lT",
        "outputId": "8e7b3e10-a5f3-4fc9-b8e8-8dfed9462743"
      },
      "source": [
        "dictionary = {\n",
        "    \"A\":\"西川\",\n",
        "    \"B\":\"宗内\",\n",
        "    \"C\":\"井元\",\n",
        "    \"D\":\"男性\",\n",
        "    \"E\":\"海外\",\n",
        "    \"F\":\"日本\"\n",
        "    }\n",
        "dictionary"
      ],
      "execution_count": 39,
      "outputs": [
        {
          "output_type": "execute_result",
          "data": {
            "text/plain": [
              "{'A': '西川', 'B': '宗内', 'C': '井元', 'D': '男性', 'E': '海外', 'F': '日本'}"
            ]
          },
          "metadata": {
            "tags": []
          },
          "execution_count": 39
        }
      ]
    },
    {
      "cell_type": "code",
      "metadata": {
        "colab": {
          "base_uri": "https://localhost:8080/",
          "height": 35
        },
        "id": "x7s7f8_WgYeB",
        "outputId": "28fc9f8e-0163-4ef4-99d5-46c83177166c"
      },
      "source": [
        "dictionary.pop(\"A\")"
      ],
      "execution_count": 41,
      "outputs": [
        {
          "output_type": "execute_result",
          "data": {
            "application/vnd.google.colaboratory.intrinsic+json": {
              "type": "string"
            },
            "text/plain": [
              "'西川'"
            ]
          },
          "metadata": {
            "tags": []
          },
          "execution_count": 41
        }
      ]
    },
    {
      "cell_type": "code",
      "metadata": {
        "colab": {
          "base_uri": "https://localhost:8080/"
        },
        "id": "vYRqy7J6gcxH",
        "outputId": "eeeacc2a-daf8-4cc5-e14b-ce6215a4fda1"
      },
      "source": [
        "dictionary"
      ],
      "execution_count": 42,
      "outputs": [
        {
          "output_type": "execute_result",
          "data": {
            "text/plain": [
              "{'B': '宗内', 'C': '井元', 'D': '男性', 'E': '海外', 'F': '日本'}"
            ]
          },
          "metadata": {
            "tags": []
          },
          "execution_count": 42
        }
      ]
    },
    {
      "cell_type": "code",
      "metadata": {
        "colab": {
          "base_uri": "https://localhost:8080/",
          "height": 35
        },
        "id": "HtsLtbbFgg88",
        "outputId": "7f8ef807-973d-4029-b6bf-e4509b426c43"
      },
      "source": [
        "dictionary.pop(\"B\")"
      ],
      "execution_count": 44,
      "outputs": [
        {
          "output_type": "execute_result",
          "data": {
            "application/vnd.google.colaboratory.intrinsic+json": {
              "type": "string"
            },
            "text/plain": [
              "'宗内'"
            ]
          },
          "metadata": {
            "tags": []
          },
          "execution_count": 44
        }
      ]
    },
    {
      "cell_type": "code",
      "metadata": {
        "id": "kKy1weCigl9s"
      },
      "source": [
        "dictionary.clear()"
      ],
      "execution_count": 45,
      "outputs": []
    },
    {
      "cell_type": "code",
      "metadata": {
        "colab": {
          "base_uri": "https://localhost:8080/"
        },
        "id": "Z9I9W5-Ugp4N",
        "outputId": "0c40d76a-efc0-4bb5-86d2-dd9cf8a1f820"
      },
      "source": [
        "dictionary"
      ],
      "execution_count": 46,
      "outputs": [
        {
          "output_type": "execute_result",
          "data": {
            "text/plain": [
              "{}"
            ]
          },
          "metadata": {
            "tags": []
          },
          "execution_count": 46
        }
      ]
    },
    {
      "cell_type": "code",
      "metadata": {
        "colab": {
          "base_uri": "https://localhost:8080/"
        },
        "id": "PLWEJL0bgrHF",
        "outputId": "7ed770f0-25e5-4b51-f79b-5b77d0b365f0"
      },
      "source": [
        "dictionary2 = {\n",
        "    \"A\":\"西川\",\n",
        "    \"B\":\"宗内\",\n",
        "    \"C\":\"井元\",\n",
        "    \"D\":\"男性\",\n",
        "    \"E\":\"海外\",\n",
        "    \"F\":\"日本\"\n",
        "    }\n",
        "dictionary2"
      ],
      "execution_count": 47,
      "outputs": [
        {
          "output_type": "execute_result",
          "data": {
            "text/plain": [
              "{'A': '西川', 'B': '宗内', 'C': '井元', 'D': '男性', 'E': '海外', 'F': '日本'}"
            ]
          },
          "metadata": {
            "tags": []
          },
          "execution_count": 47
        }
      ]
    },
    {
      "cell_type": "code",
      "metadata": {
        "colab": {
          "base_uri": "https://localhost:8080/"
        },
        "id": "EfrPkpSwgvEc",
        "outputId": "6c50b61b-4227-4219-bad9-72446fd742a6"
      },
      "source": [
        "dictionary2.keys()"
      ],
      "execution_count": 50,
      "outputs": [
        {
          "output_type": "execute_result",
          "data": {
            "text/plain": [
              "dict_keys(['A', 'B', 'C', 'D', 'E', 'F'])"
            ]
          },
          "metadata": {
            "tags": []
          },
          "execution_count": 50
        }
      ]
    },
    {
      "cell_type": "code",
      "metadata": {
        "colab": {
          "base_uri": "https://localhost:8080/"
        },
        "id": "O3EvWTWHgxLb",
        "outputId": "e2a2ce59-85b4-408e-8c35-acf5a93f8e2f"
      },
      "source": [
        "\"男性\" in dictionary2.values()"
      ],
      "execution_count": 54,
      "outputs": [
        {
          "output_type": "execute_result",
          "data": {
            "text/plain": [
              "True"
            ]
          },
          "metadata": {
            "tags": []
          },
          "execution_count": 54
        }
      ]
    },
    {
      "cell_type": "code",
      "metadata": {
        "colab": {
          "base_uri": "https://localhost:8080/"
        },
        "id": "fIOw5fZ9g3ET",
        "outputId": "de22d790-2d2b-4d32-9f08-060fc1717e1d"
      },
      "source": [
        "for key,value in dictionary2.items():\n",
        "    print(f\"{key},{value}\")"
      ],
      "execution_count": 55,
      "outputs": [
        {
          "output_type": "stream",
          "text": [
            "A,西川\n",
            "B,宗内\n",
            "C,井元\n",
            "D,男性\n",
            "E,海外\n",
            "F,日本\n"
          ],
          "name": "stdout"
        }
      ]
    },
    {
      "cell_type": "code",
      "metadata": {
        "colab": {
          "base_uri": "https://localhost:8080/",
          "height": 35
        },
        "id": "jsxkcpvvhTui",
        "outputId": "0bdadb74-c52e-4bd7-ad6c-fb27adc6b8bf"
      },
      "source": [
        "dictionary2.get(\"C\")"
      ],
      "execution_count": 57,
      "outputs": [
        {
          "output_type": "execute_result",
          "data": {
            "application/vnd.google.colaboratory.intrinsic+json": {
              "type": "string"
            },
            "text/plain": [
              "'井元'"
            ]
          },
          "metadata": {
            "tags": []
          },
          "execution_count": 57
        }
      ]
    },
    {
      "cell_type": "code",
      "metadata": {
        "colab": {
          "base_uri": "https://localhost:8080/"
        },
        "id": "meic-vsZhuQ7",
        "outputId": "7a2b8973-28d5-4dd0-f6db-0b22ab03692c"
      },
      "source": [
        "num = 0\n",
        "try:\n",
        "    print(f\"計算結果：{10/num}\")\n",
        "except ZeroDivisionError as e:\n",
        "    print(e)"
      ],
      "execution_count": 73,
      "outputs": [
        {
          "output_type": "stream",
          "text": [
            "division by zero\n"
          ],
          "name": "stdout"
        }
      ]
    },
    {
      "cell_type": "code",
      "metadata": {
        "colab": {
          "base_uri": "https://localhost:8080/",
          "height": 185
        },
        "id": "SI1mPxU1ipY-",
        "outputId": "2b4fdf94-d1c7-4476-d632-ca3a7491684a"
      },
      "source": [
        "num = 0\n",
        "print(f\"計算結果：{10/num}\")"
      ],
      "execution_count": 74,
      "outputs": [
        {
          "output_type": "error",
          "ename": "ZeroDivisionError",
          "evalue": "ignored",
          "traceback": [
            "\u001b[0;31m---------------------------------------------------------------------------\u001b[0m",
            "\u001b[0;31mZeroDivisionError\u001b[0m                         Traceback (most recent call last)",
            "\u001b[0;32m<ipython-input-74-931fd1f0e440>\u001b[0m in \u001b[0;36m<module>\u001b[0;34m()\u001b[0m\n\u001b[1;32m      1\u001b[0m \u001b[0mnum\u001b[0m \u001b[0;34m=\u001b[0m \u001b[0;36m0\u001b[0m\u001b[0;34m\u001b[0m\u001b[0;34m\u001b[0m\u001b[0m\n\u001b[0;32m----> 2\u001b[0;31m \u001b[0mprint\u001b[0m\u001b[0;34m(\u001b[0m\u001b[0;34mf\"計算結果：{10/num}\"\u001b[0m\u001b[0;34m)\u001b[0m\u001b[0;34m\u001b[0m\u001b[0;34m\u001b[0m\u001b[0m\n\u001b[0m",
            "\u001b[0;31mZeroDivisionError\u001b[0m: division by zero"
          ]
        }
      ]
    },
    {
      "cell_type": "code",
      "metadata": {
        "id": "d22FkJVsjO_C"
      },
      "source": [
        "def devide(a,b):\n",
        "    try:\n",
        "        print(f\"計算結果:{a/b}\")\n",
        "    except ZeroDivisionError as e:\n",
        "        print(e)\n",
        "    except TypeError as e:\n",
        "        pass\n",
        "    finally:\n",
        "        print(\"すべての処理が終了しました\")"
      ],
      "execution_count": 91,
      "outputs": []
    },
    {
      "cell_type": "code",
      "metadata": {
        "colab": {
          "base_uri": "https://localhost:8080/"
        },
        "id": "rSnjhW9ql8OJ",
        "outputId": "567d65b1-6324-4e4c-ee39-465cd2b81915"
      },
      "source": [
        "devide(10,\"\")"
      ],
      "execution_count": 92,
      "outputs": [
        {
          "output_type": "stream",
          "text": [
            "すべての処理が終了しました\n"
          ],
          "name": "stdout"
        }
      ]
    },
    {
      "cell_type": "code",
      "metadata": {
        "colab": {
          "base_uri": "https://localhost:8080/"
        },
        "id": "aH8OAgdsmEno",
        "outputId": "7c939e75-68d6-430c-81a3-5aea46439403"
      },
      "source": [
        "devide(10,0)"
      ],
      "execution_count": 93,
      "outputs": [
        {
          "output_type": "stream",
          "text": [
            "division by zero\n",
            "すべての処理が終了しました\n"
          ],
          "name": "stdout"
        }
      ]
    },
    {
      "cell_type": "code",
      "metadata": {
        "colab": {
          "base_uri": "https://localhost:8080/"
        },
        "id": "9jrCcvMxmGZ0",
        "outputId": "58876e2e-fb2c-44e2-d69e-b90f1bd47ba6"
      },
      "source": [
        "devide(10,2)"
      ],
      "execution_count": 94,
      "outputs": [
        {
          "output_type": "stream",
          "text": [
            "計算結果:5.0\n",
            "すべての処理が終了しました\n"
          ],
          "name": "stdout"
        }
      ]
    },
    {
      "cell_type": "code",
      "metadata": {
        "id": "kWThH72zmtOs"
      },
      "source": [
        ""
      ],
      "execution_count": null,
      "outputs": []
    }
  ]
}