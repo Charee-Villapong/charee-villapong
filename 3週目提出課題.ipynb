{
 "cells": [
  {
   "cell_type": "markdown",
   "metadata": {},
   "source": [
    "# ３週目提出課題\n",
    "## 以下の設問に対して正しい結果が得られるプログラムを書いてください。\n",
    "\n",
    "### 辞書課題\n",
    "dicと言う変数に，値の組みとして{'A':1, 'B':2, 'C':3, 'D':4, 'E':5}を持つ辞書を作成してください。<br>\n",
    "作成後にprint関数で辞書の内容を確認してください。<br>\n",
    "期待する表示<br>\n",
    "{'A': 1, 'B': 2, 'C': 3, 'D': 4, 'E': 5}"
   ]
  },
  {
   "cell_type": "code",
   "execution_count": null,
   "metadata": {},
   "outputs": [],
   "source": []
  },
  {
   "cell_type": "markdown",
   "metadata": {},
   "source": [
    "上記で作成した辞書dicに対して、キーがCとなるデータの値を取得して表示してください。\n"
   ]
  },
  {
   "cell_type": "code",
   "execution_count": null,
   "metadata": {},
   "outputs": [],
   "source": []
  },
  {
   "cell_type": "markdown",
   "metadata": {},
   "source": [
    ".values()とすることで，登録されている全ての値のみを得ることが出来ます。<br>\n",
    "辞書変数に.values()を付けprintで表示してください。<br>\n",
    "期待する表示<br>\n",
    "dict_values([1, 2, 3, 4, 5])"
   ]
  },
  {
   "cell_type": "code",
   "execution_count": null,
   "metadata": {},
   "outputs": [],
   "source": []
  },
  {
   "cell_type": "markdown",
   "metadata": {},
   "source": [
    ".keys()とすることで，登録されている全ての値のみを得ることが出来ます。<br>\n",
    "辞書変数に.keys()を付けprintで表示してください。<br>\n",
    "期待する表示<br>\n",
    "dict_keys(['A', 'B', 'C', 'D', 'E'])"
   ]
  },
  {
   "cell_type": "code",
   "execution_count": null,
   "metadata": {},
   "outputs": [],
   "source": []
  },
  {
   "cell_type": "markdown",
   "metadata": {},
   "source": [
    "辞書の内容をリストにすることが出来ます。<br>\n",
    "辞書をリストにするにはlist()を使用します。<br>\n",
    "例：辞書内の値をリストにする場合<br>\n",
    "list(dic.values())<br>\n",
    "\n",
    "では、上記で作成しているdicという辞書内のすべての値をリストにして、printでリストにした辞書内の値を表示してください。\n",
    "この時、リストにつける変数名はdic_valとしてください。<br>\n",
    "期待する表示<br>\n",
    "[1, 2, 3, 4, 5]"
   ]
  },
  {
   "cell_type": "code",
   "execution_count": null,
   "metadata": {},
   "outputs": [],
   "source": []
  },
  {
   "cell_type": "markdown",
   "metadata": {},
   "source": [
    "上記と同様の方法で、辞書内のキーをリストに出来るはずです。<br>\n",
    "辞書内のキーをリストにしてprintで表示させてください。<br>\n",
    "期待する表示<br>\n",
    "['A', 'B', 'C', 'D', 'E']"
   ]
  },
  {
   "cell_type": "code",
   "execution_count": null,
   "metadata": {},
   "outputs": [],
   "source": []
  },
  {
   "cell_type": "markdown",
   "metadata": {},
   "source": [
    "辞書をタプルにすることも出来ます。<br>\n",
    "タプルにするのはtuple()を使用します。<br>\n",
    "では、辞書のキーと値をそれぞれタプルにしてprintで表示してください。<br>\n",
    "期待する表示<br>\n",
    "('A', 'B', 'C', 'D', 'E')<br>\n",
    "(1, 2, 3, 4, 5)"
   ]
  },
  {
   "cell_type": "code",
   "execution_count": null,
   "metadata": {},
   "outputs": [],
   "source": []
  },
  {
   "cell_type": "markdown",
   "metadata": {},
   "source": [
    "### セット課題\n",
    "\n",
    "[1,2,3,4,5]というリストと、[3,4,5,6,7]というリストから2つの集合（set）を作成し、その\n",
    "和集合を表示してください。"
   ]
  },
  {
   "cell_type": "code",
   "execution_count": null,
   "metadata": {},
   "outputs": [],
   "source": []
  },
  {
   "cell_type": "markdown",
   "metadata": {},
   "source": [
    "上記で作成した２つの集合の交わり（積集合）を表示してください。\n"
   ]
  },
  {
   "cell_type": "code",
   "execution_count": null,
   "metadata": {},
   "outputs": [],
   "source": []
  },
  {
   "cell_type": "markdown",
   "metadata": {},
   "source": [
    "### 条件分岐課題\n",
    "\n",
    "変数aに5を代入，変数bに10を代入しても，<br>\n",
    "変数aに10を代入，変数bに5を代入しても、aとbのうち大きい方を数値が出力されるプログラムを作成してください。<br>"
   ]
  },
  {
   "cell_type": "code",
   "execution_count": null,
   "metadata": {},
   "outputs": [],
   "source": []
  },
  {
   "cell_type": "markdown",
   "metadata": {},
   "source": [
    "変数aに数値を代入し，aが偶数ならTrue，そうでなければFalseを出力するプログラムを作成してください。(条件式をそのままprintすれば良いです)<br>\n",
    "数値の奇数か偶数を判断するにはどうすればよいかよく考えましょう。"
   ]
  },
  {
   "cell_type": "code",
   "execution_count": null,
   "metadata": {},
   "outputs": [],
   "source": []
  },
  {
   "cell_type": "markdown",
   "metadata": {},
   "source": [
    "少し実用的なプログラムとして、健康のためにBMIをチェックするプログラムを作成してみましょう。<br>\n",
    "BMIは以下の公式で求めることが出来ます。<br>\n",
    "BMI＝体重(kg)÷身長(m)の二乗<br>\n",
    "\n",
    "身長と体重を変数に入力して、BMIの判定基準に従って、18.5未満→痩せすぎ、18.5〜25未満→標準、25〜30未満→肥満、30以上→高度肥満という判定を表示するプログラムを作りなさい。<br>\n",
    "身長はメートル換算なので175cmならば1.75言う入力になります。\n",
    "表示結果は以下の実行結果例のように表示するものとします。\n",
    "\n",
    "実行結果例（身長1.75m　体重63Kgの場合\n",
    "BMI値 = 20.571428571428573<br>\n",
    "あなたは「標準」です。"
   ]
  },
  {
   "cell_type": "code",
   "execution_count": null,
   "metadata": {},
   "outputs": [],
   "source": []
  },
  {
   "cell_type": "markdown",
   "metadata": {},
   "source": [
    "### 繰り返し for文課題\n",
    "[1,2,3,4,5,6,7,8,9,10]の10個の要素を持つリストから，偶数の要素だけ出力してください。\n"
   ]
  },
  {
   "cell_type": "code",
   "execution_count": null,
   "metadata": {},
   "outputs": [],
   "source": []
  },
  {
   "cell_type": "markdown",
   "metadata": {},
   "source": [
    "現在、八百屋さんに売っている果物は次の果物が売っていたとします。<br>\n",
    "メロン、リンゴ、桃<br>\n",
    "あなたは、友達の好きな果物のメモを持っています。<br>\n",
    "友達の好きな果物は次です。\n",
    "リンゴ、みかん、バナナ<br>\n",
    "そのリストと比較して、友達の好きな果物かどうかを判定するプログラムをfor文を使用して作成してください。<br>\n",
    "\n",
    "- プログラムでは、売っている果物と友達が好きな果物はリストを使用してください。<br>\n",
    "- それぞれのリストの内容をfor文を使用して目的のプログラムを作成してください。\n",
    "- 表示は友達が好きな果物のみ表示し、表示結果は以下のように表示してください。<br>\n",
    "リンゴは友達が好きな果物です。<br>\n",
    "\n",
    "ヒント：<br>\n",
    "２つのリストを使用するのでfor文の中にfor文が含まれる様にすると良いです。\n"
   ]
  },
  {
   "cell_type": "code",
   "execution_count": null,
   "metadata": {},
   "outputs": [],
   "source": []
  },
  {
   "cell_type": "markdown",
   "metadata": {},
   "source": [
    "### 繰り返し while文課題\n",
    "１から10までを順番に足し続けていくプログラムをwhile文を使用して作成してください。<br>"
   ]
  },
  {
   "cell_type": "code",
   "execution_count": null,
   "metadata": {},
   "outputs": [],
   "source": []
  },
  {
   "cell_type": "markdown",
   "metadata": {},
   "source": [
    "初日は1円、翌日は2円、翌々日は4円というように翌日には2倍の金額を 貯金して合計1万円を超えた日までを、下記の実行結果のように 表示させるプログラムを作成してください。<br>\n",
    "表示例<br>\n",
    "1日目の預金額は1です。<br>\n",
    "2日目の預金額は3です。<br>\n",
    "3日目の預金額は7です。<br>\n",
    "4日目の預金額は15です。<br>\n",
    "5日目の預金額は31です。<br>\n",
    "6日目の預金額は63です。<br>\n",
    "7日目の預金額は127です。<br>\n",
    "8日目の預金額は255です。<br>\n",
    "9日目の預金額は511です。<br>\n",
    "10日目の預金額は1023です。<br>\n",
    "11日目の預金額は2047です。<br>\n",
    "12日目の預金額は4095です。<br>\n",
    "13日目の預金額は8191です。<br>\n",
    "14日目の預金額は16383です。<br>"
   ]
  },
  {
   "cell_type": "code",
   "execution_count": null,
   "metadata": {},
   "outputs": [],
   "source": []
  },
  {
   "cell_type": "markdown",
   "metadata": {},
   "source": [
    "### 内包表記課題\n",
    "10個の数値を持つdataというリストがあります。<br>\n",
    "[15,99,34,84,55,41,67,36,29,79]<br>\n",
    "このdataリストから50以上の値だけを抽出した新しいover50というリストを内包表記を用いて作成し、over50リストの内容を表示してください。"
   ]
  },
  {
   "cell_type": "code",
   "execution_count": null,
   "metadata": {},
   "outputs": [],
   "source": []
  },
  {
   "cell_type": "markdown",
   "metadata": {},
   "source": [
    "### 関数課題\n",
    "店内飲食の場合とテイクアウトの場合の税込み価格を計算するtax関数を作成してください。<br>\n",
    "tax関数は税抜き価格を受け取る引数を持つものとします。<br>\n",
    "tax関数内での税利率は、店内飲食の税率は10%、テイクアウトの税率は8%とします。<br>\n",
    "また、tax関数で計算した税込み価格は関数の戻り値として呼び出し元へ返すものとします。<br>\n",
    "tax関数を呼び出し以降の表示は以下のような表示を行うプログラムを作成してください。（小数点以下は切り捨て）<br>\n",
    "表示例：<br>\n",
    "税抜き500円の商品は、店内飲食税込み価格550円 テイクアウト税込み価格540円です"
   ]
  },
  {
   "cell_type": "code",
   "execution_count": null,
   "metadata": {},
   "outputs": [],
   "source": []
  }
 ],
 "metadata": {
  "kernelspec": {
   "display_name": "Python 3",
   "language": "python",
   "name": "python3"
  },
  "language_info": {
   "codemirror_mode": {
    "name": "ipython",
    "version": 3
   },
   "file_extension": ".py",
   "mimetype": "text/x-python",
   "name": "python",
   "nbconvert_exporter": "python",
   "pygments_lexer": "ipython3",
   "version": "3.8.2"
  }
 },
 "nbformat": 4,
 "nbformat_minor": 4
}
