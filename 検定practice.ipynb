{
  "nbformat": 4,
  "nbformat_minor": 0,
  "metadata": {
    "colab": {
      "name": "検定practice.ipynb",
      "provenance": [],
      "authorship_tag": "ABX9TyNzFy1oYRfxA2tbCMvFVJsL",
      "include_colab_link": true
    },
    "kernelspec": {
      "name": "python3",
      "display_name": "Python 3"
    },
    "language_info": {
      "name": "python"
    }
  },
  "cells": [
    {
      "cell_type": "markdown",
      "metadata": {
        "id": "view-in-github",
        "colab_type": "text"
      },
      "source": [
        "<a href=\"https://colab.research.google.com/github/Charee-Villapong/charee-villapong/blob/master/%E6%A4%9C%E5%AE%9Apractice.ipynb\" target=\"_parent\"><img src=\"https://colab.research.google.com/assets/colab-badge.svg\" alt=\"Open In Colab\"/></a>"
      ]
    },
    {
      "cell_type": "code",
      "metadata": {
        "id": "s1o1F2PlOEop"
      },
      "source": [
        "from google.colab import auth\n",
        "from oauth2client.client import GoogleCredentials\n",
        "import gspread\n",
        "import pandas as pd\n",
        "from scipy import stats"
      ],
      "execution_count": 2,
      "outputs": []
    },
    {
      "cell_type": "code",
      "metadata": {
        "id": "sZJyFl_vOG9s"
      },
      "source": [
        "auth.authenticate_user()"
      ],
      "execution_count": 3,
      "outputs": []
    },
    {
      "cell_type": "code",
      "metadata": {
        "id": "HSPF9B8dOJLU"
      },
      "source": [
        "gc = gspread.authorize(GoogleCredentials.get_application_default())"
      ],
      "execution_count": 4,
      "outputs": []
    },
    {
      "cell_type": "code",
      "metadata": {
        "id": "yHEb55hAOZ4c"
      },
      "source": [
        "url = '[https://docs.google.com/spreadsheets/d/1QG2oQBYH9Qr-siJ2Gwo8FFEedX6gtLdG3btnHE4ySaU/edit#gid=0]'"
      ],
      "execution_count": 5,
      "outputs": []
    },
    {
      "cell_type": "code",
      "metadata": {
        "id": "gL8GZUF-OdHA"
      },
      "source": [
        "worksheet = gc.open_by_url(url).get_worksheet(0)"
      ],
      "execution_count": 6,
      "outputs": []
    },
    {
      "cell_type": "code",
      "metadata": {
        "id": "bA5a4O3MOfR4"
      },
      "source": [
        "dat = worksheet.get_all_values()\n",
        "col = dat.pop(0)\n",
        "df = pd.DataFrame(dat, columns=col)"
      ],
      "execution_count": 7,
      "outputs": []
    },
    {
      "cell_type": "code",
      "metadata": {
        "colab": {
          "base_uri": "https://localhost:8080/",
          "height": 181
        },
        "id": "t8K8ytqdOhr-",
        "outputId": "2b0fafa6-792e-4b4b-d213-abf453caf2dc"
      },
      "source": [
        "df.head()"
      ],
      "execution_count": 8,
      "outputs": [
        {
          "output_type": "execute_result",
          "data": {
            "text/html": [
              "<div>\n",
              "<style scoped>\n",
              "    .dataframe tbody tr th:only-of-type {\n",
              "        vertical-align: middle;\n",
              "    }\n",
              "\n",
              "    .dataframe tbody tr th {\n",
              "        vertical-align: top;\n",
              "    }\n",
              "\n",
              "    .dataframe thead th {\n",
              "        text-align: right;\n",
              "    }\n",
              "</style>\n",
              "<table border=\"1\" class=\"dataframe\">\n",
              "  <thead>\n",
              "    <tr style=\"text-align: right;\">\n",
              "      <th></th>\n",
              "      <th></th>\n",
              "      <th></th>\n",
              "      <th></th>\n",
              "      <th></th>\n",
              "      <th></th>\n",
              "      <th></th>\n",
              "      <th></th>\n",
              "      <th></th>\n",
              "    </tr>\n",
              "  </thead>\n",
              "  <tbody>\n",
              "    <tr>\n",
              "      <th>0</th>\n",
              "      <td></td>\n",
              "      <td>名前</td>\n",
              "      <td>性別</td>\n",
              "      <td>反復横跳び(1回目)</td>\n",
              "      <td>反復横跳び(2回目)</td>\n",
              "      <td>腕立て伏せ(1回目)</td>\n",
              "      <td>腕立て伏せ(2回目)</td>\n",
              "      <td>バク転</td>\n",
              "    </tr>\n",
              "    <tr>\n",
              "      <th>1</th>\n",
              "      <td></td>\n",
              "      <td>A</td>\n",
              "      <td>男性</td>\n",
              "      <td>19</td>\n",
              "      <td>58</td>\n",
              "      <td>0</td>\n",
              "      <td>5</td>\n",
              "      <td>○</td>\n",
              "    </tr>\n",
              "    <tr>\n",
              "      <th>2</th>\n",
              "      <td></td>\n",
              "      <td>B</td>\n",
              "      <td>女性</td>\n",
              "      <td>14</td>\n",
              "      <td>36</td>\n",
              "      <td>5</td>\n",
              "      <td>2</td>\n",
              "      <td>×</td>\n",
              "    </tr>\n",
              "    <tr>\n",
              "      <th>3</th>\n",
              "      <td></td>\n",
              "      <td>C</td>\n",
              "      <td>男性</td>\n",
              "      <td>43</td>\n",
              "      <td>51</td>\n",
              "      <td>1</td>\n",
              "      <td>3</td>\n",
              "      <td>○</td>\n",
              "    </tr>\n",
              "    <tr>\n",
              "      <th>4</th>\n",
              "      <td></td>\n",
              "      <td>D</td>\n",
              "      <td>男性</td>\n",
              "      <td>7</td>\n",
              "      <td>32</td>\n",
              "      <td>3</td>\n",
              "      <td>8</td>\n",
              "      <td>×</td>\n",
              "    </tr>\n",
              "  </tbody>\n",
              "</table>\n",
              "</div>"
            ],
            "text/plain": [
              "                                                                \n",
              "0    名前  性別  反復横跳び(1回目)  反復横跳び(2回目)  腕立て伏せ(1回目)  腕立て伏せ(2回目)  バク転\n",
              "1     A  男性          19          58           0           5    ○\n",
              "2     B  女性          14          36           5           2    ×\n",
              "3     C  男性          43          51           1           3    ○\n",
              "4     D  男性           7          32           3           8    ×"
            ]
          },
          "metadata": {
            "tags": []
          },
          "execution_count": 8
        }
      ]
    },
    {
      "cell_type": "code",
      "metadata": {
        "colab": {
          "base_uri": "https://localhost:8080/",
          "height": 197
        },
        "id": "_AEd4s3uOjJs",
        "outputId": "75516287-df24-4c8c-bede-741ba1f10c19"
      },
      "source": [
        "df.columns = df.iloc[0]\n",
        "df.head()"
      ],
      "execution_count": 9,
      "outputs": [
        {
          "output_type": "execute_result",
          "data": {
            "text/html": [
              "<div>\n",
              "<style scoped>\n",
              "    .dataframe tbody tr th:only-of-type {\n",
              "        vertical-align: middle;\n",
              "    }\n",
              "\n",
              "    .dataframe tbody tr th {\n",
              "        vertical-align: top;\n",
              "    }\n",
              "\n",
              "    .dataframe thead th {\n",
              "        text-align: right;\n",
              "    }\n",
              "</style>\n",
              "<table border=\"1\" class=\"dataframe\">\n",
              "  <thead>\n",
              "    <tr style=\"text-align: right;\">\n",
              "      <th></th>\n",
              "      <th></th>\n",
              "      <th>名前</th>\n",
              "      <th>性別</th>\n",
              "      <th>反復横跳び(1回目)</th>\n",
              "      <th>反復横跳び(2回目)</th>\n",
              "      <th>腕立て伏せ(1回目)</th>\n",
              "      <th>腕立て伏せ(2回目)</th>\n",
              "      <th>バク転</th>\n",
              "    </tr>\n",
              "  </thead>\n",
              "  <tbody>\n",
              "    <tr>\n",
              "      <th>0</th>\n",
              "      <td></td>\n",
              "      <td>名前</td>\n",
              "      <td>性別</td>\n",
              "      <td>反復横跳び(1回目)</td>\n",
              "      <td>反復横跳び(2回目)</td>\n",
              "      <td>腕立て伏せ(1回目)</td>\n",
              "      <td>腕立て伏せ(2回目)</td>\n",
              "      <td>バク転</td>\n",
              "    </tr>\n",
              "    <tr>\n",
              "      <th>1</th>\n",
              "      <td></td>\n",
              "      <td>A</td>\n",
              "      <td>男性</td>\n",
              "      <td>19</td>\n",
              "      <td>58</td>\n",
              "      <td>0</td>\n",
              "      <td>5</td>\n",
              "      <td>○</td>\n",
              "    </tr>\n",
              "    <tr>\n",
              "      <th>2</th>\n",
              "      <td></td>\n",
              "      <td>B</td>\n",
              "      <td>女性</td>\n",
              "      <td>14</td>\n",
              "      <td>36</td>\n",
              "      <td>5</td>\n",
              "      <td>2</td>\n",
              "      <td>×</td>\n",
              "    </tr>\n",
              "    <tr>\n",
              "      <th>3</th>\n",
              "      <td></td>\n",
              "      <td>C</td>\n",
              "      <td>男性</td>\n",
              "      <td>43</td>\n",
              "      <td>51</td>\n",
              "      <td>1</td>\n",
              "      <td>3</td>\n",
              "      <td>○</td>\n",
              "    </tr>\n",
              "    <tr>\n",
              "      <th>4</th>\n",
              "      <td></td>\n",
              "      <td>D</td>\n",
              "      <td>男性</td>\n",
              "      <td>7</td>\n",
              "      <td>32</td>\n",
              "      <td>3</td>\n",
              "      <td>8</td>\n",
              "      <td>×</td>\n",
              "    </tr>\n",
              "  </tbody>\n",
              "</table>\n",
              "</div>"
            ],
            "text/plain": [
              "0    名前  性別  反復横跳び(1回目)  反復横跳び(2回目)  腕立て伏せ(1回目)  腕立て伏せ(2回目)  バク転\n",
              "0    名前  性別  反復横跳び(1回目)  反復横跳び(2回目)  腕立て伏せ(1回目)  腕立て伏せ(2回目)  バク転\n",
              "1     A  男性          19          58           0           5    ○\n",
              "2     B  女性          14          36           5           2    ×\n",
              "3     C  男性          43          51           1           3    ○\n",
              "4     D  男性           7          32           3           8    ×"
            ]
          },
          "metadata": {
            "tags": []
          },
          "execution_count": 9
        }
      ]
    },
    {
      "cell_type": "code",
      "metadata": {
        "id": "y9IWt5r7Omf-"
      },
      "source": [
        "df = df.drop(df.index[0])"
      ],
      "execution_count": 10,
      "outputs": []
    },
    {
      "cell_type": "code",
      "metadata": {
        "colab": {
          "base_uri": "https://localhost:8080/",
          "height": 527
        },
        "id": "LifU9merOtvo",
        "outputId": "290cf057-9cc2-4c5a-9e4a-635010a6b638"
      },
      "source": [
        "df.set_index(\"名前\")"
      ],
      "execution_count": 11,
      "outputs": [
        {
          "output_type": "execute_result",
          "data": {
            "text/html": [
              "<div>\n",
              "<style scoped>\n",
              "    .dataframe tbody tr th:only-of-type {\n",
              "        vertical-align: middle;\n",
              "    }\n",
              "\n",
              "    .dataframe tbody tr th {\n",
              "        vertical-align: top;\n",
              "    }\n",
              "\n",
              "    .dataframe thead th {\n",
              "        text-align: right;\n",
              "    }\n",
              "</style>\n",
              "<table border=\"1\" class=\"dataframe\">\n",
              "  <thead>\n",
              "    <tr style=\"text-align: right;\">\n",
              "      <th></th>\n",
              "      <th></th>\n",
              "      <th>性別</th>\n",
              "      <th>反復横跳び(1回目)</th>\n",
              "      <th>反復横跳び(2回目)</th>\n",
              "      <th>腕立て伏せ(1回目)</th>\n",
              "      <th>腕立て伏せ(2回目)</th>\n",
              "      <th>バク転</th>\n",
              "    </tr>\n",
              "    <tr>\n",
              "      <th>名前</th>\n",
              "      <th></th>\n",
              "      <th></th>\n",
              "      <th></th>\n",
              "      <th></th>\n",
              "      <th></th>\n",
              "      <th></th>\n",
              "      <th></th>\n",
              "    </tr>\n",
              "  </thead>\n",
              "  <tbody>\n",
              "    <tr>\n",
              "      <th>A</th>\n",
              "      <td></td>\n",
              "      <td>男性</td>\n",
              "      <td>19</td>\n",
              "      <td>58</td>\n",
              "      <td>0</td>\n",
              "      <td>5</td>\n",
              "      <td>○</td>\n",
              "    </tr>\n",
              "    <tr>\n",
              "      <th>B</th>\n",
              "      <td></td>\n",
              "      <td>女性</td>\n",
              "      <td>14</td>\n",
              "      <td>36</td>\n",
              "      <td>5</td>\n",
              "      <td>2</td>\n",
              "      <td>×</td>\n",
              "    </tr>\n",
              "    <tr>\n",
              "      <th>C</th>\n",
              "      <td></td>\n",
              "      <td>男性</td>\n",
              "      <td>43</td>\n",
              "      <td>51</td>\n",
              "      <td>1</td>\n",
              "      <td>3</td>\n",
              "      <td>○</td>\n",
              "    </tr>\n",
              "    <tr>\n",
              "      <th>D</th>\n",
              "      <td></td>\n",
              "      <td>男性</td>\n",
              "      <td>7</td>\n",
              "      <td>32</td>\n",
              "      <td>3</td>\n",
              "      <td>8</td>\n",
              "      <td>×</td>\n",
              "    </tr>\n",
              "    <tr>\n",
              "      <th>E</th>\n",
              "      <td></td>\n",
              "      <td>女性</td>\n",
              "      <td>48</td>\n",
              "      <td>1</td>\n",
              "      <td>0</td>\n",
              "      <td>6</td>\n",
              "      <td>×</td>\n",
              "    </tr>\n",
              "    <tr>\n",
              "      <th>F</th>\n",
              "      <td></td>\n",
              "      <td>男性</td>\n",
              "      <td>0</td>\n",
              "      <td>54</td>\n",
              "      <td>5</td>\n",
              "      <td>8</td>\n",
              "      <td>○</td>\n",
              "    </tr>\n",
              "    <tr>\n",
              "      <th>G</th>\n",
              "      <td></td>\n",
              "      <td>女性</td>\n",
              "      <td>35</td>\n",
              "      <td>0</td>\n",
              "      <td>6</td>\n",
              "      <td>5</td>\n",
              "      <td>×</td>\n",
              "    </tr>\n",
              "    <tr>\n",
              "      <th>H</th>\n",
              "      <td></td>\n",
              "      <td>女性</td>\n",
              "      <td>8</td>\n",
              "      <td>22</td>\n",
              "      <td>4</td>\n",
              "      <td>9</td>\n",
              "      <td>×</td>\n",
              "    </tr>\n",
              "    <tr>\n",
              "      <th>I</th>\n",
              "      <td></td>\n",
              "      <td>女性</td>\n",
              "      <td>15</td>\n",
              "      <td>59</td>\n",
              "      <td>4</td>\n",
              "      <td>0</td>\n",
              "      <td>○</td>\n",
              "    </tr>\n",
              "    <tr>\n",
              "      <th>J</th>\n",
              "      <td></td>\n",
              "      <td>女性</td>\n",
              "      <td>24</td>\n",
              "      <td>25</td>\n",
              "      <td>9</td>\n",
              "      <td>2</td>\n",
              "      <td>×</td>\n",
              "    </tr>\n",
              "    <tr>\n",
              "      <th>K</th>\n",
              "      <td></td>\n",
              "      <td>男性</td>\n",
              "      <td>55</td>\n",
              "      <td>17</td>\n",
              "      <td>40</td>\n",
              "      <td>41</td>\n",
              "      <td>○</td>\n",
              "    </tr>\n",
              "    <tr>\n",
              "      <th>L</th>\n",
              "      <td></td>\n",
              "      <td>女性</td>\n",
              "      <td>0</td>\n",
              "      <td>59</td>\n",
              "      <td>4</td>\n",
              "      <td>1</td>\n",
              "      <td>×</td>\n",
              "    </tr>\n",
              "    <tr>\n",
              "      <th>M</th>\n",
              "      <td></td>\n",
              "      <td>女性</td>\n",
              "      <td>34</td>\n",
              "      <td>29</td>\n",
              "      <td>1</td>\n",
              "      <td>9</td>\n",
              "      <td>○</td>\n",
              "    </tr>\n",
              "    <tr>\n",
              "      <th>N</th>\n",
              "      <td></td>\n",
              "      <td>男性</td>\n",
              "      <td>15</td>\n",
              "      <td>19</td>\n",
              "      <td>25</td>\n",
              "      <td>28</td>\n",
              "      <td>○</td>\n",
              "    </tr>\n",
              "    <tr>\n",
              "      <th>O</th>\n",
              "      <td></td>\n",
              "      <td>女性</td>\n",
              "      <td>60</td>\n",
              "      <td>5</td>\n",
              "      <td>0</td>\n",
              "      <td>1</td>\n",
              "      <td>×</td>\n",
              "    </tr>\n",
              "  </tbody>\n",
              "</table>\n",
              "</div>"
            ],
            "text/plain": [
              "0     性別 反復横跳び(1回目) 反復横跳び(2回目) 腕立て伏せ(1回目) 腕立て伏せ(2回目) バク転\n",
              "名前                                                      \n",
              "A     男性         19         58          0          5   ○\n",
              "B     女性         14         36          5          2   ×\n",
              "C     男性         43         51          1          3   ○\n",
              "D     男性          7         32          3          8   ×\n",
              "E     女性         48          1          0          6   ×\n",
              "F     男性          0         54          5          8   ○\n",
              "G     女性         35          0          6          5   ×\n",
              "H     女性          8         22          4          9   ×\n",
              "I     女性         15         59          4          0   ○\n",
              "J     女性         24         25          9          2   ×\n",
              "K     男性         55         17         40         41   ○\n",
              "L     女性          0         59          4          1   ×\n",
              "M     女性         34         29          1          9   ○\n",
              "N     男性         15         19         25         28   ○\n",
              "O     女性         60          5          0          1   ×"
            ]
          },
          "metadata": {
            "tags": []
          },
          "execution_count": 11
        }
      ]
    },
    {
      "cell_type": "code",
      "metadata": {
        "colab": {
          "base_uri": "https://localhost:8080/"
        },
        "id": "E8mb0KFqOw68",
        "outputId": "b9fe6952-b891-4033-d306-35907defef26"
      },
      "source": [
        "df.dtypes"
      ],
      "execution_count": 12,
      "outputs": [
        {
          "output_type": "execute_result",
          "data": {
            "text/plain": [
              "0\n",
              "              object\n",
              "名前            object\n",
              "性別            object\n",
              "反復横跳び(1回目)    object\n",
              "反復横跳び(2回目)    object\n",
              "腕立て伏せ(1回目)    object\n",
              "腕立て伏せ(2回目)    object\n",
              "バク転           object\n",
              "dtype: object"
            ]
          },
          "metadata": {
            "tags": []
          },
          "execution_count": 12
        }
      ]
    },
    {
      "cell_type": "code",
      "metadata": {
        "colab": {
          "base_uri": "https://localhost:8080/"
        },
        "id": "P9ds1kcLO2sH",
        "outputId": "b8d3363d-8a68-400d-8808-39ba90bec5a5"
      },
      "source": [
        "df.columns"
      ],
      "execution_count": 13,
      "outputs": [
        {
          "output_type": "execute_result",
          "data": {
            "text/plain": [
              "Index(['', '名前', '性別', '反復横跳び(1回目)', '反復横跳び(2回目)', '腕立て伏せ(1回目)', '腕立て伏せ(2回目)',\n",
              "       'バク転'],\n",
              "      dtype='object', name=0)"
            ]
          },
          "metadata": {
            "tags": []
          },
          "execution_count": 13
        }
      ]
    },
    {
      "cell_type": "code",
      "metadata": {
        "id": "VbW03YRVWucj"
      },
      "source": [
        "df[['反復横跳び(1回目)', '反復横跳び(2回目)', '腕立て伏せ(1回目)', '腕立て伏せ(2回目)']] = df[['反復横跳び(1回目)', '反復横跳び(2回目)', '腕立て伏せ(1回目)', '腕立て伏せ(2回目)']].astype(int)"
      ],
      "execution_count": 14,
      "outputs": []
    },
    {
      "cell_type": "code",
      "metadata": {
        "colab": {
          "base_uri": "https://localhost:8080/",
          "height": 197
        },
        "id": "tjjq_5CSXVbo",
        "outputId": "a623e2e8-3675-4562-a540-230b28ef80f9"
      },
      "source": [
        "df.head()"
      ],
      "execution_count": 15,
      "outputs": [
        {
          "output_type": "execute_result",
          "data": {
            "text/html": [
              "<div>\n",
              "<style scoped>\n",
              "    .dataframe tbody tr th:only-of-type {\n",
              "        vertical-align: middle;\n",
              "    }\n",
              "\n",
              "    .dataframe tbody tr th {\n",
              "        vertical-align: top;\n",
              "    }\n",
              "\n",
              "    .dataframe thead th {\n",
              "        text-align: right;\n",
              "    }\n",
              "</style>\n",
              "<table border=\"1\" class=\"dataframe\">\n",
              "  <thead>\n",
              "    <tr style=\"text-align: right;\">\n",
              "      <th></th>\n",
              "      <th></th>\n",
              "      <th>名前</th>\n",
              "      <th>性別</th>\n",
              "      <th>反復横跳び(1回目)</th>\n",
              "      <th>反復横跳び(2回目)</th>\n",
              "      <th>腕立て伏せ(1回目)</th>\n",
              "      <th>腕立て伏せ(2回目)</th>\n",
              "      <th>バク転</th>\n",
              "    </tr>\n",
              "  </thead>\n",
              "  <tbody>\n",
              "    <tr>\n",
              "      <th>1</th>\n",
              "      <td></td>\n",
              "      <td>A</td>\n",
              "      <td>男性</td>\n",
              "      <td>19</td>\n",
              "      <td>58</td>\n",
              "      <td>0</td>\n",
              "      <td>5</td>\n",
              "      <td>○</td>\n",
              "    </tr>\n",
              "    <tr>\n",
              "      <th>2</th>\n",
              "      <td></td>\n",
              "      <td>B</td>\n",
              "      <td>女性</td>\n",
              "      <td>14</td>\n",
              "      <td>36</td>\n",
              "      <td>5</td>\n",
              "      <td>2</td>\n",
              "      <td>×</td>\n",
              "    </tr>\n",
              "    <tr>\n",
              "      <th>3</th>\n",
              "      <td></td>\n",
              "      <td>C</td>\n",
              "      <td>男性</td>\n",
              "      <td>43</td>\n",
              "      <td>51</td>\n",
              "      <td>1</td>\n",
              "      <td>3</td>\n",
              "      <td>○</td>\n",
              "    </tr>\n",
              "    <tr>\n",
              "      <th>4</th>\n",
              "      <td></td>\n",
              "      <td>D</td>\n",
              "      <td>男性</td>\n",
              "      <td>7</td>\n",
              "      <td>32</td>\n",
              "      <td>3</td>\n",
              "      <td>8</td>\n",
              "      <td>×</td>\n",
              "    </tr>\n",
              "    <tr>\n",
              "      <th>5</th>\n",
              "      <td></td>\n",
              "      <td>E</td>\n",
              "      <td>女性</td>\n",
              "      <td>48</td>\n",
              "      <td>1</td>\n",
              "      <td>0</td>\n",
              "      <td>6</td>\n",
              "      <td>×</td>\n",
              "    </tr>\n",
              "  </tbody>\n",
              "</table>\n",
              "</div>"
            ],
            "text/plain": [
              "0   名前  性別  反復横跳び(1回目)  反復横跳び(2回目)  腕立て伏せ(1回目)  腕立て伏せ(2回目) バク転\n",
              "1    A  男性          19          58           0           5   ○\n",
              "2    B  女性          14          36           5           2   ×\n",
              "3    C  男性          43          51           1           3   ○\n",
              "4    D  男性           7          32           3           8   ×\n",
              "5    E  女性          48           1           0           6   ×"
            ]
          },
          "metadata": {
            "tags": []
          },
          "execution_count": 15
        }
      ]
    },
    {
      "cell_type": "code",
      "metadata": {
        "colab": {
          "base_uri": "https://localhost:8080/"
        },
        "id": "Gz9oEmh5XW2i",
        "outputId": "23e12a00-3597-41c3-baa2-2b222b2af401"
      },
      "source": [
        "df.dtypes"
      ],
      "execution_count": 16,
      "outputs": [
        {
          "output_type": "execute_result",
          "data": {
            "text/plain": [
              "0\n",
              "              object\n",
              "名前            object\n",
              "性別            object\n",
              "反復横跳び(1回目)     int64\n",
              "反復横跳び(2回目)     int64\n",
              "腕立て伏せ(1回目)     int64\n",
              "腕立て伏せ(2回目)     int64\n",
              "バク転           object\n",
              "dtype: object"
            ]
          },
          "metadata": {
            "tags": []
          },
          "execution_count": 16
        }
      ]
    },
    {
      "cell_type": "code",
      "metadata": {
        "colab": {
          "base_uri": "https://localhost:8080/"
        },
        "id": "aDnmVYprXZr6",
        "outputId": "9dde36c4-28e3-4c54-c8a5-7a151cddc9d5"
      },
      "source": [
        "stats.ttest_1samp(df['反復横跳び(1回目)'] , popmean=1)"
      ],
      "execution_count": 17,
      "outputs": [
        {
          "output_type": "execute_result",
          "data": {
            "text/plain": [
              "Ttest_1sampResult(statistic=4.768113496453181, pvalue=0.0003000334389380121)"
            ]
          },
          "metadata": {
            "tags": []
          },
          "execution_count": 17
        }
      ]
    },
    {
      "cell_type": "code",
      "metadata": {
        "colab": {
          "base_uri": "https://localhost:8080/"
        },
        "id": "lwwItCQWYXuA",
        "outputId": "929c1042-1b71-4582-fc54-84f344421817"
      },
      "source": [
        "stats.ttest_rel(df['反復横跳び(1回目)'] ,df['反復横跳び(2回目)'] )"
      ],
      "execution_count": 18,
      "outputs": [
        {
          "output_type": "execute_result",
          "data": {
            "text/plain": [
              "Ttest_relResult(statistic=-0.6370562533710827, pvalue=0.5343676346838853)"
            ]
          },
          "metadata": {
            "tags": []
          },
          "execution_count": 18
        }
      ]
    },
    {
      "cell_type": "code",
      "metadata": {
        "colab": {
          "base_uri": "https://localhost:8080/"
        },
        "id": "V-L17wejYc-l",
        "outputId": "787f0f2d-716d-44ff-9b5b-a318793be9b4"
      },
      "source": [
        "df[df[\"性別\"]==\"男性\"]['反復横跳び(1回目)']"
      ],
      "execution_count": 19,
      "outputs": [
        {
          "output_type": "execute_result",
          "data": {
            "text/plain": [
              "1     19\n",
              "3     43\n",
              "4      7\n",
              "6      0\n",
              "11    55\n",
              "14    15\n",
              "Name: 反復横跳び(1回目), dtype: int64"
            ]
          },
          "metadata": {
            "tags": []
          },
          "execution_count": 19
        }
      ]
    },
    {
      "cell_type": "code",
      "metadata": {
        "colab": {
          "base_uri": "https://localhost:8080/"
        },
        "id": "9NwPqulsYjb9",
        "outputId": "c99f0036-a8fe-476b-8713-c583833a0757"
      },
      "source": [
        "stats.ttest_ind(df[df[\"性別\"]==\"男性\"]['反復横跳び(1回目)'],df[df[\"性別\"]==\"女性\"]['反復横跳び(1回目)'])"
      ],
      "execution_count": 20,
      "outputs": [
        {
          "output_type": "execute_result",
          "data": {
            "text/plain": [
              "Ttest_indResult(statistic=-0.30682368770307106, pvalue=0.7638369062554015)"
            ]
          },
          "metadata": {
            "tags": []
          },
          "execution_count": 20
        }
      ]
    },
    {
      "cell_type": "code",
      "metadata": {
        "colab": {
          "base_uri": "https://localhost:8080/"
        },
        "id": "rWgXtLwDZiWZ",
        "outputId": "6f57ac09-d50c-4151-e3b9-e2f1ce3d820d"
      },
      "source": [
        "stats.bartlett(df[df[\"性別\"]==\"男性\"]['反復横跳び(1回目)'],df[df[\"性別\"]==\"女性\"]['反復横跳び(1回目)'])"
      ],
      "execution_count": 21,
      "outputs": [
        {
          "output_type": "execute_result",
          "data": {
            "text/plain": [
              "BartlettResult(statistic=0.04776303821893261, pvalue=0.8270025022543076)"
            ]
          },
          "metadata": {
            "tags": []
          },
          "execution_count": 21
        }
      ]
    },
    {
      "cell_type": "code",
      "metadata": {
        "colab": {
          "base_uri": "https://localhost:8080/"
        },
        "id": "UArf0DY4aGar",
        "outputId": "ef98e094-b8d9-4ff5-a5f7-90720dc8d454"
      },
      "source": [
        "stats.wilcoxon(df['反復横跳び(1回目)'] ,df['反復横跳び(2回目)'] )"
      ],
      "execution_count": 24,
      "outputs": [
        {
          "output_type": "execute_result",
          "data": {
            "text/plain": [
              "WilcoxonResult(statistic=46.0, pvalue=0.42652824883677154)"
            ]
          },
          "metadata": {
            "tags": []
          },
          "execution_count": 24
        }
      ]
    },
    {
      "cell_type": "code",
      "metadata": {
        "colab": {
          "base_uri": "https://localhost:8080/"
        },
        "id": "Eu8jE1OKbjmo",
        "outputId": "4bfacfa9-032b-4787-c40e-9df4b3c9fb7d"
      },
      "source": [
        "stats.mannwhitneyu(df[df[\"性別\"]==\"男性\"]['反復横跳び(1回目)'],df[df[\"性別\"]==\"女性\"]['反復横跳び(1回目)'])"
      ],
      "execution_count": 27,
      "outputs": [
        {
          "output_type": "execute_result",
          "data": {
            "text/plain": [
              "MannwhitneyuResult(statistic=24.0, pvalue=0.3839376005716386)"
            ]
          },
          "metadata": {
            "tags": []
          },
          "execution_count": 27
        }
      ]
    },
    {
      "cell_type": "code",
      "metadata": {
        "colab": {
          "base_uri": "https://localhost:8080/",
          "height": 137
        },
        "id": "JMtULDOwCKVN",
        "outputId": "9b4c1111-9fee-4b6d-f5df-a77b8a602b73"
      },
      "source": [
        "cross = pd.crosstab(df[\"性別\"],df[\"バク転\"])\n",
        "cross"
      ],
      "execution_count": 31,
      "outputs": [
        {
          "output_type": "execute_result",
          "data": {
            "text/html": [
              "<div>\n",
              "<style scoped>\n",
              "    .dataframe tbody tr th:only-of-type {\n",
              "        vertical-align: middle;\n",
              "    }\n",
              "\n",
              "    .dataframe tbody tr th {\n",
              "        vertical-align: top;\n",
              "    }\n",
              "\n",
              "    .dataframe thead th {\n",
              "        text-align: right;\n",
              "    }\n",
              "</style>\n",
              "<table border=\"1\" class=\"dataframe\">\n",
              "  <thead>\n",
              "    <tr style=\"text-align: right;\">\n",
              "      <th>バク転</th>\n",
              "      <th>×</th>\n",
              "      <th>○</th>\n",
              "    </tr>\n",
              "    <tr>\n",
              "      <th>性別</th>\n",
              "      <th></th>\n",
              "      <th></th>\n",
              "    </tr>\n",
              "  </thead>\n",
              "  <tbody>\n",
              "    <tr>\n",
              "      <th>女性</th>\n",
              "      <td>7</td>\n",
              "      <td>2</td>\n",
              "    </tr>\n",
              "    <tr>\n",
              "      <th>男性</th>\n",
              "      <td>1</td>\n",
              "      <td>5</td>\n",
              "    </tr>\n",
              "  </tbody>\n",
              "</table>\n",
              "</div>"
            ],
            "text/plain": [
              "バク転  ×  ○\n",
              "性別       \n",
              "女性   7  2\n",
              "男性   1  5"
            ]
          },
          "metadata": {
            "tags": []
          },
          "execution_count": 31
        }
      ]
    },
    {
      "cell_type": "code",
      "metadata": {
        "colab": {
          "base_uri": "https://localhost:8080/"
        },
        "id": "0i-o7OVODsP3",
        "outputId": "549a62a9-de35-42a1-899d-140f06f1e00e"
      },
      "source": [
        "stats.chi2_contingency(cross)"
      ],
      "execution_count": 30,
      "outputs": [
        {
          "output_type": "execute_result",
          "data": {
            "text/plain": [
              "(3.2254464285714293, 0.07250202542192893, 1, array([[4.8, 4.2],\n",
              "        [3.2, 2.8]]))"
            ]
          },
          "metadata": {
            "tags": []
          },
          "execution_count": 30
        }
      ]
    },
    {
      "cell_type": "code",
      "metadata": {
        "id": "Q6_beEeDEHmF"
      },
      "source": [
        ""
      ],
      "execution_count": null,
      "outputs": []
    }
  ]
}