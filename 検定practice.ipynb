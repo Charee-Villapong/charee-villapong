{
  "nbformat": 4,
  "nbformat_minor": 0,
  "metadata": {
    "colab": {
      "name": "検定practice.ipynb",
      "provenance": [],
      "authorship_tag": "ABX9TyNwYlUVdQ9WN9tqxbV/bgPi",
      "include_colab_link": true
    },
    "kernelspec": {
      "name": "python3",
      "display_name": "Python 3"
    },
    "language_info": {
      "name": "python"
    }
  },
  "cells": [
    {
      "cell_type": "markdown",
      "metadata": {
        "id": "view-in-github",
        "colab_type": "text"
      },
      "source": [
        "<a href=\"https://colab.research.google.com/github/Charee-Villapong/charee-villapong/blob/master/%E6%A4%9C%E5%AE%9Apractice.ipynb\" target=\"_parent\"><img src=\"https://colab.research.google.com/assets/colab-badge.svg\" alt=\"Open In Colab\"/></a>"
      ]
    },
    {
      "cell_type": "code",
      "metadata": {
        "id": "s1o1F2PlOEop"
      },
      "source": [
        "from google.colab import auth\n",
        "from oauth2client.client import GoogleCredentials\n",
        "import gspread\n",
        "import pandas as pd\n",
        "from scipy import stats"
      ],
      "execution_count": 62,
      "outputs": []
    },
    {
      "cell_type": "code",
      "metadata": {
        "id": "sZJyFl_vOG9s"
      },
      "source": [
        "auth.authenticate_user()"
      ],
      "execution_count": 63,
      "outputs": []
    },
    {
      "cell_type": "code",
      "metadata": {
        "id": "HSPF9B8dOJLU"
      },
      "source": [
        "gc = gspread.authorize(GoogleCredentials.get_application_default())"
      ],
      "execution_count": 64,
      "outputs": []
    },
    {
      "cell_type": "code",
      "metadata": {
        "id": "yHEb55hAOZ4c"
      },
      "source": [
        "url = '[https://docs.google.com/spreadsheets/d/1QG2oQBYH9Qr-siJ2Gwo8FFEedX6gtLdG3btnHE4ySaU/edit#gid=0]'"
      ],
      "execution_count": 65,
      "outputs": []
    },
    {
      "cell_type": "code",
      "metadata": {
        "id": "gL8GZUF-OdHA"
      },
      "source": [
        "worksheet = gc.open_by_url(url).get_worksheet(0)"
      ],
      "execution_count": 66,
      "outputs": []
    },
    {
      "cell_type": "code",
      "metadata": {
        "id": "bA5a4O3MOfR4"
      },
      "source": [
        "dat = worksheet.get_all_values()\n",
        "col = dat.pop(0)\n",
        "df = pd.DataFrame(dat, columns=col)"
      ],
      "execution_count": 67,
      "outputs": []
    },
    {
      "cell_type": "code",
      "metadata": {
        "colab": {
          "base_uri": "https://localhost:8080/",
          "height": 181
        },
        "id": "t8K8ytqdOhr-",
        "outputId": "c165feb5-5628-4a80-a438-3c96cf3644c9"
      },
      "source": [
        "df.head()"
      ],
      "execution_count": 68,
      "outputs": [
        {
          "output_type": "execute_result",
          "data": {
            "text/html": [
              "<div>\n",
              "<style scoped>\n",
              "    .dataframe tbody tr th:only-of-type {\n",
              "        vertical-align: middle;\n",
              "    }\n",
              "\n",
              "    .dataframe tbody tr th {\n",
              "        vertical-align: top;\n",
              "    }\n",
              "\n",
              "    .dataframe thead th {\n",
              "        text-align: right;\n",
              "    }\n",
              "</style>\n",
              "<table border=\"1\" class=\"dataframe\">\n",
              "  <thead>\n",
              "    <tr style=\"text-align: right;\">\n",
              "      <th></th>\n",
              "      <th></th>\n",
              "      <th></th>\n",
              "      <th></th>\n",
              "      <th></th>\n",
              "      <th></th>\n",
              "      <th></th>\n",
              "      <th></th>\n",
              "      <th></th>\n",
              "    </tr>\n",
              "  </thead>\n",
              "  <tbody>\n",
              "    <tr>\n",
              "      <th>0</th>\n",
              "      <td></td>\n",
              "      <td>名前</td>\n",
              "      <td>性別</td>\n",
              "      <td>反復横跳び(1回目)</td>\n",
              "      <td>反復横跳び(2回目)</td>\n",
              "      <td>腕立て伏せ(1回目)</td>\n",
              "      <td>腕立て伏せ(2回目)</td>\n",
              "      <td>バク転</td>\n",
              "    </tr>\n",
              "    <tr>\n",
              "      <th>1</th>\n",
              "      <td></td>\n",
              "      <td>A</td>\n",
              "      <td>男性</td>\n",
              "      <td>19</td>\n",
              "      <td>25</td>\n",
              "      <td>1</td>\n",
              "      <td>0</td>\n",
              "      <td>○</td>\n",
              "    </tr>\n",
              "    <tr>\n",
              "      <th>2</th>\n",
              "      <td></td>\n",
              "      <td>B</td>\n",
              "      <td>女性</td>\n",
              "      <td>51</td>\n",
              "      <td>35</td>\n",
              "      <td>4</td>\n",
              "      <td>4</td>\n",
              "      <td>×</td>\n",
              "    </tr>\n",
              "    <tr>\n",
              "      <th>3</th>\n",
              "      <td></td>\n",
              "      <td>C</td>\n",
              "      <td>男性</td>\n",
              "      <td>53</td>\n",
              "      <td>8</td>\n",
              "      <td>6</td>\n",
              "      <td>7</td>\n",
              "      <td>○</td>\n",
              "    </tr>\n",
              "    <tr>\n",
              "      <th>4</th>\n",
              "      <td></td>\n",
              "      <td>D</td>\n",
              "      <td>男性</td>\n",
              "      <td>20</td>\n",
              "      <td>6</td>\n",
              "      <td>4</td>\n",
              "      <td>6</td>\n",
              "      <td>×</td>\n",
              "    </tr>\n",
              "  </tbody>\n",
              "</table>\n",
              "</div>"
            ],
            "text/plain": [
              "                                                                \n",
              "0    名前  性別  反復横跳び(1回目)  反復横跳び(2回目)  腕立て伏せ(1回目)  腕立て伏せ(2回目)  バク転\n",
              "1     A  男性          19          25           1           0    ○\n",
              "2     B  女性          51          35           4           4    ×\n",
              "3     C  男性          53           8           6           7    ○\n",
              "4     D  男性          20           6           4           6    ×"
            ]
          },
          "metadata": {
            "tags": []
          },
          "execution_count": 68
        }
      ]
    },
    {
      "cell_type": "code",
      "metadata": {
        "colab": {
          "base_uri": "https://localhost:8080/",
          "height": 197
        },
        "id": "_AEd4s3uOjJs",
        "outputId": "b1844e73-2eba-4b5c-b943-a90a2dc05b55"
      },
      "source": [
        "df.columns = df.iloc[0]\n",
        "df.head()"
      ],
      "execution_count": 69,
      "outputs": [
        {
          "output_type": "execute_result",
          "data": {
            "text/html": [
              "<div>\n",
              "<style scoped>\n",
              "    .dataframe tbody tr th:only-of-type {\n",
              "        vertical-align: middle;\n",
              "    }\n",
              "\n",
              "    .dataframe tbody tr th {\n",
              "        vertical-align: top;\n",
              "    }\n",
              "\n",
              "    .dataframe thead th {\n",
              "        text-align: right;\n",
              "    }\n",
              "</style>\n",
              "<table border=\"1\" class=\"dataframe\">\n",
              "  <thead>\n",
              "    <tr style=\"text-align: right;\">\n",
              "      <th></th>\n",
              "      <th></th>\n",
              "      <th>名前</th>\n",
              "      <th>性別</th>\n",
              "      <th>反復横跳び(1回目)</th>\n",
              "      <th>反復横跳び(2回目)</th>\n",
              "      <th>腕立て伏せ(1回目)</th>\n",
              "      <th>腕立て伏せ(2回目)</th>\n",
              "      <th>バク転</th>\n",
              "    </tr>\n",
              "  </thead>\n",
              "  <tbody>\n",
              "    <tr>\n",
              "      <th>0</th>\n",
              "      <td></td>\n",
              "      <td>名前</td>\n",
              "      <td>性別</td>\n",
              "      <td>反復横跳び(1回目)</td>\n",
              "      <td>反復横跳び(2回目)</td>\n",
              "      <td>腕立て伏せ(1回目)</td>\n",
              "      <td>腕立て伏せ(2回目)</td>\n",
              "      <td>バク転</td>\n",
              "    </tr>\n",
              "    <tr>\n",
              "      <th>1</th>\n",
              "      <td></td>\n",
              "      <td>A</td>\n",
              "      <td>男性</td>\n",
              "      <td>19</td>\n",
              "      <td>25</td>\n",
              "      <td>1</td>\n",
              "      <td>0</td>\n",
              "      <td>○</td>\n",
              "    </tr>\n",
              "    <tr>\n",
              "      <th>2</th>\n",
              "      <td></td>\n",
              "      <td>B</td>\n",
              "      <td>女性</td>\n",
              "      <td>51</td>\n",
              "      <td>35</td>\n",
              "      <td>4</td>\n",
              "      <td>4</td>\n",
              "      <td>×</td>\n",
              "    </tr>\n",
              "    <tr>\n",
              "      <th>3</th>\n",
              "      <td></td>\n",
              "      <td>C</td>\n",
              "      <td>男性</td>\n",
              "      <td>53</td>\n",
              "      <td>8</td>\n",
              "      <td>6</td>\n",
              "      <td>7</td>\n",
              "      <td>○</td>\n",
              "    </tr>\n",
              "    <tr>\n",
              "      <th>4</th>\n",
              "      <td></td>\n",
              "      <td>D</td>\n",
              "      <td>男性</td>\n",
              "      <td>20</td>\n",
              "      <td>6</td>\n",
              "      <td>4</td>\n",
              "      <td>6</td>\n",
              "      <td>×</td>\n",
              "    </tr>\n",
              "  </tbody>\n",
              "</table>\n",
              "</div>"
            ],
            "text/plain": [
              "0    名前  性別  反復横跳び(1回目)  反復横跳び(2回目)  腕立て伏せ(1回目)  腕立て伏せ(2回目)  バク転\n",
              "0    名前  性別  反復横跳び(1回目)  反復横跳び(2回目)  腕立て伏せ(1回目)  腕立て伏せ(2回目)  バク転\n",
              "1     A  男性          19          25           1           0    ○\n",
              "2     B  女性          51          35           4           4    ×\n",
              "3     C  男性          53           8           6           7    ○\n",
              "4     D  男性          20           6           4           6    ×"
            ]
          },
          "metadata": {
            "tags": []
          },
          "execution_count": 69
        }
      ]
    },
    {
      "cell_type": "code",
      "metadata": {
        "id": "y9IWt5r7Omf-"
      },
      "source": [
        "df = df.drop(df.index[0])"
      ],
      "execution_count": 70,
      "outputs": []
    },
    {
      "cell_type": "code",
      "metadata": {
        "colab": {
          "base_uri": "https://localhost:8080/",
          "height": 527
        },
        "id": "LifU9merOtvo",
        "outputId": "1f53e798-a0ab-481e-9929-01655bb5a407"
      },
      "source": [
        "df.set_index(\"名前\")"
      ],
      "execution_count": 71,
      "outputs": [
        {
          "output_type": "execute_result",
          "data": {
            "text/html": [
              "<div>\n",
              "<style scoped>\n",
              "    .dataframe tbody tr th:only-of-type {\n",
              "        vertical-align: middle;\n",
              "    }\n",
              "\n",
              "    .dataframe tbody tr th {\n",
              "        vertical-align: top;\n",
              "    }\n",
              "\n",
              "    .dataframe thead th {\n",
              "        text-align: right;\n",
              "    }\n",
              "</style>\n",
              "<table border=\"1\" class=\"dataframe\">\n",
              "  <thead>\n",
              "    <tr style=\"text-align: right;\">\n",
              "      <th></th>\n",
              "      <th></th>\n",
              "      <th>性別</th>\n",
              "      <th>反復横跳び(1回目)</th>\n",
              "      <th>反復横跳び(2回目)</th>\n",
              "      <th>腕立て伏せ(1回目)</th>\n",
              "      <th>腕立て伏せ(2回目)</th>\n",
              "      <th>バク転</th>\n",
              "    </tr>\n",
              "    <tr>\n",
              "      <th>名前</th>\n",
              "      <th></th>\n",
              "      <th></th>\n",
              "      <th></th>\n",
              "      <th></th>\n",
              "      <th></th>\n",
              "      <th></th>\n",
              "      <th></th>\n",
              "    </tr>\n",
              "  </thead>\n",
              "  <tbody>\n",
              "    <tr>\n",
              "      <th>A</th>\n",
              "      <td></td>\n",
              "      <td>男性</td>\n",
              "      <td>19</td>\n",
              "      <td>25</td>\n",
              "      <td>1</td>\n",
              "      <td>0</td>\n",
              "      <td>○</td>\n",
              "    </tr>\n",
              "    <tr>\n",
              "      <th>B</th>\n",
              "      <td></td>\n",
              "      <td>女性</td>\n",
              "      <td>51</td>\n",
              "      <td>35</td>\n",
              "      <td>4</td>\n",
              "      <td>4</td>\n",
              "      <td>×</td>\n",
              "    </tr>\n",
              "    <tr>\n",
              "      <th>C</th>\n",
              "      <td></td>\n",
              "      <td>男性</td>\n",
              "      <td>53</td>\n",
              "      <td>8</td>\n",
              "      <td>6</td>\n",
              "      <td>7</td>\n",
              "      <td>○</td>\n",
              "    </tr>\n",
              "    <tr>\n",
              "      <th>D</th>\n",
              "      <td></td>\n",
              "      <td>男性</td>\n",
              "      <td>20</td>\n",
              "      <td>6</td>\n",
              "      <td>4</td>\n",
              "      <td>6</td>\n",
              "      <td>×</td>\n",
              "    </tr>\n",
              "    <tr>\n",
              "      <th>E</th>\n",
              "      <td></td>\n",
              "      <td>女性</td>\n",
              "      <td>20</td>\n",
              "      <td>29</td>\n",
              "      <td>3</td>\n",
              "      <td>3</td>\n",
              "      <td>×</td>\n",
              "    </tr>\n",
              "    <tr>\n",
              "      <th>F</th>\n",
              "      <td></td>\n",
              "      <td>男性</td>\n",
              "      <td>56</td>\n",
              "      <td>22</td>\n",
              "      <td>0</td>\n",
              "      <td>1</td>\n",
              "      <td>○</td>\n",
              "    </tr>\n",
              "    <tr>\n",
              "      <th>G</th>\n",
              "      <td></td>\n",
              "      <td>女性</td>\n",
              "      <td>6</td>\n",
              "      <td>32</td>\n",
              "      <td>9</td>\n",
              "      <td>6</td>\n",
              "      <td>×</td>\n",
              "    </tr>\n",
              "    <tr>\n",
              "      <th>H</th>\n",
              "      <td></td>\n",
              "      <td>女性</td>\n",
              "      <td>43</td>\n",
              "      <td>55</td>\n",
              "      <td>4</td>\n",
              "      <td>5</td>\n",
              "      <td>×</td>\n",
              "    </tr>\n",
              "    <tr>\n",
              "      <th>I</th>\n",
              "      <td></td>\n",
              "      <td>女性</td>\n",
              "      <td>55</td>\n",
              "      <td>34</td>\n",
              "      <td>9</td>\n",
              "      <td>4</td>\n",
              "      <td>○</td>\n",
              "    </tr>\n",
              "    <tr>\n",
              "      <th>J</th>\n",
              "      <td></td>\n",
              "      <td>女性</td>\n",
              "      <td>1</td>\n",
              "      <td>9</td>\n",
              "      <td>9</td>\n",
              "      <td>2</td>\n",
              "      <td>×</td>\n",
              "    </tr>\n",
              "    <tr>\n",
              "      <th>K</th>\n",
              "      <td></td>\n",
              "      <td>男性</td>\n",
              "      <td>49</td>\n",
              "      <td>20</td>\n",
              "      <td>40</td>\n",
              "      <td>41</td>\n",
              "      <td>○</td>\n",
              "    </tr>\n",
              "    <tr>\n",
              "      <th>L</th>\n",
              "      <td></td>\n",
              "      <td>女性</td>\n",
              "      <td>46</td>\n",
              "      <td>23</td>\n",
              "      <td>5</td>\n",
              "      <td>2</td>\n",
              "      <td>×</td>\n",
              "    </tr>\n",
              "    <tr>\n",
              "      <th>M</th>\n",
              "      <td></td>\n",
              "      <td>女性</td>\n",
              "      <td>0</td>\n",
              "      <td>46</td>\n",
              "      <td>7</td>\n",
              "      <td>0</td>\n",
              "      <td>○</td>\n",
              "    </tr>\n",
              "    <tr>\n",
              "      <th>N</th>\n",
              "      <td></td>\n",
              "      <td>男性</td>\n",
              "      <td>8</td>\n",
              "      <td>10</td>\n",
              "      <td>25</td>\n",
              "      <td>28</td>\n",
              "      <td>○</td>\n",
              "    </tr>\n",
              "    <tr>\n",
              "      <th>O</th>\n",
              "      <td></td>\n",
              "      <td>女性</td>\n",
              "      <td>48</td>\n",
              "      <td>23</td>\n",
              "      <td>2</td>\n",
              "      <td>8</td>\n",
              "      <td>×</td>\n",
              "    </tr>\n",
              "  </tbody>\n",
              "</table>\n",
              "</div>"
            ],
            "text/plain": [
              "0     性別 反復横跳び(1回目) 反復横跳び(2回目) 腕立て伏せ(1回目) 腕立て伏せ(2回目) バク転\n",
              "名前                                                      \n",
              "A     男性         19         25          1          0   ○\n",
              "B     女性         51         35          4          4   ×\n",
              "C     男性         53          8          6          7   ○\n",
              "D     男性         20          6          4          6   ×\n",
              "E     女性         20         29          3          3   ×\n",
              "F     男性         56         22          0          1   ○\n",
              "G     女性          6         32          9          6   ×\n",
              "H     女性         43         55          4          5   ×\n",
              "I     女性         55         34          9          4   ○\n",
              "J     女性          1          9          9          2   ×\n",
              "K     男性         49         20         40         41   ○\n",
              "L     女性         46         23          5          2   ×\n",
              "M     女性          0         46          7          0   ○\n",
              "N     男性          8         10         25         28   ○\n",
              "O     女性         48         23          2          8   ×"
            ]
          },
          "metadata": {
            "tags": []
          },
          "execution_count": 71
        }
      ]
    },
    {
      "cell_type": "code",
      "metadata": {
        "colab": {
          "base_uri": "https://localhost:8080/"
        },
        "id": "E8mb0KFqOw68",
        "outputId": "f4650402-3b49-4ea0-9e24-ddf38c9bebf4"
      },
      "source": [
        "df.dtypes"
      ],
      "execution_count": 72,
      "outputs": [
        {
          "output_type": "execute_result",
          "data": {
            "text/plain": [
              "0\n",
              "              object\n",
              "名前            object\n",
              "性別            object\n",
              "反復横跳び(1回目)    object\n",
              "反復横跳び(2回目)    object\n",
              "腕立て伏せ(1回目)    object\n",
              "腕立て伏せ(2回目)    object\n",
              "バク転           object\n",
              "dtype: object"
            ]
          },
          "metadata": {
            "tags": []
          },
          "execution_count": 72
        }
      ]
    },
    {
      "cell_type": "code",
      "metadata": {
        "colab": {
          "base_uri": "https://localhost:8080/"
        },
        "id": "P9ds1kcLO2sH",
        "outputId": "c8cf2357-5b41-41f8-86f5-e6629ade07a8"
      },
      "source": [
        "df.columns"
      ],
      "execution_count": 73,
      "outputs": [
        {
          "output_type": "execute_result",
          "data": {
            "text/plain": [
              "Index(['', '名前', '性別', '反復横跳び(1回目)', '反復横跳び(2回目)', '腕立て伏せ(1回目)', '腕立て伏せ(2回目)',\n",
              "       'バク転'],\n",
              "      dtype='object', name=0)"
            ]
          },
          "metadata": {
            "tags": []
          },
          "execution_count": 73
        }
      ]
    },
    {
      "cell_type": "code",
      "metadata": {
        "id": "VbW03YRVWucj"
      },
      "source": [
        "df[['反復横跳び(1回目)', '反復横跳び(2回目)', '腕立て伏せ(1回目)', '腕立て伏せ(2回目)']] = df[['反復横跳び(1回目)', '反復横跳び(2回目)', '腕立て伏せ(1回目)', '腕立て伏せ(2回目)']].astype(int)"
      ],
      "execution_count": 74,
      "outputs": []
    },
    {
      "cell_type": "code",
      "metadata": {
        "colab": {
          "base_uri": "https://localhost:8080/",
          "height": 197
        },
        "id": "tjjq_5CSXVbo",
        "outputId": "ee539f45-8345-46a2-f327-184ba667c1cb"
      },
      "source": [
        "df.head()"
      ],
      "execution_count": 75,
      "outputs": [
        {
          "output_type": "execute_result",
          "data": {
            "text/html": [
              "<div>\n",
              "<style scoped>\n",
              "    .dataframe tbody tr th:only-of-type {\n",
              "        vertical-align: middle;\n",
              "    }\n",
              "\n",
              "    .dataframe tbody tr th {\n",
              "        vertical-align: top;\n",
              "    }\n",
              "\n",
              "    .dataframe thead th {\n",
              "        text-align: right;\n",
              "    }\n",
              "</style>\n",
              "<table border=\"1\" class=\"dataframe\">\n",
              "  <thead>\n",
              "    <tr style=\"text-align: right;\">\n",
              "      <th></th>\n",
              "      <th></th>\n",
              "      <th>名前</th>\n",
              "      <th>性別</th>\n",
              "      <th>反復横跳び(1回目)</th>\n",
              "      <th>反復横跳び(2回目)</th>\n",
              "      <th>腕立て伏せ(1回目)</th>\n",
              "      <th>腕立て伏せ(2回目)</th>\n",
              "      <th>バク転</th>\n",
              "    </tr>\n",
              "  </thead>\n",
              "  <tbody>\n",
              "    <tr>\n",
              "      <th>1</th>\n",
              "      <td></td>\n",
              "      <td>A</td>\n",
              "      <td>男性</td>\n",
              "      <td>19</td>\n",
              "      <td>25</td>\n",
              "      <td>1</td>\n",
              "      <td>0</td>\n",
              "      <td>○</td>\n",
              "    </tr>\n",
              "    <tr>\n",
              "      <th>2</th>\n",
              "      <td></td>\n",
              "      <td>B</td>\n",
              "      <td>女性</td>\n",
              "      <td>51</td>\n",
              "      <td>35</td>\n",
              "      <td>4</td>\n",
              "      <td>4</td>\n",
              "      <td>×</td>\n",
              "    </tr>\n",
              "    <tr>\n",
              "      <th>3</th>\n",
              "      <td></td>\n",
              "      <td>C</td>\n",
              "      <td>男性</td>\n",
              "      <td>53</td>\n",
              "      <td>8</td>\n",
              "      <td>6</td>\n",
              "      <td>7</td>\n",
              "      <td>○</td>\n",
              "    </tr>\n",
              "    <tr>\n",
              "      <th>4</th>\n",
              "      <td></td>\n",
              "      <td>D</td>\n",
              "      <td>男性</td>\n",
              "      <td>20</td>\n",
              "      <td>6</td>\n",
              "      <td>4</td>\n",
              "      <td>6</td>\n",
              "      <td>×</td>\n",
              "    </tr>\n",
              "    <tr>\n",
              "      <th>5</th>\n",
              "      <td></td>\n",
              "      <td>E</td>\n",
              "      <td>女性</td>\n",
              "      <td>20</td>\n",
              "      <td>29</td>\n",
              "      <td>3</td>\n",
              "      <td>3</td>\n",
              "      <td>×</td>\n",
              "    </tr>\n",
              "  </tbody>\n",
              "</table>\n",
              "</div>"
            ],
            "text/plain": [
              "0   名前  性別  反復横跳び(1回目)  反復横跳び(2回目)  腕立て伏せ(1回目)  腕立て伏せ(2回目) バク転\n",
              "1    A  男性          19          25           1           0   ○\n",
              "2    B  女性          51          35           4           4   ×\n",
              "3    C  男性          53           8           6           7   ○\n",
              "4    D  男性          20           6           4           6   ×\n",
              "5    E  女性          20          29           3           3   ×"
            ]
          },
          "metadata": {
            "tags": []
          },
          "execution_count": 75
        }
      ]
    },
    {
      "cell_type": "code",
      "metadata": {
        "colab": {
          "base_uri": "https://localhost:8080/"
        },
        "id": "Gz9oEmh5XW2i",
        "outputId": "dac71883-17c4-442d-f98f-9dd0608627ac"
      },
      "source": [
        "df.dtypes"
      ],
      "execution_count": 76,
      "outputs": [
        {
          "output_type": "execute_result",
          "data": {
            "text/plain": [
              "0\n",
              "              object\n",
              "名前            object\n",
              "性別            object\n",
              "反復横跳び(1回目)     int64\n",
              "反復横跳び(2回目)     int64\n",
              "腕立て伏せ(1回目)     int64\n",
              "腕立て伏せ(2回目)     int64\n",
              "バク転           object\n",
              "dtype: object"
            ]
          },
          "metadata": {
            "tags": []
          },
          "execution_count": 76
        }
      ]
    },
    {
      "cell_type": "code",
      "metadata": {
        "colab": {
          "base_uri": "https://localhost:8080/"
        },
        "id": "aDnmVYprXZr6",
        "outputId": "fc82aa8b-9a70-4984-8fa9-4df257af0467"
      },
      "source": [
        "stats.ttest_1samp(df['反復横跳び(1回目)'] , popmean=1)"
      ],
      "execution_count": 77,
      "outputs": [
        {
          "output_type": "execute_result",
          "data": {
            "text/plain": [
              "Ttest_1sampResult(statistic=5.528599711958918, pvalue=7.433373686242094e-05)"
            ]
          },
          "metadata": {
            "tags": []
          },
          "execution_count": 77
        }
      ]
    },
    {
      "cell_type": "code",
      "metadata": {
        "colab": {
          "base_uri": "https://localhost:8080/"
        },
        "id": "lwwItCQWYXuA",
        "outputId": "84441c1d-0a71-440d-ac7a-87d5fdc58127"
      },
      "source": [
        "stats.ttest_rel(df['反復横跳び(1回目)'] ,df['反復横跳び(2回目)'] )"
      ],
      "execution_count": 78,
      "outputs": [
        {
          "output_type": "execute_result",
          "data": {
            "text/plain": [
              "Ttest_relResult(statistic=1.023925076793684, pvalue=0.3232386143099819)"
            ]
          },
          "metadata": {
            "tags": []
          },
          "execution_count": 78
        }
      ]
    },
    {
      "cell_type": "code",
      "metadata": {
        "colab": {
          "base_uri": "https://localhost:8080/"
        },
        "id": "V-L17wejYc-l",
        "outputId": "c3c5f9a8-0c25-45b7-b1cc-75f0e47f055a"
      },
      "source": [
        "df[df[\"性別\"]==\"男性\"]['反復横跳び(1回目)']"
      ],
      "execution_count": 79,
      "outputs": [
        {
          "output_type": "execute_result",
          "data": {
            "text/plain": [
              "1     19\n",
              "3     53\n",
              "4     20\n",
              "6     56\n",
              "11    49\n",
              "14     8\n",
              "Name: 反復横跳び(1回目), dtype: int64"
            ]
          },
          "metadata": {
            "tags": []
          },
          "execution_count": 79
        }
      ]
    },
    {
      "cell_type": "code",
      "metadata": {
        "colab": {
          "base_uri": "https://localhost:8080/"
        },
        "id": "9NwPqulsYjb9",
        "outputId": "c6e957cd-23e5-4d39-9191-bb9b366814e3"
      },
      "source": [
        "stats.ttest_ind(df[df[\"性別\"]==\"男性\"]['反復横跳び(1回目)'],df[df[\"性別\"]==\"女性\"]['反復横跳び(1回目)'])"
      ],
      "execution_count": 80,
      "outputs": [
        {
          "output_type": "execute_result",
          "data": {
            "text/plain": [
              "Ttest_indResult(statistic=0.356337300483963, pvalue=0.727304585951813)"
            ]
          },
          "metadata": {
            "tags": []
          },
          "execution_count": 80
        }
      ]
    },
    {
      "cell_type": "code",
      "metadata": {
        "colab": {
          "base_uri": "https://localhost:8080/"
        },
        "id": "rWgXtLwDZiWZ",
        "outputId": "46a309f0-36ea-4974-c2cb-f462abcf10d0"
      },
      "source": [
        "stats.bartlett(df[df[\"性別\"]==\"男性\"]['反復横跳び(1回目)'],df[df[\"性別\"]==\"女性\"]['反復横跳び(1回目)'])"
      ],
      "execution_count": 81,
      "outputs": [
        {
          "output_type": "execute_result",
          "data": {
            "text/plain": [
              "BartlettResult(statistic=0.055558275456061595, pvalue=0.813659238324575)"
            ]
          },
          "metadata": {
            "tags": []
          },
          "execution_count": 81
        }
      ]
    },
    {
      "cell_type": "code",
      "metadata": {
        "id": "UArf0DY4aGar"
      },
      "source": [
        ""
      ],
      "execution_count": 81,
      "outputs": []
    }
  ]
}