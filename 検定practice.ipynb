{
  "nbformat": 4,
  "nbformat_minor": 0,
  "metadata": {
    "colab": {
      "name": "検定practice.ipynb",
      "provenance": [],
      "authorship_tag": "ABX9TyMaBmIIJ6YeSfFDod5VMVHj",
      "include_colab_link": true
    },
    "kernelspec": {
      "name": "python3",
      "display_name": "Python 3"
    },
    "language_info": {
      "name": "python"
    }
  },
  "cells": [
    {
      "cell_type": "markdown",
      "metadata": {
        "id": "view-in-github",
        "colab_type": "text"
      },
      "source": [
        "<a href=\"https://colab.research.google.com/github/Charee-Villapong/charee-villapong/blob/master/%E6%A4%9C%E5%AE%9Apractice.ipynb\" target=\"_parent\"><img src=\"https://colab.research.google.com/assets/colab-badge.svg\" alt=\"Open In Colab\"/></a>"
      ]
    },
    {
      "cell_type": "code",
      "metadata": {
        "id": "DhOjMGVVH13e"
      },
      "source": [
        "from google.colab import auth\n",
        "from oauth2client.client import GoogleCredentials\n",
        "import gspread\n",
        "import pandas as pd"
      ],
      "execution_count": 12,
      "outputs": []
    },
    {
      "cell_type": "code",
      "metadata": {
        "id": "mSwEHRpr22YP"
      },
      "source": [
        "auth.authenticate_user()"
      ],
      "execution_count": 13,
      "outputs": []
    },
    {
      "cell_type": "code",
      "metadata": {
        "id": "Af8g_KcD241H"
      },
      "source": [
        "gc = gspread.authorize(GoogleCredentials.get_application_default())"
      ],
      "execution_count": 14,
      "outputs": []
    },
    {
      "cell_type": "code",
      "metadata": {
        "id": "ufUiThkE3D5F"
      },
      "source": [
        "url = '[https://docs.google.com/spreadsheets/d/1QG2oQBYH9Qr-siJ2Gwo8FFEedX6gtLdG3btnHE4ySaU/edit#gid=0]'"
      ],
      "execution_count": 15,
      "outputs": []
    },
    {
      "cell_type": "code",
      "metadata": {
        "id": "C8GV7OLC3e4F"
      },
      "source": [
        "worksheet = gc.open_by_url(url).get_worksheet(0)"
      ],
      "execution_count": 16,
      "outputs": []
    },
    {
      "cell_type": "code",
      "metadata": {
        "id": "21C0RhA-3hKV"
      },
      "source": [
        "df = pd.DataFrame(worksheet.get_all_values())"
      ],
      "execution_count": 22,
      "outputs": []
    },
    {
      "cell_type": "code",
      "metadata": {
        "colab": {
          "base_uri": "https://localhost:8080/",
          "height": 197
        },
        "id": "XR3zTeXO3kXS",
        "outputId": "b3dc5ad7-04e1-43e6-d650-9abde925fafa"
      },
      "source": [
        "df.head\n",
        "#df.set_columns(\"名前\")"
      ],
      "execution_count": 18,
      "outputs": [
        {
          "output_type": "execute_result",
          "data": {
            "text/html": [
              "<div>\n",
              "<style scoped>\n",
              "    .dataframe tbody tr th:only-of-type {\n",
              "        vertical-align: middle;\n",
              "    }\n",
              "\n",
              "    .dataframe tbody tr th {\n",
              "        vertical-align: top;\n",
              "    }\n",
              "\n",
              "    .dataframe thead th {\n",
              "        text-align: right;\n",
              "    }\n",
              "</style>\n",
              "<table border=\"1\" class=\"dataframe\">\n",
              "  <thead>\n",
              "    <tr style=\"text-align: right;\">\n",
              "      <th></th>\n",
              "      <th>0</th>\n",
              "      <th>1</th>\n",
              "      <th>2</th>\n",
              "      <th>3</th>\n",
              "      <th>4</th>\n",
              "      <th>5</th>\n",
              "      <th>6</th>\n",
              "      <th>7</th>\n",
              "    </tr>\n",
              "  </thead>\n",
              "  <tbody>\n",
              "    <tr>\n",
              "      <th>0</th>\n",
              "      <td></td>\n",
              "      <td></td>\n",
              "      <td></td>\n",
              "      <td></td>\n",
              "      <td></td>\n",
              "      <td></td>\n",
              "      <td></td>\n",
              "      <td></td>\n",
              "    </tr>\n",
              "    <tr>\n",
              "      <th>1</th>\n",
              "      <td></td>\n",
              "      <td>名前</td>\n",
              "      <td>性別</td>\n",
              "      <td>反復横跳び(1回目)</td>\n",
              "      <td>反復横跳び(2回目)</td>\n",
              "      <td>腕立て伏せ(1回目)</td>\n",
              "      <td>腕立て伏せ(2回目)</td>\n",
              "      <td>バク転</td>\n",
              "    </tr>\n",
              "    <tr>\n",
              "      <th>2</th>\n",
              "      <td></td>\n",
              "      <td>A</td>\n",
              "      <td>0</td>\n",
              "      <td>29</td>\n",
              "      <td>9</td>\n",
              "      <td>13</td>\n",
              "      <td>48</td>\n",
              "      <td>6</td>\n",
              "    </tr>\n",
              "    <tr>\n",
              "      <th>3</th>\n",
              "      <td></td>\n",
              "      <td>B</td>\n",
              "      <td>1</td>\n",
              "      <td>58</td>\n",
              "      <td>44</td>\n",
              "      <td>49</td>\n",
              "      <td>39</td>\n",
              "      <td>0</td>\n",
              "    </tr>\n",
              "    <tr>\n",
              "      <th>4</th>\n",
              "      <td></td>\n",
              "      <td>C</td>\n",
              "      <td>0</td>\n",
              "      <td>4</td>\n",
              "      <td>12</td>\n",
              "      <td>51</td>\n",
              "      <td>55</td>\n",
              "      <td>5</td>\n",
              "    </tr>\n",
              "  </tbody>\n",
              "</table>\n",
              "</div>"
            ],
            "text/plain": [
              "  0   1   2           3           4           5           6    7\n",
              "0                                                               \n",
              "1    名前  性別  反復横跳び(1回目)  反復横跳び(2回目)  腕立て伏せ(1回目)  腕立て伏せ(2回目)  バク転\n",
              "2     A   0          29           9          13          48    6\n",
              "3     B   1          58          44          49          39    0\n",
              "4     C   0           4          12          51          55    5"
            ]
          },
          "metadata": {
            "tags": []
          },
          "execution_count": 18
        }
      ]
    },
    {
      "cell_type": "code",
      "metadata": {
        "id": "4B6KCG1_EVcH"
      },
      "source": [
        ""
      ],
      "execution_count": 18,
      "outputs": []
    }
  ]
}