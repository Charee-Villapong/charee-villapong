{
  "nbformat": 4,
  "nbformat_minor": 0,
  "metadata": {
    "colab": {
      "name": "検定practice.ipynb",
      "provenance": [],
      "authorship_tag": "ABX9TyOwumBxfteBQebw99BJjlLj",
      "include_colab_link": true
    },
    "kernelspec": {
      "name": "python3",
      "display_name": "Python 3"
    },
    "language_info": {
      "name": "python"
    }
  },
  "cells": [
    {
      "cell_type": "markdown",
      "metadata": {
        "id": "view-in-github",
        "colab_type": "text"
      },
      "source": [
        "<a href=\"https://colab.research.google.com/github/Charee-Villapong/charee-villapong/blob/master/%E6%A4%9C%E5%AE%9Apractice.ipynb\" target=\"_parent\"><img src=\"https://colab.research.google.com/assets/colab-badge.svg\" alt=\"Open In Colab\"/></a>"
      ]
    },
    {
      "cell_type": "code",
      "metadata": {
        "id": "DhOjMGVVH13e"
      },
      "source": [
        "from google.colab import auth\n",
        "from oauth2client.client import GoogleCredentials\n",
        "import gspread\n",
        "import pandas as pd\n",
        "from scipy import stats"
      ],
      "execution_count": 167,
      "outputs": []
    },
    {
      "cell_type": "code",
      "metadata": {
        "id": "mSwEHRpr22YP"
      },
      "source": [
        "auth.authenticate_user()"
      ],
      "execution_count": 168,
      "outputs": []
    },
    {
      "cell_type": "code",
      "metadata": {
        "id": "Af8g_KcD241H"
      },
      "source": [
        "gc = gspread.authorize(GoogleCredentials.get_application_default())"
      ],
      "execution_count": 169,
      "outputs": []
    },
    {
      "cell_type": "code",
      "metadata": {
        "id": "ufUiThkE3D5F"
      },
      "source": [
        "url = '[https://docs.google.com/spreadsheets/d/1QG2oQBYH9Qr-siJ2Gwo8FFEedX6gtLdG3btnHE4ySaU/edit#gid=0]'"
      ],
      "execution_count": 170,
      "outputs": []
    },
    {
      "cell_type": "code",
      "metadata": {
        "id": "C8GV7OLC3e4F"
      },
      "source": [
        "worksheet = gc.open_by_url(url).get_worksheet(0)"
      ],
      "execution_count": 171,
      "outputs": []
    },
    {
      "cell_type": "code",
      "metadata": {
        "id": "21C0RhA-3hKV"
      },
      "source": [
        "dat = worksheet.get_all_values()\n",
        "col = dat.pop(0)\n",
        "df = pd.DataFrame(dat, columns=col)"
      ],
      "execution_count": 172,
      "outputs": []
    },
    {
      "cell_type": "code",
      "metadata": {
        "colab": {
          "base_uri": "https://localhost:8080/",
          "height": 511
        },
        "id": "XR3zTeXO3kXS",
        "outputId": "d0f86597-caa8-42e2-d6d8-5054cc293902"
      },
      "source": [
        "df\n",
        "#df.set_columns(\"名前\")"
      ],
      "execution_count": 173,
      "outputs": [
        {
          "output_type": "execute_result",
          "data": {
            "text/html": [
              "<div>\n",
              "<style scoped>\n",
              "    .dataframe tbody tr th:only-of-type {\n",
              "        vertical-align: middle;\n",
              "    }\n",
              "\n",
              "    .dataframe tbody tr th {\n",
              "        vertical-align: top;\n",
              "    }\n",
              "\n",
              "    .dataframe thead th {\n",
              "        text-align: right;\n",
              "    }\n",
              "</style>\n",
              "<table border=\"1\" class=\"dataframe\">\n",
              "  <thead>\n",
              "    <tr style=\"text-align: right;\">\n",
              "      <th></th>\n",
              "      <th></th>\n",
              "      <th></th>\n",
              "      <th></th>\n",
              "      <th></th>\n",
              "      <th></th>\n",
              "      <th></th>\n",
              "      <th></th>\n",
              "      <th></th>\n",
              "    </tr>\n",
              "  </thead>\n",
              "  <tbody>\n",
              "    <tr>\n",
              "      <th>0</th>\n",
              "      <td></td>\n",
              "      <td>名前</td>\n",
              "      <td>性別</td>\n",
              "      <td>反復横跳び(1回目)</td>\n",
              "      <td>反復横跳び(2回目)</td>\n",
              "      <td>腕立て伏せ(1回目)</td>\n",
              "      <td>腕立て伏せ(2回目)</td>\n",
              "      <td>バク転</td>\n",
              "    </tr>\n",
              "    <tr>\n",
              "      <th>1</th>\n",
              "      <td></td>\n",
              "      <td>A</td>\n",
              "      <td>1</td>\n",
              "      <td>28</td>\n",
              "      <td>29</td>\n",
              "      <td>52</td>\n",
              "      <td>19</td>\n",
              "      <td>○</td>\n",
              "    </tr>\n",
              "    <tr>\n",
              "      <th>2</th>\n",
              "      <td></td>\n",
              "      <td>B</td>\n",
              "      <td>1</td>\n",
              "      <td>6</td>\n",
              "      <td>51</td>\n",
              "      <td>18</td>\n",
              "      <td>21</td>\n",
              "      <td>×</td>\n",
              "    </tr>\n",
              "    <tr>\n",
              "      <th>3</th>\n",
              "      <td></td>\n",
              "      <td>C</td>\n",
              "      <td>0</td>\n",
              "      <td>27</td>\n",
              "      <td>14</td>\n",
              "      <td>23</td>\n",
              "      <td>21</td>\n",
              "      <td>○</td>\n",
              "    </tr>\n",
              "    <tr>\n",
              "      <th>4</th>\n",
              "      <td></td>\n",
              "      <td>D</td>\n",
              "      <td>0</td>\n",
              "      <td>34</td>\n",
              "      <td>18</td>\n",
              "      <td>13</td>\n",
              "      <td>20</td>\n",
              "      <td>×</td>\n",
              "    </tr>\n",
              "    <tr>\n",
              "      <th>5</th>\n",
              "      <td></td>\n",
              "      <td>E</td>\n",
              "      <td>1</td>\n",
              "      <td>35</td>\n",
              "      <td>47</td>\n",
              "      <td>39</td>\n",
              "      <td>37</td>\n",
              "      <td>×</td>\n",
              "    </tr>\n",
              "    <tr>\n",
              "      <th>6</th>\n",
              "      <td></td>\n",
              "      <td>F</td>\n",
              "      <td>1</td>\n",
              "      <td>17</td>\n",
              "      <td>40</td>\n",
              "      <td>24</td>\n",
              "      <td>36</td>\n",
              "      <td>○</td>\n",
              "    </tr>\n",
              "    <tr>\n",
              "      <th>7</th>\n",
              "      <td></td>\n",
              "      <td>G</td>\n",
              "      <td>1</td>\n",
              "      <td>7</td>\n",
              "      <td>40</td>\n",
              "      <td>35</td>\n",
              "      <td>23</td>\n",
              "      <td>×</td>\n",
              "    </tr>\n",
              "    <tr>\n",
              "      <th>8</th>\n",
              "      <td></td>\n",
              "      <td>H</td>\n",
              "      <td>1</td>\n",
              "      <td>19</td>\n",
              "      <td>3</td>\n",
              "      <td>27</td>\n",
              "      <td>59</td>\n",
              "      <td>×</td>\n",
              "    </tr>\n",
              "    <tr>\n",
              "      <th>9</th>\n",
              "      <td></td>\n",
              "      <td>I</td>\n",
              "      <td>1</td>\n",
              "      <td>48</td>\n",
              "      <td>19</td>\n",
              "      <td>47</td>\n",
              "      <td>5</td>\n",
              "      <td>○</td>\n",
              "    </tr>\n",
              "    <tr>\n",
              "      <th>10</th>\n",
              "      <td></td>\n",
              "      <td>J</td>\n",
              "      <td>1</td>\n",
              "      <td>4</td>\n",
              "      <td>32</td>\n",
              "      <td>3</td>\n",
              "      <td>22</td>\n",
              "      <td>×</td>\n",
              "    </tr>\n",
              "    <tr>\n",
              "      <th>11</th>\n",
              "      <td></td>\n",
              "      <td>K</td>\n",
              "      <td>0</td>\n",
              "      <td>53</td>\n",
              "      <td>40</td>\n",
              "      <td>42</td>\n",
              "      <td>15</td>\n",
              "      <td>○</td>\n",
              "    </tr>\n",
              "    <tr>\n",
              "      <th>12</th>\n",
              "      <td></td>\n",
              "      <td>L</td>\n",
              "      <td>0</td>\n",
              "      <td>19</td>\n",
              "      <td>59</td>\n",
              "      <td>1</td>\n",
              "      <td>40</td>\n",
              "      <td>×</td>\n",
              "    </tr>\n",
              "    <tr>\n",
              "      <th>13</th>\n",
              "      <td></td>\n",
              "      <td>M</td>\n",
              "      <td>0</td>\n",
              "      <td>0</td>\n",
              "      <td>48</td>\n",
              "      <td>10</td>\n",
              "      <td>3</td>\n",
              "      <td>○</td>\n",
              "    </tr>\n",
              "    <tr>\n",
              "      <th>14</th>\n",
              "      <td></td>\n",
              "      <td>N</td>\n",
              "      <td>0</td>\n",
              "      <td>23</td>\n",
              "      <td>50</td>\n",
              "      <td>34</td>\n",
              "      <td>15</td>\n",
              "      <td>○</td>\n",
              "    </tr>\n",
              "    <tr>\n",
              "      <th>15</th>\n",
              "      <td></td>\n",
              "      <td>O</td>\n",
              "      <td>0</td>\n",
              "      <td>41</td>\n",
              "      <td>56</td>\n",
              "      <td>15</td>\n",
              "      <td>51</td>\n",
              "      <td>×</td>\n",
              "    </tr>\n",
              "  </tbody>\n",
              "</table>\n",
              "</div>"
            ],
            "text/plain": [
              "                                                                 \n",
              "0     名前  性別  反復横跳び(1回目)  反復横跳び(2回目)  腕立て伏せ(1回目)  腕立て伏せ(2回目)  バク転\n",
              "1      A   1          28          29          52          19    ○\n",
              "2      B   1           6          51          18          21    ×\n",
              "3      C   0          27          14          23          21    ○\n",
              "4      D   0          34          18          13          20    ×\n",
              "5      E   1          35          47          39          37    ×\n",
              "6      F   1          17          40          24          36    ○\n",
              "7      G   1           7          40          35          23    ×\n",
              "8      H   1          19           3          27          59    ×\n",
              "9      I   1          48          19          47           5    ○\n",
              "10     J   1           4          32           3          22    ×\n",
              "11     K   0          53          40          42          15    ○\n",
              "12     L   0          19          59           1          40    ×\n",
              "13     M   0           0          48          10           3    ○\n",
              "14     N   0          23          50          34          15    ○\n",
              "15     O   0          41          56          15          51    ×"
            ]
          },
          "metadata": {
            "tags": []
          },
          "execution_count": 173
        }
      ]
    },
    {
      "cell_type": "code",
      "metadata": {
        "colab": {
          "base_uri": "https://localhost:8080/"
        },
        "id": "4B6KCG1_EVcH",
        "outputId": "e14e9d68-29cb-4de3-aedc-453d00144a63"
      },
      "source": [
        "len(df.loc[0])"
      ],
      "execution_count": 174,
      "outputs": [
        {
          "output_type": "execute_result",
          "data": {
            "text/plain": [
              "8"
            ]
          },
          "metadata": {
            "tags": []
          },
          "execution_count": 174
        }
      ]
    },
    {
      "cell_type": "code",
      "metadata": {
        "id": "c4MYM_P7FraS"
      },
      "source": [
        "df.columns=[\"a\",\"名前\",\"性別\",\" 反復横跳び(1回目)\",\" 反復横跳び(2回目)\",\"腕立て伏せ(1回目)\",\"腕立て伏せ(2回目)\",\"バク転\"]"
      ],
      "execution_count": 175,
      "outputs": []
    },
    {
      "cell_type": "code",
      "metadata": {
        "colab": {
          "base_uri": "https://localhost:8080/",
          "height": 197
        },
        "id": "CXCtwI35GfBO",
        "outputId": "24f5b232-321c-4ee7-90f2-3bcf09f134cc"
      },
      "source": [
        "df.head()"
      ],
      "execution_count": 176,
      "outputs": [
        {
          "output_type": "execute_result",
          "data": {
            "text/html": [
              "<div>\n",
              "<style scoped>\n",
              "    .dataframe tbody tr th:only-of-type {\n",
              "        vertical-align: middle;\n",
              "    }\n",
              "\n",
              "    .dataframe tbody tr th {\n",
              "        vertical-align: top;\n",
              "    }\n",
              "\n",
              "    .dataframe thead th {\n",
              "        text-align: right;\n",
              "    }\n",
              "</style>\n",
              "<table border=\"1\" class=\"dataframe\">\n",
              "  <thead>\n",
              "    <tr style=\"text-align: right;\">\n",
              "      <th></th>\n",
              "      <th>a</th>\n",
              "      <th>名前</th>\n",
              "      <th>性別</th>\n",
              "      <th>反復横跳び(1回目)</th>\n",
              "      <th>反復横跳び(2回目)</th>\n",
              "      <th>腕立て伏せ(1回目)</th>\n",
              "      <th>腕立て伏せ(2回目)</th>\n",
              "      <th>バク転</th>\n",
              "    </tr>\n",
              "  </thead>\n",
              "  <tbody>\n",
              "    <tr>\n",
              "      <th>0</th>\n",
              "      <td></td>\n",
              "      <td>名前</td>\n",
              "      <td>性別</td>\n",
              "      <td>反復横跳び(1回目)</td>\n",
              "      <td>反復横跳び(2回目)</td>\n",
              "      <td>腕立て伏せ(1回目)</td>\n",
              "      <td>腕立て伏せ(2回目)</td>\n",
              "      <td>バク転</td>\n",
              "    </tr>\n",
              "    <tr>\n",
              "      <th>1</th>\n",
              "      <td></td>\n",
              "      <td>A</td>\n",
              "      <td>1</td>\n",
              "      <td>28</td>\n",
              "      <td>29</td>\n",
              "      <td>52</td>\n",
              "      <td>19</td>\n",
              "      <td>○</td>\n",
              "    </tr>\n",
              "    <tr>\n",
              "      <th>2</th>\n",
              "      <td></td>\n",
              "      <td>B</td>\n",
              "      <td>1</td>\n",
              "      <td>6</td>\n",
              "      <td>51</td>\n",
              "      <td>18</td>\n",
              "      <td>21</td>\n",
              "      <td>×</td>\n",
              "    </tr>\n",
              "    <tr>\n",
              "      <th>3</th>\n",
              "      <td></td>\n",
              "      <td>C</td>\n",
              "      <td>0</td>\n",
              "      <td>27</td>\n",
              "      <td>14</td>\n",
              "      <td>23</td>\n",
              "      <td>21</td>\n",
              "      <td>○</td>\n",
              "    </tr>\n",
              "    <tr>\n",
              "      <th>4</th>\n",
              "      <td></td>\n",
              "      <td>D</td>\n",
              "      <td>0</td>\n",
              "      <td>34</td>\n",
              "      <td>18</td>\n",
              "      <td>13</td>\n",
              "      <td>20</td>\n",
              "      <td>×</td>\n",
              "    </tr>\n",
              "  </tbody>\n",
              "</table>\n",
              "</div>"
            ],
            "text/plain": [
              "  a  名前  性別  反復横跳び(1回目)  反復横跳び(2回目)  腕立て伏せ(1回目)  腕立て伏せ(2回目)  バク転\n",
              "0    名前  性別  反復横跳び(1回目)  反復横跳び(2回目)  腕立て伏せ(1回目)  腕立て伏せ(2回目)  バク転\n",
              "1     A   1          28          29          52          19    ○\n",
              "2     B   1           6          51          18          21    ×\n",
              "3     C   0          27          14          23          21    ○\n",
              "4     D   0          34          18          13          20    ×"
            ]
          },
          "metadata": {
            "tags": []
          },
          "execution_count": 176
        }
      ]
    },
    {
      "cell_type": "code",
      "metadata": {
        "id": "_qq-zSMtGmsr"
      },
      "source": [
        "df = df.drop(\"a\",axis=1)"
      ],
      "execution_count": 177,
      "outputs": []
    },
    {
      "cell_type": "code",
      "metadata": {
        "colab": {
          "base_uri": "https://localhost:8080/"
        },
        "id": "Xu1qtjjRGjYp",
        "outputId": "32a7f5ea-842f-4c80-fe7f-55c2d47401d1"
      },
      "source": [
        "df.index.dtype"
      ],
      "execution_count": 178,
      "outputs": [
        {
          "output_type": "execute_result",
          "data": {
            "text/plain": [
              "dtype('int64')"
            ]
          },
          "metadata": {
            "tags": []
          },
          "execution_count": 178
        }
      ]
    },
    {
      "cell_type": "code",
      "metadata": {
        "colab": {
          "base_uri": "https://localhost:8080/"
        },
        "id": "zx6nBSghHn8z",
        "outputId": "7d070c3d-7031-4dec-8fa9-de3ec81f2849"
      },
      "source": [
        "df.iloc[0]"
      ],
      "execution_count": 179,
      "outputs": [
        {
          "output_type": "execute_result",
          "data": {
            "text/plain": [
              "名前                     名前\n",
              "性別                     性別\n",
              " 反復横跳び(1回目)    反復横跳び(1回目)\n",
              " 反復横跳び(2回目)    反復横跳び(2回目)\n",
              "腕立て伏せ(1回目)     腕立て伏せ(1回目)\n",
              "腕立て伏せ(2回目)     腕立て伏せ(2回目)\n",
              "バク転                   バク転\n",
              "Name: 0, dtype: object"
            ]
          },
          "metadata": {
            "tags": []
          },
          "execution_count": 179
        }
      ]
    },
    {
      "cell_type": "code",
      "metadata": {
        "id": "zbVs_PSLGx1a"
      },
      "source": [
        "df = df.drop(0)"
      ],
      "execution_count": 180,
      "outputs": []
    },
    {
      "cell_type": "code",
      "metadata": {
        "id": "xtt-xlnOPYEp"
      },
      "source": [
        "df = df.set_index(\"名前\")"
      ],
      "execution_count": 181,
      "outputs": []
    },
    {
      "cell_type": "code",
      "metadata": {
        "colab": {
          "base_uri": "https://localhost:8080/"
        },
        "id": "e5F7pffaO4Q0",
        "outputId": "2bce6a16-54a3-4f4f-93e8-d2425fa67033"
      },
      "source": [
        "df.index"
      ],
      "execution_count": 182,
      "outputs": [
        {
          "output_type": "execute_result",
          "data": {
            "text/plain": [
              "Index(['A', 'B', 'C', 'D', 'E', 'F', 'G', 'H', 'I', 'J', 'K', 'L', 'M', 'N',\n",
              "       'O'],\n",
              "      dtype='object', name='名前')"
            ]
          },
          "metadata": {
            "tags": []
          },
          "execution_count": 182
        }
      ]
    },
    {
      "cell_type": "code",
      "metadata": {
        "colab": {
          "base_uri": "https://localhost:8080/",
          "height": 227
        },
        "id": "ktlzVlNMPOC1",
        "outputId": "90e8a79e-9c1b-4afa-d287-4950b814e247"
      },
      "source": [
        "df.head()"
      ],
      "execution_count": 183,
      "outputs": [
        {
          "output_type": "execute_result",
          "data": {
            "text/html": [
              "<div>\n",
              "<style scoped>\n",
              "    .dataframe tbody tr th:only-of-type {\n",
              "        vertical-align: middle;\n",
              "    }\n",
              "\n",
              "    .dataframe tbody tr th {\n",
              "        vertical-align: top;\n",
              "    }\n",
              "\n",
              "    .dataframe thead th {\n",
              "        text-align: right;\n",
              "    }\n",
              "</style>\n",
              "<table border=\"1\" class=\"dataframe\">\n",
              "  <thead>\n",
              "    <tr style=\"text-align: right;\">\n",
              "      <th></th>\n",
              "      <th>性別</th>\n",
              "      <th>反復横跳び(1回目)</th>\n",
              "      <th>反復横跳び(2回目)</th>\n",
              "      <th>腕立て伏せ(1回目)</th>\n",
              "      <th>腕立て伏せ(2回目)</th>\n",
              "      <th>バク転</th>\n",
              "    </tr>\n",
              "    <tr>\n",
              "      <th>名前</th>\n",
              "      <th></th>\n",
              "      <th></th>\n",
              "      <th></th>\n",
              "      <th></th>\n",
              "      <th></th>\n",
              "      <th></th>\n",
              "    </tr>\n",
              "  </thead>\n",
              "  <tbody>\n",
              "    <tr>\n",
              "      <th>A</th>\n",
              "      <td>1</td>\n",
              "      <td>28</td>\n",
              "      <td>29</td>\n",
              "      <td>52</td>\n",
              "      <td>19</td>\n",
              "      <td>○</td>\n",
              "    </tr>\n",
              "    <tr>\n",
              "      <th>B</th>\n",
              "      <td>1</td>\n",
              "      <td>6</td>\n",
              "      <td>51</td>\n",
              "      <td>18</td>\n",
              "      <td>21</td>\n",
              "      <td>×</td>\n",
              "    </tr>\n",
              "    <tr>\n",
              "      <th>C</th>\n",
              "      <td>0</td>\n",
              "      <td>27</td>\n",
              "      <td>14</td>\n",
              "      <td>23</td>\n",
              "      <td>21</td>\n",
              "      <td>○</td>\n",
              "    </tr>\n",
              "    <tr>\n",
              "      <th>D</th>\n",
              "      <td>0</td>\n",
              "      <td>34</td>\n",
              "      <td>18</td>\n",
              "      <td>13</td>\n",
              "      <td>20</td>\n",
              "      <td>×</td>\n",
              "    </tr>\n",
              "    <tr>\n",
              "      <th>E</th>\n",
              "      <td>1</td>\n",
              "      <td>35</td>\n",
              "      <td>47</td>\n",
              "      <td>39</td>\n",
              "      <td>37</td>\n",
              "      <td>×</td>\n",
              "    </tr>\n",
              "  </tbody>\n",
              "</table>\n",
              "</div>"
            ],
            "text/plain": [
              "   性別  反復横跳び(1回目)  反復横跳び(2回目) 腕立て伏せ(1回目) 腕立て伏せ(2回目) バク転\n",
              "名前                                                     \n",
              "A   1          28          29         52         19   ○\n",
              "B   1           6          51         18         21   ×\n",
              "C   0          27          14         23         21   ○\n",
              "D   0          34          18         13         20   ×\n",
              "E   1          35          47         39         37   ×"
            ]
          },
          "metadata": {
            "tags": []
          },
          "execution_count": 183
        }
      ]
    },
    {
      "cell_type": "code",
      "metadata": {
        "colab": {
          "base_uri": "https://localhost:8080/"
        },
        "id": "_t3CdbvURNKo",
        "outputId": "a63ba400-bc58-4059-e73b-c2ddfd6dd0e5"
      },
      "source": [
        "df.columns\n",
        "df[\" 反復横跳び(2回目)\"].dtype"
      ],
      "execution_count": 198,
      "outputs": [
        {
          "output_type": "execute_result",
          "data": {
            "text/plain": [
              "dtype('O')"
            ]
          },
          "metadata": {
            "tags": []
          },
          "execution_count": 198
        }
      ]
    },
    {
      "cell_type": "code",
      "metadata": {
        "colab": {
          "base_uri": "https://localhost:8080/"
        },
        "id": "v8IOqzk7STKK",
        "outputId": "1bc691cb-7253-4554-ee58-963f0533ebc3"
      },
      "source": [
        "df.columns"
      ],
      "execution_count": 199,
      "outputs": [
        {
          "output_type": "execute_result",
          "data": {
            "text/plain": [
              "Index(['性別', ' 反復横跳び(1回目)', ' 反復横跳び(2回目)', '腕立て伏せ(1回目)', '腕立て伏せ(2回目)', 'バク転'], dtype='object')"
            ]
          },
          "metadata": {
            "tags": []
          },
          "execution_count": 199
        }
      ]
    },
    {
      "cell_type": "code",
      "metadata": {
        "id": "1QZ8qWapSSDJ"
      },
      "source": [
        "df = df[['性別', ' 反復横跳び(1回目)', ' 反復横跳び(2回目)', '腕立て伏せ(1回目)', '腕立て伏せ(2回目)']].astype(int)"
      ],
      "execution_count": 202,
      "outputs": []
    },
    {
      "cell_type": "code",
      "metadata": {
        "colab": {
          "base_uri": "https://localhost:8080/"
        },
        "id": "hWKi61U7PiIF",
        "outputId": "6709bb51-c64e-4a6f-ce80-069e69a982d7"
      },
      "source": [
        "stats.ttest_1samp(df[' 反復横跳び(1回目)'] , popmean=16)"
      ],
      "execution_count": 206,
      "outputs": [
        {
          "output_type": "execute_result",
          "data": {
            "text/plain": [
              "Ttest_1sampResult(statistic=1.9373023048704332, pvalue=0.07315136562250316)"
            ]
          },
          "metadata": {
            "tags": []
          },
          "execution_count": 206
        }
      ]
    },
    {
      "cell_type": "code",
      "metadata": {
        "colab": {
          "base_uri": "https://localhost:8080/"
        },
        "id": "fXNgP1oOS1ap",
        "outputId": "12737f91-c6fb-461c-95ed-a6f6c0fa135f"
      },
      "source": [
        "stats.ttest_rel(df[' 反復横跳び(1回目)'] ,df[' 反復横跳び(2回目)'] )"
      ],
      "execution_count": 207,
      "outputs": [
        {
          "output_type": "execute_result",
          "data": {
            "text/plain": [
              "Ttest_relResult(statistic=-1.9009923139403948, pvalue=0.0780891974888785)"
            ]
          },
          "metadata": {
            "tags": []
          },
          "execution_count": 207
        }
      ]
    },
    {
      "cell_type": "code",
      "metadata": {
        "id": "Hc3kKS7aQ5LC"
      },
      "source": [
        ""
      ],
      "execution_count": null,
      "outputs": []
    }
  ]
}