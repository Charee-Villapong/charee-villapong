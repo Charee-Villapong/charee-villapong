{
 "cells": [
  {
   "cell_type": "code",
   "execution_count": 78,
   "id": "informal-essay",
   "metadata": {},
   "outputs": [],
   "source": [
    "from selenium import webdriver\n",
    "from time import sleep"
   ]
  },
  {
   "cell_type": "code",
   "execution_count": null,
   "id": "proper-sydney",
   "metadata": {},
   "outputs": [],
   "source": []
  },
  {
   "cell_type": "code",
   "execution_count": 79,
   "id": "international-audit",
   "metadata": {},
   "outputs": [],
   "source": [
    "browser = webdriver.Chrome()"
   ]
  },
  {
   "cell_type": "code",
   "execution_count": 80,
   "id": "heated-mentor",
   "metadata": {},
   "outputs": [],
   "source": [
    "#browser.get(\"https://www.google.com/\")"
   ]
  },
  {
   "cell_type": "code",
   "execution_count": 81,
   "id": "digital-alcohol",
   "metadata": {},
   "outputs": [],
   "source": [
    "URL = \"https://scraping-for-beginner.herokuapp.com/login_page\""
   ]
  },
  {
   "cell_type": "code",
   "execution_count": 82,
   "id": "received-dominant",
   "metadata": {},
   "outputs": [],
   "source": [
    "browser.get(URL)"
   ]
  },
  {
   "cell_type": "code",
   "execution_count": 83,
   "id": "cooked-brunei",
   "metadata": {},
   "outputs": [],
   "source": [
    "elem_username = browser.find_element_by_id(\"username\")"
   ]
  },
  {
   "cell_type": "code",
   "execution_count": 84,
   "id": "chicken-aging",
   "metadata": {},
   "outputs": [],
   "source": [
    "elem_username.send_keys(\"imanishi\")\n",
    "sleep(1)"
   ]
  },
  {
   "cell_type": "code",
   "execution_count": 85,
   "id": "crucial-raise",
   "metadata": {},
   "outputs": [],
   "source": [
    "elem_password = browser.find_element_by_id(\"password\")"
   ]
  },
  {
   "cell_type": "code",
   "execution_count": 86,
   "id": "inside-sending",
   "metadata": {},
   "outputs": [],
   "source": [
    "elem_password.send_keys(\"kohei\")\n",
    "sleep(1)"
   ]
  },
  {
   "cell_type": "code",
   "execution_count": 87,
   "id": "gorgeous-popularity",
   "metadata": {},
   "outputs": [],
   "source": [
    "elem_botton = browser.find_element_by_id(\"login-btn\")"
   ]
  },
  {
   "cell_type": "code",
   "execution_count": 88,
   "id": "comprehensive-insert",
   "metadata": {},
   "outputs": [],
   "source": [
    "elem_botton.click()"
   ]
  },
  {
   "cell_type": "code",
   "execution_count": null,
   "id": "automotive-madness",
   "metadata": {},
   "outputs": [],
   "source": []
  },
  {
   "cell_type": "code",
   "execution_count": null,
   "id": "patent-bread",
   "metadata": {},
   "outputs": [],
   "source": []
  }
 ],
 "metadata": {
  "kernelspec": {
   "display_name": "Python 3",
   "language": "python",
   "name": "python3"
  },
  "language_info": {
   "codemirror_mode": {
    "name": "ipython",
    "version": 3
   },
   "file_extension": ".py",
   "mimetype": "text/x-python",
   "name": "python",
   "nbconvert_exporter": "python",
   "pygments_lexer": "ipython3",
   "version": "3.8.2"
  }
 },
 "nbformat": 4,
 "nbformat_minor": 5
}
